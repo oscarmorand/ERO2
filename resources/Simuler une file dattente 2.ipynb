<html><head>
<meta http-equiv="content-type" content="text/html; charset=UTF-8"></head><body>{
 "cells": [
  {
   "cell_type": "markdown",
   "id": "40670ede",
   "metadata": {
    "slideshow": {
     "slide_type": "slide"
    }
   },
   "source": [
    "# Pourquoi ce notebook ?\n",
    "\n",
    "Ce document regroupe une méta-réflexion sur l'implémentation 
d'un\n",
    "simulateur naïf de files d'attentes qui respectent le modèle 
induit\n",
    "par la notation de Kendall. Il est évolutit et point d'entrée de 
toute\n",
    "itération sur l'impléntation proposée."
   ]
  },
  {
   "cell_type": "code",
   "execution_count": 1,
   "id": "c6edaa59",
   "metadata": {
    "slideshow": {
     "slide_type": "slide"
    }
   },
   "outputs": [],
   "source": [
    "import numpy as np\n",
    "import pandas as pd"
   ]
  },
  {
   "cell_type": "markdown",
   "id": "f226fa23",
   "metadata": {
    "slideshow": {
     "slide_type": "fragment"
    }
   },
   "source": [
    "Pour pouvoir aborder sereinement cette simulation, on s'autorise à 
utiliser les générateurs aléatoires à disposition dans numpy. De toute 
manière, vous savez déjà construire un générateur aléatoire à partir 
d'une loi uniforme, *n'est-ce pas?*"
   ]
  },
  {
   "cell_type": "code",
   "execution_count": 2,
   "id": "0ee72a52",
   "metadata": {
    "slideshow": {
     "slide_type": "fragment"
    }
   },
   "outputs": [],
   "source": [
    "rng = np.random.default_rng(seed=42)"
   ]
  },
  {
   "cell_type": "code",
   "execution_count": 3,
   "id": "7d879f4a",
   "metadata": {
    "slideshow": {
     "slide_type": "fragment"
    }
   },
   "outputs": [],
   "source": [
    "l = 2."
   ]
  },
  {
   "cell_type": "code",
   "execution_count": 4,
   "id": "d7b5aa39",
   "metadata": {
    "slideshow": {
     "slide_type": "fragment"
    }
   },
   "outputs": [
    {
     "data": {
      "text/plain": [
       "array([1.2021043 , 1.16809483, 1.1923805 , 0.13989714, 0.0432187
 ,\n",
       "       0.72633026, 0.70498035, 1.56214798, 0.0396471 , 
0.52328042])"
      ]
     },
     "execution_count": 4,
     "metadata": {},
     "output_type": "execute_result"
    }
   ],
   "source": [
    "rng.exponential(1/l, 10)"
   ]
  },
  {
   "cell_type": "markdown",
   "id": "ecd10008",
   "metadata": {
    "slideshow": {
     "slide_type": "slide"
    }
   },
   "source": [
    "# Agent\n",
    "\n",
    "On qualifie **d'Agent** une notion qui correspond à celle de 
client\n",
    "dans le folklore d'une file d'attente au guichet. Il est défini 
par\n",
    "les attributs suivants\n",
    "\n",
    "- `id` : son identifiant, un `int`.\n",
    "- `t_arval_queue` : temps d'arrivée dans le système d'attente, 
`float`.\n",
    "- `t_arval_srv` : temps d'accès à un serveur, `float`.\n",
    "- `t_depart_sys` : temps de départ du système, `float`.\n",
    "\n",
    "Dans l'implémentation qu'on propose chaque agent correspond aux\n",
    "premières colonnes d'une ligne dans un dataframe, nommé `tops`. 
Les\n",
    "colonnes concernées seront respectivement nommées\n",
    "`t_arval_queue`, `t_arval_srv` et `t_depart_sys`. L'attribut `id` 
correspond à une indexation sur les lignes."
   ]
  },
  {
   "cell_type": "code",
   "execution_count": 5,
   "id": "0653fa50",
   "metadata": {
    "slideshow": {
     "slide_type": "fragment"
    }
   },
   "outputs": [],
   "source": [
    "tops = pd.DataFrame(rng.exponential(1./5., size=(10, 3)), \n",
    "                    columns = ['t_arval_queue', 't_arval_srv', 
't_depart_sys'])"
   ]
  },
  {
   "cell_type": "code",
   "execution_count": 6,
   "id": "7110aff8",
   "metadata": {
    "slideshow": {
     "slide_type": "fragment"
    }
   },
   "outputs": [
    {
     "data": {
      "text/html": [
       "<div>\n",
       "<style scoped="">\n",
       "    .dataframe tbody tr th:only-of-type {\n",
       "        vertical-align: middle;\n",
       "    }\n",
       "\n",
       "    .dataframe tbody tr th {\n",
       "        vertical-align: top;\n",
       "    }\n",
       "\n",
       "    .dataframe thead th {\n",
       "        text-align: right;\n",
       "    }\n",
       "</style>\n",
       "\n",
       "  \n",
       "    \n",
       "      \n",
       "      \n",
       "      \n",
       "      \n",
       "    \n",
       "  \n",
       "  \n",
       "    \n",
       "      \n",
       "      \n",
       "      \n",
       "      \n",
       "    \n",
       "    \n",
       "      \n",
       "      \n",
       "      \n",
       "      \n",
       "    \n",
       "    \n",
       "      \n",
       "      \n",
       "      \n",
       "      \n",
       "    \n",
       "    \n",
       "      \n",
       "      \n",
       "      \n",
       "      \n",
       "    \n",
       "    \n",
       "      \n",
       "      \n",
       "      \n",
       "      \n",
       "    \n",
       "    \n",
       "      \n",
       "      \n",
       "      \n",
       "      \n",
       "    \n",
       "    \n",
       "      \n",
       "      \n",
       "      \n",
       "      \n",
       "    \n",
       "    \n",
       "      \n",
       "      \n",
       "      \n",
       "      \n",
       "    \n",
       "    \n",
       "      \n",
       "      \n",
       "      \n",
       "      \n",
       "    \n",
       "    \n",
       "      \n",
       "      \n",
       "      \n",
       "      \n",
       "    \n",
       "  \n",
       "<table border="\&quot;1\&quot;" class="\&quot;dataframe\&quot;"><thead><tr style="\&quot;text-align:" right;\"=""><th></th><th>t_arval_queue</th><th>t_arval_srv</th><th>t_depart_sys</th></tr></thead><tbody><tr><th>0</th><td>0.014087</td><td>0.217805</td><td>0.346265</td></tr><tr><th>1</th><td>0.077379</td><td>0.246317</td><td>0.030755</td></tr><tr><th>2</th><td>0.018315</td><td>0.063036</td><td>0.180240</td></tr><tr><th>3</th><td>0.082597</td><td>0.249477</td><td>0.044715</td></tr><tr><th>4</th><td>0.367594</td><td>0.245417</td><td>0.131159</td></tr><tr><th>5</th><td>0.083417</td><td>0.090664</td><td>0.015415</td></tr><tr><th>6</th><td>0.035926</td><td>0.137064</td><td>0.077736</td></tr><tr><th>7</th><td>0.252841</td><td>0.141698</td><td>0.047586</td></tr><tr><th>8</th><td>0.092218</td><td>0.128311</td><td>0.068767</td></tr><tr><th>9</th><td>0.064382</td><td>0.175783</td><td>0.059389</td></tr></tbody></table>\n",
       "</div>"
      ],
      "text/plain": [
       "   t_arval_queue  t_arval_srv  t_depart_sys\n",
       "0       0.014087     0.217805      0.346265\n",
       "1       0.077379     0.246317      0.030755\n",
       "2       0.018315     0.063036      0.180240\n",
       "3       0.082597     0.249477      0.044715\n",
       "4       0.367594     0.245417      0.131159\n",
       "5       0.083417     0.090664      0.015415\n",
       "6       0.035926     0.137064      0.077736\n",
       "7       0.252841     0.141698      0.047586\n",
       "8       0.092218     0.128311      0.068767\n",
       "9       0.064382     0.175783      0.059389"
      ]
     },
     "execution_count": 6,
     "metadata": {},
     "output_type": "execute_result"
    }
   ],
   "source": [
    "tops"
   ]
  },
  {
   "cell_type": "markdown",
   "id": "b9531b6f",
   "metadata": {
    "slideshow": {
     "slide_type": "slide"
    }
   },
   "source": [
    "# Modeliser une file d'attente\n",
    "\n",
    "Pour modéliser une file d'attente de manière naïve, on définit 
une\n",
    "classe `QS` pour *Queuing System*. Deux propriétés de cet objet\n",
    "modéliseront la file d'arrivées et le composant serveurs. Les 
temps\n",
    "d'arrivées / passages des agents seront comptabilisés dans un\n",
    "dataframe `tops`. Afin d'être exhaustif :\n",
    "\n",
    "-----------\n",
    "\n",
    "- `test_size` : taille de l'échantillon d'agents tests.\n",
    "\n",
    "-----------\n",
    "\n",
    "- `arval_dist` : distribution des arrivées, sert à initialiser 
les\n",
    "  temps d'arrivées d'un nombre défini d'agents. Il met à jour 
les\n",
    "  arrivés `t_arval_queue` des agents.\n",
    "\n",
    "-----------\n",
    "\n",
    "- `srv_dist`: distribution des services, renvoie un temps de 
service\n",
    "    depuis `t_arval_srv` d'un agent.\n",
    "\n",
    "-----------\n",
    "\n",
    "- `tops` : dataframe dont le schéma contient la description 
d'un\n",
    "  agent. Il peut être enrichi par un appel à `posttreat`.\n",
    "\n",
    "-----------\n",
    "\n",
    "- `Wline` : encode le comportement d'une file d'attente, il 
porte\n",
    "  les propriété :\n",
    "  - `size` : taille de la file d'attente `int`. À `None` si 
infinie.\n",
    "  - `queue` : liste des identifiants d'agents en attente.\n",
    "  - `populate` : fonction ouvrant l'accueil des agents dans la 
file.\n",
    "  - `pop` : renvoie la tête de file, suivant la politique de 
priorité\n",
    "    choisie. Un appel à cette fonction supprime la tête de file 
et\n",
    "    initialise `t_arval_srv`.\n",
    "\n",
    "-----------\n",
    "\n",
    "- `Service` : encode le comportement de serveurs d'une file 
d'attente\n",
    "  - `nb` : nombre de serveurs dans la file d'attente.\n",
    "  - `server` : une liste d'agents en cours de se faire servir\n",
    "    indexée de `0` à `nb - 1`.\n",
    "  - `full` : renvoie un booléen à vrai si le serveur est plein. 
\n",
    "  - `leaving` : renvoie les couples index, agent quittant au plus 
tôt le système.\n",
    "\n",
    "-----------\n",
    "\n",
    "- `pretreat` : initialise `tops` avec des valeurs d'interarrivées 
qui suivent `arval_dist`, `tops` est trié par suivant les temps 
d'arrivée, par construction. \n",
    "\n",
    "-----------\n",
    "\n",
    "- `run` : exécution d'un batch sur la file d'attente.\n",
    "\n",
    "-----------\n",
    "\n",
    "- `posttreat` : consolide les statistiques d'exécution d'un 
run.\n",
    "\n",
    "-----------\n",
    "\n",
    "- `timeline` : décrit le comportement du process (nombre d'agents 
dans la file des arrivées / système / en service) par rapport au temps 
et en extrait les statistiques standards.\n",
    "\n",
    "-----------"
   ]
  },
  {
   "cell_type": "code",
   "execution_count": 353,
   "id": "61873e9a",
   "metadata": {
    "slideshow": {
     "slide_type": "subslide"
    }
   },
   "outputs": [],
   "source": [
    "class Wline():\n",
    "\n",
    "    def __init__(self, size=None, policy=(lambda x: 0)):\n",
    "        self.size = size\n",
    "        self.next = policy\n",
    "        \n",
    "    def populate(self, queue):\n",
    "        self.queue = queue\n",
    "    \n",
    "    def pop(self):\n",
    "        pop_ix = self.next(self.queue)\n",
    "        pop_val = None\n",
    "        \n",
    "        if -1 &lt; pop_ix &lt; len(self.queue):\n",
    "            pop_val = self.queue[pop_ix]\n",
    "            self.queue.pop(pop_ix)\n",
    "            \n",
    "        return pop_val"
   ]
  },
  {
   "cell_type": "code",
   "execution_count": 354,
   "id": "46936c4d",
   "metadata": {
    "slideshow": {
     "slide_type": "fragment"
    }
   },
   "outputs": [],
   "source": [
    "line = Wline(10, (lambda x: 0))"
   ]
  },
  {
   "cell_type": "code",
   "execution_count": 355,
   "id": "266e3f3e",
   "metadata": {
    "slideshow": {
     "slide_type": "fragment"
    }
   },
   "outputs": [],
   "source": [
    "line.populate([1, 2, 3, 4])"
   ]
  },
  {
   "cell_type": "code",
   "execution_count": 356,
   "id": "40e10a74",
   "metadata": {
    "slideshow": {
     "slide_type": "fragment"
    }
   },
   "outputs": [
    {
     "data": {
      "text/plain": [
       "(10, [1, 2, 3, 4], <function __main__.<lambda="">(x)&gt;)"
      ]
     },
     "execution_count": 356,
     "metadata": {},
     "output_type": "execute_result"
    }
   ],
   "source": [
    "line.size, line.queue, line.next"
   ]
  },
  {
   "cell_type": "code",
   "execution_count": 11,
   "id": "2509e876",
   "metadata": {
    "slideshow": {
     "slide_type": "fragment"
    }
   },
   "outputs": [],
   "source": [
    "x = line.pop()"
   ]
  },
  {
   "cell_type": "code",
   "execution_count": 12,
   "id": "d92ef86a",
   "metadata": {
    "slideshow": {
     "slide_type": "fragment"
    }
   },
   "outputs": [
    {
     "data": {
      "text/plain": [
       "1"
      ]
     },
     "execution_count": 12,
     "metadata": {},
     "output_type": "execute_result"
    }
   ],
   "source": [
    "x"
   ]
  },
  {
   "cell_type": "code",
   "execution_count": 13,
   "id": "384e4d9d",
   "metadata": {
    "slideshow": {
     "slide_type": "slide"
    }
   },
   "outputs": [],
   "source": [
    "class InService():\n",
    "    \n",
    "    def __init__(self, nb=1, dist=None):\n",
    "        self.nb = nb\n",
    "        self.server = [None]*nb\n",
    "        self.dist = dist\n",
    "        \n",
    "    def full(self):\n",
    "        return not (None in self.server)\n",
    "        \n",
    "    def leaving(self, tops):\n",
    "        \n",
    "        agent_id = None\n",
    "        \n",
    "        if not self.full():\n",
    "            #Extract index of an available server\n",
    "            srv_ix = self.server.index(None) \n",
    "        \n",
    "        else:\n",
    "            #Find agent of smallest departure time, needs to be 
float to use idxmin\n",
    "            agent_id = tops.loc[self.server, 
't_depart_sys'].astype(float).idxmin()\n",
    "            #Extract server number of departing agent\n",
    "            srv_ix = self.server.index(agent_id) \n",
    "        \n",
    "        return srv_ix, agent_id"
   ]
  },
  {
   "cell_type": "code",
   "execution_count": 14,
   "id": "dadeafe9",
   "metadata": {
    "slideshow": {
     "slide_type": "fragment"
    }
   },
   "outputs": [],
   "source": [
    "inservice = InService(10, lambda : rng.exponential(1./3.))"
   ]
  },
  {
   "cell_type": "code",
   "execution_count": 15,
   "id": "0eba51de",
   "metadata": {
    "slideshow": {
     "slide_type": "fragment"
    }
   },
   "outputs": [
    {
     "data": {
      "text/plain": [
       "(10,\n",
       " [None, None, None, None, None, None, None, None, None, 
None],\n",
       " 0.44456747501062777)"
      ]
     },
     "execution_count": 15,
     "metadata": {},
     "output_type": "execute_result"
    }
   ],
   "source": [
    "inservice.nb, inservice.server, inservice.dist()"
   ]
  },
  {
   "cell_type": "code",
   "execution_count": 16,
   "id": "434398fa",
   "metadata": {
    "slideshow": {
     "slide_type": "fragment"
    }
   },
   "outputs": [
    {
     "data": {
      "text/plain": [
       "False"
      ]
     },
     "execution_count": 16,
     "metadata": {},
     "output_type": "execute_result"
    }
   ],
   "source": [
    "inservice.full()"
   ]
  },
  {
   "cell_type": "code",
   "execution_count": 17,
   "id": "118ee093",
   "metadata": {
    "slideshow": {
     "slide_type": "fragment"
    }
   },
   "outputs": [
    {
     "data": {
      "text/plain": [
       "(0, None)"
      ]
     },
     "execution_count": 17,
     "metadata": {},
     "output_type": "execute_result"
    }
   ],
   "source": [
    "inservice.leaving(tops)"
   ]
  },
  {
   "cell_type": "code",
   "execution_count": 18,
   "id": "e33a14a2",
   "metadata": {
    "slideshow": {
     "slide_type": "fragment"
    }
   },
   "outputs": [],
   "source": [
    "inservice.server = [i for i in range(10)]"
   ]
  },
  {
   "cell_type": "code",
   "execution_count": 19,
   "id": "09c2fdd6",
   "metadata": {
    "slideshow": {
     "slide_type": "fragment"
    }
   },
   "outputs": [
    {
     "data": {
      "text/plain": [
       "(5, 5)"
      ]
     },
     "execution_count": 19,
     "metadata": {},
     "output_type": "execute_result"
    }
   ],
   "source": [
    "inservice.leaving(tops)"
   ]
  },
  {
   "cell_type": "markdown",
   "id": "e61cafc5",
   "metadata": {
    "slideshow": {
     "slide_type": "slide"
    }
   },
   "source": [
    "# Dynamique d'exécution\n",
    "\n",
    "1. On initialise la file d'attente avec les métadonnées la\n",
    "   définissant.\n",
    "\n",
    "2. On génère les temps d'arrivées d'un échantillon de taille 
définie\n",
    "   dans `tops`. Les temps générés sont inclus dans\n",
    "   `agent[t_arrival_queue]`.\n",
    "\n",
    "3. On initialize `Wline` dans la mesure de sa capacité, au regard 
de\n",
    "   l'échantillon, et par ordre des temps d'arrivées.\n",
    "\n",
    "4. On lance une boucle :\n",
    "    \n",
    "    -------\n",
    "    \n",
    "\t- On fait appel à `Wline.pop()` et on stock le résultat dans\n",
    "\t  `next`, si erreur on arrête le benchmark sinon, on vérifie 
la\n",
    "      disponibilité côté serveurs, on a deux choix :\n",
    "\n",
    "       ----\n",
    "\n",
    "       - un serveur est disponible : on extrait sa position et\n",
    "\n",
    "\t\t + on stock `next` à cette position\n",
    "\t\t + on met à jour `next.t_arrival_srv` par\n",
    "          `next.t_arrival_srv &lt;- next.t_arrival_queue`.\n",
    "\n",
    "       ----\n",
    "\n",
    "\t    - aucun serveur n'est disponible, on extrait le serveur 
contenant l'agent ayant une valeur `t_departure_sys` la plus petite, 
qu'on stock dans `prev`. On fait la mise à jour\n",
    "\n",
    "\t       + on pop `prev` pour l'installer dans `Log`.\n",
    "\t       + on fait la mise à jour `QS.t() &lt;- 
prev.t_departure_sys`.\n",
    "\t       + on stock `next` à cette position\n",
    "\t       + `next.t_arrival_srv &lt;- prev.t_departure_sys.` si 
`prev.t_departure_srv` est plus grande que `next.t_arrival_queue`.\n",
    "\t       + `next.t_arrival_srv &lt;- next.t_arrival_queue.` 
sinon.\n",
    "\n",
    "   ------\n",
    "\n",
    "    - S'il reste des éléments dans les arrivées on va ajouter celui
 avec le plus petit temps d'arrivée `A` à `Wline` s'il n'est pas bloqué.
 Pour tester le blocage il faut comptabiliser les agents dans le système
 au moment de l'arrivée de `A`. Si le total est plus grand `size` `A` 
est bloqué, on met dans ce cas `t_depart_sys` à `-1`. Sinon on rajoute 
`A` à `Wline`."
   ]
  },
  {
   "cell_type": "code",
   "execution_count": 547,
   "id": "cefd92ff",
   "metadata": {
    "slideshow": {
     "slide_type": "subslide"
    }
   },
   "outputs": [],
   "source": [
    "class QS():\n",
    "    \n",
    "    def __init__(self, arval_dist, srv_dist, servers_nb, \n",
    "                 queue_size=None, policy=lambda x:0, test_size=100)
 :\n",
    "         \n",
    "        #Initializing metadata\n",
    "        self.arval_dist = arval_dist\n",
    "        self.srv_dist = srv_dist\n",
    "        self.srv_z = servers_nb\n",
    "        self.queue_z = queue_size if queue_size else test_size\n",
    "        self.test_z = test_size\n",
    "\n",
    "        #Initializing Waiting Line\n",
    "        self.wline = Wline(size=queue_size, policy=policy)\n",
    "        \n",
    "        #Initializing In Service List\n",
    "        self.inservice = InService(nb=servers_nb, 
dist=srv_dist)\n",
    "        \n",
    "        #Initializin tops dataframe\n",
    "        column_names = ['t_arval_queue', 't_arval_srv', 
't_depart_sys']\n",
    "        self.tops = pd.DataFrame(np.empty((test_size, 
3),dtype=object), columns=column_names)\n",
    "        \n",
    "    def pretreat(self):\n",
    "        \n",
    "        #Easing naming\n",
    "        tops = self.tops\n",
    "\n",
    "        t_interarvals = self.arval_dist(size=(self.test_z))\n",
    "        tops.loc[0, 't_arval_queue'] = t_interarvals[0]\n",
    "                \n",
    "        for agent in range(1, self.test_z) :\n",
    "            tops.loc[agent, 't_arval_queue'] = tops.loc[agent - 1, 
't_arval_queue'] + t_interarvals[agent]\n",
    "        \n",
    "    def run(self):\n",
    "        \n",
    "        #Easing naming\n",
    "        wline = self.wline\n",
    "        inservice = self.inservice\n",
    "        tops = self.tops\n",
    "        \n",
    "        #Initializing arrival queue\n",
    "        wline.queue = list(tops.loc[0:0].index)\n",
    "        #Initializing upcomgin theoretical arrival        \n",
    "        buffer_ix = 1 \n",
    "    \n",
    "        while buffer_ix &lt; self.test_z:\n",
    "            \n",
    "            _next = wline.pop()\n",
    "            if _next is not None: #Waiting line is not empty \n",
    "\n",
    "                #Update server arrival time as if no waiting was 
needed\n",
    "                tops.loc[_next, 't_arval_srv'] = tops.loc[_next, 
't_arval_queue']\n",
    "                \n",
    "                #Find next available server\n",
    "                srv_ix, dept_ag = inservice.leaving(tops)\n",
    "    \n",
    "                #Fill available server with corresponding next 
agent in waiting line\n",
    "                inservice.server[srv_ix] = _next \n",
    "                    \n",
    "                if dept_ag is not None :\n",
    "                    if tops.loc[_next, 't_arval_queue'] &lt; 
tops.loc[dept_ag, 't_depart_sys'] : \n",
    "                        #Update server arrival time in case arrival
 is before system departure\n",
    "                        tops.loc[_next, 't_arval_srv'] = 
tops.loc[dept_ag, 't_depart_sys']\n",
    "                        \n",
    "                #Update system departure time\n",
    "                tops.loc[_next, 't_depart_sys'] = tops.loc[_next, 
't_arval_srv'] + inservice.dist() \n",
    "                                            \n",
    "            #Counting prior agents still in system\n",
    "            in_system = (tops.loc[0:buffer_ix - 1, 't_depart_sys'] 
&gt; tops.loc[buffer_ix, 't_arval_queue']).sum()\n",
    "                            \n",
    "            if self.queue_z is not None and in_system &gt;= 
self.queue_z + self.inservice.nb:\n",
    "                tops.loc[buffer_ix, 't_depart_sys'] = -1\n",
    "            else:\n",
    "                wline.queue.append(buffer_ix)\n",
    "                    \n",
    "            buffer_ix += 1\n",
    "                \n",
    "    def posttreat(self):\n",
    "        \n",
    "        #Easing naming\n",
    "        tops = self.tops\n",
    "        \n",
    "        tops['t_sojourn'] = np.where(tops['t_depart_sys'] == -1, 0,
 tops['t_depart_sys'] - tops['t_arval_queue'])\n",
    "        tops['t_waiting'] = np.where(tops['t_depart_sys'] == -1, 0,
 tops['t_arval_srv'] - tops['t_arval_queue'])\n",
    "        tops['t_service'] = np.where(tops['t_depart_sys'] == -1, 0,
 tops['t_depart_sys'] - tops['t_arval_srv'])\n",
    "        tops['blocked'] = tops.loc[:,'t_depart_sys'] == -1\n",
    "        tops['waited'] = tops['t_waiting'] &gt; 0 \n",
    "    \n",
    "    def timeline(self, t_delation=2):\n",
    "        \n",
    "        #Easing naming\n",
    "        tops = self.tops\n",
    "        test_z = self.test_z\n",
    "\n",
    "        # Process determination\n",
    "        colnames = ['ag_in_sys', 'ag_in_queue', 
'ag_in_service']\n",
    "        t_range = np.linspace(0., tops['t_depart_sys'].max(), 
t_delation*test_z)\n",
    "        process = pd.DataFrame(np.empty((t_range.shape[0], 
3),dtype=object), \n",
    "                                index=t_range, 
columns=colnames)\n",
    "        \n",
    "        for t in process.index:\n",
    "            process.loc[t, 'ag_in_sys'] = ((t &gt;= 
tops['t_arval_queue']) &amp; (t &lt;= tops['t_depart_sys'])).sum()\n",
    "            process.loc[t, 'ag_in_queue'] = ((t &gt;= 
tops['t_arval_queue']) &amp; (t &lt;= tops['t_arval_srv'])).sum()\n",
    "            process.loc[t, 'ag_in_service'] = ((t &gt; 
tops['t_arval_srv']) &amp; (t &lt;= tops['t_depart_sys'])).sum()\n",
    "        \n",
    "        # Statistics extractions\n",
    "        statnames = ['mean_sojourn_time', 'mean_waiting_time', 
'mean_service_time', \n",
    "                     'waiting_proportion', 'blocked_proportion', 
'servers_max_usage']\n",
    "        stats = pd.DataFrame(np.empty((len(statnames), 
1),dtype=object), index=statnames, columns=['run value'])\n",
    " \n",
    "        stats.loc['mean_sojourn_time'] = tops['t_sojourn'].sum() / 
(~tops['blocked']).sum()\n",
    "        stats.loc['mean_waiting_time'] = tops['t_waiting'].sum() / 
(~tops['blocked']).sum()\n",
    "        stats.loc['mean_service_time'] = tops['t_service'].sum() / 
(~tops['blocked']).sum()\n",
    "\n",
    "        stats.loc['waiting_proportion'] = tops['waited'].sum() / 
(~tops['blocked']).sum()\n",
    "        stats.loc['blocked_proportion'] = tops['blocked'].sum() / 
test_z\n",
    "\n",
    "        # An approximation of server usage, for better 
approximation raise t_delation.\n",
    "        stats.loc['servers_max_usage'] = (process['ag_in_service'] 
== self.inservice.nb).sum() / (t_delation*test_z - 1)\n",
    "\n",
    "        return process, stats"
   ]
  },
  {
   "cell_type": "code",
   "execution_count": 568,
   "id": "5496b32b",
   "metadata": {
    "editable": true,
    "slideshow": {
     "slide_type": "slide"
    },
    "tags": []
   },
   "outputs": [],
   "source": [
    "srv_nb = 1\n",
    "arval_dist = lambda size : rng.exponential(1./0.02, size=size)\n",
    "srv_dist = lambda :  rng.exponential(1./0.02)"
   ]
  },
  {
   "cell_type": "code",
   "execution_count": 569,
   "id": "24505a2a",
   "metadata": {
    "slideshow": {
     "slide_type": "fragment"
    }
   },
   "outputs": [],
   "source": [
    "mm1 = QS(arval_dist, srv_dist, srv_nb, queue_size=5, 
test_size=100)"
   ]
  },
  {
   "cell_type": "code",
   "execution_count": 570,
   "id": "d7371540",
   "metadata": {
    "slideshow": {
     "slide_type": "fragment"
    }
   },
   "outputs": [],
   "source": [
    "mm1.pretreat()"
   ]
  },
  {
   "cell_type": "code",
   "execution_count": 571,
   "id": "48eb5bf7",
   "metadata": {
    "scrolled": true,
    "slideshow": {
     "slide_type": "fragment"
    }
   },
   "outputs": [],
   "source": [
    "mm1.run()"
   ]
  },
  {
   "cell_type": "code",
   "execution_count": 572,
   "id": "e2083c41",
   "metadata": {
    "slideshow": {
     "slide_type": "fragment"
    }
   },
   "outputs": [],
   "source": [
    "mm1.posttreat()"
   ]
  },
  {
   "cell_type": "code",
   "execution_count": 573,
   "id": "1b6d236d-d14e-46d1-ae98-0d74f3cc4174",
   "metadata": {},
   "outputs": [],
   "source": [
    "mm1_bench, mm1_stats = mm1.timeline()"
   ]
  },
  {
   "cell_type": "code",
   "execution_count": 574,
   "id": "3b635b72-3d18-4b5c-aaaa-edafdec94c74",
   "metadata": {},
   "outputs": [
    {
     "data": {
      "text/html": [
       "<div>\n",
       "<style scoped="">\n",
       "    .dataframe tbody tr th:only-of-type {\n",
       "        vertical-align: middle;\n",
       "    }\n",
       "\n",
       "    .dataframe tbody tr th {\n",
       "        vertical-align: top;\n",
       "    }\n",
       "\n",
       "    .dataframe thead th {\n",
       "        text-align: right;\n",
       "    }\n",
       "</style>\n",
       "\n",
       "  \n",
       "    \n",
       "      \n",
       "      \n",
       "    \n",
       "  \n",
       "  \n",
       "    \n",
       "      \n",
       "      \n",
       "    \n",
       "    \n",
       "      \n",
       "      \n",
       "    \n",
       "    \n",
       "      \n",
       "      \n",
       "    \n",
       "    \n",
       "      \n",
       "      \n",
       "    \n",
       "    \n",
       "      \n",
       "      \n",
       "    \n",
       "    \n",
       "      \n",
       "      \n",
       "    \n",
       "  \n",
       "<table border="\&quot;1\&quot;" class="\&quot;dataframe\&quot;"><thead><tr style="\&quot;text-align:" right;\"=""><th></th><th>run value</th></tr></thead><tbody><tr><th>mean_sojourn_time</th><td>150.940002</td></tr><tr><th>mean_waiting_time</th><td>105.855478</td></tr><tr><th>mean_service_time</th><td>45.084524</td></tr><tr><th>waiting_proportion</th><td>0.844444</td></tr><tr><th>blocked_proportion</th><td>0.1</td></tr><tr><th>servers_max_usage</th><td>0.894472</td></tr></tbody></table>\n",
       "</div>"
      ],
      "text/plain": [
       "                     run value\n",
       "mean_sojourn_time   150.940002\n",
       "mean_waiting_time   105.855478\n",
       "mean_service_time    45.084524\n",
       "waiting_proportion    0.844444\n",
       "blocked_proportion         0.1\n",
       "servers_max_usage     0.894472"
      ]
     },
     "execution_count": 574,
     "metadata": {},
     "output_type": "execute_result"
    }
   ],
   "source": [
    "mm1_stats"
   ]
  },
  {
   "cell_type": "code",
   "execution_count": 575,
   "id": "986bbab2",
   "metadata": {
    "slideshow": {
     "slide_type": "fragment"
    }
   },
   "outputs": [],
   "source": [
    "import matplotlib.pyplot as plt"
   ]
  },
  {
   "cell_type": "code",
   "execution_count": 576,
   "id": "aaa33cb7",
   "metadata": {},
   "outputs": [
    {
     "data": {
      "image/png": 
"iVBORw0KGgoAAAANSUhEUgAABRIAAAPgCAYAAABOK4CaAAAAOXRFWHRTb2Z0d2FyZQBNYXRwbG90bGliIHZlcnNpb24zLjcuMSwgaHR0cHM6Ly9tYXRwbG90bGliLm9yZy/
bCgiHAAAACXBIWXMAAA9hAAAPYQGoP6dpAACwdUlEQVR4nOzdeXwV1f3/8fcNIQmQDSEhgYRFQRZZBcG4CxSkiqKC1roAon6lKGJcUyVAUUFFi1WrQBWwVuEHFqxaNhWClEUIhkUWwaZsJkQUcsOWQO78/
rDccsly7yRzM5Pk9Xw88oA5c+6Zz8ycM3Pv587MdRmGYQgAAAAAAAAAyhFidwAAAAAAAAAAnI9EIgAAAAAAAAC/
SCQCAAAAAAAA8ItEIgAAAAAAAAC/SCQCAAAAAAAA8ItEIgAAAAAAAAC/
SCQCAAAAAAAA8ItEIgAAAAAAAAC/SCQCAAAAAAAA8ItEIgAAAAAAAAC/
bE0ktmzZUi6Xq8TfqFGj7AwLAAAAAAAAwDlC7Vz4+vXrVVxc7J3eunWrfvWrX2nIkCE2RgUAAAAAAADgXC7DMAy7gzhjzJgx+vTTT7Vr1y65XC67wwEAAAAAAADwX7ZekXi2oqIivf/
+
+0pNTS0ziVhYWKjCwkLvtMfj0c8//6xGjRqReAQAAAAAAABMMgxDBQUFatq0qUJCyn8KomMSiQsXLtSRI0c0bNiwMutMmjRJEyZMqLqgAAAAAAAAgFpg3759SkpKKreOY25t7t+/
v8LCwvTJJ5+UWefcKxLz8/
PVvHlz7du3T9HR0VURJgAAAAAAAFBjuN1uJScn68iRI4qJiSm3riOuSNyzZ48+//xz/
f3vfy+3Xnh4uMLDw0uUR0dHk0gEAAAAAAAAKiiQxwaWf+NzFZk5c6bi4+N1/
fXX2x0KAAAAAAAAgFLYnkj0eDyaOXOmhg4dqtBQR1wgCQAAAAAAAOActicSP//8c+3du1f33nuv3aEAAAAAAAAAKIPtlwD269dPDvm9FwAAAAAAAJyluLhYp06dsjsMVEKdOnUUGhoa0DMQ/
bE9kQgAAAAAAADnOXr0qPbv388FYDVA/
fr1lZiYqLCwsEq1QyIRAAAAAAAAPoqLi7V//37Vr19fcXFxllzNhqpnGIaKior0448/
Kjs7W23atFFISMWfdEgiEQAAAAAAAD5OnTolwzAUFxenevXq2R0OKqFevXqqW7eu9uzZo6KiIkVERFS4Ldt/
bAUAAAAAAADOxJWINUNlrkL0aceSVgAAAAAAAADUaCQSAQAAAAAAAPhFIhEAAAAAAAAIwIoVK+RyuXTkyBG7Q7EFiUQAAAAAAAAgAJdddplycnIUExNjdyi24FebAQAAAAAAgACEhYUpISHB7jBswxWJAAAAAAAAqDEWL16sK664QrGxsWrUqJFuuOEGff/99975q1evVteuXRUREaEePXpo4cKFcrlcysrK8tv2ubc2z5o1S7GxsVqyZInat2+vyMhIXXfddcrJyQko1hUrVqhnz55q0KCBYmNjdfnll2vPnj36z3/
+o5CQEG3YsMGn/
tSpU9WiRQt5PB4dPnxYd955p+Li4lSvXj21adNGM2fODHg7VQRXJAIAAAAAAMC/
Hj2k3NyqX25CgnROQq08x44dU2pqqjp37qyjR48qPT1dN998s7KysnT06FENHDhQv/71r/
XBBx9oz549GjNmTKXCO378uKZMmaK//vWvCgkJ0V133aXHH39cf/
vb38p93enTpzVo0CDdf//9+vDDD1VUVKSvv/5aLpdLLVq0UN+
+fTVz5kz16NHD+5qZM2dq2LBhCgkJ0dixY7Vt2zYtWrRIjRs31u7du3XixIlKrYs/
JBIBAAAAAADgX26udOCA3VH4deutt/pMv/
vuu4qLi9O2bdu0atUquVwuzZgxQxEREerQoYMOHDig+++/v8LLO3XqlN5+
+21dcMEFkqSHHnpIf/jDH/y+zu12Kz8/XzfccIP3te3bt/fOv++++/Tggw/
q1VdfVXh4uDZu3KgtW7bo448/
liTt3btX3bp18yYaW7ZsWeF1CBSJRAAAAAAAAPhn17MBTS53165dSk9P17p163To0CF5PB5JvyTedu7cqc6dOysiIsJbv2fPnpUKr379+t5EoCQlJiYqLy/
P7+vOO+88DRs2TP3799evfvUr9e3bV7fddpsSExMlSYMGDdKoUaO0YMEC/
eY3v9GsWbN07bXXehOGI0eO1K233qqNGzeqX79+GjRokC677LJKrYs/
JBIBAAAAAADgn4nbi+00cOBAtWjRQjNmzFDTpk3l8XjUsWNHFRUVBWV5devW9Zl2uVwyDCOg186cOVOjR4/
W4sWLNXfuXD377LNatmyZLr30UoWFhemee+7RzJkzdcstt+iDDz7Qa6+95n3tgAEDtGfPHv3zn//
UsmXL1KdPH40aNUpTpkyxdP3Oxo+tAAAAAAAAoEb46aeftHPnTj377LPq06eP2rdvr8OHD3vnt23bVlu2bFFhYaG3bP369XaE6tWtWzelpaVp9erV6tixoz744APvvPvuu0+ff/65/
vznP+v06dO65ZZbfF4bFxenoUOH6v3339fUqVM1ffr0oMZKIhEAAAAAAAA1QsOGDdWoUSNNnz5du3fv1pdffqnU1FTv/
N/+9rfyeDx64IEHtH37di1ZssR7BZ/
L5arSWLOzs5WWlqY1a9Zoz549Wrp0qXbt2uXznMT27dvr0ksv1VNPPaU77rhD9erV885LT0/
Xxx9/rN27d+vbb7/
Vp59+6vPaYCCRCAAAAAAAgBohJCREc+bMUWZmpjp27KhHH31UL7/8snd+dHS0PvnkE2VlZalr16565plnlJ6eLkk+z02sCvXr19eOHTt066236sILL9QDDzygUaNG6f/
+7/986o0YMUJFRUW69957fcrDwsKUlpamzp0766qrrlKdOnU0Z86coMbsMgK9aduB3G63YmJilJ+fr+joaLvDAQAAAAAAqBFOnjyp7OxstWrVqsoTbFXtb3/7m4YPH678/
HyfK/6cYuLEiZo3b542b95c4TbK259m8mv82AoAAAAAAABqjffee0/nn3+
+mjVrpk2bNumpp57Sbbfd5rgk4tGjR/Wf//
xHb7zxhp577jm7w5HErc0AAAAAAACoRXJzc3XXXXepffv2evTRRzVkyBDvj5Q8+OCDioyMLPXvwQcfNL2sstqKjIzUV199Ve5rH3roIXXv3l3XXHNNidua7cKtzQAAAAAAAPBRm25tPlteXp7cbnep86KjoxUfH2+qvd27d5c5r1mzZlV2FSS3NgMAAAAAAAAWio+PN50sLE/
r1q0ta8sJuLUZAAAAAAAAparGN7LiLFbtRxKJAAAAAAAA8FGnTh1JUlFRkc2RwArHjx+XJNWtW7dS7XBrMwAAAAAAAHyEhoaqfv36+vHHH1W3bl2FhHAtWnVkGIaOHz+uvLw8xcbGehPEFUUiEQAAAAAAAD5cLpcSExOVnZ2tPXv22B0OKik2NlYJCQmVbodEIgAAAAAAAEoICwtTmzZtuL25mqtbt26lr0Q8g0QiAAAAAAAAShUSEqKIiAi7w4BD2H6D+4EDB3TXXXepUaNGqlevnjp16qQNGzbYHRYAAAAAAACAs9h6ReLhw4d1+eWX69prr9WiRYsUFxenXbt2qWHDhnaGBQAAAAAAAOActiYSX3zxRSUnJ2vmzJneslatWtkYEQAAAAAAAIDS2JpI/
Mc//qH+/ftryJAhysjIULNmzfS73/1O999/
f6n1CwsLVVhY6J12u91VFSoAWGfePCk9XSooCKx+VJQ0caI0eHDF2zbTRlUrb3s4OW4nYNsBQO3FOQConcx+ljArWMeP6vg5BaVyGYZh2LXwMw/
rTE1N1ZAhQ7R+/Xo98sgjevvttzV06NAS9cePH68JEyaUKM/
Pz1d0dHTQ4wUAS7RvL+3YYe417dpJ27dXru1A26hq/
raHU+N2ArYdANRenAOA2qkinyXMCsbxozp+TqlF3G63YmJiAsqv2XpFosfjUY8ePfTCCy9Ikrp166atW7eWmUhMS0tTamqqd9rtdis5ObnK4gUAS5z5Fi4kREpMLL9uTo7k8QT+jWNpbZtto6qVtT2cHrcTsO0AoPbiHADUTmY+S5gVzONHdfycglLZmkhMTExUhw4dfMrat2+vjz76qNT64eHhCg8Pr4rQACD4EhOl/
fvLr5OUJB04ULm2K9pGVTt3e1SXuJ2AbQcAtRfnAKB2CuSzhFlVcfyojp9T4CPEzoVffvnl2rlzp0/
Zd999pxYtWtgUEQAAAAAAAIDS2JpIfPTRR7V27Vq98MIL2r17tz744ANNnz5do0aNsjMsAAAAAAAAAOewNZF4ySWXaMGCBfrwww/
VsWNHTZw4UVOnTtWdd95pZ1gAAAAAAAAAzmHrMxIl6YYbbtANN9xgdxgAAAAAAAAAymHrFYkAAAAAAAAAqgcSiQAAAAAAAAD8IpEIAAAAAAAAwC8SiQAAAAAAAAD8IpEIAAAAAAAAwC8SiQAAAAAAAAD8IpEIAAAAAAAAwK9Qsy84efKkXn/9dS1fvlx5eXnyeDw+8zdu3GhZcAAAAAAAAACcwXQiccSIEVq6dKkGDx6snj17yuVyBSMuAAAAAAAAAA5iOpH46aef6p///
Kcuv/zyYMQDAAAAAAAAwIFMPyOxWbNmioqKCkYsAAAAAAAAABzKdCLxlVde0VNPPaU9e/
YEIx4AAAAAAAAADmT61uYePXro5MmTOv/881W/
fn3VrVvXZ/7PP/9sWXAAAAAAAAAAnMF0IvGOO+7QgQMH9MILL6hJkyb82AoAAAAAAABQC5hOJK5evVpr1qxRly5dghEPAAAAAAAAAAcy/
YzEdu3a6cSJE8GIBQAAAAAAAIBDmU4kTp48WY899phWrFihn376SW632+cPAAAAAAAAQM1j+tbm6667TpLUp08fn3LDMORyuVRcXGxNZAAAAAAAAAAcw3Qicfny5cGIAwAAAAAAAICDmU4kXn311cGIAwAAAAAAAICDmX5GoiR99dVXuuuuu3TZZZfpwIEDkqS//
vWvWrVqlaXBAQAAAAAAAHAG04nEjz76SP3791e9evW0ceNGFRYWSpLy8/
P1wgsvWB4gAAAAAAAAAPuZTiQ+99xzevvttzVjxgzVrVvXW3755Zdr48aNlgYHAAAAAAAAwBlMJxJ37typq666qkR5TEyMjhw5YkVMAAAAAAAAABzGdCIxISFBu3fvLlG+atUqnX/
++ZYEBQAAAAAAAMBZTCcS77//fj3yyCNat26dXC6XfvjhB/3tb3/T448/
rpEjRwYjRgAAAAAAAAA2CzX7gqeffloej0d9+vTR8ePHddVVVyk8PFyPP/64Hn744WDECAAAAAAAAMBmphOJLpdLzzzzjJ544gnt3r1bR48eVYcOHRQZGRmM+AAAAAAAAAA4gOlbm+
+9914VFBQoLCxMHTp0UM+ePRUZGaljx47p3nvvNdXW+PHj5XK5fP7atWtnNiQAAAAAAAAAQWY6kTh79mydOHGiRPmJEyf03nvvmQ7goosuUk5Ojvdv1apVptsAAAAAAAAAEFwB39rsdrtlGIYMw1BBQYEiIiK884qLi/
XPf/5T8fHx5gMIDVVCQkJAdQsLC1VYWOgTE1Bh8+ZJ6elSQUHgr4mKkiZOlAYPrrplBqqyscF6Ze3vnBzzbeXkSElJgdUz00aw+o2Zvu5ve5wbd23t66VtU7Pbrixmtml1PI6Zjbm29jEAtU8wj+nl4Tj7P9XxvArrWfne2QqBfG4w23fNfk4xg75epVyGYRiBVAwJCZHL5Sq7IZdLEyZM0DPPPBPwwsePH6+XX35ZMTExioiIUEpKiiZNmqTmzZuXWX/
ChAklyvPz8xUdHR3wcgFJUvv20o4d5l/
Xrp20fXvVLjNQlYkN1vO3vwPZX1b0UyviMKsicZ8bR3lt1Ma+bmZ7WLH9KxKHFZzaHwHAaZKSpAMHpGbNpP37/
ZeXJtjH9PJwnP1FdTyvwnpOea9i5nNDVXxOqWi7MM3tdismJiag/FrAVyQuX75chmGod+/
e+uijj3Teeed554WFhalFixZq2rSpqUB79eqlWbNmqW3btsrJydGECRN05ZVXauvWrYqKiipRPy0tTampqd5pt9ut5ORkU8sEvM58cxISIiUm+q+fkyN5PJX7ttDsMgNlRWywXnn7+8y3Zv5MnCiNHVuxK2f9tRHMfmO2r5e2PUqLuzb39bK2aaDbrixmt2l1PI6Zibk29zEAtU+wjunl4TjrqzqeV2E9K947W8HM54aK9N1AP6eYQV+vcgEnEq+
++mpJUnZ2tpo3b17u1YmBGjBggPf/nTt3Vq9evdSiRQv9v//3/
zRixIgS9cPDwxUeHl7p5QI+EhP9f1sr/e/
b3apcZqCsjA3Wq8z+Hjy48pfol9VGVfQbq9edvh7YNjXTbyq6TavjcSyQmOljAGojq4/
p5eE4W7rqeF6F9apyLJamIp8b7P6sQ1+vcqZ/bGX79u3617/+5Z1+88031bVrV/32t7/
V4cOHKxVMbGysLrzwQu3evbtS7QAAAAAAAACwlulE4hNPPOH9kZMtW7YoNTVVv/71r5Wdne1z23FFHD16VN9//70Sq+qyegAAAAAAAAABCfjW5jOys7PVoUMHSdJHH32kgQMH6oUXXtDGjRv161//2lRbjz/
+uAYOHKgWLVrohx9+0Lhx41SnTh3dcccdZsMCAAAAAAAAEESmE4lhYWE6fvy4JOnzzz/
XPffcI0k677zzvFcqBmr//
v2644479NNPPykuLk5XXHGF1q5dq7i4OLNhAQAAAAAAAAgi04nEK664Qqmpqbr88sv19ddfa+7cuZKk7777TklJSabamjNnjtnFAwAAAAAAALCB6WckvvHGGwoNDdX8+fP11ltvqVmzZpKkRYsW6brrrrM8QAAAAAAAAAD2M31FYvPmzfXpp5+WKP/
jH/9oSUAAAAAAAAAAnMf0FYlXX3213nvvPZ04cSIY8QAAAAAAAABwINOJxG7duunxxx9XQkKC7r//
fq1duzYYcQEAAAAAAABwENOJxKlTp+qHH37QzJkzlZeXp6uuukodOnTQlClTdPDgwWDECAAAAAAAAMBmphOJkhQaGqpbbrlFH3/8sfbv36/
f/
va3Gjt2rJKTkzVo0CB9+eWXVscJAAAAAAAAwEYVSiSe8fXXX2vcuHF65ZVXFB8fr7S0NDVu3Fg33HCDHn/8catiBAAAAAAAAGAz07/
anJeXp7/
+9a+aOXOmdu3apYEDB+rDDz9U//795XK5JEnDhg3TddddpylTplgeMAAAAAAAAICqZzqRmJSUpAsuuED33nuvhg0bpri4uBJ1OnfurEsuucSSAAEAAAAAAADYz3Qi8YsvvtCVV15Zbp3o6GgtX768wkEBAAAAAAAAcBbTz0js0aOHjh8/7p3es2ePpk6dqqVLl1oaGAAAAAAAAADnMJ1IvOmmm/
Tee+9Jko4cOaJevXrplVde0U033aS33nrL8gABAAAAAAAA2M90InHjxo3eW5vnz5+vJk2aaM+ePXrvvff0pz/9yfIAAQAAAAAAANjPdCLx+PHjioqKkiQtXbpUt9xyi0JCQnTppZdqz549lgcIAAAAAAAAwH6mE4mtW7fWwoULtW/
fPi1ZskT9+vWTJOXl5Sk6OtryAAEAAAAAAADYz3QiMT09XY8//
rhatmypXr16KSUlRdIvVyd269bN8gABAAAAAAAA2C/
U7AsGDx6sK664Qjk5OerSpYu3vE+fPrr55pstDQ4AAAAAAACAM5hOJEpSQkKCEhISfMp69uxpSUAAAAAAAAAAnMf0rc0AAAAAAAAAah8SiQAAAAAAAAD8IpEIAAAAAAAAwC8SiQAAAAAAAAD8qtCPrezatUvLly9XXl6ePB6Pz7z09HRLAgMAAAAAAADgHKYTiTNmzNDIkSPVuHFjJSQkyOVyeee5XC4SiQAAAAAAAEANZDqR+Nxzz+n555/
XU089FYx4AAAAAAAAADiQ6WckHj58WEOGDAlGLAAAAAAAAAAcynQicciQIVq6dGkwYgEAAAAAAADgUKZvbW7durXGjh2rtWvXqlOnTqpbt67P/
NGjR1cokMmTJystLU2PPPKIpk6dWqE2AAAAAAAAAASH6UTi9OnTFRkZqYyMDGVkZPjMc7lcFUokrl+/
XtOmTVPnzp1NvxYAAAAAAABA8JlOJGZnZ1sawNGjR3XnnXdqxowZeu655yxtGwAAAAAAAIA1TCcSrTZq1Chdf/316tu3r99EYmFhoQoLC73Tbrc72OGhppg3T0pPlwoK/
leWk1OxtnJypKSkir8WzlNa/7BCTdrfZrdRsNfdzDiMipImTpQGD7Zu+Vb1mdJiK6ttp2xTp/
TrsrZTMPY3gKpn9jhb2bEfrPcCFRHoucHf8TiQ47pTjukIHrvfM9VmZo4r1WUsnt2fqkvMsFxAicTU1FRNnDhRDRo0UGpqarl1X3311YAXPmfOHG3cuFHr168PqP6kSZM0YcKEgNsHvNLTpR07Sp8XFRVYG2fqeTzSgQOViyfQZaJqlNc/
rFAT9ndFt5HV617RcTh2rLVviq3sM+fG5q9tp2xTu/
t1edvJ6v0NoOpV5DhbmbEf7PcCZpk5N5x7PK7Icd3uYzqs55T3TLVZRY4rTh2L5fUnp8aMoAkokfjNN9/
o1KlT3v+XxeVyBbzgffv26ZFHHtGyZcsUERER0GvS0tJ8Eplut1vJyckBLxO12JlvgUJCpMTE/5Wf+dYtEBMn/
nJiteoKJDhHWf3DCjVlf1dkGwVj3c2Ow5ycX97wWH2FiRV9pqzYymvbCds0WHGYVdp2Ctb+BlD1zBxnrRj7wXwvYIbZc0Npx2Ozx3UnHNNhPae8Z6rNzB5XnDwWy+pPTo4ZQRNQInH58uWl/
r8yMjMzlZeXp4svvthbVlxcrJUrV+qNN95QYWGh6tSp4/Oa8PBwhYeHW7J81FKJidL+/
RV77eDBfDtX01Wmf9QWdm8js+MwKanyVxCXpzLbw19sVbWtq/
ux7eztFOz9DaDqBXIstHLs232es+LcUN2P67CG094z1WZ2H1eswHEFZ7HtGYl9+vTRli1bfMqGDx+udu3a6amnniqRRAQAAAAAAABgH9sSiVFRUerYsaNPWYMGDdSoUaMS5QAAAAAAAADsFWJ3AAAAAAAAAACcz7YrEkuzYsUKu0MAAAAAAAAAUApTVySeOnVK9957r7Kzs4MVDwAAAAAAAAAHMpVIrFu3rj766KNgxQIAAAAAAADAoUw/
I3HQoEFauHBhEEIBAAAAAAAA4FSmn5HYpk0b/eEPf9C//vUvde/
eXQ0aNPCZP3r0aMuCAwAAAAAAAOAMphOJ77zzjmJjY5WZmanMzEyfeS6Xi0QiAAAAAAAAUAOZTiTyQysAAAAAAABA7WP6GYlnFBUVaefOnTp9+rSV8QAAAAAAAABwINOJxOPHj2vEiBGqX7+
+LrroIu3du1eS9PDDD2vy5MmWBwgAAAAAAADAfqYTiWlpadq0aZNWrFihiIgIb3nfvn01d+5cS4MDAAAAAAAA4Aymn5G4cOFCzZ07V5deeqlcLpe3/
KKLLtL3339vaXAAAAAAAAAAnMH0FYk//
vij4uPjS5QfO3bMJ7EIAAAAAAAAoOYwnUjs0aOHPvvsM+/0meThX/7yF6WkpFgXGQAAAAAAAADHMH1r8wsvvKABAwZo27ZtOn36tF577TVt27ZNq1evVkZGRjBiBAAAAAAAAGAz01ckXnHFFcrKytLp06fVqVMnLV26VPHx8VqzZo26d+8ejBgBAAAAAAAA2Mz0FYmSdMEFF2jGjBlWxwIAAAAAAADAoSqUSCwuLtaCBQu0fft2SVKHDh100003KTS0Qs0BAAAAAAAAcDjTmb9vv/1WN954o3Jzc9W2bVtJ0osvvqi4uDh98skn6tixo+VBAgAAAAAAALCX6Wck3nfffbrooou0f/9+bdy4URs3btS+ffvUuXNnPfDAA8GIEQAAAAAAAIDNTF+RmJWVpQ0bNqhhw4besoYNG+r555/
XJZdcYmlwAAAAAAAAAJzB9BWJF154oQ4ePFiiPC8vT61bt7YkKAAAAAAAAADOElAi0e12e/8mTZqk0aNHa/78+dq/
f7/279+v+fPna8yYMXrxxReDHS8AAAAAAAAAGwR0a3NsbKxcLpd32jAM3Xbbbd4ywzAkSQMHDlRxcXEQwgQAAAAAAABgp4ASicuXLw92HAAAAAAAAAAcLKBE4tVXXx3sOAAAAAAAAAA4mOlfbZakkydPavPmzcrLy5PH4/
GZd+ONN1oSGAAAAAAAAADnMJ1IXLx4se655x4dOnSoxDyXy8UzEgEAAAAAAIAaKKBfbT7bww8/
rCFDhignJ0cej8fnjyQiAAAAAAAAUDOZTiQePHhQqampatKkSTDiAQAAAAAAAOBAphOJgwcP1ooVKyxZ+FtvvaXOnTsrOjpa0dHRSklJ0aJFiyxpGwAAAAAAAIB1TD8j8Y033tCQIUP01VdfqVOnTqpbt67P/
NGjRwfcVlJSkiZPnqw2bdrIMAzNnj1bN910k7755htddNFFZkMDAAAAAAAAECSmE4kffvihli5dqoiICK1YsUIul8s7z+VymUokDhw40Gf6+eef11tvvaW1a9eSSAQAAAAAAAAcxHQi8ZlnntGECRP09NNPKyTE9J3RZSouLta8efN07NgxpaSklFqnsLBQhYWF3mm3223Z8lGF5s2T0tOlgoKS86KipIkTpcGDA6sfqJycir+2OsnJkZKSfMtK26Y1ndk+U1v6R1lK6zel1anOAllHs+1Z2dbZsVX3bW21ssZzedvJim1qdZ85o7odk82eswFYozacGyp7nHXqMai6vw89d79Y8fnMqfvKrOq+b2s6M8eUmtInbWI6kVhUVKTbb7/
dsiTili1blJKSopMnTyoyMlILFixQhw4dSq07adIkTZgwwZLlwkbp6dKOHWXPHzvWd0D7q29GVJQ17TjNmfXyeKQDB0rOP3eb1nQV7TM1tX+UxV+/
Ke811UVF1rEi7VfmtWXFVt22dbD4G89nbycrtmmw+4xUvY7JZs/
ZACqnNpwbrDzOOvEYVF3fh5a3X6z4fObEfWVWdd23NV1Fjyk1oU/axHQicejQoZo7d65+//
vfWxJA27ZtlZWVpfz8fM2fP19Dhw5VRkZGqcnEtLQ0paameqfdbreSk5MtiQNV6Mw3OCEhUmLi/8pzcn4Z/
Od+w1NWfbPOfOtQE02c+MuBsLQrdkrbpjVdRfpMTe4fZSmr35SlOm4js+toRmW3R3mxVcdtHSzljedzt5MV2zSYfaY6HpPNnrMBVE5tODdYcZx18jGour4PLW2/
WPH5zMn7yqzqum9rOrPHlJrUJ23iMgzDMPOC0aNH67333lOXLl3UuXPnEj+28uqrr1YqoL59+
+qCCy7QtGnT/NZ1u92KiYlRfn6+oqOjK7VcVKGkpF++KWjWTNq/
v+Ll8K+2brvaut5AdVYbzgHVcV1qw36BM5npY1b0R/p09eLk/
eXk2Myy4hxQG7YHqhf2Y6nM5NdMX5G4ZcsWdevWTZK0detWn3ln//BKRXk8Hp/
nIAIAAAAAAACwn+lE4vLlyy1beFpamgYMGKDmzZuroKBAH3zwgVasWKElS5ZYtgwAAAAAAAAAlWc6kWilvLw83XPPPcrJyVFMTIw6d+6sJUuW6Fe/
+pWdYQEAAAAAAAA4h+lE4rXXXlvuLcxffvllwG298847ZhcPAAAAAAAAwAamE4ldu3b1mT516pSysrK0detWDR061Kq4AAAAAAAAADiI6UTiH//4x1LLx48fr6NHj1Y6IAAAAAAAAADOE2JVQ3fddZfeffddq5oDAAAAAAAA4CCWJRLXrFmjiIgIq5oDAAAAAAAA4CCmb22+5ZZbfKYNw1BOTo42bNigsWPHWhYYAAAAAAAAAOcwnUiMiYnxmQ4JCVHbtm31hz/8Qf369bMsMAAAAAAAAADOYTqROHPmzGDEAQAAAAAAAMDBTCcSzygqKlJeXp48Ho9PefPmzSsdFAAAAAAAAABnMZ1I/
O677zRixAitXr3ap9wwDLlcLhUXF1sWHAAAAAAAAABnMJ1IHD58uEJDQ/
Xpp58qMTFRLpcrGHEBAAAAAAAAcBDTicSsrCxlZmaqXbt2wYgHAAAAAAAAgAOFmH1Bhw4ddOjQoWDEAgAAAAAAAMChTCcSX3zxRT355JNasWKFfvrpJ7ndbp8/
AAAAAAAAADWP6Vub+/btK0nq06ePTzk/
tgIAAAAAAADUXKYTicuXLw9GHAAAAAAAAAAczHQi8eqrrw5GHAAAAAAAAAAczPQzEgEAAAAAAADUPiQSAQAAAAAAAPhFIhEAAAAAAACAXyQSAQAAAAAAAPhlOpHYu3dvHTlypES52+1W7969rYgJAAAAAAAAgMOYTiSuWLFCRUVFJcpPnjypr776ypKgAAAAAAAAADhLaKAVN2/
e7P3/
tm3blJub650uLi7W4sWL1axZM2ujAwAAAAAAAOAIAScSu3btKpfLJZfLVeotzPXq1dPrr79uaXAAAAAAAAAAnCHgRGJ2drYMw9D555+vr7/
+WnFxcd55YWFhio+PV506dYISJAAAAAAAAAB7BZxIbNGihSTJ4/
EELRgAAAAAAAAAzhRwIvFsu3bt0vLly5WXl1cisZienm5JYAAAAAAAAACcw3QiccaMGRo5cqQaN26shIQEuVwu7zyXy0UiEQAAAAAAAKiBTCcSn3vuOT3//
PN66qmnKr3wSZMm6e9//7t27NihevXq6bLLLtOLL76otm3bVrptAAAAAAAAANYJMfuCw4cPa8iQIZYsPCMjQ6NGjdLatWu1bNkynTp1Sv369dOxY8csaR8AAAAAAACANUxfkThkyBAtXbpUDz74YKUXvnjxYp/
pWbNmKT4+XpmZmbrqqqsq3T4AAAAAAAAAa5hOJLZu3Vpjx47V2rVr1alTJ9WtW9dn/
ujRoyscTH5+viTpvPPOK3V+YWGhCgsLvdNut7vCy6ox5s2T0tOlgoLA6kdFSRMnSoMHBzeuysjJkZKSfKcBM32dPgNUX7XhHHDuOpalKs/
ZZR1j/W1/J64L7Gf2/
WlpKjL26Y+1T6D7vCrVhvNWMMdnWcyMWyuOQaWpifu2NuOcUWEuwzAMMy9o1apV2Y25XPr3v/9doUA8Ho9uvPFGHTlyRKtWrSq1zvjx4zVhwoQS5fn5+YqOjq7Qcqu99u2lHTvMvaZdO2n79uDEE4ikJOnAAalZM2n//
v+V+1sXu+Oujsra1tVRdezrAAJXG84BTj6Omd3+Tl4X2K8i/aMsgfQbK/
pjTXrPVBtY2ceCpSYc86w4N1f18cDqZVYmDjgT72FK5Xa7FRMTE1B+zfQVidnZ2RUOrDyjRo3S1q1by0wiSlJaWppSU1O90263W8nJyUGJp9o48y1LSIiUmFh+3ZwcyeOx/
psZq0ycKI0dW3p8Z74FQO1lpq9L9BmguqkN54Dy1vFcVX3OLu8YW9r2d/
K6wH5mz9llCXTs0x9rHzP73A614bwVjPFZFrPj1qpjUGlqyr6tzThnVJrpKxLPKCoqUnZ2ti644AKFhprOR/
p46KGH9PHHH2vlypXlXvF4LjMZ0xrLzLenTvmm1Slx1AY1aVvXpHUBAH+q+pgXzOVx/
K59nLzPy4rNyTEDtZ3Z8cl4hlVqUV8yk18z/avNx48f14gRI1S/
fn1ddNFF2rt3ryTp4Ycf1uTJk021ZRiGHnroIS1YsEBffvmlqSQiAAAAAAAAgKpjOpGYlpamTZs2acWKFYqIiPCW9+3bV3PnzjXV1qhRo/
T+++/
rgw8+UFRUlHJzc5Wbm6sTJ06YDQsAAAAAAABAEJm+J3nhwoWaO3euLr30UrlcLm/5RRddpO+//95UW2+99ZYk6ZprrvEpnzlzpoYNG2Y2NAAAAAAAAABBYjqR+OOPPyo+Pr5E+bFjx3wSi4Go4OMZAQAAAAAAAFQx07c29+jRQ5999pl3+kzy8C9/
+YtSUlKsiwwAAAAAAACAY5i+IvGFF17QgAEDtG3bNp0+fVqvvfaatm3bptWrVysjIyMYMQIAAAAAAACwmekrEq+44gplZWXp9OnT6tSpk5YuXar4+HitWbNG3bt3D0aMAAAAAAAAAGxm+opESbrgggs0Y8YMq2MBAAAAAAAA4FCmE4lut7vUcpfLpfDwcIWFhVU6KAAAAAAAAADOYjqRGBsbW+6vMyclJWnYsGEaN26cQkJM3zkNAAAAAAAAwIFMJxJnzZqlZ555RsOGDVPPnj0lSV9//
bVmz56tZ599Vj/++KOmTJmi8PBw/
f73v7c8YAAAAAAAAABVz3Qicfbs2XrllVd02223ecsGDhyoTp06adq0afriiy/
UvHlzPf/88yQSAQAAAAAAgBrC9L3Hq1evVrdu3UqUd+vWTWvWrJH0yy877927t/
LRAQAAAAAAAHAE04nE5ORkvfPOOyXK33nnHSUnJ0uSfvrpJzVs2LDy0QEAAAAAAABwBNO3Nk+ZMkVDhgzRokWLdMkll0iSNmzYoB07dmj+/
PmSpPXr1+v222+3NlIAAAAAAAAAtjGdSLzxxhu1c+dOTZs2TTt37pQkDRgwQAsXLlTLli0lSSNHjrQ0SAAAAAAAAAD2Mp1IlKSWLVtq0qRJJcq3bt2qjh07VjooAAAAAAAAAM5i+hmJ5yooKND06dPVs2dPdenSxYqYAAAAAAAAADhMhROJK1eu1NChQ5WYmKgpU6aod+/
eWrt2rZWxAQAAAAAAAHAIU7c25+bmatasWXrnnXfkdrt12223qbCwUAsXLlSHDh2CFSMAAAAAAAAAmwV8ReLAgQPVtm1bbd68WVOnTtUPP/
yg119/
PZixAQAAAAAAAHCIgK9IXLRokUaPHq2RI0eqTZs2wYwJAAAAAAAAgMMEfEXiqlWrVFBQoO7du6tXr1564403dOjQoWDGBgAAAAAAAMAhAk4kXnrppZoxY4ZycnL0f//3f5ozZ46aNm0qj8ejZcuWqaCgIJhxAgAAAAAAALCR6V9tbtCgge69916tWrVKW7Zs0WOPPabJkycrPj5eN954YzBiBAAAAAAAAGAz04nEs7Vt21YvvfSS9u/
frw8//NCqmAAAAAAAAAA4TKUSiWfUqVNHgwYN0j/
+8Q8rmgMAAAAAAADgMJYkEgEAAAAAAADUbCQSAQAAAAAAAPhFIhEAAAAAAACAXyQSAQAAAAAAAPhFIhEAAAAAAACAX7YmEleuXKmBAweqadOmcrlcWrhwoZ3hAAAAAAAAACiDrYnEY8eOqUuXLnrzzTftDAMAAAAAAACAH6F2LnzAgAEaMGCAnSEAAAAAAAAACICtiUSzCgsLVVhY6J12u902RlON5eRISUkVf31UlDRxojR48P/
K5s2T0tOlgoLAlg97mdlfUun7PFjKio1+A6A2Ku2cHegxuSadm82et8xywnmuLGZiC+Z2MvP+z+n9SSo5tqpDzEBtF+jnWMYzrHZ230tIkDZssDcem7kMwzDsDkKSXC6XFixYoEGDBpVZZ/
z48ZowYUKJ8vz8fEVHRwcxOgdLSpIOHJCaNZP27y+/bvv20o4d1iy3XTtp+/
bKtX1uG7BeWf3DyfvLX2z0GwC1gRXHQqcc6828VymLle9hyuKU81xpAo0t2NvJ7Ps/
J56zq2PMQG1X0WMb4xmVVVrfq8z7GQdzu92KiYkJKL9Wra5ITEtLU2pqqnfa7XYrOTnZxoiqmYkTpbFjK/
ctdU6O5PGUbOPMdEiIlJjov50z32rDHmb2V1n7PFjKi41+A6C2KOucbeaYXJPOzWbXxQwnnefOZTa2YG2nirz/
c2p/Ku/9sFNjBmq7inyOZTzDCqX1vYQE++JxiGqVSAwPD1d4eLjdYVRfgwdX/
padM1cVlCUxsUZm52usQPaXv30eLPQlALVZWefsihyTa9LxNBjr4uTzXEVjs3o71aT3f1a8HwZQtRi3sAt9r1S2/
mozAAAAAAAAgOrB1isSjx49qt27d3uns7OzlZWVpfPOO0/
Nmze3MTIAAAAAAAAAZ7M1kbhhwwZde+213ukzzz8cOnSoZs2aZVNUAAAAAAAAAM5layLxmmuukUN+NBoAAAAAAABAOXhGIgAAAAAAAAC/
SCQCAAAAAAAA8ItEIgAAAAAAAAC/SCQCAAAAAAAA8ItEIgAAAAAAAAC/
SCQCAAAAAAAA8ItEIgAAAAAAAAC/SCQCAAAAAAAA8ItEIgAAAAAAAAC/
SCQCAAAAAAAA8ItEIgAAAAAAAAC/SCQCAAAAAAAA8ItEIgAAAAAAAAC/
SCQCAAAAAAAA8ItEIgAAAAAAAAC/SCQCAAAAAAAA8ItEIgAAAAAAAAC/
SCQCAAAAAAAA8ItEIgAAAAAAAAC/SCQCAAAAAAAA8ItEIgAAAAAAAAC/
SCQCAAAAAAAA8ItEIgAAAAAAAAC/SCQCAAAAAAAA8ItEIgAAAAAAAAC/
SCQCAAAAAAAA8ItEIgAAAAAAAAC/
SCQCAAAAAAAA8MsRicQ333xTLVu2VEREhHr16qWvv/7a7pAAAAAAAAAAnMX2ROLcuXOVmpqqcePGaePGjerSpYv69+
+vvLw8u0MDAAAAAAAA8F+hdgfw6quv6v7779fw4cMlSW+//bY++
+wzvfvuu3r66ad96hYWFqqwsNA7nZ+fL0lyu91VF3BVu/pq6eDBsufn5v7yr8cjVcV28Hh+
+feHH6SmTe2LA4GxYn+V1Uaw0JcAoGxmjslOOZ5acR4J5ro4+TxnNrZgbSfe/
wEAUKOdyasZhuG3rssIpFaQFBUVqX79+po/f74GDRrkLR86dKiOHDmijz/+2Kf+
+PHjNWHChCqOEgAAAAAAAKjZ9u3bp6SkpHLr2HpF4qFDh1RcXKwmTZr4lDdp0kQ7duwoUT8tLU2pqaneaY/
Ho59//
lmNGjWSy+UKerx2cLvdSk5O1r59+xQdHW13OAAswtgGai7GN1AzMbaBmovxjdrOMAwVFBSoaQB3QNh+a7MZ4eHhCg8P9ymLjY21J5gqFh0dzQENqIEY20DNxfgGaibGNlBzMb5Rm8XExARUz9YfW2ncuLHq1Kmjg+c8A/
DgwYNKSEiwKSoAAAAAAAAA57I1kRgWFqbu3bvriy+
+8JZ5PB598cUXSklJsTEyAAAAAAAAAGez/
dbm1NRUDR06VD169FDPnj01depUHTt2zPsrzrVdeHi4xo0bV+KWbgDVG2MbqLkY30DNxNgGai7GNxA4W3+1+Yw33nhDL7/8snJzc9W1a1f96U9/
Uq9evewOCwAAAAAAAMB/
OSKRCAAAAAAAAMDZbH1GIgAAAAAAAIDqgUQiAAAAAAAAAL9IJAIAAAAAAADwi0QiAAAAAAAAAL9IJDrYm2+
+qZYtWyoiIkK9evXS119/
bXdIAM6ycuVKDRw4UE2bNpXL5dLChQt95huGofT0dCUmJqpevXrq27evdu3a5VPn559/1p133qno6GjFxsZqxIgROnr0qE+dzZs368orr1RERISSk5P10ksvBXvVgFpt0qRJuuSSSxQVFaX4+HgNGjRIO3fu9Klz8uRJjRo1So0aNVJkZKRuvfVWHTx40KfO3r17df3116t+/
fqKj4/XE088odOnT/vUWbFihS6+
+GKFh4erdevWmjVrVrBXD6jV3nrrLXXu3FnR0dGKjo5WSkqKFi1a5J3P2AZqhsmTJ8vlcmnMmDHeMsY3YA0SiQ41d+5cpaamaty4cdq4caO6dOmi/
v37Ky8vz+7QAPzXsWPH1KVLF7355pulzn/ppZf0pz/9SW+//bbWrVunBg0aqH///
jp58qS3zp133qlvv/1Wy5Yt06effqqVK1fqgQce8M53u93q16+fWrRooczMTL388ssaP368pk+fHvT1A2qrjIwMjRo1SmvXrtWyZct06tQp9evXT8eOHfPWefTRR/
XJJ59o3rx5ysjI0A8//
KBbbrnFO7+4uFjXX3+9ioqKtHr1as2ePVuzZs1Senq6t052drauv/56XXvttcrKytKYMWN03333acmSJVW6vkBtkpSUpMmTJyszM1MbNmxQ7969ddNNN+nbb7+VxNgGaoL169dr2rRp6ty5s0854xuwiAFH6tmzpzFq1CjvdHFxsdG0aVNj0qRJNkYFoCySjAULFninPR6PkZCQYLz88svesiNHjhjh4eHGhx9+aBiGYWzbts2QZKxfv95bZ9GiRYbL5TIOHDhgGIZh/
PnPfzYaNmxoFBYWeus89dRTRtu2bYO8RgDOyMvLMyQZGRkZhmH8Mpbr1q1rzJs3z1tn+/
bthiRjzZo1hmEYxj//
+U8jJCTEyM3N9dZ56623jOjoaO94fvLJJ42LLrrIZ1m333670b9//2CvEoCzNGzY0PjLX/7C2AZqgIKCAqNNmzbGsmXLjKuvvtp45JFHDMPg3A1YiSsSHaioqEiZmZnq27evtywkJER9+/
bVmjVrbIwMQKCys7OVm5vrM45jYmLUq1cv7zhes2aNYmNj1aNHD2+dvn37KiQkROvWrfPWueqqqxQWFuat079/
f+3cuVOHDx+uorUBarf8/
HxJ0nnnnSdJyszM1KlTp3zGd7t27dS8eXOf8d2pUyc1adLEW6d///5yu93eK5/
WrFnj08aZOpzrgapRXFysOXPm6NixY0pJSWFsAzXAqFGjdP3115cYg4xvwDqhdgeAkg4dOqTi4mKfA5gkNWnSRDt27LApKgBm5ObmSlKp4/
jMvNzcXMXHx/vMDw0N1XnnnedTp1WrViXaODOvYcOGQYkfwC88Ho/GjBmjyy+/
XB07dpT0y9gLCwtTbGysT91zx3dp4//
MvPLquN1unThxQvXq1QvGKgG13pYtW5SSkqKTJ08qMjJSCxYsUIcOHZSVlcXYBqqxOXPmaOPGjVq/
fn2JeZy7AeuQSAQAACjDqFGjtHXrVq1atcruUABYpG3btsrKylJ+fr7mz5+voUOHKiMjw+6wAFTCvn379Mgjj2jZsmWKiIiwOxygRuPWZgdq3Lix6tSpU+IXpA4ePKiEhASbogJgxpmxWt44TkhIKPEDSqdPn9bPP//
sU6e0Ns5eBoDgeOihh/
Tpp59q+fLlSkpK8pYnJCSoqKhIR44c8al/7vj2N3bLqhMdHc0VDUAQhYWFqXXr1urevbsmTZqkLl266LXXXmNsA9VYZmam8vLydPHFFys0NFShoaHKyMjQn/70J4WGhqpJkyaMb8AiJBIdKCwsTN27d9cXX3zhLfN4PPriiy+UkpJiY2QAAtWqVSslJCT4jGO3261169Z5x3FKSoqOHDmizMxMb50vv/
xSHo9HvXr18tZZuXKlTp065a2zbNkytW3bltuagSAxDEMPPfSQFixYoC+//LLE4wW6d+
+uunXr+ozvnTt3au/
evT7je8uWLT5fFixbtkzR0dHq0KGDt87ZbZypw7keqFoej0eFhYWMbaAa69Onj7Zs2aKsrCzvX48ePXTnnXd6/8/4Bixi96+9oHRz5swxwsPDjVmzZhnbtm0zHnjgASM2NtbnF6QA2KugoMD45ptvjG+
+
+caQZLz66qvGN998Y+zZs8cwDMOYPHmyERsba3z88cfG5s2bjZtuuslo1aqVceLECW8b1113ndGtWzdj3bp1xqpVq4w2bdoYd9xxh3f+kSNHjCZNmhh33323sXXrVmPOnDlG/
fr1jWnTplX5+gK1xciRI42YmBhjxYoVRk5Ojvfv+PHj3joPPvig0bx5c+PLL780NmzYYKSkpBgpKSne+adPnzY6duxo9OvXz8jKyjIWL15sxMXFGWlpad46//73v4369esbTzzxhLF9+3bjzTffNOrUqWMsXry4StcXqE2efvppIyMjw8jOzjY2b95sPP3004bL5TKWLl1qGAZjG6hJzv7VZsNgfANWIZHoYK+//
rrRvHlzIywszOjZs6exdu1au0MCcJbly5cbkkr8DR061DAMw/
B4PMbYsWONJk2aGOHh4UafPn2MnTt3+rTx008/
GXfccYcRGRlpREdHG8OHDzcKCgp86mzatMm44oorjPDwcKNZs2bG5MmTq2oVgVqptHEtyZg5c6a3zokTJ4zf/
e53RsOGDY369esbN998s5GTk+PTzn/
+8x9jwIABRr169YzGjRsbjz32mHHq1CmfOsuXLze6du1qhIWFGeeff77PMgBY79577zVatGhhhIWFGXFxcUafPn28SUTDYGwDNcm5iUTGN2ANl2EYhj3XQgIAAAAAAACoLnhGIgAAAAAAAAC/
SCQCAAAAAAAA8ItEIgAAAAAAAAC/SCQCAAAAAAAA8ItEIgAAAAAAAAC/
SCQCAAAAAAAA8ItEIgAAAAAAAAC/
SCQCAAAAAAAA8ItEIgAAACpl2LBhGjRokN1hAAAAIMhC7Q4AAAAAzuVyucqdP27cOL322msyDKOKIgIAAIBdSCQCAACgTDk5Od7/
z507V+np6dq5c6e3LDIyUpGRkXaEBgAAgCrGrc0AAAAoU0JCgvcvJiZGLpfLpywyMrLErc3XXHONHn74YY0ZM0YNGzZUkyZNNGPGDB07dkzDhw9XVFSUWrdurUWLFvksa+vWrRowYIAiIyPVpEkT3X333Tp06FAVrzEAAADKQiIRAAAAlps9e7YaN26sr7/
+Wg8//LBGjhypIUOG6LLLLtPGjRvVr18/3X333Tp+/
Lgk6ciRI+rdu7e6deumDRs2aPHixTp48KBuu+02m9cEAAAAZ5BIBAAAgOW6dOmiZ599Vm3atFFaWpoiIiLUuHFj3X///
WrTpo3S09P1008/
afPmzZKkN954Q926ddMLL7ygdu3aqVu3bnr33Xe1fPlyfffddzavDQAAACSekQgAAIAg6Ny5s/
f/
derUUaNGjdSpUydvWZMmTSRJeXl5kqRNmzZp+fLlpT5v8fvvv9eFF14Y5IgBAADgD4lEAAAAWK5u3bo+0y6Xy6fszK9BezweSdLRo0c1cOBAvfjiiyXaSkxMDGKkAAAACBSJRAAAANju4osv1kcffaSWLVsqNJS3qAAAAE7EMxIBAABgu1GjRunnn3/
WHXfcofXr1+v777/XkiVLNHz4cBUXF9sdHgAAAEQiEQAAAA7QtGlT/
etf/1JxcbH69eunTp06acyYMYqNjVVICG9ZAQAAnMBlGIZhdxAAAAAAAAAAnI2vdwEAAAAAAAD4RSIRAAAAAAAAgF8kEgEAAAAAAAD4RSIRAAAAAAAAgF8kEgEAAAAAAAD4RSIRAAAAAAAAgF8kEgEAAAAAAAD4RSIRAAAAAAAAgF+2JhJbtmwpl8tV4m/
UqFF2hgUAAAAAAADgHKF2Lnz9+vUqLi72Tm/dulW/
+tWvNGTIEBujAgAAAAAAAHAul2EYht1BnDFmzBh9+umn2rVrl1wul93hAAAAAAAAAPgvW69IPFtRUZHef/99paamlplELCwsVGFhoXfa4/
Ho559/
VqNGjUg8AgAAAAAAACYZhqGCggI1bdpUISHlPwXRMYnEhQsX6siRIxo2bFiZdSZNmqQJEyZUXVAAAAAAAABALbBv3z4lJSWVW8cxtzb3799fYWFh+uSTT8qsc+4Vifn5+WrevLn27dun6OjoqggTAAAAAAAAqDHcbreSk5N15MgRxcTElFvXEVck7tmzR59//
rn+/ve/l1svPDxc4eHhJcqjo6NJJAIAAAAAAAAVFMhjA8u/8bmKzJw5U/Hx8br+
+uvtDgUAAAAAAABAKWxPJHo8Hs2cOVNDhw5VaKgjLpAEAAAAAAAAcA7bE4mff/659u7dq3vvvdfuUAAAAAAAAACUwfZLAPv16yeH/
N4LAAAAAABAteXxeFRUVGR3GHCYunXrqk6dOpa0ZXsiEQAAAAAAAJVTVFSk7OxseTweu0OBA8XGxiohISGgH1QpD4lEAAAAAACAaswwDOXk5KhOnTpKTk5WSIjtT7KDQxiGoePHjysvL0+SlJiYWKn2SCQCAAAAAABUY6dPn9bx48fVtGlT1a9f3+5w4DD16tWTJOXl5Sk+Pr5StzmTogYAAAAAAKjGiouLJUlhYWE2RwKnOpNgPnXqVKXaIZEIAAAAAABQA1T2+XeouazqGyQSAQAAAAAAAPhFIhEAAAAAAAA1zooVK+RyuXTkyBG7Q6kxSCQCAAAAAACgxrnsssuUk5OjmJgYu0OpMfjVZgAAAAAAANQ4YWFhSkhIsDuMGoUrEgEAAAAAAGCLxYsX64orrlBsbKwaNWqkG264Qd9//713/
urVq9W1a1dFRESoR48eWrhwoVwul7Kysvy2fe6tzbNmzVJsbKyWLFmi9u3bKzIyUtddd51ycnICirW4uFipqaneWJ988kkNHTpUgwYN8tZp2bKlpk6d6vO6rl27avz48d7pI0eO6L777lNcXJyio6PVu3dvbdq0yTt/2LBhPm1K0pgxY3TNNdd4pz0ejyZNmqRWrVqpXr166tKli+bPnx/
QelQGVyQCAAAAAADUMD16SLm5Vb/
chARpw4bA6x87dkypqanq3Lmzjh49qvT0dN18883KysrS0aNHNXDgQP3617/
WBx98oD179mjMmDGViu/48eOaMmWK/vrXvyokJER33XWXHn/8cf3tb3/
z+9pXXnlFs2bN0rvvvqv27dvrlVde0YIFC9S7d29TMQwZMkT16tXTokWLFBMTo2nTpqlPnz767rvvdN555wXUxqRJk/
T+++/
r7bffVps2bbRy5UrdddddiouL09VXX20qHjNIJAIAAAAAANQwubnSgQN2R+Hfrbfe6jP97rvvKi4uTtu2bdOqVavkcrk0Y8YMRUREqEOHDjpw4IDuv//
+Ci/v1KlTevvtt3XBBRdIkh566CH94Q9/
COi1U6dOVVpamm655RZJ0ttvv60lS5aYWv6qVav09ddfKy8vT+Hh4ZKkKVOmaOHChZo/
f74eeOABv20UFhbqhRde0Oeff66UlBRJ0vnnn69Vq1Zp2rRpJBIBAAAAAAAQOLseDWh2ubt27VJ6errWrVunQ4cOyePxSJL27t2rnTt3qnPnzoqIiPDW79mzZ6Xiq1+/
vjeJKEmJiYnKy8vz+7r8/
Hzl5OSoV69e3rLQ0FD16NFDhmEEvPxNmzbp6NGjatSokU/5iRMnfG7pLs/u3bt1/Phx/
epXv/
IpLyoqUrdu3QKOpSJIJAIAAAAAANQwZm4vttPAgQPVokULzZgxQ02bNpXH41HHjh1VVFQUlOXVrVvXZ9rlcplKBPoTEhJSor1Tp055/3/06FElJiZqxYoVJV4bGxsbcBuS9Nlnn6lZs2Y+9c5c5RgsJBIBAAAAAABQ5X766Sft3LlTM2bM0JVXXinpl1t/
z2jbtq3ef/99FRYWehNk69evtyXWmJgYJSYmat26dbrqqqskSadPn1ZmZqYuvvhib724uDifH29xu93Kzs72Tl988cXKzc1VaGioWrZsWeqy4uLitHXrVp+yrKwsbxK0Q4cOCg8P1969e4N6G3Np+NVmAAAAAAAAVLmGDRuqUaNGmj59unbv3q0vv/
xSqamp3vm//
e1v5fF49MADD2j79u1asmSJpkyZIumXKwmr2iOPPKLJkydr4cKF2rFjh373u995fxH6jN69e+uvf/2rvvrqK23ZskVDhw5VnTp1vPP79u2rlJQUDRo0SEuXLtV//
vMfrV69Ws8884w2/
Pcy0t69e2vDhg167733tGvXLo0bN84nsRgVFaXHH39cjz76qGbPnq3vv/9eGzdu1Ouvv67Zs2cHdRuQSAQAAAAAAECVCwkJ0Zw5c5SZmamOHTvq0Ucf1csvv+ydHx0drU8+
+URZWVnq2rWrnnnmGaWnp0uSz3MTq8pjjz2mu++
+W0OHDlVKSoqioqJ08803+9RJS0vT1VdfrRtuuEHXX3+9Bg0a5PNMRpfLpX/
+85+66qqrNHz4cF144YX6zW9+oz179qhJkyaSpP79+2vs2LF68skndckll6igoED33HOPz3ImTpyosWPHatKkSWrfvr2uu+46ffbZZ2rVqlVQt4HLsPJG8CrmdrsVExOj/
Px8RUdH2x0OAAAAAABAlTt58qSys7PVqlUrWxJsVelvf/ubhg8frvz8fNWrV8/
ucDRs2DAdOXJECxcutDuUcpXXR8zk13hGIgAAAAAAABzpvffe0/
nnn69mzZpp06ZNeuqpp3Tbbbc5IolYG3FrMwAAAAAAABwpNzdXd911l9q3b69HH31UQ4YM0fTp0yVJDz74oCIjI0v9e/
DBB00vq6y2IiMj9dVXX1m9atUStzYDAAAAAABUY7Xp1uaz5eXlye12lzovOjpa8fHxptrbvXt3mfOaNWtWra+C5NZmAAAAAAAA1Frx8fGmk4Xlad26tWVt1VTc2gwAAAAAAFADVOObThFkVvUNEokAAAAAAADVWJ06dSRJRUVFNkcCpzp+/
LgkqW7dupVqh1ubAQAAAAAAqrHQ0FDVr19fP/74o+rWrauQEK4bwy8Mw9Dx48eVl5en2NhYb9K5okgkAgAAAAAAVGMul0uJiYnKzs7Wnj177A4HDhQbG6uEhIRKt0MiEQAAAAAAoJoLCwtTmzZtuL0ZJdStW7fSVyKeQSIRAAAAAACgBggJCVFERITdYaAGs/2m+QMHDuiuu+5So0aNVK9ePXXq1EkbNmywOywAAAAAAAAAZ7H1isTDhw/
r8ssv17XXXqtFixYpLi5Ou3btUsOGDe0MCwAAAAAAAMA5bE0kvvjii0pOTtbMmTO9Za1atbIxIgAAAAAAAAClsfXW5n/84x/
q0aOHhgwZovj4eHXr1k0zZswos35hYaHcbrfPHwAAAAAAAIDgszWR+O9//1tvvfWW2rRpoyVLlmjkyJEaPXq0Zs+eXWr9SZMmKSYmxvuXnJxcxREDAAAAAAAAtZPLMAzDroWHhYWpR48eWr16tbds9OjRWr9+vdasWVOifmFhoQoLC73TbrdbycnJys/
PV3R0dJXEDAAAAAAAANQUbrdbMTExAeXXbL0iMTExUR06dPApa9++vfbu3Vtq/fDwcEVHR/
v8AQAAAAAAAAg+WxOJl19+uXbu3OlT9t1336lFixY2RQQAAAAAAACgNLYmEh999FGtXbtWL7zwgnbv3q0PPvhA06dP16hRo+wMCwAAAAAAAMA5bE0kXnLJJVqwYIE+/
PBDdezYURMnTtTUqVN155132hkWAAAAAAAAgHPY+mMrlWXmYZAAAAAAAAAAfFWbH1sBAAAAAAAAUD2QSAQAAAAAAADgF4lEAAAAAAAAAH6RSAQAAAAAAADgF4lEAAAAAAAAAH6RSAQAAAAAAADgF4lEAAAAAAAAAH6RSAQAAAAAAADgF4lEAAAAAAAAAH6RSAQAAAAAAADgV4USid9//72effZZ3XHHHcrLy5MkLVq0SN9+
+62lwQEAAAAAAABwBtOJxIyMDHXq1Enr1q3T3//
+dx09elSStGnTJo0bN87yAAEAAAAAAADYz3Qi8emnn9Zzzz2nZcuWKSwszFveu3dvrV271tLgAAAAAAAAADiD6UTili1bdPPNN5coj4+P16FDhywJCgAAAAAAAICzmE4kxsbGKicnp0T5N998o2bNmlkSFAAAAAAAAABnMZ1I/
M1vfqOnnnpKubm5crlc8ng8+te//
qXHH39c99xzTzBiBAAAAAAAAGAz04nEF154Qe3atVNycrKOHj2qDh066KqrrtJll12mZ599NhgxAgAAAAAAALCZyzAMoyIv3Lt3r7Zu3aqjR4+qW7duatOmjdWx+eV2uxUTE6P8/
HxFR0dX+fIBAAAAAACA6sxMfi20ogtp3ry5mjdvXtGXAwAAAAAAAKhGTCcS77333nLnv/
vuuxUOBgAAAAAAAIAzmU4kHj582Gf61KlT2rp1q44cOaLevXtbFhgAAAAAAAAA5zCdSFywYEGJMo/
Ho5EjR+qCCy6wJCgAAAAAAAAAzmL6V5tLbSQkRKmpqfrjH/9oRXMAAAAAAAAAHMaSRKIkff/99zp9+rRVzQEAAAAAAABwENO3NqempvpMG4ahnJwcffbZZxo6dKhlgQEAAAAAAABwDtOJxG+
++cZnOiQkRHFxcXrllVf8/
qIzAAAAAAAAgOrJdCJx+fLlwYgDAAAAAAAAgINV6BmJp0+f1ueff65p06apoKBAkvTDDz/
o6NGjlgYHAAAAAAAAwBlMJxL37NmjTp066aabbtKoUaP0448/
SpJefPFFPf7446baGj9+vFwul89fu3btzIYEAAAAAAAAIMhMJxIfeeQR9ejRQ4cPH1a9evW85TfffLO+
+OIL0wFcdNFFysnJ8f6tWrXKdBsAAAAAAAAAgsv0MxK/
+uorrV69WmFhYT7lLVu21IEDB8wHEBqqhISEgOoWFhaqsLDQO+12u00vDwDsNm+elJ4u/
ffJEH5FRUkTJ0qDB1e8bTNtVLXytoeT43YCth0A1F6cA4DayexnCbOCdfyojp9TUDqXYRiGmRc0bNhQ//
rXv9ShQwdFRUVp06ZNOv/887Vq1SrdeuutOnjwYMBtjR8/Xi+//
LJiYmIUERGhlJQUTZo0Sc2bNy+z/
oQJE0qU5+fnKzo62sxqAIBt2reXduww95p27aTt2yvXdqBtVDV/28OpcTsB2w4Aai/
OAUDtVJHPEmYF4/hRHT+n1CZut1sxMTEB5ddMX5HYr18/
TZ06VdOnT5ckuVwuHT16VOPGjdOvf/1rU2316tVLs2bNUtu2bZWTk6MJEyboyiuv1NatWxUVFVWiflpamlJTU73TbrdbycnJZlcBAGx15lu4kBApMbH8ujk5kscT+DeOpbVtto2qVtb2cHrcTsC2A4Dai3MAUDuZ+SxhVjCPH9XxcwpKZzqR+Morr6h///7q0KGDTp48qd/
+9rfatWuXGjdurA8//NBUWwMGDPD+v3PnzurVq5datGih//f//
p9GjBhRon54eLjCw8PNhgwAjpSYKO3fX36dpCSpAk+N8Gm7om1UtXO3R3WJ2wnYdgBQe3EOAGqnQD5LmFUVx4/
q+DkFvkwnEpOSkrRp0ybNmTNHmzdv1tGjRzVixAjdeeedPj+
+UhGxsbG68MILtXv37kq1AwAAAAAAAMBaphOJ0i8/kHLXXXdZHYuOHj2q77//
XnfffbflbQMAAAAAAACoONOJxPfee6/c+ffcc0/AbT3++OMaOHCgWrRooR9+
+EHjxo1TnTp1dMcdd5gNCwAAAAAAAEAQmU4kPvLIIz7Tp06d0vHjxxUWFqb69eubSiTu379fd9xxh3766SfFxcXpiiuu0Nq1axUXF2c2LAAAAAAAAABBZDqRePjw4RJlu3bt0siRI/
XEE0+YamvOnDlmFw8AAAAAAADABiFWNNKmTRtNnjy5xNWKAAAAAAAAAGoGSxKJ0i8/
wPLDDz9Y1RwAAAAAAAAABzF9a/M//
vEPn2nDMJSTk6M33nhDl19+uWWBAQAAAAAAAHAO04nEQYMG+Uy7XC7FxcWpd+/
eeuWVV6yKCwAAAAAAAICDmE4kejyeYMQBAAAAAAAAwMEse0YiAAAAAAAAgJrL9BWJqampAdd99dVXzTYPAAAAAAAAwIFMJxK/
+eYbffPNNzp16pTatm0rSfruu+9Up04dXXzxxd56LpfLuigBAAAAAAAA2Mp0InHgwIGKiorS7Nmz1bBhQ0nS4cOHNXz4cF155ZV67LHHLA8SAAAAAAAAgL1MPyPxlVde0aRJk7xJRElq2LChnnvuOX61GQAAAAAAAKihTCcS3W63fvzxxxLlP/74owoKCiwJCgAAAAAAAICzmE4k3nzzzRo+fLj+/
ve/a//+/dq/f78++ugjjRgxQrfcckswYgQAAAAAAABgM9PPSHz77bf1+OOP67e//
a1OnTr1SyOhoRoxYoRefvllywMEAAAAAAAAYD/TicT69evrz3/+s15+
+WV9//33kqQLLrhADRo0sDw4AAAAAAAAAM5gOpF4RoMGDdS5c2crYwEAAAAAAADgUKafkQgAAAAAAACg9iGRCAAAAAAAAMAvEokAAAAAAAAA/
CKRCAAAAAAAAMCvCv3Yyq5du7R8+XLl5eXJ4/
H4zEtPT7ckMAAAAAAAAADOYTqROGPGDI0cOVKNGzdWQkKCXC6Xd57L5SKRCAAAAAAAANRAphOJzz33nJ5//
nk99dRTwYgHAAAAAAAAgAOZfkbi4cOHNWTIkGDEAgAAAAAAAMChTCcShwwZoqVLlwYjFgAAAAAAAAAOZfrW5tatW2vs2LFau3atOnXqpLp16/
rMHz16tGXBAQAAAAAAAHAG04nE6dOnKzIyUhkZGcrIyPCZ53K5SCQCAAAAAAAANZDpRGJ2dnYw4gAAAAAAAADgYKafkQgAAAAAAACg9gnoisTU1FRNnDhRDRo0UGpqarl1X3311QoFMnnyZKWlpemRRx7R1KlTK9QGAAAAAAAAgOAIKJH4zTff6NSpU97/
l8XlclUoiPXr12vatGnq3LlzhV4PAAAAAAAAILgCSiQuX7681P9b4ejRo7rzzjs1Y8YMPffcc+XWLSwsVGFhoXfa7XZbGgtql3nzpPR0qaAg8NdERUkTJ0qDB1fdMgNV2dhgvbL2d06O+bZycqSkpMDqmWkjWP3GTF/3tz3Ojbu29vXStqnZbVcWM9u0Oh7HzMZcW/
sYgNonmMf08nCc/Z/
qeF6F9ax872yFQD43mO27Zj+nmEFfr1ouwzAMOwMYOnSozjvvPP3xj3/UNddco65du5Z5a/
P48eM1YcKEEuX5+fmKjo4OcqSoadq3l3bsMP+6du2k7durdpmBqkxssJ6//R3I/
rKin1oRh1kVifvcOMprozb2dTPbw4rtX5E4rODU/
ggATpOUJB04IDVrJu3f77+8NME+ppeH4+wvquN5FdZzynsVM58bquJzSkXbhXlut1sxMTEB5ddM/2qzlebMmaONGzdq/
fr1AdVPS0vzeUaj2+1WcnJysMJDDXfmm5OQECkx0X/9nBzJ46nct4VmlxkoK2KD9crb32e+NfNn4kRp7NiKXTnrr41g9huzfb207VFa3LW5r5e1TQPddmUxu02r43HMTMy1uY8BqH2CdUwvD8dZX9XxvArrWfHe2QpmPjdUpO8G+jnFDPp61bMtkbhv3z498sgjWrZsmSIiIgJ6TXh4uMLDw4McGWqbxET/39ZK//
t2tyqXGSgrY4P1KrO/Bw+u/
CX6ZbVRFf3G6nWnrwe2Tc30m4pu0+p4HAskZvoYgNrI6mN6eTjOlq46nldhvaoci6WpyOcGuz/
r0Nernm2JxMzMTOXl5eniiy/2lhUXF2vlypV64403VFhYqDp16tgVHgAAAAAAAICzhJipfOrUKd17773Kzs6u9IL79OmjLVu2KCsry/
vXo0cP3XnnncrKyiKJCAAAAAAAADiIqSsS69atq48+
+khjx46t9IKjoqLUsWNHn7IGDRqoUaNGJcoBAAAAAAAA2MvUFYmSNGjQIC1cuDAIoQAAAAAAAABwKtPPSGzTpo3+8Ic/6F//
+pe6d+
+uBg0a+MwfPXp0hYNZsWJFhV8LAAAAAAAAIHhMJxLfeecdxcbGKjMzU5mZmT7zXC5XpRKJAAAAAAAAAJzJdCLRih9aAQAAAAAAAFC9mH5G4hlFRUXauXOnTp8+bWU8AAAAAAAAABzIdCLx+PHjGjFihOrXr6+LLrpIe/
fulSQ9/
PDDmjx5suUBAgAAAAAAALCf6URiWlqaNm3apBUrVigiIsJb3rdvX82dO9fS4AAAAAAAAAA4g+lnJC5cuFBz587VpZdeKpfL5S2/6KKL9P3331saHAAAAAAAAABnMH1F4o8//
qj4+PgS5ceOHfNJLAIAAAAAAACoOUwnEnv06KHPPvvMO30mefiXv/
xFKSkp1kUGAAAAAAAAwDFM39r8wgsvaMCAAdq2bZtOnz6t1157Tdu2bdPq1auVkZERjBgBAAAAAAAA2Mz0FYlXXHGFsrKydPr0aXXq1ElLly5VfHy81qxZo+7duwcjRgAAAAAAAAA2M31FoiRdcMEFmjFjhtWxAAAAAAAAAHCoCiUSi4uLtWDBAm3fvl2S1KFDB910000KDa1QcwAAAAAAAAAcznTm79tvv9WNN96o3NxctW3bVpL04osvKi4uTp988ok6duxoeZAAAAAAAAAA7GX6GYn33XefLrroIu3fv18bN27Uxo0btW/
fPnXu3FkPPPBAMGIEAAAAAAAAYDPTVyRmZWVpw4YNatiwobesYcOGev7553XJJZdYGhwAAAAAAAAAZzB9ReKFF16ogwcPlijPy8tT69atLQkKAAAAAAAAgLMElEh0u93ev0mTJmn06NGaP3+
+9u/fr/3792v+/
PkaM2aMXnzxxWDHCwAAAAAAAMAGAd3aHBsbK5fL5Z02DEO33Xabt8wwDEnSwIEDVVxcHIQwAQAAAAAAANgpoETi8uXLgx0HAAAAAAAAAAcLKJF49dVXBzsOAAAAAAAAAA5m+lebJenkyZPavHmz8vLy5PF4fObdeOONlgQGAAAAAAAAwDlMJxIXL16se+65R4cOHSoxz+Vy8YxEAAAAAAAAoAYK6Febz/
bwww9ryJAhysnJkcfj8fkjiQgAAAAAAADUTKYTiQcPHlRqaqqaNGkSjHgAAAAAAAAAOJDpROLgwYO1YsWKIIQCAAAAAAAAwKlMPyPxjTfe0JAhQ/
TVV1+pU6dOqlu3rs/80aNHWxYcAAAAAAAAAGcwnUj88MMPtXTpUkVERGjFihVyuVzeeS6Xi0QiAAAAAAAAUAOZvrX5mWee0YQJE5Sfn6///
Oc/ys7O9v79+9//NtXWW2+9pc6dOys6OlrR0dFKSUnRokWLzIYEAAAAAAAAIMhMJxKLiop0+
+23KyTE9EtLSEpK0uTJk5WZmakNGzaod+/euummm/
Ttt99Wum0AAAAAAAAA1jGdDRw6dKjmzp1rycIHDhyoX//612rTpo0uvPBCPf/884qMjNTatWstaR8AAAAAAACANUw/
I7G4uFgvvfSSlixZos6dO5f4sZVXX321QoEUFxdr3rx5OnbsmFJSUkqtU1hYqMLCQu+02+2u0LJQ+8ybJ6WnSwUF/
yvLyalYWzk5UlJSxV8L5ymtf1ihJu1vs9so2OtuZhxGRUkTJ0qDB1u3fKv6TGmxldW2U7apU/
p1WdspGPsbQNUze5yt7NgP1nuBigj03ODveBzIcd0px3QEj93vmWozM8eV6jIWz+5P1SVmWM90InHLli3q1q2bJGnr1q0+887+4RUz7aWkpOjkyZOKjIzUggUL1KFDh1LrTpo0SRMmTDC9DCA9Xdqxo/
R5UVGBtXGmnscjHThQuXgCXSaqRnn9wwo1YX9XdBtZve4VHYdjx1r7ptjKPnNubP7adso2tbtfl7edrN7fAKpeRY6zlRn7wX4vYJaZc8O5x+OKHNftPqbDek55z1SbVeS44tSxWF5/
cmrMCB7TicTly5dbGkDbtm2VlZWl/Px8zZ8/
X0OHDlVGRkapycS0tDSlpqZ6p91ut5KTky2NBzXTmW+BQkKkxMT/
lZ/51i0QEyf+cmK16gokOEdZ/cMKNWV/
V2QbBWPdzY7DnJxf3vBYfYWJFX2mrNjKa9sJ2zRYcZhV2nYK1v4GUPXMHGetGPvBfC9ghtlzQ2nHY7PHdScc02E9p7xnqs3MHlecPBbL6k9OjhnBYzqRaLWwsDC1bt1aktS9e3etX79er732mqZNm1aibnh4uMLDw6s6RNQgiYnS/
v0Ve+3gwXw7V9NVpn/UFnZvI7PjMCmp8lcQl6cy28NfbFW1rav7se3s7RTs/
Q2g6gVyLLRy7Nt9nrPi3FDdj+uwhtPeM9Vmdh9XrMBxBWcznUi89tpry72F+csvv6xUQB6Px+c5iAAAAAAAAADsZzqR2LVrV5/
pU6dOKSsrS1u3btXQoUNNtZWWlqYBAwaoefPmKigo0AcffKAVK1ZoyZIlZsMCAAAAAAAAEESmE4l//
OMfSy0fP368jh49aqqtvLw83XPPPcrJyVFMTIw6d+6sJUuW6Fe/
+pXZsAAAAAAAAAAEkWXPSLzrrrvUs2dPTZkyJeDXvPPOO1YtHgAAAAAAAEAQhVjV0Jo1axQREWFVcwAAAAAAAAAcxPQVibfccovPtGEYysnJ0YYNGzR27FjLAgMAAAAAAADgHKYTiTExMT7TISEhatu2rf7whz+oX79+lgUGAAAAAAAAwDlMJxJnzpwZjDgAAAAAAAAAOFiFf2ylqKhIeXl58ng8PuXNmzevdFAAAAAAAAAAnMV0IvG7777TiBEjtHr1ap9ywzDkcrlUXFxsWXAAAAAAAAAAnMF0InH48OEKDQ3Vp59+qsTERLlcrmDEBQAAAAAAAMBBTCcSs7KylJmZqXbt2gUjHgAAAAAAAAAOFGL2BR06dNChQ4eCEQsAAAAAAAAAhzKdSHzxxRf15JNPasWKFfrpp5/
kdrt9/gAAAAAAAADUPKZvbe7bt68kqU+fPj7l/
NgKAAAAAAAAUHOZTiQuX748GHEAAAAAAAAAcDDTicSrr746GHEAAAAAAAAAcDDTz0gEAAAAAAAAUPuQSAQAAAAAAADgF4lEAAAAAAAAAH6RSAQAAAAAAADgl+lEYu/
evXXkyJES5W63W71797YiJgAAAAAAAAAOYzqRuGLFChUVFZUoP3nypL766itLggIAAAAAAADgLKGBVty8ebP3/9u2bVNubq53uri4WIsXL1azZs2sjQ4AAAAAAACAIwScSOzatatcLpdcLleptzDXq1dPr7/
+uqXBAQAAAAAAAHCGgBOJ2dnZMgxD559/vr7+
+mvFxcV554WFhSk+Pl516tQJSpAAAAAAAAAA7BVwIrFFixaSJI/
HE7RgAAAAAAAAADhTwInEs+3atUvLly9XXl5eicRienq6JYEBAAAAAAAAcA7TicQZM2Zo5MiRaty4sRISEuRyubzzXC4XiUQAAAAAAACgBjKdSHzuuef0/
PPP66mnngpGPAAAAAAAAAAcKMTsCw4fPqwhQ4YEIxYAAAAAAAAADmU6kThkyBAtXbo0GLEAAAAAAAAAcCjTtza3bt1aY8eO1dq1a9WpUyfVrVvXZ/7o0aMDbmvSpEn6+9//
rh07dqhevXq67LLL9OKLL6pt27ZmwwIAAAAAAAAQRKYTidOnT1dkZKQyMjKUkZHhM8/
lcplKJGZkZGjUqFG65JJLdPr0af3+979Xv379tG3bNjVo0MBsaAAAAAAAAACCxHQiMTs727KFL1682Gd61qxZio+PV2Zmpq666irLlgMAAAAAAACgckwnEs8oKipSdna2LrjgAoWGVrgZH/
n5+ZKk8847r9T5hYWFKiws9E673W5LlouqNW+elJ4uFRSUnBcVJU2cKA0eHFj9QOXkVPy11UlOjpSU5FtW2jat6cz2mdrSP8pSWr8prU51Fsg6mm3PyrbOjq26b2urlTWey9tOVmxTq/
vMGdXtmGz2nA3AGrXh3FDZ46xTj0HV/
X3oufvFis9nTt1XZlX3fVvTmTmm1JQ+aReXYRiGmRccP35cDz/8sGbPni1J+u6773T+
+efr4YcfVrNmzfT0009XKBCPx6Mbb7xRR44c0apVq0qtM378eE2YMKFEeX5+vqKjoyu0XFS99u2lHTvKnt+unbR9e+D1zTi37ZrC7Dat6SraZ9hO/
lW3bWTl8aM0ldkejFtfSUnSgQNSs2bS/v3/
KzeznazYpsHuM4HG4RT0U9ilrGNCZesGsw0r1IYxV9Pf21fX96HlxW3F5zO7188K1XXf1nTsF2u43W7FxMQElF8zfSlhWlqaNm3apBUrVui6667zlvft21fjx4+vcCJx1KhR2rp1a5lJxDPLTk1N9U673W4lJydXaHmwz5lvcEJCpMTE/5Xn5EgeT8lveMqqb9aZbx1qookTpbFjS79ip7RtWtNVpM/
U5P5RlrL6TVmq4zYyu45mVHZ7lBdbddzWwVLeeD53O1mxTYPZZ6rjMdnsORtA5dSGc4MVx1knH4Oq6/
vQ0vaLFZ/PnLyvzKqu+7amM3tMqUl90i6mr0hs0aKF5s6dq0svvVRRUVHatGmTzj//
fO3evVsXX3xxhW43fuihh/
Txxx9r5cqVatWqVcCvM5MxhXOU9Y2v2XL4V1u3XW1db6A6qw3ngOq4LrVhv8CZausViQiMk/
eXk2Mzy4pzQG3YHqhe2I+lC+oViT/+
+KPi4+NLlB87dkwul8tUW4Zh6OGHH9aCBQu0YsUKU0lEAAAAAAAAAFUnxOwLevTooc8+
+8w7fSZ5+Je//
EUpKSmm2ho1apTef/99ffDBB4qKilJubq5yc3N14sQJs2EBAAAAAAAACCLTVyS+8MILGjBggLZt26bTp0/
rtdde07Zt27R69WplZGSYauutt96SJF1zzTU+5TNnztSwYcPMhgYAAAAAAAAgSExfkXjFFVcoKytLp0+fVqdOnbR06VLFx8drzZo16t69u6m2DMMo9Y8kIgAAAAAAAOAspq9IlKQLLrhAM2bMsDoWAAAAAAAAAA5lOpFY1q8yu1wuhYeHKywsrNJBAQAAAAAAAHAW04nE2NjYcn+dOSkpScOGDdO4ceMUEmL6zmkAAAAAAAAADmQ6kThr1iw988wzGjZsmHr27ClJ+vrrrzV79mw9+
+yz+vHHHzVlyhSFh4fr97//
veUBAwAAAAAAAKh6phOJs2fP1iuvvKLbbrvNWzZw4EB16tRJ06ZN0xdffKHmzZvr+eefJ5EIAAAAAAAA1BCm7z1evXq1unXrVqK8W7duWrNmjaRfftl57969lY8OAAAAAAAAgCOYTiQmJyfrnXfeKVH+zjvvKDk5WZL0008/
qWHDhpWPDgAAAAAAAIAjmL61ecqUKRoyZIgWLVqkSy65RJK0YcMG7dixQ/Pnz5ckrV+/
Xrfffru1kQIAAAAAAACwjelE4o033qidO3dq2rRp2rlzpyRpwIABWrhwoVq2bClJGjlypKVBAgAAAAAAALCX6USiJLVs2VKTJk0qUb5161Z17Nix0kEBAAAAAAAAcBbTz0g8V0FBgaZPn66ePXuqS5cuVsQEAAAAAAAAwGEqnEhcuXKlhg4dqsTERE2ZMkW9e/
fW2rVrrYwNAAAAAAAAgEOYurU5NzdXs2bN0jvvvCO3263bbrtNhYWFWrhwoTp06BCsGAEAAAAAAADYLOArEgcOHKi2bdtq8+bNmjp1qn744Qe9/
vrrwYwNAAAAAAAAgEMEfEXiokWLNHr0aI0cOVJt2rQJZkwAAAAAAAAAHCbgKxJXrVqlgoICde/
eXb169dIbb7yhQ4cOBTM2AAAAAAAAAA4RcCLx0ksv1YwZM5STk6P/
+7//05w5c9S0aVN5PB4tW7ZMBQUFwYwTAAAAAAAAgI1M/2pzgwYNdO+992rVqlXasmWLHnvsMU2ePFnx8fG68cYbgxEjAAAAAAAAAJuZTiSerW3btnrppZe0f/9+ffjhh1bFBAAAAAAAAMBhKpVIPKNOnToaNGiQ/
vGPf1jRHAAAAAAAAACHsSSRCAAAAAAAAKBmI5EIAAAAAAAAwC8SiQAAAAAAAAD8IpEIAAAAAAAAwC8SiQAAAAAAAAD8IpEIAAAAAAAAwC8SiQAAAAAAAAD8IpEIAAAAAAAAwC9bE4krV67UwIED1bRpU7lcLi1cuNDOcAAAAAAAAACUwdZE4rFjx9SlSxe9+eabdoYBAAAAAAAAwI9QOxc+YMAADRgwwM4QAAAAAAAAAATA1kSiWYWFhSosLPROu91uG6NxhnnzpPR0qaAgsPpRUdLEidLgwcGNqzJycqSkJN9pwExfp88A1VdtOAecu45lqcpzdlnHWH/
b34nrAvuZfX9amoqMffpj7RPoPq9KteG8FczxWRYz49aKY1BpauK+rc04Z1RctUokTpo0SRMmTLA7DEdJT5d27DD3mrFjnTkIoqJ+
+dfjkQ4cKHs+aqeK9HX6DFB91IZzgL91LE1VnbP9HWPP3f5OXhfYryLn7LIEMvbpj7VPRfZ5VasN561gjc+yBDpurTwGlaYm7NvajHNG5VWrRGJaWppSU1O90263W8nJyTZGZL8z37KEhEiJieXXzcn5ZbBY/
c2MVSZO/GWAlhbfmW8BUHuZ6esSfQaobmrDOaC8dTxXVZ+zyzvGlrb9nbwusJ/
Zc3ZZAh379Mfax8w+t0NtOG8FY3yWxey4teoYVJqasm9rM84ZlecyDMOwOwhJcrlcWrBggQYNGhTwa9xut2JiYpSfn6/
o6OjgBedgSUm/
ZNGbNZP277eubjA5JY7aoCZt65q0LgDgT1Uf84K5PI7ftY+T93lZsTk5ZqC2Mzs+Gc+wSm3qS2bya7b+ajMAAAAAAACA6sHWW5uPHj2q3bt3e6ezs7OVlZWl8847T82bN7cxMgAAAAAAAABnszWRuGHDBl177bXe6TPPPxw6dKhmzZplU1QAAAAAAAAAzmVrIvGaa66RQx7RCAAAAAAAAKAcPCMRAAAAAAAAgF8kEgEAAAAAAAD4RSIRAAAAAAAAgF8kEgEAAAAAAAD4RSIRAAAAAAAAgF8kEgEAAAAAAAD4RSIRAAAAAAAAgF8kEgEAAAAAAAD4RSIRAAAAAAAAgF8kEgEAAAAAAAD4RSIRAAAAAAAAgF8kEgEAAAAAAAD4RSIRAAAAAAAAgF8kEgEAAAAAAAD4RSIRAAAAAAAAgF8kEgEAAAAAAAD4RSIRAAAAAAAAgF8kEgEAAAAAAAD4RSIRAAAAAAAAgF8kEgEAAAAAAAD4RSIRAAAAAAAAgF8kEgEAAAAAAAD4RSIRAAAAAAAAgF8kEgEAAAAAAAD4RSIRAAAAAAAAgF8kEgEAAAAAAAD4RSIRAAAAAAAAgF8kEgEAAAAAAAD45YhE4ptvvqmWLVsqIiJCvXr10tdff213SAAAAAAAAADOYnsice7cuUpNTdW4ceO0ceNGdenSRf3791deXp7doQEAAAAAAAD4L9sTia+
++qruv/9+DR8+XB06dNDbb7+t+vXr691337U7NAAAAAAAAAD/
FWrnwouKipSZmam0tDRvWUhIiPr27as1a9aUqF9YWKjCwkLvdH5+viTJ7XYHP1ibXH21dPBg2fNzc3/51+OR/
G0Gj+eXf3/4QWra1Jr4KsJMzKgcp+xzK9BvANQmVX38DuYxtiadixAYJ5+zy+qPTo4ZqO3MnkcYz7BKaX2vSRMpI8O+mILlTF7NMAy/
dV1GILWC5IcfflCzZs20evVqpaSkeMuffPJJZWRkaN26dT71x48frwkTJlR1mAAAAAAAAECNtm/
fPiUlJZVbx9YrEs1KS0tTamqqd9rj8ejnn39Wo0aN5HK5bIwseNxut5KTk7Vv3z5FR0fbHQ4AizC2gZqL8Q3UTIxtoOZifKO2MwxDBQUFahrAZb+2JhIbN26sOnXq6OA59+4ePHhQCQkJJeqHh4crPDzcpyw2NjaYITpGdHQ0BzSgBmJsAzUX4xuomRjbQM3F+EZtFhMTE1A9W39sJSwsTN27d9cXX3zhLfN4PPriiy98bnUGAAAAAAAAYC/
bb21OTU3V0KFD1aNHD/
Xs2VNTp07VsWPHNHz4cLtDAwAAAAAAAPBfticSb7/9dv34449KT09Xbm6uunbtqsWLF6tJkyZ2h+YI4eHhGjduXIlbugFUb4xtoOZifAM1E2MbqLkY30DgbP3VZgAAAAAAAADVg63PSAQAAAAAAABQPZBIBAAAAAAAAOAXiUQAAAAAAAAAfpFIBAAAAAAAAOAXiUQHe/
PNN9WyZUtFRESoV69e+vrrr+0OCcBZVq5cqYEDB6pp06ZyuVxauHChz3zDMJSenq7ExETVq1dPffv21a5du3zq/
Pzzz7rzzjsVHR2t2NhYjRgxQkePHvWps3nzZl155ZWKiIhQcnKyXnrppWCvGlCrTZo0SZdccomioqIUHx+vQYMGaefOnT51Tp48qVGjRqlRo0aKjIzUrbfeqoMHD/
rU2bt3r66//
nrVr19f8fHxeuKJJ3T69GmfOitWrNDFF1+s8PBwtW7dWrNmzQr26gG12ltvvaXOnTsrOjpa0dHRSklJ0aJFi7zzGdtAzTB58mS5XC6NGTPGW8b4BqxBItGh5s6dq9TUVI0bN04bN25Uly5d1L9/
f+Xl5dkdGoD/OnbsmLp06aI333yz1PkvvfSS/vSnP+ntt9/WunXr1KBBA/
Xv318nT5701rnzzjv17bffatmyZfr000+1cuVKPfDAA975brdb/
fr1U4sWLZSZmamXX35Z48eP1/
Tp04O+fkBtlZGRoVGjRmnt2rVatmyZTp06pX79+unYsWPeOo8++qg+
+eQTzZs3TxkZGfrhhx90yy23eOcXFxfr+uuvV1FRkVavXq3Zs2dr1qxZSk9P99bJzs7W9ddfr2uvvVZZWVkaM2aM7rvvPi1ZsqRK1xeoTZKSkjR58mRlZmZqw4YN6t27t2666SZ9+
+23khjbQE2wfv16TZs2TZ07d/
YpZ3wDFjHgSD179jRGjRrlnS4uLjaaNm1qTJo0ycaoAJRFkrFgwQLvtMfjMRISEoyXX37ZW3bkyBEjPDzc+PDDDw3DMIxt27YZkoz169d76yxatMhwuVzGgQMHDMMwjD//
+c9Gw4YNjcLCQm+dp556ymjbtm2Q1wjAGXl5eYYkIyMjwzCMX8Zy3bp1jXnz5nnrbN+
+3ZBkrFmzxjAMw/jnP/9phISEGLm5ud46b731lhEdHe0dz08++aRx0UUX+Szr9ttvN/r37x/
sVQJwloYNGxp/
+ctfGNtADVBQUGC0adPGWLZsmXH11VcbjzzyiGEYnLsBK3FFogMVFRUpMzNTffv29ZaFhISob9+
+WrNmjY2RAQhUdna2cnNzfcZxTEyMevXq5R3Ha9asUWxsrHr06OGt07dvX4WEhGjdunXeOldddZXCwsK8dfr376+dO3fq8OHDVbQ2QO2Wn58vSTrvvPMkSZmZmTp16pTP+G7Xrp2aN2/
uM747deqkJk2aeOv0799fbrfbe+XTmjVrfNo4U4dzPVA1iouLNWfOHB07dkwpKSmMbaAGGDVqlK6//
voSY5DxDVgn1O4AUNKhQ4dUXFzscwCTpCZNmmjHjh02RQXAjNzcXEkqdRyfmZebm6v4+Hif+aGhoTrvvPN86rRq1apEG2fmNWzYMCjxA/
iFx+PRmDFjdPnll6tjx46Sfhl7YWFhio2N9al77vgubfyfmVdeHbfbrRMnTqhevXrBWCWg1tuyZYtSUlJ08uRJRUZGasGCBerQoYOysrIY20A1NmfOHG3cuFHr168vMY9zN2AdEokAAABlGDVqlLZu3apVq1bZHQoAi7Rt21ZZWVnKz8/
X/
PnzNXToUGVkZNgdFoBK2Ldvnx555BEtW7ZMERERdocD1Gjc2uxAjRs3Vp06dUr8gtTBgweVkJBgU1QAzDgzVssbxwkJCSV+QOn06dP6+eeffeqU1sbZywAQHA899JA+/
fRTLV++XElJSd7yhIQEFRUV6ciRIz71zx3f/
sZuWXWio6O5ogEIorCwMLVu3Vrdu3fXpEmT1KVLF7322muMbaAay8zMVF5eni6+
+GKFhoYqNDRUGRkZ+tOf/
qTQ0FA1adKE8Q1YhESiA4WFhal79+764osvvGUej0dffPGFUlJSbIwMQKBatWqlhIQEn3Hsdru1bt067zhOSUnRkSNHlJmZ6a3z5ZdfyuPxqFevXt46K1eu1KlTp7x1li1bprZt23JbMxAkhmHooYce0oIFC/
Tll1+WeLxA9+7dVbduXZ/xvXPnTu3du9dnfG/
ZssXny4Jly5YpOjpaHTp08NY5u40zdTjXA1XL4/GosLCQsQ1UY3369NGWLVuUlZXl/
evRo4fuvPNO7/8Z34BF7P61F5Ruzpw5Rnh4uDFr1ixj27ZtxgMPPGDExsb6/
IIUAHsVFBQY33zzjfHNN98YkoxXX33V+Oabb4w9e/
YYhmEYkydPNmJjY42PP/7Y2Lx5s3HTTTcZrVq1Mk6cOOFt47rrrjO6detmrFu3zli1apXRpk0b44477vDOP3LkiNGkSRPj7rvvNrZu3WrMmTPHqF+/
vjFt2rQqX1+gthg5cqQRExNjrFixwsjJyfH+HT9+3FvnwQcfNJo3b258+eWXxoYNG4yUlBQjJSXFO//06dNGx44djX79+hlZWVnG4sWLjbi4OCMtLc1b59///
rdRv35944knnjC2b99uvPnmm0adOnWMxYsXV+n6ArXJ008/
bWRkZBjZ2dnG5s2bjaefftpwuVzG0qVLDcNgbAM1ydm/2mwYjG/
AKiQSHez11183mjdvboSFhRk9e/
Y01q5da3dIAM6yfPlyQ1KJv6FDhxqGYRgej8cYO3as0aRJEyM8PNzo06ePsXPnTp82fvrpJ+OOO+4wIiMjjejoaGP48OFGQUGBT51NmzYZV1xxhREeHm40a9bMmDx5clWtIlArlTauJRkzZ8701jlx4oTxu9/9zmjYsKFRv3594+abbzZycnJ82vnPf/5jDBgwwKhXr57RuHFj47HHHjNOnTrlU2f58uVG165djbCwMOP888/3WQYA6917771GixYtjLCwMCMuLs7o06ePN4loGIxtoCY5N5HI+Aas4TIMw7DnWkgAAAAAAAAA1QXPSAQAAAAAAADgF4lEAAAAAAAAAH6RSAQAAAAAAADgF4lEAAAAAAAAAH6RSAQAAAAAAADgF4lEAAAAAAAAAH6RSAQAAAAAAADgF4lEAAAAAAAAAH6RSAQAAEClDBs2TIMGDbI7DAAAAARZqN0BAAAAwLlcLle588eNG6fXXntNhmFUUUQAAACwC4lEAAAAlCknJ8f7/7lz5yo9PV07d+70lkVGRioyMtKO0AAAAFDFuLUZAAAAZUpISPD+xcTEyOVy+ZRFRkaWuLX5mmuu0cMPP6wxY8aoYcOGatKkiWbMmKFjx45p+PDhioqKUuvWrbVo0SKfZW3dulUDBgxQZGSkmjRporvvvluHDh2q4jUGAABAWUgkAgD+f3t3HiVVfacN/
FvN0mx2NwJNg4BiQBQBRRHFJUZDMMbBJRnMqEmQaIwOioRJVN4Y1BgFE2MwxiGKa5JxmZiRJM7IMgoYBZVFRIMSFyJowHYJXSzSQPd9/8hQx5alu6CaKvDzOeeeQ937q999Cvp293m4C0DO3X///
dG+fft4/vnn47LLLotLLrkkhg0bFscee2wsXLgwhgwZEl//+tdj/
fr1ERGxevXqOPnkk6N///4xf/78mDp1arz77rtx9tln5/
mTAACwhSIRAICcO+yww+Lqq6+Onj17xtixY6NFixbRvn37+Na3vhU9e/
aMcePGxQcffBCLFy+OiIhf/OIX0b9//7jxxhvj4IMPjv79+8c999wTM2fOjL/85S95/
jQAAES4RyIAAI2gX79+mT83adIk2rVrF3379s2s69ixY0REVFZWRkTEiy++GDNnztzm/
RbfeOONOOiggxo5MQAA9VEkAgCQc82aNavzOpVK1Vm35WnQtbW1ERGxdu3aGDp0aNx0001bzdWpU6dGTAoAQEMpEgEAyLsjjjgifve738UBBxwQTZv6FRUAoBC5RyIAAHk3cuTI+PDDD+Occ86JefPmxRtvvBHTpk2LESNGRE1NTb7jAQAQikQAAApA586d45lnnomampoYMmRI9O3bN0aPHh1lZWVRVORXVgCAQpBKkiTJdwgAAAAAoLD5710AAAAAoF6KRAAAAACgXopEAAAAAKBeikQAAAAAoF6KRAAAAACgXopEAAAAAKBeikQAAAAAoF6KRAAAAACgXnktEg844IBIpVJbLSNHjsxnLAAAAADgE5rmc+fz5s2LmpqazOuXX345vvCFL8SwYcPymAoAAAAA+KRUkiRJvkNsMXr06Hjsscfitddei1Qqle84AAAAAMD/
yesZiR+3cePG+M1vfhNjxozZbolYXV0d1dXVmde1tbXx4YcfRrt27RSPAAAAAJClJElizZo10blz5ygq2vFdEAumSJwyZUqsXr06zj///
O2OGT9+fFx33XW7LxQAAAAAfAqsWLEiunTpssMxBXNp8ymnnBLNmzePP/7xj9sd88kzEquqqqJbt26xYsWKKCkp2R0xAQAAAGCvkU6no2vXrrF69eooLS3d4diCOCPxrbfeiv/93/
+N//qv/9rhuOLi4iguLt5qfUlJiSIRAAAAAHZSQ24buOMLn3eTe+
+9N8rLy+O0007LdxQAAAAAYBvyXiTW1tbGvffeG8OHD4+mTQviBEkAAAAA4BPyXiT+7//
+byxfvjy+
+c1v5jsKAAAAALAdeT8FcMiQIVEgz3sBAAAAKHg1NTWxadOmfMdgD9GsWbNo0qRJTubKe5EIAAAAQP2SJIlVq1bF6tWr8x2FPUxZWVlUVFQ06IEqO6JIBAAAANgDbCkRy8vLo1WrVrtcCrH3S5Ik1q9fH5WVlRER0alTp12aT5EIAAAAUOBqamoyJWK7du3yHYc9SMuWLSMiorKyMsrLy3fpMue8P2wFAAAAgB3bck/
EVq1a5TkJe6ItXze7em9NRSIAAADAHsLlzOyMXH3dKBIBAAAAgHopEgEAAADYY82aNStSqdQe/
zTrVCoVU6ZMyXeMHfKwFQAAAAD2WMcee2ysXLkySktL8x1ll6xcuTLatm2b7xg7pEgEAAAAYI/
VvHnzqKioyHeM7dq0aVM0a9as3nGF/Bm2cGkzAAAAAI1q6tSpcfzxx0dZWVm0a9cu/umf/
ineeOONzPY5c+bE4YcfHi1atIgBAwbElClTIpVKxaJFi+qd+5OXNt93331RVlYW06ZNi0MOOSTatGkTX/
ziF2PlypUNyjpr1qwYOHBgtG7dOsrKyuK4446Lt956K7P997//
fRxxxBHRokWLOPDAA+O6666LzZs3Z7anUqmYNGlSnH766dG6deu4/
vrro0uXLjFp0qQ6+3nhhReiqKgoM/cnL21++
+2345xzzol99903WrduHQMGDIjnnnuuwTkagyIRAAAAgEa1bt26GDNmTMyfPz+eeOKJKCoqirPOOitqa2sjnU7H0KFDo2/
fvrFw4cK4/vrr48orr9yl/a1fvz5uvvnm+PWvfx1PPfVULF++PL773e/
W+77NmzfHmWeeGSeeeGIsXrw45s6dGxdddFHmqcd/
+tOf4hvf+EZcfvnlsWTJkrjjjjvivvvuixtuuKHOPNdee22cddZZ8dJLL8WFF14Y55xzTjzwwAN1xvzHf/
xHHHfccbH//vtvlWPt2rVx4oknxjvvvBN/
+MMf4sUXX4wrrrgiamtrs8qRay5tBgAAANhDDRgwIFatWrXb91tRURHz589v8PivfOUrdV7fc8890aFDh1iyZEk8/
fTTkUqlYvLkydGiRYvo3bt3vPPOO/Gtb31rp/Nt2rQpfvnLX8ZnPvOZiIi49NJL44c//
GG970un01FVVRX/9E//lHnvIYccktl+3XXXxVVXXRXDhw+PiIgDDzwwrr/+
+rjiiivimmuuyYw799xzY8SIEZnX5513Xvz0pz+N5cuXR7du3aK2tjYeeuihuPrqq7eZ44EHHoj33nsv5s2bF/
vuu29ERPTo0SPrHLmmSAQAAADYQ61atSreeeedfMeo12uvvRbjxo2L5557Lt5///3MmXXLly+PpUuXRr9+/
aJFixaZ8QMHDtyl/
bVq1SpTBEZEdOrUKSorK+t937777hvnn39+nHLKKfGFL3whBg8eHGeffXZ06tQpIiJefPHFeOaZZ+qc+VdTUxMbNmyI9evXR6tWrSLiHwXvxx1+
+OFxyCGHxAMPPBBXXXVVzJ49OyorK2PYsGHbzLFo0aLo379/
pkT8pIbmyDVFIgAAAMAeKl8P6Mh2v0OHDo39998/
Jk+eHJ07d47a2tro06dPbNy4sVHyffLhJqlUKpIkadB777333hg1alRMnTo1Hn744bj66qtjxowZccwxx8TatWvjuuuuiy9/
+ctbve/
jRWjr1q232n7eeedlisQHHnggvvjFL0a7du22maFly5Y7zNjQHLmmSAQAAADYQ2VzeXG+fPDBB7F06dKYPHlynHDCCRER8fTTT2e29+rVK37zm99EdXV1FBcXR0TEvHnz8pJ1i/79+0f//
v1j7NixMWjQoHjggQfimGOOiSOOOCKWLl1a5zLjhjr33HPj6quvjgULFsQjjzwSv/
zlL7c7tl+/
fnHXXXfFhx9+uM2zEnclx67wsBUAAAAAGk3btm2jXbt2ceedd8brr78eTz75ZIwZMyaz/
dxzz43a2tq46KKL4pVXXolp06bFzTffHBGRecjJ7rJs2bIYO3ZszJ07N956662YPn16vPbaa5n7JI4bNy5+9atfxXXXXRd//
vOf45VXXtnhvQ4/7oADDohjjz02LrjggqipqYnTTz99u2PPOeecqKioiDPPPDOeeeaZePPNN+N3v/
tdzJ07d5dz7ApFIgAAAACNpqioKB566KFYsGBB9OnTJ77zne/ET37yk8z2kpKS+OMf/
xiLFi2Kww8/PL7//e/HuHHjIqJxL9PdllatWsWrr74aX/nKV+Kggw6Kiy66KEaOHBnf/
va3IyLilFNOicceeyymT58eRx11VBxzzDHxs5/9bJtPXt6W8847L1588cU466yzdnj5cvPmzWP69OlRXl4eX/
rSl6Jv374xYcKEaNKkSU5y7KxU0tALxAtQOp2O0tLSqKqqipKSknzHAQAAAGgUGzZsiGXLlkX37t13e7mWD//
xH/8RI0aMiKqqqnrvF0j9dvT1k02/5h6JAAAAAOTVr371qzjwwANjv/32ixdffDGuvPLKOPvss5WIBcalzQAAAADk1apVq+JrX/
taHHLIIfGd73wnhg0bFnfeeWdERFx88cXRpk2bbS4XX3xx1vva3lxt2rSJP/3pT7n+aHsVlzYDAAAAFLhP26XNH1dZWRnpdHqb20pKSqK8vDyr+V5//
fXtbttvv/32yrMgXdoMAAAAwF6vvLw867JwR3r06JGzuT5tXNoMAAAAsIfYgy8sJY9y9XWjSAQAAAAocM2aNYuIiPXr1+c5CXuiLV83W76OdpZLmwEAAAAKXJMmTaKsrCwqKysjIqJVq1aRSqXynIpClyRJrF+/
PiorK6OsrCyaNGmyS/
MpEgEAAAD2ABUVFRERmTIRGqqsrCzz9bMrFIkAAAAAe4BUKhWdOnWK8vLy2LRpU77jsIdo1qzZLp+JuIUiEQAAAGAP0qRJk5wVQ5CNvD9s5Z133omvfe1r0a5du2jZsmX07ds35s+fn+9YAAAAAMDH5PWMxL///
e9x3HHHxUknnRSPP/54dOjQIV577bVo27ZtPmMBAAAAAJ+Q1yLxpptuiq5du8a9996bWde9e/
c8JgIAAAAAtiWvlzb/4Q9/
iAEDBsSwYcOivLw8+vfvH5MnT97u+Orq6kin03UWAAAAAKDx5bVIfPPNN2PSpEnRs2fPmDZtWlxyySUxatSouP/
++7c5fvz48VFaWppZunbtupsTAwAAAMCnUypJkiRfO2/
evHkMGDAg5syZk1k3atSomDdvXsydO3er8dXV1VFdXZ15nU6no2vXrlFVVRUlJSW7JTMAAAAA7C3S6XSUlpY2qF/
L6xmJnTp1it69e9dZd8ghh8Ty5cu3Ob64uDhKSkrqLAAAAABA48trkXjcccfF0qVL66z7y1/
+Evvvv3+eEgEAAAAA25LXIvE73/lOPPvss3HjjTfG66+/
Hg888EDceeedMXLkyHzGAgAAAAA+Ia9F4lFHHRWPPvpoPPjgg9GnT5+4/
vrrY+LEiXHeeeflMxYAAAAA8Al5fdjKrsrmZpAAAAAAQF17zMNWAAAAAIA9gyIRAAAAAKiXIhEAAAAAqJciEQAAAAColyIRAAAAAKiXIhEAAAAAqJciEQAAAACo104Vib/
+9a/juOOOi86dO8dbb70VERETJ06M3//
+9zkNBwAAAAAUhqyLxEmTJsWYMWPiS1/6UqxevTpqamoiIqKsrCwmTpyY63wAAAAAQAHIuki87bbbYvLkyfH9738/
mjRpklk/YMCAeOmll3IaDgAAAAAoDFkXicuWLYv+/
ftvtb64uDjWrVuXk1AAAAAAQGHJukjs3r17LFq0aKv1U6dOjUMOOSQXmQAAAACAAtM02zeMGTMmRo4cGRs2bIgkSeL555+PBx98MMaPHx933XVXY2QEAAAAAPIs6yLxwgsvjJYtW8bVV18d69evj3PPPTc6d+4ct956a/
zLv/
xLY2QEAAAAAPIslSRJsrNvXr9+faxduzbKy8tzmanB0ul0lJaWRlVVVZSUlOQlAwAAAADsqbLp17I+I3HZsmWxefPm6NmzZ7Rq1SpatWoVERGvvfZaNGvWLA444ICdCg0AAAAAFK6sH7Zy/
vnnx5w5c7Za/9xzz8X555+fi0wAAAAAQIHJukh84YUX4rjjjttq/
THHHLPNpzkDAAAAAHu+rIvEVCoVa9as2Wp9VVVV1NTU5CQUAAAAAFBYsi4SP/
vZz8b48ePrlIY1NTUxfvz4OP7443MaDgAAAAAoDFk/
bOWmm26Kz372s9GrV6844YQTIiLiT3/6U6TT6XjyySdzHhAAAAAAyL+sz0js3bt3LF68OM4+
+
+yorKyMNWvWxDe+8Y149dVXo0+fPo2REQAAAADIs1SSJEm+Q+ysdDodpaWlUVVVFSUlJfmOAwAAAAB7lGz6tQZd2rx48eLo06dPFBUVxeLFi3c4tl+/
fg1PCgAAAADsERpUJB5+
+OGxatWqKC8vj8MPPzxSqVRs60TGVCrlyc0AAAAAsBdqUJG4bNmy6NChQ+bPAAAAAMCnS4OKxP333z/
z544dO0aLFi0aLRAAAAAAUHiyfmpzeXl5DB8+PGbMmBG1tbWNkQkAAAAAKDBZF4n3339/
rF+/Ps4444zYb7/9YvTo0TF//
vyd2vm1114bqVSqznLwwQfv1FwAAAAAQOPJukg866yz4re//W28+
+67ceONN8aSJUvimGOOiYMOOih++MMfZh3g0EMPjZUrV2aWp59+Ous5AAAAAIDGlXWRuMU++
+wTI0aMiOnTp8fixYujdevWcd1112U9T9OmTaOioiKztG/ffmcjAQAAAACNZKeLxA0bNsR//
ud/xplnnhlHHHFEfPjhh/
G9730v63lee+216Ny5cxx44IFx3nnnxfLly7c7trq6OtLpdJ0FAAAAAGh8WReJ06ZNi+HDh0fHjh3jkksuiY4dO8b06dPjrbfeigkTJmQ119FHHx333XdfTJ06NSZNmhTLli2LE044IdasWbPN8ePHj4/
S0tLM0rVr12zjAwAAAAA7IZUkSZLNG1q1ahVDhw6Nc889N770pS9Fs2bNchZm9erVsf/+
+8ctt9wSF1xwwVbbq6uro7q6OvM6nU5H165do6qqKkpKSnKWAwAAAAA+DdLpdJSWljaoX2uazcSbN2+Om266KYYNGxYVFRW7FHJbysrK4qCDDorXX399m9uLi4ujuLg45/
sFAAAAAHYsq0ubmzZtGldeeWWdswJzae3atfHGG29Ep06dGmV+AAAAAGDnZH2PxIEDB8YLL7yQk51/97vfjdmzZ8df//
rXmDNnTpx11lnRpEmTOOecc3IyPwAAAACQG1ld2hwR8a//+q/xb//2b/H222/
HkUceGa1bt66zvV+/fg2e6+23345zzjknPvjgg+jQoUMcf/
zx8eyzz0aHDh2yjQUAAAAANKKsH7ZSVLT1SYypVCqSJIlUKhU1NTU5C1efbG4GCQAAAADU1WgPW4mIWLZs2U4HAwAAAAD2TFkXifvvv39j5AAAAAAACljWD1uJiPj1r38dxx13XHTu3DneeuutiIiYOHFi/
P73v89pOAAAAACgMGRdJE6aNCnGjBkTX/
rSl2L16tWZeyKWlZXFxIkTc50PAAAAACgAWReJt912W0yePDm+//3vR5MmTTLrBwwYEC+99FJOwwEAAAAAhSHrInHZsmXRv3//
rdYXFxfHunXrchIKAAAAACgsWReJ3bt3j0WLFm21furUqXHIIYfkIhMAAAAAUGCyfmrzmDFjYuTIkbFhw4ZIkiSef/75ePDBB2P8+PFx1113NUZGAAAAACDPsi4SL7zwwmjZsmVcffXVsX79+jj33HOjc+fOceutt8a//
Mu/
NEZGAAAAACDPUkmSJDv75vXr18fatWujvLw8l5kaLJ1OR2lpaVRVVUVJSUleMgAAAADAniqbfi3reyR+9NFHsX79+oiIaNWqVXz00UcxceLEmD59+s6lBQAAAAAKXtZF4hlnnBG/
+tWvIiJi9erVMXDgwPjpT38aZ5xxRkyaNCnnAQEAAACA/
Mu6SFy4cGGccMIJERHxyCOPREVFRbz11lvxq1/9Kn7+85/
nPCAAAAAAkH9ZF4nr16+PffbZJyIipk+fHl/
+8pejqKgojjnmmHjrrbdyHhAAAAAAyL+si8QePXrElClTYsWKFTFt2rQYMmRIRERUVlZ64AkAAAAA7KWyLhLHjRsX3/3ud+OAAw6Io48+OgYNGhQR/
zg7sX///jkPCAAAAADkXypJkiTbN61atSpWrlwZhx12WBQV/
aOLfP7556OkpCQOPvjgnIfcnmweTw0AAAAA1JVNv9Z0Z3ZQUVERFRUVddYNHDhwZ6YCAAAAAPYAWV/
aDAAAAAB8+igSAQAAAIB6KRIBAAAAgHopEgEAAACAeu3Uw1Zee+21mDlzZlRWVkZtbW2dbePGjctJMAAAAACgcGRdJE6ePDkuueSSaN+
+fVRUVEQqlcpsS6VSikQAAAAA2AtlXST+6Ec/ihtuuCGuvPLKxsgDAAAAABSgrO+R+Pe//
z2GDRvWGFkAAAAAgAKVdZE4bNiwmD59emNkAQAAAAAKVNaXNvfo0SN+8IMfxLPPPht9+/
aNZs2a1dk+atSonIUDAAAAAApDKkmSJJs3dO/
effuTpVLx5ptv7lSQCRMmxNixY+Pyyy+PiRMnNug96XQ6SktLo6qqKkpKSnZqvwAAAADwaZVNv5b1GYnLli3b6WDbM2/
evLjjjjuiX79+OZ8bAAAAANh1Wd8jMdfWrl0b5513XkyePDnatm27w7HV1dWRTqfrLAAAAABA42vQGYljxoyJ66+/
Plq3bh1jxozZ4dhbbrklqwAjR46M0047LQYPHhw/+tGPdjh2/
Pjxcd1112U1PwAAAACw6xpUJL7wwguxadOmzJ+3J5VKZbXzhx56KBYuXBjz5s1r0PixY8fWKTLT6XR07do1q30CAAAAANlrUJE4c+bMbf55V6xYsSIuv/
zymDFjRrRo0aJB7ykuLo7i4uKc7B8AAAAAaLisn9qcK1OmTImzzjormjRpkllXU1MTqVQqioqKorq6us62bfHUZgAAAADYeY361OZc+fznPx8vvfRSnXUjRoyIgw8+OK688sp6S0QAAAAAYPfJW5G4zz77RJ8+feqsa926dbRr126r9QAAAABAfhXlOwAAAAAAUPiyKhI3bdoU3/
zmN2PZsmWNEmbWrFkxceLERpkbAAAAANh5WRWJzZo1i9/97neNlQUAAAAAKFBZX9p85plnxpQpUxohCgAAAABQqLJ+2ErPnj3jhz/8YTzzzDNx5JFHRuvWretsHzVqVM7CAQAAAACFIZUkSZLNG7p37779yVKpePPNN3c5VEOl0+koLS2NqqqqKCkp2W37BQAAAIC9QTb9WtZnJDbWg1YAAAAAgMKV9T0St9i4cWMsXbo0Nm/
enMs8AAAAAEAByrpIXL9+fVxwwQXRqlWrOPTQQ2P58uUREXHZZZfFhAkTch4QAAAAAMi/
rIvEsWPHxosvvhizZs2KFi1aZNYPHjw4Hn744ZyGAwAAAAAKQ9b3SJwyZUo8/
PDDccwxx0QqlcqsP/TQQ+ONN97IaTgAAAAAoDBkfUbie+
+9F+Xl5VutX7duXZ1iEQAAAADYe2RdJA4YMCD++7//O/
N6S3l41113xaBBg3KXDAAAAAAoGFlf2nzjjTfGqaeeGkuWLInNmzfHrbfeGkuWLIk5c+bE7NmzGyMjAAAAAJBnWZ+RePzxx8eiRYti8+bN0bdv35g+fXqUl5fH3Llz48gjj2yMjAAAAABAnqWSJEnyHWJnpdPpKC0tjaqqqigpKcl3HAAAAADYo2TTr2V9aXNERE1NTTz66KPxyiuvRERE796944wzzoimTXdqOgAAAACgwGXd/
P35z3+O008/
PVatWhW9evWKiIibbropOnToEH/84x+jT58+OQ8JAAAAAORX1vdIvPDCC+PQQw+Nt99+OxYuXBgLFy6MFStWRL9+/
eKiiy5qjIwAAAAAQJ5lfUbiokWLYv78+dG2bdvMurZt28YNN9wQRx11VE7DAQAAAACFIeszEg866KB49913t1pfWVkZPXr0yEkoAAAAAKCwNKhITKfTmWX8+PExatSoeOSRR+Ltt9+Ot99+Ox555JEYPXp03HTTTY2dFwAAAADIg1SSJEl9g4qKiiKVSmVeb3nLlnUff11TU9MYObcpm8dTAwAAAAB1ZdOvNegeiTNnzsxJMAAAAABgz9SgIvHEE09s7BwAAAAAQAHL+qnNEREbNmyIxYsXR2VlZdTW1tbZdvrpp+ckGAAAAABQOLIuEqdOnRrf+MY34v33399q2+6+RyIAAAAAsHs06KnNH3fZZZfFsGHDYuXKlVFbW1tnUSICAAAAwN4p6yLx3XffjTFjxkTHjh0bIw8AAAAAUICyLhL/
+Z//
OWbNmtUIUQAAAACAQpVKkiTJ5g3r16+PYcOGRYcOHaJv377RrFmzOttHjRrV4LkmTZoUkyZNir/
+9a8REXHooYfGuHHj4tRTT23Q+9PpdJSWlkZVVVWUlJQ0eL8AAAAAQHb9WtYPW3nwwQdj+vTp0aJFi5g1a1akUqnMtlQqlVWR2KVLl5gwYUL07NkzkiSJ+
++/
P84444x44YUX4tBDD802GgAAAADQSLI+I7GioiJGjRoVV111VRQVZX1ldL323Xff+MlPfhIXXHDBVtuqq6ujuro68zqdTkfXrl2dkQgAAAAAOyGbMxKzbgI3btwYX/3qV3NeItbU1MRDDz0U69ati0GDBm1zzPjx46O0tDSzdO3aNacZAAAAAIBty7oNHD58eDz88MM5C/
DSSy9FmzZtori4OC6+
+OJ49NFHo3fv3tscO3bs2KiqqsosK1asyFkOAAAAAGD7sr5HYk1NTfz4xz+OadOmRb9+/
bZ62Mott9yS1Xy9evWKRYsWRVVVVTzyyCMxfPjwmD179jbLxOLi4iguLs42MgAAAACwi7K+R+JJJ520/
clSqXjyySd3KdDgwYPjM5/5TNxxxx31jvXUZgAAAADYeY361OaZM2fudLCGqK2trfNAFQAAAAAg/7IuEnNp7Nixceqpp0a3bt1izZo18cADD8SsWbNi2rRp+YwFAAAAAHxC1kXiSSedFKlUarvbs7m0ubKyMr7xjW/
EypUro7S0NPr16xfTpk2LL3zhC9nGAgAAAAAaUdZF4uGHH17n9aZNm2LRokXx8ssvx/
Dhw7Oa6+6778529wAAAABAHmRdJP7sZz/b5vprr7021q5du8uBAAAAAIDCU5Srib72ta/
FPffck6vpAAAAAIACkrMice7cudGiRYtcTQcAAAAAFJCsL23+8pe/XOd1kiSxcuXKmD9/
fvzgBz/
IWTAAAAAAoHBkXSSWlpbWeV1UVBS9evWKH/7whzFkyJCcBQMAAAAACkfWReK9997bGDkAAAAAgAKWdZG4xcaNG6OysjJqa2vrrO/
WrdsuhwIAAAAACkvWReJf/
vKXuOCCC2LOnDl11idJEqlUKmpqanIWDgAAAAAoDFkXiSNGjIimTZvGY489Fp06dYpUKtUYuQAAAACAApJ1kbho0aJYsGBBHHzwwY2RBwAAAAAoQEXZvqF3797x/
vvvN0YWAAAAAKBAZV0k3nTTTXHFFVfErFmz4oMPPoh0Ol1nAQAAAAD2PqkkSZJs3lBU9I/
u8ZP3RszHw1bS6XSUlpZGVVVVlJSU7Lb9AgAAAMDeIJt+Let7JM6cOXOngwEAAAAAe6asi8QTTzyxMXIAAAAAAAUs63skAgAAAACfPopEAAAAAKBeikQAAAAAoF6KRAAAAACgXlkXiSeffHKsXr16q/
XpdDpOPvnkXGQCAAAAAApM1kXirFmzYuPGjVut37BhQ/zpT3/
KSSgAAAAAoLA0bejAxYsXZ/68ZMmSWLVqVeZ1TU1NTJ06Nfbbb7/
cpgMAAAAACkKDi8TDDz88UqlUpFKpbV7C3LJly7jttttyGg4AAAAAKAwNLhKXLVsWSZLEgQceGM8//3x06NAhs6158+ZRXl4eTZo0aZSQAAAAAEB+NbhI3H///
SMiora2ttHCAAAAAACFqcFF4se99tprMXPmzKisrNyqWBw3blxOggEAAAAAhSPrInHy5MlxySWXRPv27aOioiJSqVRmWyqVUiQCAAAAwF4o6yLxRz/6Udxwww1x5ZVX7vLOx48fH//1X/8Vr776arRs2TKOPfbYuOmmm6JXr167PDcAAAAAkDtF2b7h73//
ewwbNiwnO589e3aMHDkynn322ZgxY0Zs2rQphgwZEuvWrcvJ/
AAAAABAbqSSJEmyecMFF1wQRx11VFx88cU5D/Pee+9FeXl5zJ49Oz772c/
WOz6dTkdpaWlUVVVFSUlJzvMAAAAAwN4sm34t60ube/ToET/4wQ/
i2Wefjb59+0azZs3qbB81alS2U2ZUVVVFRMS++
+67ze3V1dVRXV2deZ1Op3d6XwAAAABAw2V9RmL37t23P1kqFW++
+eZOBamtrY3TTz89Vq9eHU8//
fQ2x1x77bVx3XXXbbXeGYkAAAAAkL1szkjMukhsLJdcckk8/
vjj8fTTT0eXLl22OWZbZyR27dpVkQgAAAAAO6FRL23eYuPGjbFs2bL4zGc+E02b7vQ0ERFx6aWXxmOPPRZPPfXUdkvEiIji4uIoLi7epX0BAAAAANnL+qnN69evjwsuuCBatWoVhx56aCxfvjwiIi677LKYMGFCVnMlSRKXXnppPProo/
Hkk0/u8LJpAAAAACB/si4Sx44dGy+++GLMmjUrWrRokVk/ePDgePjhh7Oaa+TIkfGb3/
wmHnjggdhnn31i1apVsWrVqvjoo4+yjQUAAAAANKKsr0meMmVKPPzww3HMMcdEKpXKrD/00EPjjTfeyGquSZMmRUTE5z73uTrr77333jj//
POzjQYAAAAANJKsi8T33nsvysvLt1q/bt26OsViQxTIc14AAAAAgHpkfWnzgAED4r//
+78zr7eUh3fddVcMGjQod8kAAAAAgIKR9RmJN954Y5x66qmxZMmS2Lx5c9x6662xZMmSmDNnTsyePbsxMgIAAAAAeZb1GYnHH398LFq0KDZv3hx9+/
aN6dOnR3l5ecydOzeOPPLIxsgIAAAAAORZKtmDb1SYTqejtLQ0qqqqoqSkJN9xAAAAAGCPkk2/
lvWlzel0epvrU6lUFBcXR/PmzbOdEgAAAAAocFkXiWVlZTt8OnOXLl3i/
PPPj2uuuSaKirK+choAAAAAKEBZF4n33XdffP/734/zzz8/Bg4cGBERzz//
fNx///1x9dVXx3vvvRc333xzFBcXx//7f/8v54EBAAAAgN0v6yLx/vvvj5/
+9Kdx9tlnZ9YNHTo0+vbtG3fccUc88cQT0a1bt7jhhhsUiQAAAACwl8j62uM5c+ZE//79t1rfv3//
mDt3bkT848nOy5cv3/
V0AAAAAEBByLpI7Nq1a9x9991brb/77ruja9euERHxwQcfRNu2bXc9HQAAAABQELK+tPnmm2+OYcOGxeOPPx5HHXVURETMnz8/
Xn311XjkkUciImLevHnx1a9+NbdJAQAAAIC8SSVJkmT7pr/
+9a9xxx13xNKlSyMiolevXvHtb387DjjggFzn26F0Oh2lpaVRVVUVJSUlu3XfAAAAALCny6Zf26kicXtefvnl6NOnT66mq5ciEQAAAAB2Xjb9Wtb3SPykNWvWxJ133hkDBw6Mww47bFenAwAAAAAK0E4XiU899VQMHz48OnXqFDfffHOcfPLJ8eyzz+YyGwAAAABQILJ62MqqVavivvvui7vvvjvS6XScffbZUV1dHVOmTInevXs3VkYAAAAAIM8afEbi0KFDo1evXrF48eKYOHFi/
O1vf4vbbrutMbMBAAAAAAWiwWckPv744zFq1Ki45JJLomfPno2ZCQAAAAAoMA0+I/
Hpp5+ONWvWxJFHHhlHH310/OIXv4j333+/
MbMBAAAAAAWiwUXiMcccE5MnT46VK1fGt7/97XjooYeic+fOUVtbGzNmzIg1a9Y0Zk4AAAAAII9SSZIkO/
vmpUuXxt133x2//vWvY/Xq1fGFL3wh/
vCHP+Qy3w6l0+koLS2NqqqqKCkp2W37BQAAAIC9QTb9WoPPSNyWXr16xY9//ON4+
+2348EHH9yVqQAAAACAArZLZyTmmzMSAQAAAGDn7bYzEgEAAACATwdFIgAAAABQL0UiAAAAAFAvRSIAAAAAUC9FIgAAAABQr7wWiU899VQMHTo0OnfuHKlUKqZMmZLPOAAAAADAduS1SFy3bl0cdthhcfvtt+czBgAAAABQj6b53Pmpp54ap556aj4jAAAAAAANkNciMVvV1dVRXV2deZ1Op/
OYpjD89re/jXHjxsWaNWt22z732WefuP766+Of//
mf85qDhsnFv9e25mgsvpYAdqyh35ML6fvprv4caezPUsg/57LJ1ph/T37/A4CIioqKmD9/
fr5j5FdSICIiefTRR3c45pprrkkiYqulqqpq94QsQAcffPA2/04aezn44IMLIodl9/17fXKOve1r2mKxWPakpSHfkwvt+
+mu/BzZHZ+lkH/ONTRbY/89+f3PYrFYLJ/2Zb/99muMXw/
yrqqqKoloWL+2R52ROHbs2BgzZkzmdTqdjq5du+YxUf5t+R/
goqKi6NSpU6Pvb+XKlVFbW7vV/zzv7hw0TC7+vbY3R2PxtQSwfdl8Ty6U76e5+DnSmJ+lkH/
OZZutsf6e/
P4HAP9QUVGR7wh5t0cVicXFxVFcXJzvGAWpU6dO8fbbbzf6frp06RLvvPNO3nPQMLn496pvjsbiawlgazvzPTnf309z+XOkMT5LIf+c29lsuf578vsfALBFXp/
aDAAAAADsGfJ6RuLatWvj9ddfz7xetmxZLFq0KPbdd9/o1q1bHpMBAAAAAB+X1yJx/
vz5cdJJJ2Veb7n/4fDhw+O++
+7LUyoAAAAA4JPyWiR+7nOfiyRJ8hkBAAAAAGgA90gEAAAAAOqlSAQAAAAA6qVIBAAAAADqpUgEAAAAAOqlSAQAAAAA6qVIBAAAAADqpUgEAAAAAOqlSAQAAAAA6qVIBAAAAADqpUgEAAAAAOqlSAQAAAAA6qVIBAAAAADqpUgEAAAAAOqlSAQAAAAA6qVIBAAAAADqpUgEAAAAAOqlSAQAAAAA6qVIBAAAAADqpUgEAAAAAOqlSAQAAAAA6qVIBAAAAADqpUgEAAAAAOqlSAQAAAAA6qVIBAAAAADqpUgEAAAAAOqlSAQAAAAA6qVIBAAAAADqpUgEAAAAAOpVEEXi7bffHgcccEC0aNEijj766Hj+
+efzHQkAAAAA+Ji8F4kPP/
xwjBkzJq655ppYuHBhHHbYYXHKKadEZWVlvqMBAAAAAP8n70XiLbfcEt/61rdixIgR0bt37/
jlL38ZrVq1invuuSff0QAAAACA/9M0nzvfuHFjLFiwIMaOHZtZV1RUFIMHD465c+duNb66ujqqq6szr6uqqiIiIp1ON37YPDnxxBPj3Xff3e72VatWRUREbW3tbvl7qK2tjYiIv/3tb9G5c+e85aBhcvHvtb05GouvJYDty+Z7cqF8P83Fz5HG/
CyF/
HMu22yN9ffk9z8A2Ltt+TmeJEm9Y1NJQ0Y1kr/97W+x3377xZw5c2LQoEGZ9VdccUXMnj07nnvuuTrjr7322rjuuut2d0wAAAAA2KutWLEiunTpssMxeT0jMVtjx46NMWPGZF7X1tbGhx9+GO3atYtUKpXHZI0nnU5H165dY8WKFVFSUpLvOECOOLZh7+X4hr2TYxv2Xo5vPu2SJIk1a9Y06AqIvBaJ7du3jyZNmmx16e67774bFRUVW40vLi6O4uLiOuvKysoaM2LBKCkp8Q0N9kKObdh7Ob5h7+TYhr2X45tPs9LS0gaNy+vDVpo3bx5HHnlkPPHEE5l1tbW18cQTT9S51BkAAAAAyK+8X9o8ZsyYGD58eAwYMCAGDhwYEydOjHXr1sWIESPyHQ0AAAAA+D95LxK/
+tWvxnvvvRfjxo2LVatWxeGHHx5Tp06Njh075jtaQSguLo5rrrlmq0u6gT2bYxv2Xo5v2Ds5tmHv5fiGhsvrU5sBAAAAgD1DXu+RCAAAAADsGRSJAAAAAEC9FIkAAAAAQL0UiQAAAABAvRSJBez222+PAw44IFq0aBFHH310PP/88/
mOBHzMU089FUOHDo3OnTtHKpWKKVOm1NmeJEmMGzcuOnXqFC1btozBgwfHa6+9VmfMhx9+GOedd16UlJREWVlZXHDBBbF27do6YxYvXhwnnHBCtGjRIrp27Ro//
vGPG/
ujwafa+PHj46ijjop99tknysvL48wzz4ylS5fWGbNhw4YYOXJktGvXLtq0aRNf+cpX4t13360zZvny5XHaaadFq1atory8PL73ve/
F5s2b64yZNWtWHHHEEVFcXBw9evSI++67r7E/
HnyqTZo0Kfr16xclJSVRUlISgwYNiscffzyz3bENe4cJEyZEKpWK0aNHZ9Y5viE3FIkF6uGHH44xY8bENddcEwsXLozDDjssTjnllKisrMx3NOD/
rFu3Lg477LC4/fbbt7n9xz/+cfz85z+PX/7yl/Hcc89F69at45RTTokNGzZkxpx33nnx5z//
OWbMmBGPPfZYPPXUU3HRRRdltqfT6RgyZEjsv//+sWDBgvjJT34S1157bdx5552N/
vng02r27NkxcuTIePbZZ2PGjBmxadOmGDJkSKxbty4z5jvf+U788Y9/jN/+9rcxe/bs+Nvf/
hZf/vKXM9tramritNNOi40bN8acOXPi/vvvj/vuuy/
GjRuXGbNs2bI47bTT4qSTTopFixbF6NGj48ILL4xp06bt1s8LnyZdunSJCRMmxIIFC2L+/
Plx8sknxxlnnBF//
vOfI8KxDXuDefPmxR133BH9+vWrs97xDTmSUJAGDhyYjBw5MvO6pqYm6dy5czJ+/
Pg8pgK2JyKSRx99NPO6trY2qaioSH7yk59k1q1evTopLi5OHnzwwSRJkmTJkiVJRCTz5s3LjHn88ceTVCqVvPPOO0mSJMm///
u/J23btk2qq6szY6688sqkV69ejfyJgC0qKyuTiEhmz56dJMk/
juVmzZolv/3tbzNjXnnllSQikrlz5yZJkiT/8z//
kxQVFSWrVq3KjJk0aVJSUlKSOZ6vuOKK5NBDD62zr69+9avJKaec0tgfCfiYtm3bJnfddZdjG/
YCa9asSXr27JnMmDEjOfHEE5PLL788SRI/
uyGXnJFYgDZu3BgLFiyIwYMHZ9YVFRXF4MGDY+7cuXlMBjTUsmXLYtWqVXWO49LS0jj66KMzx/
HcuXOjrKwsBgwYkBkzePDgKCoqiueeey4z5rOf/Ww0b948M+aUU06JpUuXxt///
vfd9Gng062qqioiIvbdd9+IiFiwYEFs2rSpzvF98MEHR7du3eoc33379o2OHTtmxpxyyimRTqczZz7NnTu3zhxbxvhZD7tHTU1NPPTQQ7Fu3boYNGiQYxv2AiNHjozTTjttq2PQ8Q250zTfAdja+
++/
HzU1NXW+gUVEdOzYMV599dU8pQKysWrVqoiIbR7HW7atWrUqysvL62xv2rRp7LvvvnXGdO/
efas5tmxr27Zto+QH/qG2tjZGjx4dxx13XPTp0yci/nHsNW/ePMrKyuqM/
eTxva3jf8u2HY1Jp9Px0UcfRcuWLRvjI8Gn3ksvvRSDBg2KDRs2RJs2beLRRx+N3r17x6JFixzbsAd76KGHYuHChTFv3ryttvnZDbmjSAQA2I6RI0fGyy+/
HE8//XS+owA50qtXr1i0aFFUVVXFI488EsOHD4/
Zs2fnOxawC1asWBGXX355zJgxI1q0aJHvOLBXc2lzAWrfvn00adJkqydIvfvuu1FRUZGnVEA2thyrOzqOKyoqtnqA0ubNm+PDDz+sM2Zbc3x8H0DjuPTSS+Oxxx6LmTNnRpcuXTLrKyoqYuPGjbF69eo64z95fNd37G5vTElJiTMaoBE1b948evToEUceeWSMHz8+DjvssLj11lsd27AHW7BgQVRWVsYRRxwRTZs2jaZNm8bs2bPj5z//
eTRt2jQ6duzo+IYcUSQWoObNm8eRRx4ZTzzxRGZdbW1tPPHEEzFo0KA8JgMaqnv37lFRUVHnOE6n0/
Hcc89ljuNBgwbF6tWrY8GCBZkxTz75ZNTW1sbRRx+dGfPUU0/
Fpk2bMmNmzJgRvXr1clkzNJIkSeLSSy+NRx99NJ588smtbi9w5JFHRrNmzeoc30uXLo3ly5fXOb5feumlOv9ZMGPGjCgpKYnevXtnxnx8ji1j/
KyH3au2tjaqq6sd27AH+/znPx8vvfRSLFq0KLMMGDAgzjvvvMyfHd+QI/
l+2gvb9tBDDyXFxcXJfffdlyxZsiS56KKLkrKysjpPkALya82aNckLL7yQvPDCC0lEJLfcckvywgsvJG+99VaSJEkyYcKEpKysLPn973+fLF68ODnjjDOS7t27Jx999FFmji9+8YtJ//79k+eeey55+umnk549eybnnHNOZvvq1auTjh07Jl//
+teTl19+OXnooYeSVq1aJXfcccdu/7zwaXHJJZckpaWlyaxZs5KVK1dmlvXr12fGXHzxxUm3bt2SJ598Mpk/
f34yaNCgZNCgQZntmzdvTvr06ZMMGTIkWbRoUTJ16tSkQ4cOydixYzNj3nzzzaRVq1bJ9773veSVV15Jbr/99qRJkybJ1KlTd+vnhU+Tq666Kpk9e3aybNmyZPHixclVV12VpFKpZPr06UmSOLZhb/
LxpzYnieMbckWRWMBuu+22pFu3bknz5s2TgQMHJs8+
+2y+IwEfM3PmzCQitlqGDx+eJEmS1NbWJj/4wQ+Sjh07JsXFxcnnP//5ZOnSpXXm+OCDD5JzzjknadOmTVJSUpKMGDEiWbNmTZ0xL774YnL88ccnxcXFyX777ZdMmDBhd31E+FTa1nEdEcm9996bGfPRRx8l//
qv/5q0bds2adWqVXLWWWclK1eurDPPX//61+TUU09NWrZsmbRv3z75t3/7t2TTpk11xsycOTM5/
PDDk+bNmycHHnhgnX0AuffNb34z2X///ZPmzZsnHTp0SD7/
+c9nSsQkcWzD3uSTRaLjG3IjlSRJkp9zIQEAAACAPYV7JAIAAAAA9VIkAgAAAAD1UiQCAAAAAPVSJAIAAAAA9VIkAgAAAAD1UiQCAAAAAPVSJAIAAAAA9VIkAgAAAAD1UiQCALBLzj///
DjzzDPzHQMAgEbWNN8BAAAoXKlUaofbr7nmmrj11lsjSZLdlAgAgHxRJAIAsF0rV67M/
Pnhhx+OcePGxdKlSzPr2rRpE23atMlHNAAAdjOXNgMAsF0VFRWZpbS0NFKpVJ11bdq02erS5s997nNx2WWXxejRo6Nt27bRsWPHmDx5cqxbty5GjBgR+
+yzT/To0SMef/zxOvt6+eWX49RTT402bdpEx44d4+tf/3q8//77u/
kTAwCwPYpEAABy7v7774/27dvH888/
H5dddllccsklMWzYsDj22GNj4cKFMWTIkPj6178e69evj4iI1atXx8knnxz9+/
eP+fPnx9SpU+Pdd9+Ns88+O8+fBACALRSJAADk3GGHHRZXX3119OzZM8aOHRstWrSI9u3bx7e+9a3o2bNnjBs3Lj744INYvHhxRET84he/
iP79+8eNN94YBx98cPTv3z/uueeemDlzZvzlL3/J86cBACDCPRIBAGgE/fr1y/
y5SZMm0a5du+jbt29mXceOHSMiorKyMiIiXnzxxZg5c+Y277f4xhtvxEEHHdTIiQEAqI8iEQCAnGvWrFmd16lUqs66LU+Drq2tjYiItWvXxtChQ+Omm27aaq5OnTo1YlIAABpKkQgAQN4dccQR8bvf/
S4OOOCAaNrUr6gAAIXIPRIBAMi7kSNHxocffhjnnHNOzJs3L954442YNm1ajBgxImpqavIdDwCAUCQCAFAAOnfuHM8880zU1NTEkCFDom/
fvjF69OgoKyuLoiK/
sgIAFIJUkiRJvkMAAAAAAIXNf+8CAAAAAPVSJAIAAAAA9VIkAgAAAAD1UiQCAAAAAPVSJAIAAAAA9VIkAgAAAAD1UiQCAAAAAPVSJAIAAAAA9VIkAgAAAAD1UiQCAAAAAPVSJAIAAAAA9fr/69rU3GXzAVEAAAAASUVORK5CYII=",

      "text/plain": [
       "<figure size="" 1600x1200="" with="" 3="" axes="">"
      ]
     },
     "metadata": {},
     "output_type": "display_data"
    }
   ],
   "source": [
    "fig, axes = plt.subplots(3, 1, figsize=(16, 12))\n",
    "counts = ['ag_in_sys','ag_in_queue','ag_in_service']\n",
    "labels = ['system', 'queue', 'service']\n",
    "colors = ['red', 'blue', 'black']\n",
    "\n",
    "for i in range(3):\n",
    "    mm1_bench.plot(y= counts[i], \n",
    "                   use_index=True, ax=axes[i], 
linewidth=2,drawstyle='steps-mid', color=f'{colors[i]}',\n",
    "                   ylabel=f'Agent number in {labels[i]}', 
xlabel='Time', ylim=[0,max(mm1_bench['ag_in_sys']+1)])\n",
    "    "
   ]
  },
  {
   "cell_type": "markdown",
   "id": "c2c232c1-a742-4cc7-86d6-3f1edf1bb166",
   "metadata": {},
   "source": [
    "## Annexe\n",
    "\n",
    "-----------"
   ]
  },
  {
   "cell_type": "code",
   "execution_count": 577,
   "id": "c918d6ee",
   "metadata": {
    "slideshow": {
     "slide_type": "subslide"
    }
   },
   "outputs": [
    {
     "data": {
      "image/png": 
"iVBORw0KGgoAAAANSUhEUgAABRIAAAPbCAYAAAAglnf0AAAAOXRFWHRTb2Z0d2FyZQBNYXRwbG90bGliIHZlcnNpb24zLjcuMSwgaHR0cHM6Ly9tYXRwbG90bGliLm9yZy/
bCgiHAAAACXBIWXMAAA9hAAAPYQGoP6dpAABu4klEQVR4nOzdf5xVdZ0/8PeFQRBwZpBhEgx//
whUBMPfWq25WX3FtMJN8SvaD1fXMmNdjSxNzbDWdrHcryaVpmW66z7CrV1/tFuorJa/
wl8UqUtihQ0IzIgEOMz9/kHMOsyPzz1z7517Z+b5fDzuQ+fcc895n8/5nM8558X9kcvn8/
kAAAAAAOjBkEoXAAAAAABUP0EiAAAAAJAkSAQAAAAAkgSJAAAAAECSIBEAAAAASBIkAgAAAABJgkQAAAAAIEmQCAAAAAAk1VS6gGK0tbXFH/7wh9hpp50il8tVuhwAAAAA6Ffy+Xy89tprMWHChBgypOf3HPbrIPEPf/
hDTJw4sdJlAAAAAEC/9vLLL8db3/
rWHufp10HiTjvtFBFbN7S2trbC1QAAAABA/9LS0hITJ05sz9l60q+DxG0fZ66trRUkAgAAAEAvFfK1gX5sBQAAAABIEiQCAAAAAEmCRAAAAAAgqV9/
R2Ih8vl8tLa2xpYtWypdCv3E0KFDo6ampqDvBgAAAAAYLAZ0kLh58+ZYuXJlbNiwodKl0M+MHDkyxo8fHzvssEOlSwEAAACoCgM2SGxra4vly5fH0KFDY8KECbHDDjt4hxlJ+Xw+Nm/
eHKtWrYrly5fHvvvuG0OG+AYAAAAAgAEbJG7evDna2tpi4sSJMXLkyEqXQz+y4447xrBhw+Kll16KzZs3x4gRIypdEgAAAEDFDfi3Wnk3Gb2h3wAAAAB0JC0BAAAAAJIEiQAAAABAkiBxkFm0aFHkcrlYt25dpUsBAAAAoB8RJA4yRx11VKxcuTLq6uoqXQoAAAAA/
ciA/
dXmTtraIl59tXLrHzs2ogp+wGOHHXaIXXbZpdJlAAAAANDPVD7Z6iuvvhrR2Fi5R4YQ8957741jjjkm6uvrY+zYsXHiiSfGiy+
+2P78ww8/
HFOnTo0RI0bE9OnTY+HChZHL5WLJkiXJZW//0eZbbrkl6uvr47777otJkybF6NGj473vfW+sXLmyoFoXLVoUhx12WIwaNSrq6+vj6KOPjpdeeil+
+9vfxpAhQ+Lxxx/vMP/8+fNj9913j7a2tli7dm3MmjUrxo0bFzvuuGPsu++
+cfPNNxfcTgAAAAD0ncETJPYjr7/+esyZMycef/zx+K//
+q8YMmRInHLKKdHW1hYtLS0xY8aMOOigg+LJJ5+Mq666Ki655JKi1rdhw4a49tpr47bbbosHH3wwVqxYERdddFHyda2trXHyySfHO9/5znj66afjkUceiXPOOSdyuVzssccecfzxx3cKBm+
++eY466yzYsiQIfGFL3whli5dGvfcc0/86le/ihtuuCEaGhqK2hYAAAAAymPwfLS5H/
nQhz7U4e/vfOc7MW7cuFi6dGksXrw4crlcLFiwIEaMGBGTJ0+O3//+9/
GJT3yi1+t744034sYbb4y99947IiI++clPxpVXXpl8XUtLSzQ3N8eJJ57Y/tpJkya1P//
xj388zj333PiHf/
iHGD58eDz55JPxzDPPxN133x0REStWrIhp06bF9OnTIyJijz326PU2AAAAAFBe3pFYhZ5//
vk47bTTYq+99ora2tr2gG3FihWxbNmymDJlSowYMaJ9/
sMOO6yo9Y0cObI9CIyIGD9+fDQ1NSVft/
POO8dZZ50VJ5xwQsyYMSOuu+66Dh+JPvnkk2Po0KHxwx/
+MCK2foz6L/7iL9q357zzzos77rgjpk6dGhdffHE8/
PDDRW0HAAAAAOUzeN6ROHZsRAHhWFnXX6AZM2bE7rvvHgsWLIgJEyZEW1tbHHjggbF58+aylDZs2LAOf+dyucjn8wW99uabb44LLrgg7r333rjzzjvj85//
fPzkJz+JI444InbYYYc488wz4+abb44PfvCDcfvtt8d1113X/tr3ve998dJLL8V//Md/
xE9+8pN497vfHeeff35ce+21Jd0+AAAAAIo3eILEIUMixo2rdBVJr776aixbtiwWLFgQxx57bERELF68uP35/
fffP773ve/
Fpk2bYvjw4RER8dhjj1Wk1m2mTZsW06ZNi7lz58aRRx4Zt99+exxxxBERsfXjzQceeGD8v//3/6K1tTU+
+MEPdnjtuHHjYvbs2TF79uw49thj4+/
+7u8EiQAAAABVyEebq8yYMWNi7NixcdNNN8ULL7wQP/3pT2POnDntz59+
+unR1tYW55xzTvzqV7+K++67rz14y+VyfVrr8uXLY+7cufHII4/ESy+9FPfff388//
zzHb4ncdKkSXHEEUfEJZdcEqeddlrsuOOO7c9ddtllcffdd8cLL7wQzz33XPz4xz/
u8FoAAAAAqocgscoMGTIk7rjjjnjiiSfiwAMPjM985jPx93//9+3P19bWxo9+9KNYsmRJTJ06NS699NK47LLLIiI6fG9iXxg5cmT8+te/
jg996EOx3377xTnnnBPnn39+/PVf/3WH+T72sY/F5s2b46Mf/
WiH6TvssEPMnTs3pkyZEu94xzti6NChcccdd/TlJgAAAABQoFy+0C/
Dq0ItLS1RV1cXzc3NUVtb2+G5jRs3xvLly2PPPffs84Ctr33/
+9+Ps88+O5qbmzu8469aXHXVVfEv//
Iv8fTTT1e6lIINpv4DAAAADF495WvbGzzfkTiA3HrrrbHXXnvFrrvuGk899VRccsklceqpp1ZdiLh+/
fr47W9/
G9dff3186UtfqnQ5AAAAABTBR5v7oVdeeSXOOOOMmDRpUnzmM5+JmTNnxk033RQREeeee26MHj26y8e5556beV3dLWv06NHx0EMP9fjaT37yk/
H2t7893vWud3X6WDMAAAAA/
YuPNg8wTU1N0dLS0uVztbW10djYmGl5L7zwQrfP7brrrlX3LshSGaz9BwAAABhcfLR5EGtsbMwcFvZkn332KdmyAAAAAOi/
fLQZAAAAAEgSJAIAAAAASYJEAAAAACBJkAgAAAAAJAkSAQAAAIAkQeIgs2jRosjlcrFu3bpKlwIAAABAPyJIHGSOOuqoWLlyZdTV1VW6FAAAAAD6kZpKF9BX2toiXn21cusfOzZiSBXEtjvssEPssssulS4DAAAAgH6m4tHW73//
+zjjjDNi7NixseOOO8ZBBx0Ujz/
+eMnX8+qrEY2NlXtkCTHvvffeOOaYY6K+vj7Gjh0bJ554Yrz44ovtzz/88MMxderUGDFiREyfPj0WLlwYuVwulixZklz29h9tvuWWW6K+vj7uu+
++mDRpUowePTre+973xsqVKwuqdcuWLTFnzpz2Wi+++OKYPXt2nHzyye3z7LHHHjF//
vwOr5s6dWp88YtfbP973bp18fGPfzzGjRsXtbW1cdxxx8VTTz3V/
vxZZ53VYZkRERdeeGG8613vav+7ra0t5s2bF3vuuWfsuOOOcfDBB8ddd91V0HYAAAAA0LOKBolr166No48+OoYNGxb33HNPLF26NL72ta/
FmDFjKllWxb3++usxZ86cePzxx+O//uu/
YsiQIXHKKadEW1tbtLS0xIwZM+Kggw6KJ598Mq666qq45JJLilrfhg0b4tprr43bbrstHnzwwVixYkVcdNFFBb32a1/7Wtxyyy3xne98JxYvXhxr1qyJH/7wh5lrmDlzZjQ1NcU999wTTzzxRBxyyCHx7ne/
O9asWVPwMubNmxe33npr3HjjjfHcc8/FZz7zmTjjjDPigQceyFwPAAAAAB1V9KPNX/
nKV2LixIlx8803t0/bc889K1hRdfjQhz7U4e/
vfOc7MW7cuFi6dGksXrw4crlcLFiwIEaMGBGTJ0+O3//+9/
GJT3yi1+t744034sYbb4y99947IiI+
+clPxpVXXlnQa+fPnx9z586ND37wgxERceONN8Z9992Xaf2LFy+ORx99NJqammL48OEREXHttdfGwoUL46677opzzjknuYxNmzbFl7/85fjP//
zPOPLIIyMiYq+99orFixfHN7/5zXjnO9+ZqSYoq9bWiLVrC59/
zJiImgKH6+6WnWUZfa2n9qjmuquBtgMYvJwDYHDKei+RVbnGj/54n0KXKvqOxH/7t3+L6dOnx8yZM6OxsTGmTZsWCxYsqGRJVeH555+P0047Lfbaa6+ora2NPfbYIyIiVqxYEcuWLYspU6bEiBEj2uc/7LDDilrfyJEj20PEiIjx48dHU1NT8nXNzc2xcuXKOPzww9un1dTUxPTp0zOt/6mnnor169fH2LFjY/
To0e2P5cuXd/hId09eeOGF2LBhQ/
zlX/5lh2XceuutBS8D+sT3vhfR0JDtuxEaGra+rphlF7qMvpZqj2qtuxpoO4DByzkABqfe3EtkfZRj/
OiP9yl0q6Kx7//8z//EDTfcEHPmzInPfe5z8dhjj8UFF1wQO+ywQ8yePbvT/
Js2bYpNmza1/93S0lLwusaOjSggGyubsWMLn3fGjBmx+
+67x4IFC2LChAnR1tYWBx54YGzevLkstQ0bNqzD37lcLvL5fMmWP2TIkE7Le+ONN9r/
f/369TF+/
PhYtGhRp9fW19cXvIyIiH//93+PXXfdtcN8297lCBXX2hrxyU9GNDdne11z89bXfeQj3f9rXWrZhSyjrxXSHtVYdzXQdgCDl3MADE69vZfIqtTjR3+8T6FHFd1LbW1tMX369Pjyl78cERHTpk2LZ599Nm688cYug8R58+bFFVdc0at1DRkSMW5cUeX2iVdffTWWLVsWCxYsiGOPPTYitn70d5v9998/
vve978WmTZvaA7LHHnusIrXW1dXF+PHj4xe/
+EW84x3viIiI1tbW9u843GbcuHEdfrylpaUlli9f3v73IYccEq+88krU1NS0v/
tye+PGjYtnn322w7QlS5a0h6CTJ0+O4cOHx4oVK3yMmeq1dm3vT/
zNzVtf391AVsiyU8voa4W2R7XVXQ20HcDg5RwAg1Mx9xJZlXL86I/3KfSooh9tHj9+fEyePLnDtEmTJsWKFSu6nH/
u3LnR3Nzc/nj55Zf7osw+NWbMmBg7dmzcdNNN8cILL8RPf/
rTmDNnTvvzp59+erS1tcU555wTv/rVr+K+++6La6+9NiK2vpOwr33605+Oa665JhYuXBi//
vWv42/+5m/
afxF6m+OOOy5uu+22eOihh+KZZ56J2bNnx9ChQ9ufP/744+PII4+Mk08+Oe6///747W9/
Gw8//HBceuml7b/gfdxxx8Xjjz8et956azz//
PNx+eWXdwgWd9ppp7joooviM5/5THz3u9+NF198MZ588sn4xje+Ed/97nf7pC0AAAAABrKKviPx6KOPjmXLlnWY9pvf/
CZ23333LucfPnz4gP+Y6pAhQ+KOO+6ICy64IA488MDYf//94+tf/3q8613vioiI2tra+NGPfhTnnXdeTJ06NQ466KC47LLL4vTTT+/
wvYl95W//9m9j5cqVMXv27BgyZEh89KMfjVNOOSWa3/
QvDnPnzo3ly5fHiSeeGHV1dXHVVVd1eEdiLpeL//
iP/4hLL700zj777Fi1alXssssu8Y53vCPe8pa3RETECSecEF/4whfi4osvjo0bN8ZHP/
rROPPMM+OZZ55pX85VV10V48aNi3nz5sX//M//RH19fRxyyCHxuc99ru8aBLJaunTr94Jsb/
XqiO3+oSWzhx6K+PM7m/uNpUu3/rfYbR+MtB3A4OUcAINTd/cSWZXi3iOL/
nifQrtcvpRfhpfRY489FkcddVRcccUVceqpp8ajjz4an/jEJ+Kmm26KWbNmJV/
f0tISdXV10dzcHLW1tR2e27hxYyxfvjz23HPPigRsfen73/9+nH322dHc3Bw77rhjpcuJs846K9atWxcLFy6sdCm9Npj6D31o1aqtXyj8Zk1NXb+FP8u83c3/3HMRBxxQ+DL6WnfbGJFt2wcjbQcweDkHwOCU9f6gmpdd7fcpg1BP+dr2KvqOxEMPPTR+
+MMfxty5c+PKK6+MPffcM+bPn19QiDiY3XrrrbHXXnvFrrvuGk899VRccsklceqpp1ZFiAgAAADAwFTxn8Q58cQT48QTT6x0Gf3KK6+8Epdddlm88sorMX78+Jg5c2ZcffXVERFx7rnnxve6+en0M844I2688cZM6xo9enS3z91zzz3tPwgDAAAAwMBW8SCR7C6+
+OK4+OKLu3zuyiuvjIsuuqjL51JvT+3KkiVLun1u11137XL6Lbfcknk9AAAAAFQ3QeIA09jYGI3bf/9AEfbZZ5+SLQsAAACA/
mtIpQsAAAAAAKqfIBEAAAAASBIkAgAAAABJgkQAAAAAIEmQCAAAAAAkCRIHmUWLFkUul4t169ZVupSi5HK5WLhwYaXLAAAAABg0aipdAH3rqKOOipUrV0ZdXV2lSynKypUrY8yYMZUuAwAAAGDQECQOMjvssEPssssulS6jW2+88UYMGzYsOV81bwMAAADAQDRoPtrc1tYWq1atqtijra2t4FrvvffeOOaYY6K+vj7Gjh0bJ554Yrz44ovtzz/88MMxderUGDFiREyfPj0WLlwYuVwulixZklz29h9tvuWWW6K+vj7uu+
++mDRpUowePTre+973xsqVKwuqddGiRXHYYYfFqFGjor6+Po4++uh46aWX2p+/+
+6745BDDokRI0bEXnvtFVdccUW0tra2P5/
L5eKGG26Ik046KUaNGhVXXXVVvPWtb40bbrihw3p++ctfxpAhQ9qXvf1Hm3/3u9/
FaaedFjvvvHOMGjUqpk+fHr/4xS8KrgMAAACAng2adyS++uqr0djYWLH1NzU1xbhx4wqa9/
XXX485c+bElClTYv369XHZZZfFKaecEkuWLIn169fHjBkz4v3vf3/
cfvvt8dJLL8WFF15YVG0bNmyIa6+9Nm677bYYMmRInHHGGXHRRRfF97///
R5f19raGieffHJ84hOfiB/84AexefPmePTRRyOXy0VExEMPPRRnnnlmfP3rX49jjz02XnzxxTjnnHMiIuLyyy9vX84Xv/
jFuOaaa2L+/PlRU1MTf/rTn+L222+P8847r32e73//
+3H00UfH7rvv3qmO9evXxzvf+c7Ydddd49/
+7d9il112iSeffLI9vC20DgAAAAC6N2iCxP7kQx/6UIe/v/
Od78S4ceNi6dKlsXjx4sjlcrFgwYIYMWJETJ48OX7/+9/
HJz7xiV6v74033ogbb7wx9t5774iI+OQnPxlXXnll8nUtLS3R3NwcJ554YvtrJ02a1P78FVdcEZ/97Gdj9uzZERGx1157xVVXXRUXX3xxhwDv9NNPj7PPPrv971mzZsXXvva1WLFiRey2227R1tYWd9xxR3z+85/
vso7bb789Vq1aFY899ljsvPPOERGxzz77ZK4DAAAAgO4Nmo829yfPP/98nHbaabHXXntFbW1t7LHHHhERsWLFili2bFlMmTIlRowY0T7/
YYcdVtT6Ro4c2R4ERkSMHz8+mpqakq/
beeed46yzzooTTjghZsyYEdddd12Hj0Q/9dRTceWVV8bo0aPbH5/4xCdi5cqVsWHDhvb5pk+f3mG5U6dOjUmTJsXtt98eEREPPPBANDU1xcyZM7usY8mSJTFt2rT2EHF7hdYBAAAAQPcEiVVoxowZsWbNmliwYEH84he/
aP+uv82bN5dlfdv/uEkul4t8Pl/Qa2+++eZ45JFH4qijjoo777wz9ttvv/j5z38eEVs/
cnzFFVfEkiVL2h/
PPPNMPP/88x2C0FGjRnVa7qxZs9qDxNtvvz3e+973xtixY7usYccdd+yxxkLrAAAAAKB7g+ajzWPHji3oXXblXH8hXn311Vi2bFksWLAgjj322IiIWLx4cfvz+
++/
f3zve9+LTZs2xfDhwyMi4rHHHit9wRlMmzYtpk2bFnPnzo0jjzwybr/99jjiiCPikEMOiWXLlnX4mHGhTj/99Pj85z8fTzzxRNx1111x4403djvvlClT4lvf+lasWbOmy3clFlMHAAAAAFsNmiBxyJAhBf/
YSSWNGTMmxo4dGzfddFOMHz8+VqxYEZ/97Gfbnz/99NPj0ksvjXPOOSc+
+9nPxooVK+Laa6+NiGj/
kZO+snz58rjpppvipJNOigkTJsSyZcvi+eefjzPPPDMiIi677LI48cQTY7fddosPf/
jDMWTIkHjqqafi2WefjS996Us9LnuPPfaIo446Kj72sY/Fli1b4qSTTup23tNOOy2+/
OUvx8knnxzz5s2L8ePHxy9/
+cuYMGFCHHnkkUXVAQAAAMBWPtpcZYYMGRJ33HFHPPHEE3HggQfGZz7zmfj7v//79udra2vjRz/6USxZsiSmTp0al156aVx22WUREX3+Md2RI0fGr3/96/
jQhz4U++23X5xzzjlx/vnnx1//9V9HRMQJJ5wQP/7xj+P++++PQw89NI444oj4x3/8xy5/
ebkrs2bNiqeeeipOOeWUHj+
+vMMOO8T9998fjY2N8f73vz8OOuiguOaaa2Lo0KElqQMAAACAiFy+0C/
Dq0ItLS1RV1cXzc3NUVtb2+G5jRs3xvLly2PPPfcc8N+D9/3vfz/
OPvvsaG5uTn5fIIUZTP2HPrRqVURjY8dpTU0RXb1bOsu83c3/3HMRBxxQ+DL6WnfbGJFt2wcjbQcweDkHwOCU9f6gmpdd7fcpg1BP+dr2Bs1HmweSW2+9Nfbaa6/
Ydddd46mnnopLLrkkTj31VCEiAAAAAGXjo8390CuvvBJnnHFGTJo0KT7zmc/
EzJkz46abboqIiHPPPTdGjx7d5ePcc8/NvK7uljV69Oh46KGHSr1pAAAAAFQp70jshy6+
+OK4+OKLu3zuyiuvjIsuuqjL51JvT+3KkiVLun1u1113zbw8AAAAAPonQeIA09jYGI3bf/9AEfbZZ5+SLQsAAACA/
mvAf7S5H/
+WDBWk3wAAAAB0NGCDxGHDhkVExIYNGypcCf3Rtn6zrR8BAAAADHYD9qPNQ4cOjfr6+mhqaoqIiJEjR0Yul6twVVS7fD4fGzZsiKampqivr4+hQ4dWuiQAAACAqjBgg8SIiF122SUioj1MhELV19e39x8AAAAABniQmMvlYvz48dHY2BhvvPFGpcuhnxg2bJh3IgIAAABsZ0AHidsMHTpUMAQAAAAARRiwP7YCAAAAAJSOIBEAAAAASBIkAgAAAABJgkQAAAAAIEmQCAAAAAAkCRIBAAAAgCRBIgAAAACQJEgEAAAAAJIEiQAAAABAkiARAAAAAEgSJAIAAAAASYJEAAAAACBJkAgAAAAAJAkSAQAAAIAkQSIAAAAAkCRIBAAAAACSBIkAAAAAQJIgEQAAAABIEiQCAAAAAEmCRAAAAAAgSZAIAAAAACQJEgEAAACAJEEiAAAAAJAkSAQAAAAAkgSJAAAAAECSIBEAAAAASBIkAgAAAABJgkQAAAAAIEmQCAAAAAAkCRIBAAAAgCRBIgAAAACQJEgEAAAAAJIEiQAAAABAkiARAAAAAEgSJAIAAAAASYJEAAAAACBJkAgAAAAAJAkSAQAAAIAkQSIAAAAAkCRIBAAAAACSBIkAAAAAQJIgEQAAAABIEiQCAAAAAEmCRAAAAAAgSZAIAAAAACQJEgEAAACAJEEiAAAAAJAkSAQAAAAAkgSJAAAAAECSIBEAAAAASBIkAgAAAABJgkQAAAAAIEmQCAAAAAAkCRIBAAAAgCRBIgAAAACQJEgEAAAAAJIEiQAAAABAkiARAAAAAEgSJAIAAAAASYJEAAAAACBJkAgAAAAAJAkSAQAAAIAkQSIAAAAAkCRIBAAAAACSBIkAAAAAQJIgEQAAAABIEiQCAAAAAEmCRAAAAAAgSZAIAAAAACQJEgEAAACAJEEiAAAAAJAkSAQAAAAAkgSJAAAAAECSIBEAAAAASBIkAgAAAABJgkQAAAAAIEmQCAAAAAAkCRIBAAAAgCRBIgAAAACQJEgEAAAAAJIEiQAAAABAkiARAAAAAEgSJAIAAAAASYJEAAAAACBJkAgAAAAAJAkSAQAAAIAkQSIAAAAAkCRIBAAAAACSBIkAAAAAQJIgEQAAAABIEiQCAAAAAEmCRAAAAAAgSZAIAAAAACQJEgEAAACAJEEiAAAAAJAkSAQAAAAAkgSJAAAAAECSIBEAAAAASBIkAgAAAABJgkQAAAAAIKmiQeIXv/
jFyOVyHR5ve9vbKlkSAAAAANCFmkoXcMABB8R//ud/
tv9dU1PxkgAAAACA7VQ8taupqYlddtml0mUwGLW2Rqxdm+01Y8ZEFBN292adhSq2Nkpv+/29evXWyTE01saYP0/
Ldf3a1bmIaIiIiDGxNmpiS/vru56/
i2WvGZpeRrn6TSF9vcf26KHuwdrX39ymvW277mRp0/44jmWtebD2MaBfKegckFxIGcf0nhhn/1d/
PK9SekVfOxepkHuP7ftToX23t/cpWejrfStfQZdffnl+5MiR+fHjx+f33HPP/
Omnn55/6aWXCn59c3NzPiLyzc3NZaySAem22/
L5urp8PiLbo65u62v7cp19URul183+vi1m5etibbZdG2vzt8Ws5Iw9LbvbZZSj32To66n26LLuwdjXu2jTXrVdseNHfxzHelPzYOxjQP/
R1FT4OaCpqfvllHtMN86m9cfzKqVXwmvnknSbQu4bMvbdXt2n6Ot9Kku+lsvn8/
lKhZj33HNPrF+/
Pvbff/9YuXJlXHHFFfH73/8+nn322dhpp506zb9p06bYtGlT+98tLS0xceLEaG5ujtra2r4snf6stTWioSGiubl3r6+r2/
qvJVn+xaPYdRaqN7VRet3s79YYGg2xOpqjPvMi62JdrI6Gbt9dUMiyu11GKftNhr5eaHt0Wfdg6utdtGlRbdftzIk27Y/
jWDE1D6Y+BvQrrStXRcOEYYWdA/7wRtSMH9fFQvpoTO/JYB9n++N5ldIrw7VzKfR43/
DHP0a85S0F992i7lMyFa2vF6OlpSXq6uoKytcq+mMr73vf+2LmzJkxZcqUOOGEE+I//uM/
Yt26dfHP//zPXc4/
b968qKura39MnDixjytmQFi7trgTdnNz9o8fFLvOQvWmNkqvm/29Nsb0+sTfHPX/
+1GArlZZwLK7XUYp+02Gvl5oe3RZ92Dq6120aVFt1+3MiTbtj+NYMTUPpj4G9Ctr1+UKPwes6+Zjj301pvdksI+z/
fG8SumV4dq5FHq8b3jxxUx9t6j7lCz09T5T0SBxe/
X19bHffvvFCy+80OXzc+fOjebm5vbHyy+/3McVAgAAAMDgVFXv+Vy/fn28+OKL8X//7//
t8vnhw4fH8OHD+7gqBoWlS7e+pbwrq1dHTJ7ct+ssVLlqo/SWLo2IcRGTO0/uqht0uWuX/
iqioZtvo1id67Tshx6KOPbYLpYRq/
q233S7kZ1rXrp06387lbf4vyOO2b8s5fVLi/874piOk7ptu+76TSnGj/44jmU66AD6h6WL10RExORjdi5iISUY03tinE3rj+dVSi/
jtXMpDttu7z0KvW/o8X46w31Kd/c6XS5XX6+UigaJF110UcyYMSN23333+MMf/
hCXX355DB06NE477bRKlsVg1NAQMa6L748ZaOukchoaYtsvk20/
ueBu0NAQkaHL7NzVvURDQ0T08VfjZtjIbi+EutyYQayL9ui27TL2m0z64zjWH2sGSGjYua0ECzE+Vpx9QETma+eydZks9w0ZC+n2PkX37xcqGiT+7ne/
i9NOOy1effXVGDduXBxzzDHx85//
PMYZPAEAAACgqlQ0SLzjjjsquXoAAAAAoEBV9WMrAAAAAEB1EiQCAAAAAEmCRAAAAAAgSZAIAAAAACQJEgEAAACAJEEiAAAAAJAkSAQAAAAAkgSJAAAAAECSIBEAAAAASBIkAgAAAABJgkQAAAAAIEmQCAAAAAAkCRIBAAAAgCRBIgAAAACQJEgEAAAAAJIEiQAAAABAkiARAAAAAEgSJAIAAAAASYJEAAAAACBJkAgAAAAAJAkSAQAAAIAkQSIAAAAAkCRIBAAAAACSBIkAAAAAQJIgEQAAAABIEiQCAAAAAEmCRAAAAAAgSZAIAAAAACQJEgEAAACAJEEiAAAAAJAkSAQAAAAAkgSJAAAAAECSIBEAAAAASBIkAgAAAABJgkQAAAAAIEmQCAAAAAAkCRIBAAAAgCRBIgAAAACQJEgEAAAAAJIEiQAAAABAkiARAAAAAEgSJAIAAAAASYJEAAAAACBJkAgAAAAAJAkSAQAAAIAkQSIAAAAAkCRIBAAAAACSBIkAAAAAQJIgEQAAAABIEiQCAAAAAEmCRAAAAAAgSZAIAAAAACQJEgEAAACAJEEiAAAAAJAkSAQAAAAAkgSJAAAAAECSIBEAAAAASBIkAgAAAABJgkQAAAAAIEmQCAAAAAAkCRIBAAAAgCRBIgAAAACQJEgEAAAAAJIEiQAAAABAkiARAAAAAEgSJAIAAAAASYJEAAAAACBJkAgAAAAAJAkSAQAAAIAkQSIAAAAAkCRIBAAAAACSBIkAAAAAQJIgEQAAAABIEiQCAAAAAEmCRAAAAAAgSZAIAAAAACQJEgEAAACAJEEiAAAAAJAkSAQAAAAAkgSJAAAAAECSIBEAAAAASBIkAgAAAABJgkQAAAAAIEmQCAAAAAAkCRIBAAAAgCRBIgAAAACQJEgEAAAAAJIEiQAAAABAkiARAAAAAEgSJAIAAAAASYJEAAAAACBJkAgAAAAAJAkSAQAAAIAkQSIAAAAAkCRIBAAAAACSBIkAAAAAQJIgEQAAAABIEiQCAAAAAEmCRAAAAAAgSZAIAAAAACQJEgEAAACAJEEiAAAAAJAkSAQAAAAAkgSJAAAAAECSIBEAAAAASBIkAgAAAABJgkQAAAAAIEmQCAAAAAAkCRIBAAAAgCRBIgAAAACQJEgEAAAAAJIEiQAAAABAkiARAAAAAEgSJAIAAAAASYJEAAAAACBJkAgAAAAAJAkSAQAAAIAkQSIAAAAAkCRIBAAAAACSBIkAAAAAQJIgEQAAAABIEiQCAAAAAEmCRAAAAAAgSZAIAAAAACQJEgEAAACAJEEiAAAAAJAkSAQAAAAAkgSJAAAAAECSIBEAAAAASKqaIPGaa66JXC4XF154YaVLAQAAAAC2UxVB4mOPPRbf/
OY3Y8qUKZUuBQAAAADoQk2lC1i/
fn3MmjUrFixYEF/60pcqXQ4DVWtrxNq1W/9/9eqtk2JorI0xf56W6/61q3MR0RAREWNibdTElvZlFCzrOgtebhe1kd2b+0cpdLO/
M/aa7hab+bnO8/Wi3xTaRhn6epbDaPWaIdHr43DMmIiaEp/
uStVnuqpt+2V30aZb26Mw3TZT1rGt2sax7vZBF21aUM3GU6guWcfZYsf6Ul8LFCN1blizNraNV0lr1kSsyneeXq4xvSfG2S71yXm1ktdMg1kh40qZrp1Lodv7hjVrIqLwvpvtPiVLgcaUislX2Jlnnpm/8MIL8/
l8Pv/Od74z/+lPf7rg1zY3N+cjIt/
c3Fym6hgQbrstn6+ry+cj2h+3xax8Xax986SCHnWxNn9bzMr2oiLXmbm2pqZKt3j/0kX/
KMWj0P3d3e5qaiq+jOeeK1G/
ydhGxfT1pqb0tmc+Duvqtm5DNfaZ7WvrZtmFtGkhbVdsm1bNONbTPnhzmzY19apm4ylUWG/
G2WLG+jJdC5Tr3NAUDZ3PAUtX5ZuWruo8PRoqNqYbZxN6eY7qVTv3xXFERxnGlWKvnUuhkGvIN/
enYvtuIfcpxpS+lSVfy+Xz+XylQsw77rgjrr766njsscdixIgR8a53vSumTp0a8+fP73L+TZs2xaZNm9r/
bmlpiYkTJ0Zzc3PU1tb2UdX0K62tEQ0NEc3N/zsphkZDrI7mqO/
VIutiXayOhkz/4lHsOgtVF+ti9R/
eiJrx48q6ngGji/5RksVm2N9NTRHjuthdq1ZFNDYWV8dzz0UccEB6vh77TcY2KravNzVt/
W9q2zMfh3V1W/+Zs9h/
ZS9Hn9lWW0SXyy60TQttu27LSLRp1YxjheyDP7dp66q10TBhWK9qNp5ChRQzzvZmrC/
TtUDRejg3rIqGaIxVHWZvWrp13sbJHd+p2BTjYlwXn4noqzG9J4N9nG1duarX56gsKnbNNJhlGFdKce3c1b1EVoXee9TFuvhjvCXeEn8squ8Wep+SxWAfU4rV0tISdXV1BeVrFfuOxJdffjk+/
elPx/e///0YMWJEQa+ZN29e1NXVtT8mTpxY5irp99au7TSAr40xRQ16zVH/v2/
hLrSMItdZqOaoj7XryvyxlIGki/5RksUWuL/
r6rZ+gqQrY8Zsfb636uoi9t67sGX02G8ytlExfX1bexSy7ZmPw+bm0nxkrRx9Zltt3Sy7kDbN0nbdlpFo06oZxwrZB39u07Xrcr2u2XgKFVLMONubsb5M1wJFS5wbOqmv3/
ooUF+N6T0Z7ONsMeeoLCp2zTSYZRhXSnHtXAqFXkM2R328GHsX1Xez3KdkMdjHlL5UsSDxiSeeiKampjjkkEOipqYmampq4oEHHoivf/3rUVNTE1u2dP4Xk7lz50Zzc3P74+WXX65A5QDFq6uLuP767v+xt6Zm6/
O9OcFuW/
bw4b1fRl97c3sUs+2DkbYDoP0kAAwKqXuJrPrqGrI/3qfQWcXONu9+97vjmWee6TDt7LPPjre97W1xySWXxNChQzu9Zvjw4TF8+PC+KpGBavF/
RxzTcdLSpVvffd6V1asjJk/
ebuLSX0U0ZPhWgNW5iO2W0dM6C17sb9bE5GN2Lm4hdFSSHZPe34V8l/
UZZ0R85CPZ/1H4zcvuahlF95seD5je9fXt22P7ujMfh12+oEyy9pkstS1dGhHjemzTVNtlKqPHNq3iceyhhyKOPbagWZcuXhMN+3Ven/
EUqlh3g025xvpSDG5ZZdmWLq5lu9XduF6mMb0nxtm07s5RWVT1NdNg1u04Vppr51Lo8r6hq+7x0OKI7S67Ch0/
UvcpWRhTKqdiQeJOO+0UBx54YIdpo0aNirFjx3aaDiW1c+fBpqEh43dLNDREFPnVC5nX2ZXVbUUugE5KsmNKt9iamuLL6bSMYvtNxo0p27aX4DgsiTL1mfZld/
HLnKlV9rrfZGzTqhnHuhjXu9Owc1vXNRtPoXqVc5ythvVllWHMyzKul32zjbNJ3Z6jil5wlVwzDWYZDrBKDkEFXUOW4n46y/
q6Y0ypmIp9tBkAAAAA6D+q6os0Fi1aVOkSAAAAAIAueEciAAAAAJAkSAQAAAAAkgSJAAAAAECSIBEAAAAASBIkAgAAAABJgkQAAAAAIEmQCAAAAAAkCRIBAAAAgCRBIgAAAACQJEgEAAAAAJIEiQAAAABAkiARAAAAAEgSJAIAAAAASYJEAAAAACBJkAgAAAAAJAkSAQAAAIAkQSIAAAAAkCRIBAAAAACSBIkAAAAAQJIgEQAAAABIEiQCAAAAAEmCRAAAAAAgSZAIAAAAACQJEgEAAACAJEEiAAAAAJAkSAQAAAAAkgSJAAAAAECSIBEAAAAASBIkAgAAAABJgkQAAAAAIEmQCAAAAAAkCRIBAAAAgCRBIgAAAACQJEgEAAAAAJIEiQAAAABAkiARAAAAAEgSJAIAAAAASYJEAAAAACBJkAgAAAAAJAkSAQAAAIAkQSIAAAAAkCRIBAAAAACSBIkAAAAAQJIgEQAAAABIEiQCAAAAAEmCRAAAAAAgSZAIAAAAACQJEgEAAACAJEEiAAAAAJAkSAQAAAAAknoVJN52221x9NFHx4QJE+Kll16KiIj58+fH3XffXdLiAAAAAIDqkDlIvOGGG2LOnDnx/
ve/
P9atWxdbtmyJiIj6+vqYP39+qesDAAAAAKpA5iDxG9/4RixYsCAuvfTSGDp0aPv06dOnxzPPPFPS4gAAAACA6pA5SFy+fHlMmzat0/
Thw4fH66+/
XpKiAAAAAIDqkjlI3HPPPWPJkiWdpt97770xadKkUtQEAAAAAFSZmqwvmDNnTpx//
vmxcePGyOfz8eijj8YPfvCDmDdvXnzrW98qR40AAAAAQIVlDhI//vGPx4477hif//
znY8OGDXH66afHhAkT4rrrrouPfOQj5agRAAAAAKiwzEFiRMSsWbNi1qxZsWHDhli/
fn00NjaWui4AAAAAoIpkDhKXL18era2tse+++8bIkSNj5MiRERHx/
PPPx7Bhw2KPPfYodY0AAAAAQIVl/rGVs846Kx5++OFO03/xi1/EWWedVYqaAAAAAIAqkzlI/
OUvfxlHH310p+lHHHFEl7/
mDAAAAAD0f5mDxFwuF6+99lqn6c3NzbFly5aSFAUAAAAAVJfMQeI73vGOmDdvXofQcMuWLTFv3rw45phjSlocAAAAAFAdMv/
Yyle+8pV4xzveEfvvv38ce+yxERHx0EMPRUtLS/
z0pz8teYEAAAAAQOVlfkfi5MmT4+mnn45TTz01mpqa4rXXXoszzzwzfv3rX8eBBx5YjhoBAAAAgArL/
I7EiIgJEybEl7/85VLXAgAAAABUqYKCxKeffjoOPPDAGDJkSDz99NM9zjtlypSSFAYAAAAAVI+CgsSpU6fGK6+8Eo2NjTF16tTI5XKRz+c7zZfL5fxyMwAAAAAMQAUFicuXL49x48a1/
z8AAAAAMLgUFCTuvvvu7f//lre8JUaMGFG2ggAAAACA6pP5V5sbGxtj9uzZ8ZOf/
CTa2trKURMAAAAAUGUyB4nf/
e53Y8OGDfGBD3wgdt1117jwwgvj8ccfL0dtAAAAAECVyBwknnLKKfEv//Iv8cc//jG+/
OUvx9KlS+OII46I/fbbL6688spy1AgAAAAAVFjmIHGbnXbaKc4++
+y4//774+mnn45Ro0bFFVdcUcraAAAAAIAq0esgcePGjfHP//
zPcfLJJ8chhxwSa9asib/7u78rZW0AAAAAQJUo6Feb3+y+++6L22+/PRYuXBg1NTXx4Q9/
OO6///54xzveUY76AAAAAIAqkDlIPOWUU2LGjBlx6623xvvf//4YNmxYOeoCAAAAAKpIpiCxtbU1vvKVr8TMmTNjl112KVdNAAAAAECVyfQdiTU1NXHJJZfEpk2bylUPAAAAAFCFMv/
YymGHHRa//OUvy1ELAAAAAFClMn9H4t/8zd/
E3/7t38bvfve7ePvb3x6jRo3q8PyUKVNKVhwAAAAAUB0yB4kf+chHIiLiggsuaJ+Wy+Uin89HLpeLLVu2lK46AAAAAKAqZA4Sly9fXo46AAAAAIAqljlI3H333ctRBwAAAABQxTL/2EpExG233RZHH310TJgwIV566aWIiJg/
f37cfffdJS0OAAAAAKgOmYPEG264IebMmRPvf//7Y926de3fiVhfXx/
z588vdX0AAAAAQBXIHCR+4xvfiAULFsSll14aQ4cObZ8+ffr0eOaZZ0paHAAAAABQHTIHicuXL49p06Z1mj58+PB4/
fXXS1IUAAAAAFBdMgeJe+65ZyxZsqTT9HvvvTcmTZpUipoAAAAAgCqT+Veb58yZE+eff35s3Lgx8vl8PProo/
GDH/wg5s2bF9/61rfKUSMAAAAAUGGZg8SPf/zjseOOO8bnP//52LBhQ5x+
+ukxYcKEuO666+IjH/
lIOWoEAAAAACosc5AYETFr1qyYNWtWbNiwIdavXx+NjY2lrgsAAAAAqCKZvyPxT3/6U2zYsCEiIkaOHBl/
+tOfYv78+XH//
feXvDgAAAAAoDpkDhI/8IEPxK233hoREevWrYvDDjssvva1r8UHPvCBuOGGG0peIAAAAABQeZmDxCeffDKOPfbYiIi46667YpdddomXXnopbr311vj6179e8gIBAAAAgMrLHCRu2LAhdtppp4iIuP/
+++ODH/xgDBkyJI444oh46aWXSl4gAAAAAFB5mYPEffbZJxYuXBgvv/
xy3HffffGe97wnIiKampqitra25AUCAAAAAJWXOUi87LLL4qKLLoo99tgjDj/88DjyyCMjYuu7E6dNm1byAgEAAACAyqvJ+oIPf/
jDccwxx8TKlSvj4IMPbp/+7ne/
O0455ZSSFgcAAAAAVIfMQWJExC677BK77LJLh2mHHXZYSQoCAAAAAKpP5o82AwAAAACDjyARAAAAAEgSJAIAAAAASYJEAAAAACCpVz+28vzzz8fPfvazaGpqira2tg7PXXbZZSUpDAAAAACoHpmDxAULFsR5550XDQ0Nscsuu0Qul2t/
LpfLCRIBAAAAYADKHCR+6UtfiquvvjouueSSctQDAAAAAFShzN+RuHbt2pg5c2Y5agEAAAAAqlTmIHHmzJlx//33l6MWAAAAAKBKZf5o8z777BNf+MIX4uc//3kcdNBBMWzYsA7PX3DBBSUrDgAAAACoDpmDxJtuuilGjx4dDzzwQDzwwAMdnsvlcoJEAAAAABiAMgeJy5cvL0cdAAAAAEAVy/
wdiQAAAADA4FPQOxLnzJkTV111VYwaNSrmzJnT47z/8A//UJLCAAAAAIDqUVCQ+Mtf/
jLeeOON9v/vTi6XK01VAAAAAEBVKShI/NnPftbl/
wMAAAAAg4PvSAQAAAAAkgSJAAAAAECSIBEAAAAASBIkAgAAAABJmYLEN954Iz760Y/
G8uXLy1UPAAAAAFCFMgWJw4YNi3/9138tVy0AAAAAQJXK/
NHmk08+ORYuXFiGUgAAAACAalWT9QX77rtvXHnllfHf//3f8fa3vz1GjRrV4fkLLrigZMUBAAAAANUhc5D47W9/
O+rr6+OJJ56IJ554osNzuVxOkAgAAAAAA1DmINEPrQAAAADA4JP5OxK32bx5cyxbtixaW1tLWQ8AAAAAUIUyB4kbNmyIj33sYzFy5Mg44IADYsWKFRER8alPfSquueaakhcIAAAAAFRe5iBx7ty58dRTT8WiRYtixIgR7dOPP/74uPPOO0taHAAAAABQHTIHiQsXLozrr78+jjnmmMjlcu3TDzjggHjxxRczLeuGG26IKVOmRG1tbdTW1saRRx4Z99xzT9aSAAAAAIAyyxwkrlq1KhobGztNf/311zsEi4V461vfGtdcc0088cQT8fjjj8dxxx0XH/
jAB+K5557LWhYAAAAAUEaZf7V5+vTp8e///u/
xqU99KiKiPTz81re+FUceeWSmZc2YMaPD31dffXXccMMN8fOf/zwOOOCArKXRX7S2Rqxd2/
VzY8ZE1NQUPn/K6tVbFxFDY22M2TppTa9/Y2j7xZZt/qKsWROxKv+/
f3fVpgNdoX2mi/4Rq7P9g0gPi+1ftu8322Rso77c9h7XtToXEQ0RETEm1kZNbClNcaXoM4natl92X3annpqoYv16+
+O5q32wZmh02aZvmt4r3R0XxehvY3LWczaUSEHjbFfjaTnXV04Zzg1ZrmW7G7ur5lqlmHG2WsegQq9D16yNos5RGRR1zVSK+7Nq3VdZleEeo2qOxQzWrKl0BT0odEwZKH2yUvIZPfTQQ/
nRo0fnzz333PyIESPyn/70p/N/+Zd/mR81alT+8ccfz7q4dq2trfkf/
OAH+R122CH/3HPPFfSa5ubmfETkm5ube71e+thtt+XzdXX5fETXj7q6rfMUOn8Bj9tiVr4u1vY4W1NT9yU3NRW1+l6ts1BNS1d1Xm409NymA13GPlNI/6iW/
V0qBfWbErZRSfp6EcdhXazN3xazSrYzS9lntq+t0GVXuk1LWkdX/
XHpqq1PdnM899ROb27TpmjoftmF1NHDcdH7nV7Xf8bkrOdsKIWmpl6Ns+3HftaBqZfrK+ejN+eGpqbix/
VyX6uUfJytxjEow3VolnNUFiW/ZirF/Vk17qus+vAeo6ruGwrsT5WouagxZSD0yRLLkq/
l8vl8Pmv4+OKLL8Y111wTTz31VKxfvz4OOeSQuOSSS+Kggw7KHGQ+88wzceSRR8bGjRtj9OjRcfvtt8f73//
+LufdtGlTbNq0qf3vlpaWmDhxYjQ3N0dtbW3mddPHWlsjGhoimpt7nq+u7n//
aaaQ+XtaZQyNhlgdzVHf43xNTRHjxnX93KpVEV18mr9oPa2zUKt+tToaJ3f8l8ymGBfjtn8P07Y2Hej/6lJoH9s2e4H9oxRKsb9LpeB+E6Vpo5L09SKPw7pYF6ujoah3q0SUp89sqy0iCl52NbRpyeroqj8uXR3j9q3v8nguZB9sa9O1MSYaY1XnZU/
q/A6QLMdF0frDmJz1nF3N20K/0rpyVTRMGNarcbYu1sXqP7wRNeMLH5iKWV85ZT03NDVt/
W8x43q5r1XKMs5W0xiU8Tp0VTQUfI7KoizXTKW4P6umfZVVH99jVNV9Q4H9qRI1Fz2m9Oc+WQYtLS1RV1dXUL7Wqxbbe+
+9Y8GCBb0qbnv7779/LFmyJJqbm+Ouu+6K2bNnxwMPPBCTJ0/
uNO+8efPiiiuuKMl6qYC1awsbfJub//
ct40WEiBERa2NMcgCvq9v6zubujBmzdZ4iS8m0zoLV1xc237Y2rZYzUrkU2se2zV5A/
yiFku3vUim030TxbVSqbS/2OGyO+lgbY4oOhcrRZ7bVtu3/
U6qlTcver7s5ngvZB29u00666/8Zjoui9YcxOes5u5q3hX5l7bpcr8fZ5qiPtetWx7jxfbO+cspybnjzeNzbcb1PrlXKMc5W0xiU8Tq0SyVoo7JcM5Xi/
qya9lVWfXiPUW33DYX0p4rVXOzx0p/7ZIX16svitmzZEnfddVdcddVVcdVVV8W//uu/
Rmtra68K2GGHHWKfffaJt7/97TFv3rw4+OCD47rrruty3rlz50Zzc3P74+WXX+7VOmGburqI66/
v+R8hamq2zlNX13frLJh/Pal6Jd3fpdJHxZRy20t9HPZX1dKmVdmvC9Vd0f1yY4DB7s3jcW/
H9T4b042zaSVoI9dM/Vc1Xl+l+lNFa66mhhpkMrf8c889FyeddFK88sorsf/+
+0dExFe+8pUYN25c/OhHP4oDDzywqILa2to6fHz5zYYPHx7Dhw8vavlUmaVLt/63i3egdjt/
Q4a3+6/ORWy36DcvotDvWD3jjIiPfKT3v/nyZmX/
Xtelv4qIVYW36UDXU59J9I9S6Dff47v0VxENXXzTRRFtVOptz3Icrl7dxSHQ3TZmUYI+021tEcllV7JN36xi/
Xrp0ogY16mdHnoo4thjt5+36zbNtr4S9JmIbnZ6P5T1nA0lsnTxmmjYb+dO01f/
Zk1MPqbz9HKtr5x6e27Yfjzuzbhe0WuVrONsfxtPM16HlkrR10yL/
zvimP0LW1l329jf9lVWZbjHqNb7hp76U9XV3NOYMtD7ZB/KvMs//
vGPxwEHHBCPP/54jPnz+1fXrl0bZ511Vpxzzjnx8MMPF7ysuXPnxvve977Ybbfd4rXXXovbb789Fi1aFPfdd1/
WsuivsiY2DQ1Fv/
W4t4uoqekn73puaIiIEtz4DhQZd3gJulj/1NAQUeB2V7KNijoOM2xj5sUWu9xuxsK+aOt+M7ZF/
LmdOrfVzl3d75fiXwTK1Gf6rVL+Kwtk0LBzW9fj1Oq2vl1fX+vluaHfjev9pdbeqOBFU1H9oMsTazcG68XzILvH6DfjykAfU6pE5iBxyZIlHULEiIgxY8bE1VdfHYceemimZTU1NcWZZ54ZK1eujLq6upgyZUrcd9998Zd/
+ZdZywIAAAAAyihzkLjffvvFH//4xzjggAM6TG9qaop99tkn07K+/
e1vZ109AAAAAFABBf3YSktLS/tj3rx5ccEFF8Rdd90Vv/vd7+J3v/
td3HXXXXHhhRfGV77ylXLXCwAAAABUQEHvSKyvr49cLtf+dz6fj1NPPbV9Wj6/9fvYZsyYEVu2bClDmQAAAABAJRUUJP7sZz8rdx0AAAAAQBUrKEh85zvfWe46AAAAAIAqlvnHViIiNm7cGE8//
XQ0NTVFW1tbh+dOOumkkhQGAAAAAFSPzEHivffeG2eeeWasXr2603O5XM53JAIAAADAAFTQrza/2ac+9amYOXNmrFy5Mtra2jo8hIgAAAAAMDBlDhL/
+Mc/xpw5c+Itb3lLOeoBAAAAAKpQ5iDxwx/
+cCxatKgMpQAAAAAA1SrzdyRef/31MXPmzHjooYfioIMOimHDhnV4/
oILLihZcQAAAABAdcgcJP7gBz+I+++/P0aMGBGLFi2KXC7X/
lwulxMkAgAAAMAAlDlIvPTSS+OKK66Iz372szFkSOZPRgMAAAAA/
VDmJHDz5s3xV3/1V0JEAAAAABhEMqeBs2fPjjvvvLMctQAAAAAAVSrzR5u3bNkSX/3qV+O++
+6LKVOmdPqxlX/4h38oWXEAAAAAQHXIHCQ+88wzMW3atIiIePbZZzs89+YfXgEAAAAABo7MQeLPfvazctQBAAAAAFQxv5gCAAAAACRlfkfiX/
zFX/T4Eeaf/vSnRRUEAAAAAFSfzEHi1KlTO/
z9xhtvxJIlS+LZZ5+N2bNnl6ouAAAAAKCKZA4S//Ef/7HL6V/84hdj/
fr1RRcEAAAAAFSfkn1H4hlnnBHf+c53SrU4AAAAAKCKlCxIfOSRR2LEiBGlWhwAAAAAUEUyf7T5gx/8YIe/8/
l8rFy5Mh5//PH4whe+ULLCAAAAAIDqkTlIrKur6/
D3kCFDYv/9948rr7wy3vOe95SsMAAAAACgemQOEm++
+eZy1AEAAAAAVLHMQeI2mzdvjqampmhra+swfbfddiu6KAAAAACgumQOEn/zm9/
Exz72sXj44Yc7TM/n85HL5WLLli0lKw4AAAAAqA6Zg8Szzz47ampq4sc//
nGMHz8+crlcOeoCAAAAAKpI5iBxyZIl8cQTT8Tb3va2ctQDAAAAAFShIVlfMHny5Fi9enU5agEAAAAAqlTmIPErX/
lKXHzxxbFo0aJ49dVXo6WlpcMDAAAAABh4Mn+0+fjjj4+IiHe/
+90dpvuxFQAAAAAYuDIHiT/72c/
KUQcAAAAAUMUyB4nvfOc7y1EHAAAAAFDFMn9HIgAAAAAw+AgSAQAAAIAkQSIAAAAAkCRIBAAAAACSMgeJxx13XKxbt67T9JaWljjuuONKURMAAAAAUGUyB4mLFi2KzZs3d5q+cePGeOihh0pSFAAAAABQXWoKnfHpp59u//
+lS5fGK6+80v73li1b4t57741dd921tNUBAAAAAFWh4CBx6tSpkcvlIpfLdfkR5h133DG+8Y1vlLQ4AAAAAKA6FBwkLl+
+PPL5fOy1117x6KOPxrhx49qf22GHHaKxsTGGDh1aliIBAAAAgMoqOEjcfffdIyKira2tbMUAAAAAANWp4CDxzZ5//
vn42c9+Fk1NTZ2Cxcsuu6wkhQEAAAAA1SNzkLhgwYI477zzoqGhIXbZZZfI5XLtz+VyOUEiAAAAAAxAmYPEL33pS3H11VfHJZdcUo56AAAAAIAqNCTrC9auXRszZ84sRy0AAAAAQJXKHCTOnDkz7r///
nLUAgAAAABUqcwfbd5nn33iC1/4Qvz85z+Pgw46KIYNG9bh+QsuuKBkxQEAAAAA1SFzkHjTTTfF6NGj44EHHogHHnigw3O5XE6QCAAAAAADUOYgcfny5eWoAwAAAACoYpm/
I3GbzZs3x7Jly6K1tbWU9QAAAAAAVShzkLhhw4b42Mc+FiNHjowDDjggVqxYERERn/
rUp+Kaa64peYEAAAAAQOVlDhLnzp0bTz31VCxatChGjBjRPv3444+PO+
+8s6TFAQAAAADVIfN3JC5cuDDuvPPOOOKIIyKXy7VPP+CAA+LFF18saXEAAAAAQHXI/
I7EVatWRWNjY6fpr7/+eodgEQAAAAAYODIHidOnT49///d/
b/97W3j4rW99K4488sjSVQYAAAAAVI3MH23+8pe/HO973/
ti6dKl0draGtddd10sXbo0Hn744XjggQfKUSMAAAAAUGGZ35F4zDHHxJIlS6K1tTUOOuiguP/
+
+6OxsTEeeeSRePvb316OGgEAAACACsv8jsSIiL333jsWLFhQ6loAAAAAgCqVOUhsaWnpcnoul4vhw4fHDjvsUHRRAAAAAEB1yRwk1tfX9/
jrzG9961vjrLPOissvvzyGDMn8yWkAAAAAoAplDhJvueWWuPTSS+Oss86Kww47LCIiHn300fjud78bn//852PVqlVx7bXXxvDhw+Nzn/
tcyQsGAAAAAPpe5iDxu9/9bnzta1+LU089tX3ajBkz4qCDDopvfvOb8V//9V+x2267xdVXXy1IBAAAAIABIvNnjx9+
+OGYNm1ap+nTpk2LRx55JCK2/rLzihUriq8OAAAAAKgKmYPEiRMnxre//e1O07/97W/
HxIkTIyLi1VdfjTFjxhRfHQAAAABQFTJ/tPnaa6+NmTNnxj333BOHHnpoREQ8/vjj8etf/
zruuuuuiIh47LHH4q/
+6q9KWykAAAAAUDGZg8STTjopli1bFt/85jdj2bJlERHxvve9LxYuXBh77LFHREScd955JS0SAAAAAKiszEFiRMQee+wR8+bN6zT92WefjQMPPLDoogAAAACA6pL5OxK399prr8VNN90Uhx12WBx88MGlqAkAAAAAqDK9DhIffPDBmD17dowfPz6uvfbaOO644+LnP/95KWsDAAAAAKpEpo82v/
LKK3HLLbfEt7/97WhpaYlTTz01Nm3aFAsXLozJkyeXq0YAAAAAoMIKfkfijBkzYv/994+nn3465s+fH3/4wx/
iG9/4RjlrAwAAAACqRMHvSLznnnviggsuiPPOOy/23XffctYEAAAAAFSZgt+RuHjx4njttdfi7W9/
exx++OFx/
fXXx+rVq8tZGwAAAABQJQoOEo844ohYsGBBrFy5Mv76r/867rjjjpgwYUK0tbXFT37yk3jttdfKWScAAAAAUEGZf7V51KhR8dGPfjQWL14czzzzTPzt3/5tXHPNNdHY2BgnnXRSOWoEAAAAACosc5D4Zvvvv3989atfjd/97nfxgx/8oFQ1AQAAAABVpqggcZuhQ4fGySefHP/2b/9WisUBAAAAAFWmJEEiAAAAADCwCRIBAAAAgCRBIgAAAACQJEgEAAAAAJIEiQAAAABAkiARAAAAAEgSJAIAAAAASYJEAAAAACBJkAgAAAAAJAkSAQAAAIAkQSIAAAAAkCRIBAAAAACSBIkAAAAAQJIgEQAAAABIEiQCAAAAAEmCRAAAAAAgSZAIAAAAACQJEgEAAACAJEEiAAAAAJAkSAQAAAAAkgSJAAAAAECSIBEAAAAASBIkAgAAAABJgkQAAAAAIEmQCAAAAAAkCRIBAAAAgCRBIgAAAACQJEgEAAAAAJIEiQAAAABAkiARAAAAAEgSJAIAAAAASYJEAAAAACBJkAgAAAAAJAkSAQAAAIAkQSIAAAAAkCRIBAAAAACSBIkAAAAAQJIgEQAAAABIEiQCAAAAAEmCRAAAAAAgSZAIAAAAACQJEgEAAACAJEEiAAAAAJAkSAQAAAAAkgSJAAAAAECSIBEAAAAASBIkAgAAAABJgkQAAAAAIEmQCAAAAAAkVTRInDdvXhx66KGx0047RWNjY5x88smxbNmySpYEAAAAAHShppIrf+CBB+L888+PQw89NFpbW+Nzn/
tcvOc974mlS5fGqFGjKlla/9HaGrF2beHzjxkTUVPR3R6tMTTWxpitf6zO/
XlqQ0REjIm1URNbIlavTsxfmDctZtDYus256NSm/
V0hff3PO7zQPjMY+0d3umuLgdRGpdiWcrXHQGrnklizJuLP49b2x3OhTVVV+3t1F2NyIQvvy3P29mNsj+NplW8LlZf1+vTN1qyNbX2sd69fE7Eq3/
M8/aQ/
DoZzQ+Zt7O142hcG0HXo6jVDouj7s1LvqyzHbTFjUFcG0L4d6Hps+/5wPdZf5KtIU1NTPiLyDzzwQEHzNzc35yMi39zcXObKqtRtt+XzdXX5fEThj7q6ra+rhKam/
G0xK18Xa7svL9bmb4tZ7RNS8/fm0dRUmc0vh6amAnb5tjbtzxueoa8X22f6czMVqpB+09/
bqNhtLGd7ZKmtP7R1sZqWruq83dGQ6Xh+7rni27Sv+sz257meZ67rm3N2N2Ns1nN2VWwLldeb69M3PZqiofNxu3RVl6vqafwotD92uYxu1ldOg+HcUOpxNtMY1EeP/
ngdmtovpbg/K8m+KvQ8UuQYNJD27UBXzJjiGqazLPlaLp/
P5yucZbZ74YUXYt99941nnnkmDjzwwE7Pb9q0KTZt2tT+d0tLS0ycODGam5ujtra2L0utvNbWiIaGiObm7K+tq9uavPdxqt66clU0TBgWzVHf43x1sS5W//
lfChpidXL+rJqaIsaNK+kiK2bVqojGxvR8dbEuVv/hjagZ3w83PENfb42hRfeZgdQ/
ulNov+lOf2ijYrcxi6ztkaW2/tDWxVr1q9XROLnju4+aYlyMibUFH8/
PPRdxwAGFra+7Nu3LPrPtPFfQu8XLfc7uZowtdDytqm2h8oq5Pv2zVdEQjbGqw7Smpatj3KTO71LsbvwYV8h7l//
cH1c9v67zMrpZXzkNhnNDOcbZTGNQmfXX69BC9ksp7s9Ksq9S55ESjEFdLraf7tuBrtgxxTVMRy0tLVFXV1dQvlY1P7bS1tYWF154YRx99NFdhogRW79Tsa6urv0xceLEPq6yiqxd2/
sBsrm5tG/1LtDadbmCBt/
mqI+1MSbWxpiSh4h1dVvfmTxQjBmzdZtSmqM+1q7L9rHwqpGhrxfbZwZa/
+hOof2mK/2ljYrZxix60x6F1tZf2rpo9fVdTi70eK6ri9h77+LbtK/6TMT/
nucKm7nM5+xuxthC27+qtoXKK+b6tCfdjBPdTi9ElfXHwXBuKMc4m2kMKrP+eh1ayH4pxf1ZSfZV6rgt0xjUX/
ftQFfsmOIapveqJkg8//zz49lnn4077rij23nmzp0bzc3N7Y+XX365Dyukv6uri7j+
+oH1jwg1NVu3qa9ufgeygdg/utPbftOf2qgvjo3etkchtfWnti5aERu5rZ2GDy+
+TY2nUMV6OnAHiMFwbjDOdq+S+9Z+Ka/+ftxWM323cqrio82f/
OQn4+67744HH3ww9txzz4Jfl+WtlwNOV+/jXbp061u5t7d6dcTkyR2nVeC91V19/
GTp4jURO+/
cubylWz+S0mn+bjaxEAP5O1I7fUf+b9bE5GN27jBPJT6mUxIZ+vqq1ble95mB3D+60w9/
qymzUn/X9psV2x491dYf27q3ujrECz0HbN9OpWjTcvSZLk/
DS1fHuIYuLsH6+pzdzRi7KsZ12f4RVbwtVF6W69PuFtHFuTzLVxJk7Y9drq+C10yD4dxQzDibaTztY/39OvTN+6W7do4o/
P6sJPsq63mkBGNQl4vt5/t2oCt0TKnq67EqkCVfq2iXzufz8alPfSp+
+MMfxqJFizKFiHShoaHfdeyGndu6/mG+bkblfriJfaKmZrt2Wd1WsVr6RIaOoM90r1O/
GYCqeRurubaK6+U5oBRt2mf7paEholr3f0NDdHVy7vaGqZq3hcrr6xNxP+
+Pg+HcUPJtrOJ93p+uQ5P7pRT3Z5XYV2XaCf1p3w50RY0pVTx+VLOKBonnn39+3H777XH33XfHTjvtFK+88kpERNTV1cWOO+5YydIAAAAAgDep6Hck3nDDDdHc3Bzvete7Yvz48e2PO+
+8s5JlAQAAAADbqfhHmwEAAACA6lc1v9oMAAAAAFQvQSIAAAAAkCRIBAAAAACSBIkAAAAAQJIgEQAAAABIEiQCAAAAAEmCRAAAAAAgSZAIAAAAACQJEgEAAACAJEEiAAAAAJAkSAQAAAAAkgSJAAAAAECSIBEAAAAASBIkAgAAAABJgkQAAAAAIEmQCAAAAAAkCRIBAAAAgCRBIgAAAACQJEgEAAAAAJIEiQAAAABAkiARAAAAAEgSJAIAAAAASYJEAAAAACBJkAgAAAAAJAkSAQAAAIAkQSIAAAAAkCRIBAAAAACSBIkAAAAAQJIgEQAAAABIEiQCAAAAAEmCRAAAAAAgSZAIAAAAACQJEgEAAACAJEEiAAAAAJAkSAQAAAAAkgSJAAAAAECSIBEAAAAASBIkAgAAAABJgkQAAAAAIEmQCAAAAAAkCRIBAAAAgCRBIgAAAACQJEgEAAAAAJIEiQAAAABAkiARAAAAAEgSJAIAAAAASYJEAAAAACBJkAgAAAAAJAkSAQAAAIAkQSIAAAAAkCRIBAAAAACSBIkAAAAAQJIgEQAAAABIEiQCAAAAAEmCRAAAAAAgSZAIAAAAACQJEgEAAACAJEEiAAAAAJAkSAQAAAAAkgSJAAAAAECSIBEAAAAASBIkAgAAAABJgkQAAAAAIEmQCAAAAAAkCRIBAAAAgCRBIgAAAACQJEgEAAAAAJIEiQAAAABAkiARAAAAAEgSJAIAAAAASYJEAAAAACBJkAgAAAAAJAkSAQAAAIAkQSIAAAAAkCRIBAAAAACSBIkAAAAAQJIgEQAAAABIEiQCAAAAAEmCRAAAAAAgSZAIAAAAACQJEgEAAACAJEEiAAAAAJAkSAQAAAAAkgSJAAAAAECSIBEAAAAASBIkAgAAAABJgkQAAAAAIEmQCAAAAAAkCRIBAAAAgCRBIgAAAACQJEgEAAAAAJIEiQAAAABAkiARAAAAAEgSJAIAAAAASYJEAAAAACBJkAgAAAAAJAkSAQAAAIAkQSIAAAAAkCRIBAAAAACSBIkAAAAAQJIgEQAAAABIEiQCAAAAAEmCRAAAAAAgSZAIAAAAACQJEgEAAACAJEEiAAAAAJAkSAQAAAAAkgSJAAAAAECSIBEAAAAASBIkAgAAAABJgkQAAAAAIEmQCAAAAAAkCRIBAAAAgCRBIgAAAACQJEgEAAAAAJIEiQAAAABAkiARAAAAAEgSJAIAAAAASYJEAAAAACBJkAgAAAAAJAkSAQAAAIAkQSIAAAAAkCRIBAAAAACSBIkAAAAAQJIgEQAAAABIEiQCAAAAAEmCRAAAAAAgSZAIAAAAACQJEgEAAACApIoGiQ8+
+GDMmDEjJkyYELlcLhYuXFjJcgAAAACAbtRUcuWvv/56HHzwwfHRj340PvjBD1aylH5rYwyJ5VG/9Y/
fvBqxuouZ1rwaETtHRER9rIuaaIv4zW8iVnc1c9qYPfeMmhEjOkxr3bgx1i5f3uPrVr/
YHBH5jtPWvNppWsTW8rpcRu9KHnQ6tuuY2P5QL2R/
vVlX+7xcOtW2Zs3W6TEk1iX6+p9n7UCfgerW1TE60M4B3W1jl9tTwDm70DG5oLG+mzG2i+G02/
YvZFv2jHUxItqSNXcn63krq4qe5xKy1FbOdiro+i/
DObs7Wc7lpTi2Vq8dGl1en67qfH1K5WXa531sIF2HluLcXJJ9lfU+tgRjUA+L7aC/7tvBrJTXY2P33TeG1FQ0TqusfJWIiPwPf/
jDTK9pbm7OR0S+ubm5PEVVs6am/LlxVD6iNh9br3767FEXkb/
t3HPbS7nt3HPzdX1cg0eWR10+4rZ809JVvd5f2+/
zctGXPDw8PNKPukiPydU3ntbmz42j8vmmpqo8NxTSpqVQznNwudtp+zqqr495eHh4eHj0zaNp6dJyXi5URJZ8LZfP5/
NRBXK5XPzwhz+Mk08+udt5Nm3aFJs2bWr/
u6WlJSZOnBjNzc1RW1vbB1VWj40vr4wdd3tbRLRUZP11EbH6T3+KiIiGHXeM5opUQeHq4g9P/
zrG7Vvf6/21bZ+X6x0brRs36ksABeppTK7e8bQ2/rTi1zFi4viCX9GX21LN57lUbX3VTq7/
ACCiaenSGDdpUqXLKKmWlpaoq6srKF/rVz+2Mm/evKirq2t/
TJw4sdIlVczyFc1RqRAxIqI5ItYuXx5rly93EdkvNMe6lnVF7a9t+7xc9CWAwvU0JlfveNry5+uXwvXltlTzeS5VW1+1k+s/
AKBfBYlz586N5ubm9sfLL79c6ZIAAAAAYFDoV98OOXz48Bg+fHily6haP/
rew7H3Ift0mr5mTcQxx3SctnTxq9Gwc+Gfal/94osxecaMguZd+qMfRcPee3dexppcTD5mbMd5l0Y0NGz9/9bWiHXrul5mfX3EYP4u06x+84vn45gZRxc0b7f7K8M+L5elP/
pRxJh9OvWbxYsjdt6559fqM9C/DIZzQE/buE135+xY+0JRY3KWc/P2Y2xX7V/
Itrz45Asx44yjeldwD7rblqyq5TxXrnNwKdop6/Vfb8/Z3Sn02C/
q2Iro8fqU6lTIPq+kwXDeKuXx2Z2s97GFnNOKNVD27WBWzDljW98bu++
+5Smun3AIDCB77zEmJk0a12n6qlWd523Yb1yM6zxrSTTsvXfX3xfQVR0N0aGO8YV/
bRI9WD3m1YLn7XZ/
VYGGvfeOaHhbp+n77Rdl679A5QyGc0BqG7s7Z8fq4r7SOsu5udAxNrm/1hR+Lsqims9bWZVzW/
q6nSp9zu71sdWF7a9PqU6D4ZxRDUrRzr1dRub72CLOaQwuvT1n6EtbVTRIXL9+fbzwwgvtfy9fvjyWLFkSO+
+8c+y2224VrAwAAAAAeLOKBomPP/54/MVf/
EX733PmzImIiNmzZ8ctt9xSoaoAAAAAgO1VNEh817veFfl8cR/
VAQAAAADKr1/9ajMAAAAAUBmCRAAAAAAgSZAIAAAAACQJEgEAAACAJEEiAAAAAJAkSAQAAAAAkgSJAAAAAECSIBEAAAAASBIkAgAAAABJgkQAAAAAIEmQCAAAAAAkCRIBAAAAgCRBIgAAAACQJEgEAAAAAJIEiQAAAABAkiARAAAAAEgSJAIAAAAASYJEAAAAACBJkAgAAAAAJAkSAQAAAIAkQSIAAAAAkCRIBAAAAACSBIkAAAAAQJIgEQAAAABIEiQCAAAAAEmCRAAAAAAgSZAIAAAAACQJEgEAAACAJEEiAAAAAJAkSAQAAAAAkgSJAAAAAECSIBEAAAAASBIkAgAAAABJgkQAAAAAIEmQCAAAAAAkCRIBAAAAgCRBIgAAAACQJEgEAAAAAJIEiQAAAABAkiARAAAAAEgSJAIAAAAASYJEAAAAACBJkAgAAAAAJAkSAQAAAIAkQSIAAAAAkCRIBAAAAACSBIkAAAAAQJIgEQAAAABIEiQCAAAAAEmCRAAAAAAgSZAIAAAAACQJEgEAAACAJEEiAAAAAJAkSAQAAAAAkgSJAAAAAECSIBEAAAAASBIkAgAAAABJgkQAAAAAIEmQCAAAAAAkCRIBAAAAgCRBIgAAAACQJEgEAAAAAJIEiQAAAABAkiARAAAAAEgSJAIAAAAASYJEAAAAACBJkAgAAAAAJAkSAQAAAIAkQSIAAAAAkCRIBAAAAACSBIkAAAAAQJIgEQAAAABIEiQCAAAAAEmCRAAAAAAgSZAIAAAAACQJEgEAAACAJEEiAAAAAJAkSAQAAAAAkgSJAAAAAECSIBEAAAAASBIkAgAAAABJgkQAAAAAIEmQCAAAAAAkCRIBAAAAgCRBIgAAAACQJEgEAAAAAJIEiQAAAABAkiARAAAAAEgSJAIAAAAASYJEAAAAACBJkAgAAAAAJAkSAQAAAIAkQSIAAAAAkCRIBAAAAACSBIkAAAAAQJIgEQAAAABIEiQCAAAAAEmCRAAAAAAgSZAIAAAAACQJEgEAAACAJEEiAAAAAJAkSAQAAAAAkgSJAAAAAECSIBEAAAAASBIkAgAAAABJgkQAAAAAIEmQCAAAAAAkCRIBAAAAgCRBIgAAAACQJEgEAAAAAJIEiQAAAABAkiARAAAAAEgSJAIAAAAASYJEAAAAACBJkAgAAAAAJAkSAQAAAIAkQSIAAAAAkCRIBAAAAACSBIkAAAAAQJIgEQAAAABIEiQCAAAAAEmCRAAAAAAgSZAIAAAAACQJEgEAAACAJEEiAAAAAJAkSAQAAAAAkgSJAAAAAECSIBEAAAAASBIkAgAAAABJVREk/
tM//VPsscceMWLEiDj88MPj0UcfrXRJAAAAAMCb1FS6gDvvvDPmzJkTN954Yxx+
+OExf/78OOGEE2LZsmXR2NhY6fIqpnVzazz/2AvdPv/i0y8VtfzVqzPOvybXadpvnvxt9/
OuKn6dlNaLT78Ua2rbOk3vdn91s8+7ml4Ka37724JqABhsVq+OiAxjcrfjaRWcm7Nev2TZlqyq5jxXgnNwudop8/
VfP+PaFPqfno5bxzTl9Ob+NXZsxJCqeFteZeTy+Xy+kgUcfvjhceihh8b1118fERFtbW0xceLE+NSnPhWf/
exne3xtS0tL1NXVRXNzc9TW1vZFuX3mV//965h8zKRMr1m6+Fcx6ei3dZq+alVE8ZnsqogodCFNETGusDmbIsYVNisZZOs/3e2vLPu8XLquTb8BBqruz9nFjsl9f27uzbVMYQrflp5V73muNLWVop2Kv/6rlnN2luvhaqkZBrtS3Mc6numNVN8biP0qS75W0Qx18+bN8cQTT8Txxx/
fPm3IkCFx/PHHxyOPPNJp/
k2bNkVLS0uHBwAAAABQfhUNElevXh1btmyJt7zlLR2mv+Utb4lXXnml0/
zz5s2Lurq69sfEiRP7qtR+oDb2PHiPLp8ZMyairq7Y5Y+JiEIWUvfneQuYs25rbZTe1r5QyLt0e9pfhe7zcum6Nv0GGMi6P2cXMyZX5txc+Lkoi8K3Ja06z3NbFVtbqdqpuOu/
ajpnF3o9XE01w2BX7H2s45neKk2GMnD1q091z507N5qbm9sfL7/8cqVLqhK1ce5xn44Ro0d0+WxNTcT11xd7INRExPXR88Vk3Z/
nSX/1Zl3d1ppqKv4tnQPTiNEj4tzjPh0938Cl9lch+7xcuq5NvwEGuu7P2b0dkyt3bi7sXJRF4dtSmOo7z/2vYmorZTv1/
vqv2s7ZhVwPV1vNMNgVcx/
reKYYpclQBq6Kfkfi5s2bY+TIkXHXXXfFySef3D599uzZsW7durj77rt7fP1A/
o7E1I+tvNmeB+/RbYjYYZmtEWvXFlnXxo2xbsVvu3yufrc9omZEuo6IrQm/
Qb38Nq7fGMuf+m2XzxW6v3ra5+XSXW36DTBYdHfOzjomV8O5uadzURZZtiWLajrPba83tZWjnXpz/
Vet5+yeroertWYY7HpzH+t4phS663sD8cdWsuRrVfFjK4cddlh84xvfiIitP7ay2267xSc/
+clB/WMrAAAAAFBuWfK1imf0c+bMidmzZ8f06dPjsMMOi/
nz58frr78eZ599dqVLAwAAAAD+rOJB4l/91V/
FqlWr4rLLLotXXnklpk6dGvfee2+nH2ABAAAAACqn4h9tLoaPNgMAAABA72XJ1wbY10MCAAAAAOUgSAQAAAAAkgSJAAAAAECSIBEAAAAASBIkAgAAAABJgkQAAAAAIEmQCAAAAAAkCRIBAAAAgCRBIgAAAACQJEgEAAAAAJIEiQAAAABAkiARAAAAAEgSJAIAAAAASYJEAAAAACBJkAgAAAAAJAkSAQAAAIAkQSIAAAAAkCRIBAAAAACSBIkAAAAAQJIgEQAAAABIEiQCAAAAAEmCRAAAAAAgSZAIAAAAACQJEgEAAACAJEEiAAAAAJAkSAQAAAAAkgSJAAAAAECSIBEAAAAASBIkAgAAAABJgkQAAAAAIEmQCAAAAAAkCRIBAAAAgCRBIgAAAACQJEgEAAAAAJJqKl1AMfL5fEREtLS0VLgSAAAAAOh/
tuVq23K2nvTrIPG1116LiIiJEydWuBIAAAAA6L9ee+21qKur63GeXL6QuLFKtbW1xR/
+8IfYaaedIpfLVbqcsmhpaYmJEyfGyy+/
HLW1tZUuBygRxzYMXI5vGJgc2zBwOb4Z7PL5fLz22msxYcKEGDKk529B7NfvSBwyZEi89a1vrXQZfaK2ttaABgOQYxsGLsc3DEyObRi4HN8MZql3Im7jx1YAAAAAgCRBIgAAAACQJEiscsOHD4/
LL788hg8fXulSgBJybMPA5fiGgcmxDQOX4xsK169/
bAUAAAAA6BvekQgAAAAAJAkSAQAAAIAkQSIAAAAAkCRIBAAAAACSBIlV7J/
+6Z9ijz32iBEjRsThhx8ejz76aKVLAt7kwQcfjBkzZsSECRMil8vFwoULOzyfz+fjsssui/
Hjx8eOO+4Yxx9/fDz//PMd5lmzZk3MmjUramtro76+Pj72sY/
F+vXrO8zz9NNPx7HHHhsjRoyIiRMnxle/
+tVybxoMavPmzYtDDz00dtppp2hsbIyTTz45li1b1mGejRs3xvnnnx9jx46N0aNHx4c+9KH44x//2GGeFStWxP/5P/8nRo4cGY2NjfF3f/
d30dra2mGeRYsWxSGHHBLDhw+PffbZJ2655ZZybx4MajfccENMmTIlamtro7a2No488si455572p93bMPAcM0110Qul4sLL7ywfZrjG0pDkFil7rzzzpgzZ05cfvnl8eSTT8bBBx8cJ5xwQjQ1NVW6NODPXn/99Tj44IPjn/7pn7p8/
qtf/Wp8/etfjxtvvDF+8YtfxKhRo+KEE06IjRs3ts8za9aseO655+InP/lJ/
PjHP44HH3wwzjnnnPbnW1pa4j3veU/
svvvu8cQT/7+9u4+psn7jOP45PByUnXgw7JzMUTQJZ6IhTneq9SAMcqxZbdVYY0arlqGT1irdivoraW5t9jirlf4VzRprtcSY0GkWEhxBII02o4cVyNQQQhI85/
r90bjnCe3UfsBBfb+2ezvn+71239f3j4ubXed+CGrr1q164YUX9NZbb035+oBLVSAQUEVFhfbv36/6+nqNjY2pqKhIw8PDTswTTzyhTz75RLt27VIgENBvv/2me+65x5kPhUIqKSnR6Oiovv76a+3cuVM7duxQVVWVE9PT06OSkhLdfvvtam9vV2VlpR5+
+GHt2bNnWtcLXErmz5+v6upqBYNBtba2atWqVVqzZo2+/
fZbSdQ2cDFoaWnR9u3btWTJkohx6huYJIYZacWKFVZRUeF8D4VCNm/
ePNuyZUsMswJwPpKstrbW+R4Oh83n89nWrVudsYGBAUtKSrL333/
fzMwOHTpkkqylpcWJ2b17t7lcLvv111/NzOyNN96w9PR0O336tBPzzDPPWE5OzhSvCMC4/
v5+k2SBQMDM/
qrlxMRE27VrlxNz+PBhk2RNTU1mZvbZZ59ZXFyc9fX1OTFvvvmmpaSkOPX89NNP2/
XXXx9xrPvvv9+Ki4unekkAzpKenm7vvPMOtQ1cBIaGhiw7O9vq6+vt1ltvtY0bN5oZ525gMnFF4gw0OjqqYDCowsJCZywuLk6FhYVqamqKYWYA/
q2enh719fVF1HFqaqpWrlzp1HFTU5PS0tK0fPlyJ6awsFBxcXFqbm52Ym655Ra53W4npri4WN3d3fr999+naTXApe3kyZOSpDlz5kiSgsGgxsbGIup74cKFyszMjKjv3Nxceb1eJ6a4uFiDg4POlU9NTU0R+xiP4VwPTI9QKKSamhoNDw/
L7/
dT28BFoKKiQiUlJRNqkPoGJk9CrBPARMeOHVMoFIr4AyZJXq9X3333XYyyAvBf9PX1SdI563h8rq+vT1dccUXEfEJCgubMmRMRk5WVNWEf43Pp6elTkj+Av4TDYVVWVuqmm27S4sWLJf1Ve263W2lpaRGxf6/
vc9X/+Nw/xQwODmpkZESzZ8+eiiUBl7zOzk75/
X79+eef8ng8qq2t1aJFi9Te3k5tAxewmpoaHThwQC0tLRPmOHcDk4dGIgAAwHlUVFSoq6tL+/
bti3UqACZJTk6O2tvbdfLkSX344Ydau3atAoFArNMC8H/45ZdftHHjRtXX12vWrFmxTge4qHFr8wyUkZGh+Pj4CW+QOnr0qHw+X4yyAvBfjNfqP9Wxz+eb8AKlM2fO6MSJExEx59rH2ccAMDXWr1+vTz/9VI2NjZo/
f74z7vP5NDo6qoGBgYj4v9d3tNo9X0xKSgpXNABTyO12a8GCBcrPz9eWLVu0dOlSbdu2jdoGLmDBYFD9/
f1atmyZEhISlJCQoEAgoFdeeUUJCQnyer3UNzBJaCTOQG63W/n5+dq7d68zFg6HtXfvXvn9/
hhmBuDfysrKks/ni6jjwcFBNTc3O3Xs9/
s1MDCgYDDoxDQ0NCgcDmvlypVOzJdffqmxsTEnpr6+Xjk5OdzWDEwRM9P69etVW1urhoaGCY8XyM/
PV2JiYkR9d3d36+eff46o787OzogfC+rr65WSkqJFixY5MWfvYzyGcz0wvcLhsE6fPk1tAxewgoICdXZ2qr293dmWL1+uBx54wPlMfQOTJNZve8G51dTUWFJSku3YscMOHTpkjz76qKWlpUW8QQpAbA0NDVlbW5u1tbWZJHv55Zetra3NfvrpJzMzq66utrS0NPv444+to6PD1qxZY1lZWTYyMuLs44477rC8vDxrbm62ffv2WXZ2tpWWljrzAwMD5vV6rayszLq6uqympsaSk5Nt+/
bt075e4FKxbt06S01NtS+++MJ6e3ud7dSpU07MY489ZpmZmdbQ0GCtra3m9/vN7/
c782fOnLHFixdbUVGRtbe3W11dnc2dO9c2b97sxPzwww+WnJxsTz31lB0+fNhef/11i4+Pt7q6umldL3Ap2bRpkwUCAevp6bGOjg7btGmTuVwu+/
zzz82M2gYuJme/tdmM+gYmC43EGezVV1+1zMxMc7vdtmLFCtu/
f3+sUwJwlsbGRpM0YVu7dq2ZmYXDYXvuuefM6/VaUlKSFRQUWHd3d8Q+jh8/
bqWlpebxeCwlJcXKy8ttaGgoIubgwYN28803W1JSkl111VVWXV09XUsELknnqmtJ9t577zkxIyMj9vjjj1t6erolJyfb3Xffbb29vRH7+fHHH2316tU2e/
Zsy8jIsCeffNLGxsYiYhobG+2GG24wt9tt1157bcQxAEy+hx56yK6+
+mpzu902d+5cKygocJqIZtQ2cDH5eyOR+gYmh8vMLDbXQgIAAAAAAAC4UPCMRAAAAAAAAABR0UgEAAAAAAAAEBWNRAAAAAAAAABR0UgEAAAAAAAAEBWNRAAAAAAAAABR0UgEAAAAAAAAEBWNRAAAAAAAAABR0UgEAADA/
+XBBx/UXXfdFes0AAAAMMUSYp0AAAAAZi6Xy/
WP888//7y2bdsmM5umjAAAABArNBIBAABwXr29vc7nDz74QFVVVeru7nbGPB6PPB5PLFIDAADANOPWZgAAAJyXz+dzttTUVLlcrogxj8cz4dbm2267TRs2bFBlZaXS09Pl9Xr19ttva3h4WOXl5brsssu0YMEC7d69O+JYXV1dWr16tTwej7xer8rKynTs2LFpXjEAAADOh0YiAAAAJt3OnTuVkZGhb775Rhs2bNC6det077336sYbb9SBAwdUVFSksrIynTp1SpI0MDCgVatWKS8vT62traqrq9PRo0d13333xXglAAAAGEcjEQAAAJNu6dKlevbZZ5Wdna3Nmzdr1qxZysjI0COPPKLs7GxVVVXp+PHj6ujokCS99tprysvL04svvqiFCxcqLy9P7777rhobG/
X999/HeDUAAACQeEYiAAAApsCSJUucz/Hx8br88suVm5vrjHm9XklSf3+/JOngwYNqbGw85/
MWjxw5ouuuu26KMwYAAEA0NBIBAAAw6RITEyO+u1yuiLHxt0GHw2FJ0h9//
KE777xTL7300oR9XXnllVOYKQAAAP4tGokAAACIuWXLlumjjz7SNddco4QE/
kUFAACYiXhGIgAAAGKuoqJCJ06cUGlpqVpaWnTkyBHt2bNH5eXlCoVCsU4PAAAAopEIAACAGWDevHn66quvFAqFVFRUpNzcXFVWViotLU1xcfzLCgAAMBO4zMxinQQAAAAAAACAmY2fdwEAAAAAAABERSMRAAAAAAAAQFQ0EgEAAAAAAABERSMRAAAAAAAAQFQ0EgEAAAAAAABERSMRAAAAAAAAQFQ0EgEAAAAAAABERSMRAAAAAAAAQFQ0EgEAAAAAAABERSMRAAAAAAAAQFQ0EgEAAAAAAABERSMRAAAAAAAAQFT/
A8/lLG8ThtTuAAAAAElFTkSuQmCC",
      "text/plain": [
       "<figure size="" 1600x1200="" with="" 1="" axes="">"
      ]
     },
     "metadata": {},
     "output_type": "display_data"
    }
   ],
   "source": [
    "fig, axes = plt.subplots(figsize=(16, 12))\n",
    "counts = ['ag_in_sys','ag_in_queue','ag_in_service']\n",
    "labels = ['system', 'queue', 'service']\n",
    "colors = ['red', 'blue', 'black']\n",
    "\n",
    "for i in range(3):\n",
    "    mm1_bench.plot(y= counts[i], \n",
    "                   use_index=True, ax=axes, linewidth=3,drawstyle='steps-mid', color=f'{colors[i]}',\n",
    "                   ylabel=f'Agent number in {labels[i]}', xlabel='Time')"
   ]
  },
  {
   "cell_type": "code",
   "execution_count": null,
   "id": "b916cdbc-2425-445e-b5ce-5444686557bf",
   "metadata": {},
   "outputs": [],
   "source": []
  },
  {
   "cell_type": "code",
   "execution_count": null,
   "id": "8254d119-4173-444f-acb2-4ee4dd666599",
   "metadata": {},
   "outputs": [],
   "source": []
  }
 ],
 "metadata": {
  "celltoolbar": "Aucun(e)",
  "kernelspec": {
   "display_name": "Python 3 (ipykernel)",
   "language": "python",
   "name": "python3"
  },
  "language_info": {
   "codemirror_mode": {
    "name": "ipython",
    "version": 3
   },
   "file_extension": ".py",
   "mimetype": "text/x-python",
   "name": "python",
   "nbconvert_exporter": "python",
   "pygments_lexer": "ipython3",
   "version": "3.11.0"
  }
 },
 "nbformat": 4,
 "nbformat_minor": 5
}
</figure></figure></function></body></html>