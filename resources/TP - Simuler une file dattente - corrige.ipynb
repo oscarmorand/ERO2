{
 "cells": [
  {
   "cell_type": "markdown",
   "id": "40670ede",
   "metadata": {
    "slideshow": {
     "slide_type": "slide"
    }
   },
   "source": [
    "# Simulations naïves de files d'attentes - Corrigé\n",
    "\n",
    "Ce TP vous invite à explorer les files d'attentes à travers des simulations (souvent naïves) de celles-ci. L'étude des systèmes d'attente ne peut se contenter d'un travail d'analyse théorique. Ces analyses sont souvent non disponibles et leur production nécessitent un savoir-faire mathématique expert. La simulation dans ce contexte permet d'apporter un premier regard sur les phénomènes à l'observation, même si elles n'apporte pas de réponses définitives elles sont souvent suffisantes pour faire un choix en première approximation. À minimna une simulation permet une meilleure qualification des variables en jeux lors d'une potentielle mise à contribution d'une équipe spécialisée. \n",
    "\n",
    "-----------------------"
   ]
  },
  {
   "cell_type": "markdown",
   "id": "2cfde19d-297c-40f1-9086-f342a5405e9b",
   "metadata": {},
   "source": [
    "## Générer de l'aléatoire\n",
    "\n",
    "Simuler une file d'attente sous-entend simuler un phénomène aléatoire. Pour pouvoir aborder sereinement cette simulation, on s'autorise à utiliser les générateurs aléatoires à disposition dans `numpy`. De toute manière, vous savez déjà construire un générateur aléatoire à partir d'une loi uniforme, *n'est-ce pas?*"
   ]
  },
  {
   "cell_type": "code",
   "execution_count": 5,
   "id": "c6edaa59",
   "metadata": {
    "slideshow": {
     "slide_type": "slide"
    }
   },
   "outputs": [],
   "source": [
    "import numpy as np\n",
    "import pandas as pd"
   ]
  },
  {
   "cell_type": "markdown",
   "id": "de5be6c6-46bf-4348-93b2-95d95a46b69a",
   "metadata": {},
   "source": [
    "Pour référence, on revient rapidement sur la simulation d'une variable aléatoire suivant une loi disponibles dans `numpy`. Il s'agit en premier lieu d'initialiser un générateur aléatoire, afin de garantir la reproductibilité des résultats puis de faire appel avec ce générateur aux différentes lois qu'on souhaite utiliser. Dans le cas markoviens, on sera limités aux lois exponentielles."
   ]
  },
  {
   "cell_type": "code",
   "execution_count": 6,
   "id": "6f404464-f84e-4058-8285-dd2eff6692a5",
   "metadata": {
    "slideshow": {
     "slide_type": "fragment"
    }
   },
   "outputs": [
    {
     "data": {
      "text/plain": [
       "\u001b[0;31mSignature:\u001b[0m       \u001b[0mnp\u001b[0m\u001b[0;34m.\u001b[0m\u001b[0mrandom\u001b[0m\u001b[0;34m.\u001b[0m\u001b[0mdefault_rng\u001b[0m\u001b[0;34m(\u001b[0m\u001b[0mseed\u001b[0m\u001b[0;34m=\u001b[0m\u001b[0;32mNone\u001b[0m\u001b[0;34m)\u001b[0m\u001b[0;34m\u001b[0m\u001b[0;34m\u001b[0m\u001b[0m\n",
       "\u001b[0;31mCall signature:\u001b[0m  \u001b[0mnp\u001b[0m\u001b[0;34m.\u001b[0m\u001b[0mrandom\u001b[0m\u001b[0;34m.\u001b[0m\u001b[0mdefault_rng\u001b[0m\u001b[0;34m(\u001b[0m\u001b[0;34m*\u001b[0m\u001b[0margs\u001b[0m\u001b[0;34m,\u001b[0m \u001b[0;34m**\u001b[0m\u001b[0mkwargs\u001b[0m\u001b[0;34m)\u001b[0m\u001b[0;34m\u001b[0m\u001b[0;34m\u001b[0m\u001b[0m\n",
       "\u001b[0;31mType:\u001b[0m           cython_function_or_method\n",
       "\u001b[0;31mString form:\u001b[0m    <cyfunction default_rng at 0x104f39cb0>\n",
       "\u001b[0;31mDocstring:\u001b[0m     \n",
       "default_rng(seed=None)\n",
       "Construct a new Generator with the default BitGenerator (PCG64).\n",
       "\n",
       "    Parameters\n",
       "    ----------\n",
       "    seed : {None, int, array_like[ints], SeedSequence, BitGenerator, Generator}, optional\n",
       "        A seed to initialize the `BitGenerator`. If None, then fresh,\n",
       "        unpredictable entropy will be pulled from the OS. If an ``int`` or\n",
       "        ``array_like[ints]`` is passed, then all values must be non-negative and will be\n",
       "        passed to `SeedSequence` to derive the initial `BitGenerator` state. One may also\n",
       "        pass in a `SeedSequence` instance.\n",
       "        Additionally, when passed a `BitGenerator`, it will be wrapped by\n",
       "        `Generator`. If passed a `Generator`, it will be returned unaltered.\n",
       "\n",
       "    Returns\n",
       "    -------\n",
       "    Generator\n",
       "        The initialized generator object.\n",
       "\n",
       "    Notes\n",
       "    -----\n",
       "    If ``seed`` is not a `BitGenerator` or a `Generator`, a new `BitGenerator`\n",
       "    is instantiated. This function does not manage a default global instance.\n",
       "\n",
       "    See :ref:`seeding_and_entropy` for more information about seeding.\n",
       "\n",
       "    Examples\n",
       "    --------\n",
       "    `default_rng` is the recommended constructor for the random number class\n",
       "    `Generator`. Here are several ways we can construct a random \n",
       "    number generator using `default_rng` and the `Generator` class. \n",
       "\n",
       "    Here we use `default_rng` to generate a random float:\n",
       " \n",
       "    >>> import numpy as np\n",
       "    >>> rng = np.random.default_rng(12345)\n",
       "    >>> print(rng)\n",
       "    Generator(PCG64)\n",
       "    >>> rfloat = rng.random()\n",
       "    >>> rfloat\n",
       "    0.22733602246716966\n",
       "    >>> type(rfloat)\n",
       "    <class 'float'>\n",
       "     \n",
       "    Here we use `default_rng` to generate 3 random integers between 0 \n",
       "    (inclusive) and 10 (exclusive):\n",
       "        \n",
       "    >>> import numpy as np\n",
       "    >>> rng = np.random.default_rng(12345)\n",
       "    >>> rints = rng.integers(low=0, high=10, size=3)\n",
       "    >>> rints\n",
       "    array([6, 2, 7])\n",
       "    >>> type(rints[0])\n",
       "    <class 'numpy.int64'>\n",
       "    \n",
       "    Here we specify a seed so that we have reproducible results:\n",
       "    \n",
       "    >>> import numpy as np\n",
       "    >>> rng = np.random.default_rng(seed=42)\n",
       "    >>> print(rng)\n",
       "    Generator(PCG64)\n",
       "    >>> arr1 = rng.random((3, 3))\n",
       "    >>> arr1\n",
       "    array([[0.77395605, 0.43887844, 0.85859792],\n",
       "           [0.69736803, 0.09417735, 0.97562235],\n",
       "           [0.7611397 , 0.78606431, 0.12811363]])\n",
       "\n",
       "    If we exit and restart our Python interpreter, we'll see that we\n",
       "    generate the same random numbers again:\n",
       "\n",
       "    >>> import numpy as np\n",
       "    >>> rng = np.random.default_rng(seed=42)\n",
       "    >>> arr2 = rng.random((3, 3))\n",
       "    >>> arr2\n",
       "    array([[0.77395605, 0.43887844, 0.85859792],\n",
       "           [0.69736803, 0.09417735, 0.97562235],\n",
       "           [0.7611397 , 0.78606431, 0.12811363]])\n",
       "\n",
       "    "
      ]
     },
     "metadata": {},
     "output_type": "display_data"
    }
   ],
   "source": [
    "?? np.random.default_rng"
   ]
  },
  {
   "cell_type": "code",
   "execution_count": 7,
   "id": "0ee72a52",
   "metadata": {
    "slideshow": {
     "slide_type": "fragment"
    }
   },
   "outputs": [],
   "source": [
    "rng = np.random.default_rng(seed=42)"
   ]
  },
  {
   "cell_type": "code",
   "execution_count": 8,
   "id": "7d879f4a",
   "metadata": {
    "slideshow": {
     "slide_type": "fragment"
    }
   },
   "outputs": [],
   "source": [
    "l = 2."
   ]
  },
  {
   "cell_type": "code",
   "execution_count": 9,
   "id": "d7b5aa39",
   "metadata": {
    "slideshow": {
     "slide_type": "fragment"
    }
   },
   "outputs": [
    {
     "data": {
      "text/plain": [
       "array([1.2021043 , 1.16809483, 1.1923805 , 0.13989714, 0.0432187 ,\n",
       "       0.72633026, 0.70498035, 1.56214798, 0.0396471 , 0.52328042])"
      ]
     },
     "execution_count": 9,
     "metadata": {},
     "output_type": "execute_result"
    }
   ],
   "source": [
    "rng.exponential(1/l, 10)"
   ]
  },
  {
   "cell_type": "markdown",
   "id": "cfeb8977-1ebe-4e06-8249-3b5e6c60c7c1",
   "metadata": {},
   "source": [
    "Attention ici au fait que le premier paramètre de `rng.exponential` correspond à $1/\\lambda$ et non à $\\lambda$ dans le cours. Pour plus d'information vous êtes invités à consulter l'aide : `? rng.exponential`.\n",
    "\n",
    "------------"
   ]
  },
  {
   "cell_type": "markdown",
   "id": "76277954-e0a8-4019-aed3-10d01fe88678",
   "metadata": {},
   "source": [
    "## Modèle de travail\n",
    "\n",
    "Afin de garantir une certaine généricité de fonctionnement, nous allons encoder le résultats d'une simulation dans un `dataframe` qui permette des post-traitements statiques sur les données d'une simulation. Cela permet également de stocker le résultat d'une simulation pour consultations ultérieures notamment si l'on souhaite faire des comparatifs entre différents choix de simulations ou de paramètrage. \n",
    "\n",
    "On va pour la suite charger la bibliothèque `pandas` qui permet de manipuler et stocker facilement des données tabulaires."
   ]
  },
  {
   "cell_type": "code",
   "execution_count": 10,
   "id": "481b61cc-a7ed-4d7b-942d-3c46da57b510",
   "metadata": {},
   "outputs": [],
   "source": [
    "import pandas as pd"
   ]
  },
  {
   "cell_type": "markdown",
   "id": "ecd10008",
   "metadata": {
    "slideshow": {
     "slide_type": "slide"
    }
   },
   "source": [
    "On qualifie **d'Agent** une notion qui correspond à celle de client\n",
    "dans le folklore d'une file d'attente au guichet. Il est défini par\n",
    "les attributs suivants\n",
    "\n",
    "- `id` : son identifiant, un `int`.\n",
    "- `t_arval_queue` : temps d'arrivée dans le système d'attente, `float`.\n",
    "- `t_arval_srv` : temps d'accès à un serveur, `float`.\n",
    "- `t_depart_sys` : temps de départ du système, `float`.\n",
    "\n",
    "Dans l'implémentation qu'on propose chaque agent correspond aux\n",
    "premières colonnes d'une ligne dans un dataframe, nommé `tops`. Les\n",
    "colonnes concernées seront respectivement nommées\n",
    "`t_arval_queue`, `t_arval_srv` et `t_depart_sys`. L'attribut `id` correspond à une indexation sur les lignes.\n",
    "\n",
    "Les éléments décrits de `tops` correspondent aux tops d'un chronomètres en observation d'une file d'attente. On se laisse le droit, même si cela n'est pas très orthodoxe, de rajouter une information d'un autre ordre dans les colonnes de `tops`."
   ]
  },
  {
   "cell_type": "code",
   "execution_count": 11,
   "id": "0653fa50",
   "metadata": {
    "slideshow": {
     "slide_type": "fragment"
    }
   },
   "outputs": [],
   "source": [
    "tops = pd.DataFrame(rng.uniform(.1, size=(10, 3)), \n",
    "                    columns = ['t_arval_queue', 't_arval_srv', 't_depart_sys'])"
   ]
  },
  {
   "cell_type": "code",
   "execution_count": 12,
   "id": "7110aff8",
   "metadata": {
    "slideshow": {
     "slide_type": "fragment"
    }
   },
   "outputs": [
    {
     "data": {
      "text/html": [
       "<div>\n",
       "<style scoped>\n",
       "    .dataframe tbody tr th:only-of-type {\n",
       "        vertical-align: middle;\n",
       "    }\n",
       "\n",
       "    .dataframe tbody tr th {\n",
       "        vertical-align: top;\n",
       "    }\n",
       "\n",
       "    .dataframe thead th {\n",
       "        text-align: right;\n",
       "    }\n",
       "</style>\n",
       "<table border=\"1\" class=\"dataframe\">\n",
       "  <thead>\n",
       "    <tr style=\"text-align: right;\">\n",
       "      <th></th>\n",
       "      <th>t_arval_queue</th>\n",
       "      <th>t_arval_srv</th>\n",
       "      <th>t_depart_sys</th>\n",
       "    </tr>\n",
       "  </thead>\n",
       "  <tbody>\n",
       "    <tr>\n",
       "      <th>0</th>\n",
       "      <td>0.433718</td>\n",
       "      <td>0.934088</td>\n",
       "      <td>0.679479</td>\n",
       "    </tr>\n",
       "    <tr>\n",
       "      <th>1</th>\n",
       "      <td>0.840485</td>\n",
       "      <td>0.499073</td>\n",
       "      <td>0.304515</td>\n",
       "    </tr>\n",
       "    <tr>\n",
       "      <th>2</th>\n",
       "      <td>0.599126</td>\n",
       "      <td>0.157436</td>\n",
       "      <td>0.844868</td>\n",
       "    </tr>\n",
       "    <tr>\n",
       "      <th>3</th>\n",
       "      <td>0.668498</td>\n",
       "      <td>0.782279</td>\n",
       "      <td>0.419073</td>\n",
       "    </tr>\n",
       "    <tr>\n",
       "      <th>4</th>\n",
       "      <td>0.973628</td>\n",
       "      <td>0.903809</td>\n",
       "      <td>0.800545</td>\n",
       "    </tr>\n",
       "    <tr>\n",
       "      <th>5</th>\n",
       "      <td>0.275175</td>\n",
       "      <td>0.520049</td>\n",
       "      <td>0.139423</td>\n",
       "    </tr>\n",
       "    <tr>\n",
       "      <th>6</th>\n",
       "      <td>0.238861</td>\n",
       "      <td>0.714744</td>\n",
       "      <td>0.770286</td>\n",
       "    </tr>\n",
       "    <tr>\n",
       "      <th>7</th>\n",
       "      <td>0.970759</td>\n",
       "      <td>0.393243</td>\n",
       "      <td>0.433414</td>\n",
       "    </tr>\n",
       "    <tr>\n",
       "      <th>8</th>\n",
       "      <td>0.522600</td>\n",
       "      <td>0.270524</td>\n",
       "      <td>0.216929</td>\n",
       "    </tr>\n",
       "    <tr>\n",
       "      <th>9</th>\n",
       "      <td>0.528134</td>\n",
       "      <td>0.304218</td>\n",
       "      <td>0.702833</td>\n",
       "    </tr>\n",
       "  </tbody>\n",
       "</table>\n",
       "</div>"
      ],
      "text/plain": [
       "   t_arval_queue  t_arval_srv  t_depart_sys\n",
       "0       0.433718     0.934088      0.679479\n",
       "1       0.840485     0.499073      0.304515\n",
       "2       0.599126     0.157436      0.844868\n",
       "3       0.668498     0.782279      0.419073\n",
       "4       0.973628     0.903809      0.800545\n",
       "5       0.275175     0.520049      0.139423\n",
       "6       0.238861     0.714744      0.770286\n",
       "7       0.970759     0.393243      0.433414\n",
       "8       0.522600     0.270524      0.216929\n",
       "9       0.528134     0.304218      0.702833"
      ]
     },
     "execution_count": 12,
     "metadata": {},
     "output_type": "execute_result"
    }
   ],
   "source": [
    "tops"
   ]
  },
  {
   "cell_type": "markdown",
   "id": "1d2dd64a-fd31-45d1-afd9-2b765adf92e8",
   "metadata": {},
   "source": [
    "Le code précédent ne vise qu'à vous fixer la forme de `tops`. Il devrait être clair pour vous que le remplissage de `tops` dans le cadre de la simulation d'une file d'attente ne sera pas effectuer de cette façon. \n",
    "\n",
    "-------"
   ]
  },
  {
   "cell_type": "markdown",
   "id": "10b441f8-94cd-4063-bff6-f3a816a4363c",
   "metadata": {},
   "source": [
    "# Simuler une file M/M/1\n",
    "\n",
    "Il est bien entendu illusoire de souhaiter simuler une file M/M/1 qui s'exécute infiniment, il s'agit ici d'avoir une file pour laquelle aucun refus ne peut avoir lieu indépendamment des congestions qu'elle peut subir. Le nombre d'agents intervenants dans la simulation ne sont dans ce contexte qu'un échantillon de la population infinie considérée."
   ]
  },
  {
   "cell_type": "markdown",
   "id": "3fc9e6cd-47dd-4bdb-9e73-c247565c943e",
   "metadata": {},
   "source": [
    "La classe qui suit, cherche à standardiser la façon avec laquelle on souhaite étudier / formaliser nos différentes simulation de files d'attentes"
   ]
  },
  {
   "cell_type": "code",
   "execution_count": 108,
   "id": "c4ba64a2-60cb-40f8-bff3-7945bd0dcfcf",
   "metadata": {},
   "outputs": [],
   "source": [
    "class mm1():\n",
    "    \"\"\"\n",
    "    A class representing an mm1 queue. \n",
    "\n",
    "    Attributes :\n",
    "\n",
    "        lamda (float)   : parameter of exponential law corresponding to interarrival times.\n",
    "        mu (float)      : parameter of exponential law corresponding to service times.\n",
    "        gen (np.random) : a random generator\n",
    "        test_z (int)    : test size\n",
    "        tops            : dataframe containing queue and service arrival times, and departure times for each agent.\n",
    "    \"\"\"\n",
    "    \n",
    "    \n",
    "    def __init__(self, lamda, mu, gen, test_z=100) :\n",
    "        \"\"\"\n",
    "        Initializes a new instance of the class mm1.\n",
    "        \n",
    "        Args :\n",
    "            lamda  : parameter of exponential law corresponding to interarrival times.\n",
    "            mu     : parameter of exponential law corresponding to service times.\n",
    "            gen    : a random generator\n",
    "            test_z : test size. \n",
    "        \"\"\"\n",
    "        \n",
    "        #Initializing metadata\n",
    "        self.lamda = lamda\n",
    "        self.mu = mu\n",
    "        self.gen = gen\n",
    "        self.test_z = test_z\n",
    "        \n",
    "        #Initializin tops dataframe\n",
    "        column_names = ['t_arval_queue', 't_arval_srv', 't_depart_sys']\n",
    "        self.tops = pd.DataFrame(np.empty((self.test_z, 3),dtype=object), columns=column_names)\n",
    "        \n",
    "    def run(self):\n",
    "        \"\"\"\n",
    "        Simulates the mm1 queuing system\n",
    "\n",
    "        Modifies the attribute tops following a simulation of mm1 queue respecting interarrival and \n",
    "        outgoing intensities given by corresponding attributes. Besides filling in queue arrival times, \n",
    "        service arrival times and departure times for each agent, it adds columns to tops corresponding \n",
    "        to sojourn time (t_sojourn), waiting time (t_waiting) and service time (t_service) of each agent.\n",
    "        \"\"\"\n",
    "        #Easing naming\n",
    "        tops = self.tops\n",
    "        gen = self.gen\n",
    "        lamda = self.lamda\n",
    "        test_z = self.test_z\n",
    "        \n",
    "        #initializing queue interarrival distribution\n",
    "        tops.loc[0, 't_arval_queue'] = gen.exponential(1./lamda)\n",
    "        \n",
    "        for agent_ix in range(1, test_z) :\n",
    "            tops.loc[agent_ix, 't_arval_queue'] = tops.loc[agent_ix - 1, 't_arval_queue'] + gen.exponential(1./lamda)\n",
    "        # Agent indexes order agents by their arrival times from first to last.\n",
    "\n",
    "\n",
    "        #Computing service arrival times and system departure times\n",
    "        tops.loc[0, 't_arval_srv'] = tops.loc[0, 't_arval_queue']\n",
    "        tops.loc[0, 't_depart_sys'] = tops.loc[0, 't_arval_srv'] + gen.exponential(1./mu)\n",
    "        for agent_ix in range(1, test_z):\n",
    "            \n",
    "            if tops.loc[agent_ix, 't_arval_queue'] > tops.loc[agent_ix - 1, 't_depart_sys'] :\n",
    "                #Agent arrives in arrival queue and finds an empty server\n",
    "                tops.loc[agent_ix, 't_arval_srv'] = tops.loc[agent_ix, 't_arval_queue']                          \n",
    "            else: \n",
    "                #Agent arrives in arrival queue and finds full server\n",
    "                tops.loc[agent_ix, 't_arval_srv'] = tops.loc[agent_ix - 1, 't_depart_sys']\n",
    "\n",
    "            #Updating system departure time for agent.\n",
    "            tops.loc[agent_ix, 't_depart_sys'] = tops.loc[agent_ix, 't_arval_srv'] + gen.exponential(1./mu)\n",
    "                       \n",
    "        #Enhancing tops to containing agent time laps information       \n",
    "        tops['t_sojourn'] = tops['t_depart_sys'] - tops['t_arval_queue']\n",
    "        tops['t_waiting'] = tops['t_arval_srv'] - tops['t_arval_queue']\n",
    "        tops['t_service'] = tops['t_depart_sys'] - tops['t_arval_srv']    \n",
    "    \n",
    "    def compute_counts(self, nb_tops):\n",
    "        \"\"\"\n",
    "        Computes number of agents in system at all given times.\n",
    "\n",
    "        Args :\n",
    "            nb_tops : total number of tops we're considering.\n",
    "\n",
    "        Returns :\n",
    "            A dataframe indexed by nb_tops time laps all along total queue simulation time, \n",
    "            its three columns contain number of agents in system (ag_in_sys), in arrival queue (ag_in_queue) and\n",
    "            in service (ag_in_service).\n",
    "        \"\"\"                \n",
    "        #Easing naming\n",
    "        tops = self.tops\n",
    "        test_z = self.test_z\n",
    "\n",
    "        # Initializing time tops dataframe\n",
    "        colnames = ['ag_in_sys', 'ag_in_queue', 'ag_in_service']\n",
    "        t_range = np.linspace(0., tops['t_depart_sys'].max(), nb_tops)\n",
    "        counts = pd.DataFrame(np.empty((t_range.shape[0], 3),dtype=object), \n",
    "                                index=t_range, columns=colnames)\n",
    "\n",
    "        #Computing number of agents in system at each given time t\n",
    "        for t in counts.index:\n",
    "            counts.loc[t, 'ag_in_sys'] = ((t >= tops['t_arval_queue']) & (t <= tops['t_depart_sys'])).sum()\n",
    "            counts.loc[t, 'ag_in_queue'] = ((t >= tops['t_arval_queue']) & (t <= tops['t_arval_srv'])).sum()\n",
    "            counts.loc[t, 'ag_in_service'] = ((t > tops['t_arval_srv']) & (t <= tops['t_depart_sys'])).sum()\n",
    "\n",
    "        return counts\n",
    "    \n",
    "    def compute_stats(self):\n",
    "        \"\"\"\n",
    "        Computes statistics of a current simulation of queue.\n",
    "\n",
    "        Returns:\n",
    "            A dataframe indexed by standard statistics of interest mean sojourn time (mean_sojourn_time), \n",
    "            mean waiting time (mean_waiting_time) and mean service time (mean_service_time).\n",
    "        \"\"\"\n",
    "        #Easing naming\n",
    "        tops = self.tops\n",
    "        \n",
    "        statnames = ['mean_sojourn_time', 'mean_waiting_time', 'mean_service_time']\n",
    "        \n",
    "        stats = pd.DataFrame(np.empty((len(statnames), 1),dtype=object), index=statnames, columns=['run value'])\n",
    " \n",
    "        #Computing standard queuing system statistics.\n",
    "        stats.loc['mean_sojourn_time'] = tops['t_sojourn'].sum() / (self.test_z)\n",
    "        stats.loc['mean_waiting_time'] = tops['t_waiting'].sum() / (self.test_z)\n",
    "        stats.loc['mean_service_time'] = tops['t_service'].sum() / (self.test_z)\n",
    "        \n",
    "        return stats"
   ]
  },
  {
   "cell_type": "markdown",
   "id": "d5c433a0-7b4a-4545-97c8-9af3c7717b60",
   "metadata": {},
   "source": [
    "1. **Implémenter les fonctions laissées dans le code.**"
   ]
  },
  {
   "cell_type": "markdown",
   "id": "f9e2759e-6533-410d-8fe9-dd9462874382",
   "metadata": {},
   "source": [
    "2. **Simuler le comportement d'une file mm1 avec les paramètres de votre choix. On note `mm1_counts` et `mm1_stats` les variables qui stockent les retours des fonctions `counts` et `stats` pour une exécution de votre choix de `mm1`. Vous pourrez représenter graphiquement les résultats de vos tests à l'aide du code ci-dessous**"
   ]
  },
  {
   "cell_type": "code",
   "execution_count": 109,
   "id": "7873b9f2-7394-4b4a-ab54-4996377cff05",
   "metadata": {},
   "outputs": [],
   "source": [
    "lamda = 5.\n",
    "mu = 10.\n",
    "gen = rng\n",
    "size = 100"
   ]
  },
  {
   "cell_type": "code",
   "execution_count": 110,
   "id": "ebaa5a36-11c0-4891-a1f8-cf903b1d8dda",
   "metadata": {},
   "outputs": [],
   "source": [
    "mm1_queue = mm1(lamda, mu, gen, size)"
   ]
  },
  {
   "cell_type": "code",
   "execution_count": 111,
   "id": "1ae01730-0c23-453f-bc61-aaeec3329558",
   "metadata": {},
   "outputs": [],
   "source": [
    "mm1_queue.run()"
   ]
  },
  {
   "cell_type": "code",
   "execution_count": 112,
   "id": "cd14a581-4db5-4b1a-9d38-0460228964e5",
   "metadata": {},
   "outputs": [],
   "source": [
    "mm1_counts = mm1_queue.compute_counts(2*size)"
   ]
  },
  {
   "cell_type": "code",
   "execution_count": 113,
   "id": "35c805b5-ac71-4b85-b7b5-a595dc9db8fe",
   "metadata": {},
   "outputs": [],
   "source": [
    "mm1_stats = mm1_queue.compute_stats()"
   ]
  },
  {
   "cell_type": "code",
   "execution_count": 114,
   "id": "a0ca5135-f5d9-4612-8d45-cd8f5d400b4a",
   "metadata": {},
   "outputs": [
    {
     "data": {
      "text/html": [
       "<div>\n",
       "<style scoped>\n",
       "    .dataframe tbody tr th:only-of-type {\n",
       "        vertical-align: middle;\n",
       "    }\n",
       "\n",
       "    .dataframe tbody tr th {\n",
       "        vertical-align: top;\n",
       "    }\n",
       "\n",
       "    .dataframe thead th {\n",
       "        text-align: right;\n",
       "    }\n",
       "</style>\n",
       "<table border=\"1\" class=\"dataframe\">\n",
       "  <thead>\n",
       "    <tr style=\"text-align: right;\">\n",
       "      <th></th>\n",
       "      <th>run value</th>\n",
       "    </tr>\n",
       "  </thead>\n",
       "  <tbody>\n",
       "    <tr>\n",
       "      <th>mean_sojourn_time</th>\n",
       "      <td>0.213456</td>\n",
       "    </tr>\n",
       "    <tr>\n",
       "      <th>mean_waiting_time</th>\n",
       "      <td>0.111104</td>\n",
       "    </tr>\n",
       "    <tr>\n",
       "      <th>mean_service_time</th>\n",
       "      <td>0.102352</td>\n",
       "    </tr>\n",
       "  </tbody>\n",
       "</table>\n",
       "</div>"
      ],
      "text/plain": [
       "                  run value\n",
       "mean_sojourn_time  0.213456\n",
       "mean_waiting_time  0.111104\n",
       "mean_service_time  0.102352"
      ]
     },
     "execution_count": 114,
     "metadata": {},
     "output_type": "execute_result"
    }
   ],
   "source": [
    "mm1_stats"
   ]
  },
  {
   "cell_type": "code",
   "execution_count": 115,
   "id": "ca3a7119-038b-4f7e-b739-fac035e00007",
   "metadata": {},
   "outputs": [],
   "source": [
    "import matplotlib.pyplot as plt"
   ]
  },
  {
   "cell_type": "code",
   "execution_count": 116,
   "id": "8bb72f60-14dc-4441-b0f6-9314c6606007",
   "metadata": {},
   "outputs": [
    {
     "data": {
      "image/png": "[encoded data removed]",
      "text/plain": [
       "<Figure size 1600x1200 with 3 Axes>"
      ]
     },
     "metadata": {},
     "output_type": "display_data"
    }
   ],
   "source": [
    "fig, axes = plt.subplots(3, 1, figsize=(16, 12))\n",
    "counts = ['ag_in_sys','ag_in_queue','ag_in_service']\n",
    "labels = ['system', 'queue', 'service']\n",
    "colors = ['red', 'blue', 'black']\n",
    "\n",
    "for i in range(3):\n",
    "    mm1_counts.plot(y= counts[i], \n",
    "                   use_index=True, ax=axes[i], linewidth=1.5,drawstyle='steps-mid', color=f'{colors[i]}',\n",
    "                   ylabel=f'Agent number in {labels[i]}', xlabel='Time', ylim=[0,max(mm1_counts['ag_in_sys']+1)])\n",
    "    "
   ]
  },
  {
   "cell_type": "markdown",
   "id": "78e349ba-80de-4d71-98f4-62f11164fd2d",
   "metadata": {},
   "source": [
    "3. **Comparer les résultats que vous obtenez à l'aide de votre simulateur aux résultats théorques attentdus.**\n",
    "\n",
    "Le temps de séjour moyen devrait être du même ordre de grandeur que $\\frac{1}{\\mu - \\lambda}$. Avec quelques simulations on constate qu'on est du même ordre de grandeur que cette valeur mais ce n'est pas tout bonnement une égalité. \n",
    "\n",
    "Afin de pouvoir statuer il s'agit d'effectuer suffisamment de simulation et de regarder les moyennes des temps de séjour des simulations à effectuer sur des échantillons de populations suffisamments grands.\n",
    "\n",
    "-----------"
   ]
  },
  {
   "cell_type": "markdown",
   "id": "2d48c866-2a34-43ff-90ca-be450be8f917",
   "metadata": {},
   "source": [
    "# Le cas d'une file M/M/1/K"
   ]
  },
  {
   "cell_type": "markdown",
   "id": "9e11c872-9073-42c1-83d6-3656f3761733",
   "metadata": {},
   "source": [
    "1. Quels sont les comportement qu'on souhaite retrouver dans le cas des files M/M/1/K qui sont exclus du cas M/M/1 précédents ?\n",
    "\n",
    "Dans une file d'attente finie, on s'attend à retrouver une information sur la saturation et le refus d'accès au système à l'entrée."
   ]
  },
  {
   "cell_type": "markdown",
   "id": "0bf87524-14f0-4ae8-8a23-b9557e19ebef",
   "metadata": {},
   "source": [
    "2. Adapter le code `mm1` précédent au cas d'une file d'attente `mm1k`. "
   ]
  },
  {
   "cell_type": "code",
   "execution_count": 117,
   "id": "eb3f350b-51a1-40ca-b148-4ae5ba50fdda",
   "metadata": {},
   "outputs": [],
   "source": [
    "class mm1k():\n",
    "    \"\"\"\n",
    "    A class representing an mm1k queue. \n",
    "\n",
    "    Attributes :\n",
    "\n",
    "        lamda (float)   : parameter of exponential law corresponding to interarrival times.\n",
    "        mu (float)      : parameter of exponential law corresponding to service times.\n",
    "        gen (np.random) : a random generator\n",
    "        queue_z (int)   : size of arrival queue \n",
    "        test_z (int)    : test size\n",
    "        tops            : dataframe containing queue and service arrival times, and departure times for each agent.\n",
    "    \"\"\"\n",
    "    \n",
    "    \n",
    "    def __init__(self, lamda, mu, gen, queue_z=None, test_z=100) :\n",
    "        \"\"\"\n",
    "        Initializes a new instance of the class mm1k.\n",
    "        \n",
    "        Args :\n",
    "            lamda  : parameter of exponential law corresponding to interarrival times.\n",
    "            mu     : parameter of exponential law corresponding to service times.\n",
    "            gen    : a random generator\n",
    "            queue_z : size of arrival queue\n",
    "            test_z : test size. \n",
    "        \"\"\"\n",
    "        \n",
    "        #Initializing metadata\n",
    "        self.lamda = lamda\n",
    "        self.mu = mu\n",
    "        self.gen = gen\n",
    "        self.queue_z = queue_z\n",
    "        self.test_z = test_z\n",
    "        \n",
    "        #Initializin tops dataframe\n",
    "        column_names = ['t_arval_queue', 't_arval_srv', 't_depart_sys']\n",
    "        self.tops = pd.DataFrame(np.empty((self.test_z, 3),dtype=object), columns=column_names)\n",
    "        \n",
    "    def run(self):\n",
    "        \"\"\"\n",
    "        Simulates the mm1 queuing system\n",
    "\n",
    "        Modifies the attribute tops following a simulation of mm1 queue respecting interarrival and \n",
    "        outgoing intensities given by corresponding attributes. Besides filling in queue arrival times, \n",
    "        service arrival times and departure times for each agent, it adds columns to tops corresponding \n",
    "        to sojourn time (t_sojourn), waiting time (t_waiting) and service time (t_service) of each agent.\n",
    "        \"\"\"\n",
    "        #Easing naming\n",
    "        tops = self.tops\n",
    "        gen = self.gen\n",
    "        lamda = self.lamda\n",
    "        queue_z = self.queue_z\n",
    "        test_z = self.test_z\n",
    "        \n",
    "        #initializing queue interarrival distribution\n",
    "        tops.loc[0, 't_arval_queue'] = gen.exponential(1./lamda)\n",
    "        \n",
    "        for agent_ix in range(1, test_z) :\n",
    "            tops.loc[agent_ix, 't_arval_queue'] = tops.loc[agent_ix - 1, 't_arval_queue'] + gen.exponential(1./lamda)\n",
    "        # Agent indexes order agents by their arrival times from first to last.\n",
    "\n",
    "\n",
    "        # Computing service arrival times and system departure times\n",
    "        tops.loc[0, 't_arval_srv'] = tops.loc[0, 't_arval_queue']\n",
    "        tops.loc[0, 't_depart_sys'] = tops.loc[0, 't_arval_srv'] + gen.exponential(1./mu)\n",
    "\n",
    "        # Initialize index ranges for agents granted access to queuing system\n",
    "        granted_ix = [0]\n",
    "\n",
    "        current_ix = 1\n",
    "        while current_ix < test_z :\n",
    "\n",
    "            in_system = (tops.loc[0:current_ix - 1, 't_depart_sys'] > tops.loc[current_ix, 't_arval_queue']).sum()\n",
    "\n",
    "            if queue_z is not None and in_system > queue_z :\n",
    "                # Queuing system is saturated\n",
    "\n",
    "                # Choice is made to fill dataframe with negative integers\n",
    "                tops.loc[current_ix, 't_depart_sys'] = -1\n",
    "                tops.loc[current_ix, 't_arval_srv'] = -1\n",
    "                \n",
    "                current_ix = current_ix + 1\n",
    "\n",
    "                # Skip treatment of current_ix case\n",
    "                continue\n",
    "\n",
    "            previously_granted_ix = granted_ix[-1]\n",
    "            \n",
    "            if tops.loc[current_ix, 't_arval_queue'] > tops.loc[previously_granted_ix, 't_depart_sys'] :\n",
    "                #Agent arrives in arrival queue and finds an empty server\n",
    "                tops.loc[current_ix, 't_arval_srv'] = tops.loc[current_ix, 't_arval_queue']                          \n",
    "            else: \n",
    "                #Agent arrives in arrival queue and finds full server\n",
    "                tops.loc[current_ix, 't_arval_srv'] = tops.loc[previously_granted_ix, 't_depart_sys']\n",
    "\n",
    "            #Updating system departure time for agent.\n",
    "            tops.loc[current_ix, 't_depart_sys'] = tops.loc[current_ix, 't_arval_srv'] + gen.exponential(1./mu)\n",
    "\n",
    "            granted_ix.append(current_ix)\n",
    "            current_ix = current_ix + 1\n",
    "                               \n",
    "        #Enhancing tops to containing agent time laps information               \n",
    "        tops['t_sojourn'] = np.where(tops['t_depart_sys'] == -1, 0, tops['t_depart_sys'] - tops['t_arval_queue'])\n",
    "        tops['t_waiting'] = np.where(tops['t_depart_sys'] == -1, 0, tops['t_arval_srv'] - tops['t_arval_queue'])\n",
    "        tops['t_service'] = np.where(tops['t_depart_sys'] == -1, 0, tops['t_depart_sys'] - tops['t_arval_srv'])\n",
    "        tops['blocked'] = tops.loc[:,'t_depart_sys'] == -1\n",
    "        tops['waited'] = tops['t_waiting'] > 0 \n",
    "    \n",
    "    def compute_counts(self, nb_tops):\n",
    "        \"\"\"\n",
    "        Computes number of agents in system at all given times.\n",
    "\n",
    "        Args :\n",
    "            nb_tops : total number of tops we're considering.\n",
    "\n",
    "        Returns :\n",
    "            A dataframe indexed by nb_tops time laps all along total queue simulation time, \n",
    "            its three columns contain number of agents in system (ag_in_sys), in arrival queue (ag_in_queue) and\n",
    "            in service (ag_in_service).\n",
    "        \"\"\"                \n",
    "        #Easing naming\n",
    "        tops = self.tops\n",
    "        test_z = self.test_z\n",
    "\n",
    "        # Initializing time tops dataframe\n",
    "        colnames = ['ag_in_sys', 'ag_in_queue', 'ag_in_service']\n",
    "        t_range = np.linspace(0., tops['t_depart_sys'].max(), nb_tops)\n",
    "        counts = pd.DataFrame(np.empty((t_range.shape[0], 3),dtype=object), \n",
    "                                index=t_range, columns=colnames)\n",
    "\n",
    "        #Computing number of agents in system at each given time t\n",
    "        for t in counts.index:\n",
    "            counts.loc[t, 'ag_in_sys'] = ((t >= tops['t_arval_queue']) & (t <= tops['t_depart_sys'])).sum()\n",
    "            counts.loc[t, 'ag_in_queue'] = ((t >= tops['t_arval_queue']) & (t <= tops['t_arval_srv'])).sum()\n",
    "            counts.loc[t, 'ag_in_service'] = ((t > tops['t_arval_srv']) & (t <= tops['t_depart_sys'])).sum()\n",
    "\n",
    "        return counts\n",
    "    \n",
    "    def compute_stats(self):\n",
    "        \"\"\"\n",
    "        Computes statistics of a current simulation of queue.\n",
    "\n",
    "        Returns:\n",
    "            A dataframe indexed by standard statistics of interest mean sojourn time (mean_sojourn_time), \n",
    "            mean waiting time (mean_waiting_time) and mean service time (mean_service_time).\n",
    "        \"\"\"\n",
    "        #Easing naming\n",
    "        tops = self.tops\n",
    "        test_z = self.test_z\n",
    "        \n",
    "        statnames = ['mean_sojourn_time', 'mean_waiting_time', 'mean_service_time',\n",
    "                     'waiting_proportion', 'blocked_proportion']\n",
    "        \n",
    "        stats = pd.DataFrame(np.empty((len(statnames), 1),dtype=object), index=statnames, columns=['run value'])\n",
    " \n",
    "        #Computing standard queuing system statistics.\n",
    "        stats.loc['mean_sojourn_time'] = tops['t_sojourn'].sum() / (~tops['blocked']).sum()\n",
    "        stats.loc['mean_waiting_time'] = tops['t_waiting'].sum() / (~tops['blocked']).sum()\n",
    "        stats.loc['mean_service_time'] = tops['t_service'].sum() / (~tops['blocked']).sum()\n",
    "\n",
    "        stats.loc['waiting_proportion'] = tops['waited'].sum() / (~tops['blocked']).sum()\n",
    "        stats.loc['blocked_proportion'] = tops['blocked'].sum() / test_z\n",
    "        \n",
    "        return stats"
   ]
  },
  {
   "cell_type": "code",
   "execution_count": 118,
   "id": "91d804a7-0cf4-4a61-9c91-c1a572308a23",
   "metadata": {},
   "outputs": [],
   "source": [
    "lamda = 10.\n",
    "mu = 30.\n",
    "gen = rng\n",
    "queue_size = 2\n",
    "size = 100"
   ]
  },
  {
   "cell_type": "code",
   "execution_count": 119,
   "id": "45ad40e1-e221-4e43-94d3-854e9646ef40",
   "metadata": {},
   "outputs": [],
   "source": [
    "mm1k_queue = mm1k(lamda, mu, gen, queue_size, size)"
   ]
  },
  {
   "cell_type": "code",
   "execution_count": 120,
   "id": "b6855c53-d598-4604-b87e-33873ad73b63",
   "metadata": {},
   "outputs": [],
   "source": [
    "mm1k_queue.run()"
   ]
  },
  {
   "cell_type": "code",
   "execution_count": 121,
   "id": "9e0d6953-d4ce-40fa-b43e-8390e7a01d43",
   "metadata": {},
   "outputs": [],
   "source": [
    "mm1k_counts = mm1k_queue.compute_counts(2*size)"
   ]
  },
  {
   "cell_type": "code",
   "execution_count": 122,
   "id": "dd4fdd43-772e-401d-a2a7-cbbf056bd5e4",
   "metadata": {},
   "outputs": [],
   "source": [
    "mm1k_stats = mm1k_queue.compute_stats()"
   ]
  },
  {
   "cell_type": "code",
   "execution_count": 123,
   "id": "eb7090f0-f417-4a65-8dcc-57eb9cb4f1b9",
   "metadata": {},
   "outputs": [
    {
     "data": {
      "text/html": [
       "<div>\n",
       "<style scoped>\n",
       "    .dataframe tbody tr th:only-of-type {\n",
       "        vertical-align: middle;\n",
       "    }\n",
       "\n",
       "    .dataframe tbody tr th {\n",
       "        vertical-align: top;\n",
       "    }\n",
       "\n",
       "    .dataframe thead th {\n",
       "        text-align: right;\n",
       "    }\n",
       "</style>\n",
       "<table border=\"1\" class=\"dataframe\">\n",
       "  <thead>\n",
       "    <tr style=\"text-align: right;\">\n",
       "      <th></th>\n",
       "      <th>run value</th>\n",
       "    </tr>\n",
       "  </thead>\n",
       "  <tbody>\n",
       "    <tr>\n",
       "      <th>mean_sojourn_time</th>\n",
       "      <td>0.042989</td>\n",
       "    </tr>\n",
       "    <tr>\n",
       "      <th>mean_waiting_time</th>\n",
       "      <td>0.012232</td>\n",
       "    </tr>\n",
       "    <tr>\n",
       "      <th>mean_service_time</th>\n",
       "      <td>0.030757</td>\n",
       "    </tr>\n",
       "    <tr>\n",
       "      <th>waiting_proportion</th>\n",
       "      <td>0.236559</td>\n",
       "    </tr>\n",
       "    <tr>\n",
       "      <th>blocked_proportion</th>\n",
       "      <td>0.07</td>\n",
       "    </tr>\n",
       "  </tbody>\n",
       "</table>\n",
       "</div>"
      ],
      "text/plain": [
       "                   run value\n",
       "mean_sojourn_time   0.042989\n",
       "mean_waiting_time   0.012232\n",
       "mean_service_time   0.030757\n",
       "waiting_proportion  0.236559\n",
       "blocked_proportion      0.07"
      ]
     },
     "execution_count": 123,
     "metadata": {},
     "output_type": "execute_result"
    }
   ],
   "source": [
    "mm1k_stats"
   ]
  },
  {
   "cell_type": "code",
   "execution_count": 124,
   "id": "70c3d362-a450-4415-bf35-6cd438ca03cf",
   "metadata": {},
   "outputs": [
    {
     "data": {
      "image/png": "[encoded data removed]",
      "text/plain": [
       "<Figure size 1600x1200 with 3 Axes>"
      ]
     },
     "metadata": {},
     "output_type": "display_data"
    }
   ],
   "source": [
    "fig, axes = plt.subplots(3, 1, figsize=(16, 12))\n",
    "counts = ['ag_in_sys','ag_in_queue','ag_in_service']\n",
    "labels = ['system', 'queue', 'service']\n",
    "colors = ['red', 'blue', 'black']\n",
    "\n",
    "for i in range(3):\n",
    "    mm1k_counts.plot(y= counts[i], \n",
    "                   use_index=True, ax=axes[i], linewidth=1.5,drawstyle='steps-mid', color=f'{colors[i]}',\n",
    "                   ylabel=f'Agent number in {labels[i]}', xlabel='Time', ylim=[0,max(mm1k_counts['ag_in_sys']+1)])"
   ]
  },
  {
   "cell_type": "markdown",
   "id": "1090bf2f-6954-4866-b4ab-10f277bca6f6",
   "metadata": {},
   "source": [
    "3. Comparer ce que vous obtenez aux résultats théoriques."
   ]
  },
  {
   "cell_type": "markdown",
   "id": "944820d2-02a6-4bea-8ad4-2720ee6dd313",
   "metadata": {},
   "source": [
    "Le temps de séjour moyen théorique dès que $\\lambda \\neq \\rho$ est donné par :"
   ]
  },
  {
   "cell_type": "code",
   "execution_count": 125,
   "id": "760ba318-0b1e-4f60-9c4d-2f523859bd51",
   "metadata": {},
   "outputs": [
    {
     "data": {
      "text/plain": [
       "0.049999999999999996"
      ]
     },
     "execution_count": 125,
     "metadata": {},
     "output_type": "execute_result"
    }
   ],
   "source": [
    "E_T = (1/mu) / (1 - (lamda / mu)) \n",
    "E_T"
   ]
  },
  {
   "cell_type": "markdown",
   "id": "dd78b700-8d1f-4d47-ad34-21611e0d2686",
   "metadata": {},
   "source": [
    "Pour vérifier la cohérence de ce résultat théorique en rapport à des conditions de simulation, il faut effectuer un travail de consolidation à travers une série de simulation, et des tests statistiques sur la distribution des moyennes de séjour des données empiriques."
   ]
  },
  {
   "cell_type": "markdown",
   "id": "e824b1cf-5111-4437-b481-ce02903a2cd9",
   "metadata": {},
   "source": [
    "4. Étuder l'impact de différentes politiques de priorisation sur les statistiques de comportement d'une file d'attente M/M/1/K\n",
    "\n",
    "La réponse à cette question passe par le fait d'implémenter un modèle qui permette de qualifier la politique de priorisation. Un code est mis à votre disposition en fin de ce notebook. Il vous revient de le faire évoluer.\n",
    "\n",
    "-------"
   ]
  },
  {
   "cell_type": "markdown",
   "id": "ae1be7ff-df1d-4218-a9ba-46537c943f68",
   "metadata": {},
   "source": [
    "# Files d'attentes déterministes"
   ]
  },
  {
   "cell_type": "markdown",
   "id": "b3ef1f14-6350-4e70-a521-ac04ca31a894",
   "metadata": {},
   "source": [
    "1. Simuler une file d'attente déterministe de type D/D/1/K."
   ]
  },
  {
   "cell_type": "code",
   "execution_count": 207,
   "id": "f8ca4d9d-1a39-49b6-a50b-52e8eb812375",
   "metadata": {},
   "outputs": [],
   "source": [
    "class dd1k():\n",
    "    \"\"\"\n",
    "    A class representing an dd1k queue. \n",
    "\n",
    "    Attributes :\n",
    "\n",
    "        arval_freq (float)   : frequency of arrivals at queue ; an agent arrives every arval_freq tops.\n",
    "        service_time (float) : time needed to treat an agent by server.\n",
    "        queue_z (int)   : size of arrival queue \n",
    "        test_z (int)    : test size\n",
    "        tops            : dataframe containing queue and service arrival times, and departure times for each agent.\n",
    "    \"\"\"\n",
    "    \n",
    "    \n",
    "    def __init__(self, arval_freq, service_time, queue_z=None, test_z=100) :\n",
    "        \"\"\"\n",
    "        Initializes a new instance of the class dd1k.\n",
    "        \n",
    "        Args :\n",
    "            arval_freq (float)   : frequency of arrivals at queue ; an agent arrives every arval_freq tops.\n",
    "            service_time (float) : time needed to treat an agent by server.\n",
    "            queue_z : size of arrival queue\n",
    "            test_z : test size. \n",
    "        \"\"\"\n",
    "        \n",
    "        #Initializing metadata\n",
    "        self.arval_freq = arval_freq\n",
    "        self.service_time = service_time\n",
    "        self.queue_z = queue_z\n",
    "        self.test_z = test_z\n",
    "        \n",
    "        #Initializin tops dataframe\n",
    "        column_names = ['t_arval_queue', 't_arval_srv', 't_depart_sys']\n",
    "        self.tops = pd.DataFrame(np.empty((test_z, 3),dtype=object), columns=column_names)\n",
    "        \n",
    "    def run(self):\n",
    "        \"\"\"\n",
    "        Simulates the mm1 queuing system\n",
    "\n",
    "        Modifies the attribute tops following a simulation of mm1 queue respecting interarrival and \n",
    "        outgoing intensities given by corresponding attributes. Besides filling in queue arrival times, \n",
    "        service arrival times and departure times for each agent, it adds columns to tops corresponding \n",
    "        to sojourn time (t_sojourn), waiting time (t_waiting) and service time (t_service) of each agent.\n",
    "        \"\"\"\n",
    "        #Easing naming\n",
    "        tops = self.tops\n",
    "        arval_freq = self.arval_freq\n",
    "        service_time = self.service_time\n",
    "        queue_z = self.queue_z\n",
    "        test_z = self.test_z\n",
    "        \n",
    "        #initializing queue interarrival distribution\n",
    "        tops.loc[:, 't_arval_queue'] = np.arange(0., test_z * arval_freq, arval_freq, dtype=float) \n",
    "        \n",
    "        # Computing service arrival times and system departure times\n",
    "        tops.loc[0, 't_arval_srv'] = tops.loc[0, 't_arval_queue']\n",
    "        tops.loc[0, 't_depart_sys'] = tops.loc[0, 't_arval_srv'] + service_time\n",
    "\n",
    "        # Initialize index ranges for agents granted access to queuing system\n",
    "        granted_ix = [0]\n",
    "\n",
    "        current_ix = 1\n",
    "        while current_ix < test_z :\n",
    "\n",
    "            in_system = (tops.loc[0:current_ix - 1, 't_depart_sys'] > tops.loc[current_ix, 't_arval_queue']).sum()\n",
    "\n",
    "            if queue_z is not None and in_system > queue_z :\n",
    "                # Queuing system is saturated\n",
    "\n",
    "                # Choice is made to fill dataframe with negative integers\n",
    "                tops.loc[current_ix, 't_depart_sys'] = -1\n",
    "                tops.loc[current_ix, 't_arval_srv'] = -1\n",
    "                \n",
    "                current_ix = current_ix + 1\n",
    "\n",
    "                # Skip treatment of current_ix case\n",
    "                continue\n",
    "\n",
    "            previously_granted_ix = granted_ix[-1]\n",
    "            \n",
    "            if tops.loc[current_ix, 't_arval_queue'] > tops.loc[previously_granted_ix, 't_depart_sys'] :\n",
    "                #Agent arrives in arrival queue and finds an empty server\n",
    "                tops.loc[current_ix, 't_arval_srv'] = tops.loc[current_ix, 't_arval_queue']                          \n",
    "            else: \n",
    "                #Agent arrives in arrival queue and finds full server\n",
    "                tops.loc[current_ix, 't_arval_srv'] = tops.loc[previously_granted_ix, 't_depart_sys']\n",
    "\n",
    "            #Updating system departure time for agent.\n",
    "            tops.loc[current_ix, 't_depart_sys'] = tops.loc[current_ix, 't_arval_srv'] + service_time\n",
    "\n",
    "            granted_ix.append(current_ix)\n",
    "            current_ix = current_ix + 1\n",
    "                               \n",
    "        #Enhancing tops to containing agent time laps information               \n",
    "        tops['t_sojourn'] = np.where(tops['t_depart_sys'] == -1, 0, tops['t_depart_sys'] - tops['t_arval_queue'])\n",
    "        tops['t_waiting'] = np.where(tops['t_depart_sys'] == -1, 0, tops['t_arval_srv'] - tops['t_arval_queue'])\n",
    "        tops['t_service'] = np.where(tops['t_depart_sys'] == -1, 0, tops['t_depart_sys'] - tops['t_arval_srv'])\n",
    "        tops['blocked'] = tops.loc[:,'t_depart_sys'] == -1\n",
    "        tops['waited'] = tops['t_waiting'] > 0 \n",
    "    \n",
    "    def compute_counts(self, nb_tops):\n",
    "        \"\"\"\n",
    "        Computes number of agents in system at all given times.\n",
    "\n",
    "        Args :\n",
    "            nb_tops : total number of tops we're considering.\n",
    "\n",
    "        Returns :\n",
    "            A dataframe indexed by nb_tops time laps all along total queue simulation time, \n",
    "            its three columns contain number of agents in system (ag_in_sys), in arrival queue (ag_in_queue) and\n",
    "            in service (ag_in_service).\n",
    "        \"\"\"                \n",
    "        #Easing naming\n",
    "        tops = self.tops\n",
    "        test_z = self.test_z\n",
    "\n",
    "        # Initializing time tops dataframe\n",
    "        colnames = ['ag_in_sys', 'ag_in_queue', 'ag_in_service']\n",
    "        t_range = np.linspace(0., tops['t_depart_sys'].max(), nb_tops)\n",
    "        counts = pd.DataFrame(np.empty((t_range.shape[0], 3),dtype=object), \n",
    "                                index=t_range, columns=colnames)\n",
    "\n",
    "        #Computing number of agents in system at each given time t\n",
    "        for t in counts.index:\n",
    "            counts.loc[t, 'ag_in_sys'] = ((t >= tops['t_arval_queue']) & (t <= tops['t_depart_sys'])).sum()\n",
    "            counts.loc[t, 'ag_in_queue'] = ((t >= tops['t_arval_queue']) & (t <= tops['t_arval_srv'])).sum()\n",
    "            counts.loc[t, 'ag_in_service'] = ((t > tops['t_arval_srv']) & (t <= tops['t_depart_sys'])).sum()\n",
    "\n",
    "        return counts\n",
    "    \n",
    "    def compute_stats(self):\n",
    "        \"\"\"\n",
    "        Computes statistics of a current simulation of queue.\n",
    "\n",
    "        Returns:\n",
    "            A dataframe indexed by standard statistics of interest mean sojourn time (mean_sojourn_time), \n",
    "            mean waiting time (mean_waiting_time) and mean service time (mean_service_time).\n",
    "        \"\"\"\n",
    "        #Easing naming\n",
    "        tops = self.tops\n",
    "        test_z = self.test_z\n",
    "        \n",
    "        statnames = ['mean_sojourn_time', 'mean_waiting_time', 'mean_service_time',\n",
    "                     'waiting_proportion', 'blocked_proportion']\n",
    "        \n",
    "        stats = pd.DataFrame(np.empty((len(statnames), 1),dtype=object), index=statnames, columns=['run value'])\n",
    " \n",
    "        #Computing standard queuing system statistics.\n",
    "        stats.loc['mean_sojourn_time'] = tops['t_sojourn'].sum() / (~tops['blocked']).sum()\n",
    "        stats.loc['mean_waiting_time'] = tops['t_waiting'].sum() / (~tops['blocked']).sum()\n",
    "        stats.loc['mean_service_time'] = tops['t_service'].sum() / (~tops['blocked']).sum()\n",
    "\n",
    "        stats.loc['waiting_proportion'] = tops['waited'].sum() / (~tops['blocked']).sum()\n",
    "        stats.loc['blocked_proportion'] = tops['blocked'].sum() / test_z\n",
    "        \n",
    "        return stats"
   ]
  },
  {
   "cell_type": "code",
   "execution_count": 208,
   "id": "26bf4c78-a505-4909-afb4-35eeadfd42d4",
   "metadata": {},
   "outputs": [],
   "source": [
    "arval_freq = 0.0045\n",
    "service_time = 0.01\n",
    "queue_size = 1\n",
    "size = 100"
   ]
  },
  {
   "cell_type": "code",
   "execution_count": 209,
   "id": "052e6077-8b3b-4899-aecc-342b9cafb65b",
   "metadata": {},
   "outputs": [],
   "source": [
    "dd1k_queue = dd1k(arval_freq, service_time, queue_size, size)"
   ]
  },
  {
   "cell_type": "code",
   "execution_count": 210,
   "id": "2d83a4ff-8f8c-4265-8229-af10ba09476e",
   "metadata": {},
   "outputs": [],
   "source": [
    "dd1k_queue.run()"
   ]
  },
  {
   "cell_type": "code",
   "execution_count": 211,
   "id": "582bc857-1bb2-411b-aa59-b4cacaa03818",
   "metadata": {},
   "outputs": [],
   "source": [
    "dd1k_counts = dd1k_queue.compute_counts(2*size)"
   ]
  },
  {
   "cell_type": "code",
   "execution_count": 212,
   "id": "7ca0dfd5-a571-4ef3-ad7c-37b9663e30fa",
   "metadata": {},
   "outputs": [],
   "source": [
    "dd1k_stats = dd1k_queue.compute_stats()"
   ]
  },
  {
   "cell_type": "code",
   "execution_count": 213,
   "id": "57c49e6a-a2c0-4502-9390-204e9ab5ebde",
   "metadata": {},
   "outputs": [
    {
     "data": {
      "text/html": [
       "<div>\n",
       "<style scoped>\n",
       "    .dataframe tbody tr th:only-of-type {\n",
       "        vertical-align: middle;\n",
       "    }\n",
       "\n",
       "    .dataframe tbody tr th {\n",
       "        vertical-align: top;\n",
       "    }\n",
       "\n",
       "    .dataframe thead th {\n",
       "        text-align: right;\n",
       "    }\n",
       "</style>\n",
       "<table border=\"1\" class=\"dataframe\">\n",
       "  <thead>\n",
       "    <tr style=\"text-align: right;\">\n",
       "      <th></th>\n",
       "      <th>run value</th>\n",
       "    </tr>\n",
       "  </thead>\n",
       "  <tbody>\n",
       "    <tr>\n",
       "      <th>mean_sojourn_time</th>\n",
       "      <td>0.017435</td>\n",
       "    </tr>\n",
       "    <tr>\n",
       "      <th>mean_waiting_time</th>\n",
       "      <td>0.007435</td>\n",
       "    </tr>\n",
       "    <tr>\n",
       "      <th>mean_service_time</th>\n",
       "      <td>0.01</td>\n",
       "    </tr>\n",
       "    <tr>\n",
       "      <th>waiting_proportion</th>\n",
       "      <td>0.978261</td>\n",
       "    </tr>\n",
       "    <tr>\n",
       "      <th>blocked_proportion</th>\n",
       "      <td>0.54</td>\n",
       "    </tr>\n",
       "  </tbody>\n",
       "</table>\n",
       "</div>"
      ],
      "text/plain": [
       "                   run value\n",
       "mean_sojourn_time   0.017435\n",
       "mean_waiting_time   0.007435\n",
       "mean_service_time       0.01\n",
       "waiting_proportion  0.978261\n",
       "blocked_proportion      0.54"
      ]
     },
     "execution_count": 213,
     "metadata": {},
     "output_type": "execute_result"
    }
   ],
   "source": [
    "dd1k_stats"
   ]
  },
  {
   "cell_type": "code",
   "execution_count": 214,
   "id": "606a3789-3af9-4e0a-a0a6-de694e6af857",
   "metadata": {},
   "outputs": [
    {
     "data": {
      "image/png": "[encoded data removed]",
      "text/plain": [
       "<Figure size 1600x1200 with 3 Axes>"
      ]
     },
     "metadata": {},
     "output_type": "display_data"
    }
   ],
   "source": [
    "fig, axes = plt.subplots(3, 1, figsize=(16, 12))\n",
    "counts = ['ag_in_sys','ag_in_queue','ag_in_service']\n",
    "labels = ['system', 'queue', 'service']\n",
    "colors = ['red', 'blue', 'black']\n",
    "\n",
    "for i in range(3):\n",
    "    dd1k_counts.plot(y= counts[i], \n",
    "                   use_index=True, ax=axes[i], linewidth=1.5,drawstyle='steps-mid', color=f'{colors[i]}',\n",
    "                   ylabel=f'Agent number in {labels[i]}', xlabel='Time', ylim=[0,max(dd1k_counts['ag_in_sys']+1)])"
   ]
  },
  {
   "cell_type": "markdown",
   "id": "67bce9ae-136e-461b-8cb1-a105b3362ede",
   "metadata": {},
   "source": [
    "2. Étudier le taux de refus et le taux de saturation d'une file D/D/1/K en fonction des pas des interarrivées et de ceux de service.\n",
    "\n",
    "Le taux de blocage est donné par la valeur suivante, des tests précédents"
   ]
  },
  {
   "cell_type": "code",
   "execution_count": 218,
   "id": "2b1fc010-d068-4631-842e-59672f71800e",
   "metadata": {},
   "outputs": [
    {
     "data": {
      "text/plain": [
       "run value    0.54\n",
       "Name: blocked_proportion, dtype: object"
      ]
     },
     "execution_count": 218,
     "metadata": {},
     "output_type": "execute_result"
    }
   ],
   "source": [
    "dd1k_stats.loc['blocked_proportion']"
   ]
  },
  {
   "cell_type": "markdown",
   "id": "5f05ef41-8bcb-453d-b0a7-d8df504687c0",
   "metadata": {},
   "source": [
    "Pour calculer le taux de saturation de la file, on cherche à indiquer la proportion du temps d'observation au cours duquel la file contenait le nombre maximal d'agents dans le système"
   ]
  },
  {
   "cell_type": "code",
   "execution_count": 225,
   "id": "89422b70-3efe-492d-bd1e-71fc9e0a5c8c",
   "metadata": {},
   "outputs": [
    {
     "data": {
      "text/plain": [
       "0.745"
      ]
     },
     "execution_count": 225,
     "metadata": {},
     "output_type": "execute_result"
    }
   ],
   "source": [
    "float((dd1k_counts['ag_in_sys'] == queue_size + 1).sum() / dd1k_counts.shape[0])"
   ]
  },
  {
   "cell_type": "markdown",
   "id": "95aaefc1-bef4-4462-9a5d-27d7b7a9d9c8",
   "metadata": {},
   "source": [
    "3. Que pouvez-vous en dire ?\n",
    "\n",
    "On constate par ce calcule, la différence entre les deux mesures. La saturation du système ne correspond pas au taux de blocage.\n",
    "\n",
    "--------"
   ]
  },
  {
   "cell_type": "markdown",
   "id": "e10e93b1-d0c1-4745-a64e-489def5ad132",
   "metadata": {},
   "source": [
    "# Un code plus modulable"
   ]
  },
  {
   "cell_type": "markdown",
   "id": "26e86700-3242-4878-987f-d952d32b196e",
   "metadata": {
    "slideshow": {
     "slide_type": "slide"
    }
   },
   "source": [
    "Pour modéliser une file d'attente de manière naïve, on définit une\n",
    "classe `QS` pour *Queuing System*. Deux propriétés de cet objet\n",
    "modéliseront la file d'arrivées et le composant serveurs. Les temps\n",
    "d'arrivées / passages des agents seront comptabilisés dans un\n",
    "dataframe `tops`. Afin d'être exhaustif :\n",
    "\n",
    "-----------\n",
    "\n",
    "- `test_size` : taille de l'échantillon d'agents tests.\n",
    "\n",
    "-----------\n",
    "\n",
    "- `arval_dist` : distribution des interarrivées, sert à initialiser les\n",
    "  temps d'arrivées d'un nombre défini d'agents. Il met à jour les\n",
    "  arrivés `t_arval_queue` des agents.\n",
    "\n",
    "-----------\n",
    "\n",
    "- `srv_dist`: distribution des services, renvoie un temps de service\n",
    "    depuis `t_arval_srv` d'un agent.\n",
    "\n",
    "-----------\n",
    "\n",
    "- `tops` : dataframe dont le schéma contient la description d'un\n",
    "  agent. Il peut être enrichi par un appel à `posttreat`.\n",
    "\n",
    "-----------\n",
    "\n",
    "- `Wline` : encode le comportement d'une file d'attente, son comportement n'est pas synchronisé avec les temps de la file, c'est un objet qui sert plutôt comme un tag. Il porte\n",
    "  les propriétés :\n",
    "  - `size` : taille de la file d'attente `int`. À `None` si infinie.\n",
    "  - `queue` : liste des identifiants d'agents en attente.\n",
    "  - `populate` : fonction ouvrant l'accueil des agents dans la file.\n",
    "  - `pop` : renvoie la tête de file, suivant la politique de priorité\n",
    "    choisie. Un appel à cette fonction supprime la tête de file et\n",
    "    initialise `t_arval_srv`.\n",
    "\n",
    "-----------\n",
    "\n",
    "- `InService` : encode le comportement de serveurs d'une file d'attente\n",
    "  - `nb` : nombre de serveurs dans la file d'attente.\n",
    "  - `server` : une liste d'agents en cours de se faire servir\n",
    "    indexée de `0` à `nb - 1`.\n",
    "  - `full` : renvoie un booléen à vrai si le serveur est plein. \n",
    "  - `leaving` : renvoie les couples index, agent quittant au plus tôt le système.\n",
    "\n",
    "-----------\n",
    "\n",
    "- `pretreat` : initialise `tops` avec des valeurs d'interarrivées qui suivent `arval_dist`, `tops` est trié suivant les temps d'arrivée, par construction. \n",
    "\n",
    "-----------\n",
    "\n",
    "- `run` : exécution d'un batch sur la file d'attente.\n",
    "\n",
    "-----------\n",
    "\n",
    "- `posttreat` : consolide les statistiques d'exécution d'un run.\n",
    "\n",
    "-----------\n",
    "\n",
    "- `timeline` : décrit le comportement du process (nombre d'agents dans la file des arrivées / système / en service) par rapport au temps et en extrait les statistiques standards.\n",
    "\n",
    "-----------"
   ]
  },
  {
   "cell_type": "code",
   "execution_count": 226,
   "id": "dd2912cb-7c71-4638-a58a-d0b893872b3a",
   "metadata": {
    "slideshow": {
     "slide_type": "subslide"
    }
   },
   "outputs": [],
   "source": [
    "class Wline():\n",
    "\n",
    "    def __init__(self, size=None, policy=(lambda x: 0)):\n",
    "        self.size = size\n",
    "        self.next = policy\n",
    "        \n",
    "    def populate(self, queue):\n",
    "        self.queue = queue\n",
    "    \n",
    "    def pop(self):\n",
    "        pop_ix = self.next(self.queue)\n",
    "        pop_val = None\n",
    "        \n",
    "        if -1 < pop_ix < len(self.queue):\n",
    "            pop_val = self.queue[pop_ix]\n",
    "            self.queue.pop(pop_ix)\n",
    "            \n",
    "        return pop_val"
   ]
  },
  {
   "cell_type": "code",
   "execution_count": 227,
   "id": "90578446-319f-4ec3-9bdb-6fb2954507d5",
   "metadata": {
    "slideshow": {
     "slide_type": "fragment"
    }
   },
   "outputs": [],
   "source": [
    "line = Wline(10, (lambda x: 0))"
   ]
  },
  {
   "cell_type": "code",
   "execution_count": 228,
   "id": "ca4d9a44-75c0-4c45-ad68-1a266a371432",
   "metadata": {
    "slideshow": {
     "slide_type": "fragment"
    }
   },
   "outputs": [],
   "source": [
    "line.populate([1, 2, 3, 4])"
   ]
  },
  {
   "cell_type": "code",
   "execution_count": 229,
   "id": "2fea2abc-d0f3-48cd-bb92-03a8555546bd",
   "metadata": {
    "slideshow": {
     "slide_type": "fragment"
    }
   },
   "outputs": [
    {
     "data": {
      "text/plain": [
       "(10, [1, 2, 3, 4], <function __main__.<lambda>(x)>)"
      ]
     },
     "execution_count": 229,
     "metadata": {},
     "output_type": "execute_result"
    }
   ],
   "source": [
    "line.size, line.queue, line.next"
   ]
  },
  {
   "cell_type": "code",
   "execution_count": 230,
   "id": "bddd3a06-7be7-4335-8bf9-8afa8542dd21",
   "metadata": {
    "slideshow": {
     "slide_type": "fragment"
    }
   },
   "outputs": [],
   "source": [
    "x = line.pop()"
   ]
  },
  {
   "cell_type": "code",
   "execution_count": 231,
   "id": "7f7e1a39-5bfa-424a-8657-60f756c94f8e",
   "metadata": {
    "slideshow": {
     "slide_type": "fragment"
    }
   },
   "outputs": [
    {
     "data": {
      "text/plain": [
       "1"
      ]
     },
     "execution_count": 231,
     "metadata": {},
     "output_type": "execute_result"
    }
   ],
   "source": [
    "x"
   ]
  },
  {
   "cell_type": "code",
   "execution_count": 232,
   "id": "07a80cc5-bf44-4b35-ba97-ca01db2ea4b0",
   "metadata": {
    "slideshow": {
     "slide_type": "slide"
    }
   },
   "outputs": [],
   "source": [
    "class InService():\n",
    "    \n",
    "    def __init__(self, nb=1, dist=None):\n",
    "        self.nb = nb\n",
    "        self.server = [None]*nb\n",
    "        self.dist = dist\n",
    "        \n",
    "    def full(self):\n",
    "        return not (None in self.server)\n",
    "        \n",
    "    def leaving(self, tops):\n",
    "        \n",
    "        agent_id = None\n",
    "        \n",
    "        if not self.full():\n",
    "            #Extract index of an available server\n",
    "            srv_ix = self.server.index(None) \n",
    "        \n",
    "        else:\n",
    "            #Find agent of smallest departure time, needs to be float to use idxmin\n",
    "            agent_id = tops.loc[self.server, 't_depart_sys'].astype(float).idxmin()\n",
    "            #Extract server number of departing agent\n",
    "            srv_ix = self.server.index(agent_id) \n",
    "        \n",
    "        return srv_ix, agent_id"
   ]
  },
  {
   "cell_type": "code",
   "execution_count": 233,
   "id": "f5b1a4e5-d2ca-4b54-b11e-e1950899d726",
   "metadata": {
    "slideshow": {
     "slide_type": "fragment"
    }
   },
   "outputs": [],
   "source": [
    "inservice = InService(10, lambda : rng.exponential(1./3.))"
   ]
  },
  {
   "cell_type": "code",
   "execution_count": 234,
   "id": "e1af2b25-4725-460f-a47e-836dda15e16f",
   "metadata": {
    "slideshow": {
     "slide_type": "fragment"
    }
   },
   "outputs": [
    {
     "data": {
      "text/plain": [
       "(10,\n",
       " [None, None, None, None, None, None, None, None, None, None],\n",
       " 0.42268184344113613)"
      ]
     },
     "execution_count": 234,
     "metadata": {},
     "output_type": "execute_result"
    }
   ],
   "source": [
    "inservice.nb, inservice.server, inservice.dist()"
   ]
  },
  {
   "cell_type": "code",
   "execution_count": 235,
   "id": "8bb7e805-44f1-4fd3-b937-1c697c819ac8",
   "metadata": {
    "slideshow": {
     "slide_type": "fragment"
    }
   },
   "outputs": [
    {
     "data": {
      "text/plain": [
       "False"
      ]
     },
     "execution_count": 235,
     "metadata": {},
     "output_type": "execute_result"
    }
   ],
   "source": [
    "inservice.full()"
   ]
  },
  {
   "cell_type": "code",
   "execution_count": 236,
   "id": "a2a2a6a9-de68-45da-b5e7-305fbccbda2a",
   "metadata": {
    "slideshow": {
     "slide_type": "fragment"
    }
   },
   "outputs": [
    {
     "data": {
      "text/plain": [
       "(0, None)"
      ]
     },
     "execution_count": 236,
     "metadata": {},
     "output_type": "execute_result"
    }
   ],
   "source": [
    "inservice.leaving(tops)"
   ]
  },
  {
   "cell_type": "code",
   "execution_count": 237,
   "id": "c4f0ca37-46c7-4453-9b08-d610cc64da7d",
   "metadata": {
    "slideshow": {
     "slide_type": "fragment"
    }
   },
   "outputs": [],
   "source": [
    "inservice.server = [i for i in range(10)]"
   ]
  },
  {
   "cell_type": "code",
   "execution_count": 238,
   "id": "deab6ae7-5f68-45fd-be12-e8a43e2e58a6",
   "metadata": {
    "slideshow": {
     "slide_type": "fragment"
    }
   },
   "outputs": [
    {
     "data": {
      "text/plain": [
       "(5, np.int64(5))"
      ]
     },
     "execution_count": 238,
     "metadata": {},
     "output_type": "execute_result"
    }
   ],
   "source": [
    "inservice.leaving(tops)"
   ]
  },
  {
   "cell_type": "markdown",
   "id": "19248e62-c74e-4a61-b6b5-5a90e43b8ced",
   "metadata": {
    "slideshow": {
     "slide_type": "slide"
    }
   },
   "source": [
    "# Dynamique d'exécution\n",
    "\n",
    "1. On initialise la file d'attente avec les métadonnées la\n",
    "   définissant.\n",
    "\n",
    "2. On génère les temps d'arrivées d'un échantillon de taille définie\n",
    "   dans `tops`. Les temps générés sont inclus dans\n",
    "   `agent[t_arrival_queue]`.\n",
    "\n",
    "3. On initialize `Wline` dans la mesure de sa capacité, au regard de\n",
    "   l'échantillon, et par ordre des temps d'arrivées.\n",
    "\n",
    "4. On lance une boucle :\n",
    "    \n",
    "    -------\n",
    "    \n",
    "\t- On fait appel à `Wline.pop()` et on stock le résultat dans\n",
    "\t  `next`, si erreur on arrête le benchmark sinon, on vérifie la\n",
    "      disponibilité côté serveurs, on a deux choix :\n",
    "\n",
    "       ----\n",
    "\n",
    "       - un serveur est disponible : on extrait sa position et\n",
    "\n",
    "\t\t + on stock `next` à cette position\n",
    "\t\t + on met à jour `next.t_arrival_srv` par\n",
    "          `next.t_arrival_srv <- next.t_arrival_queue`.\n",
    "\n",
    "       ----\n",
    "\n",
    "\t    - aucun serveur n'est disponible, on extrait le serveur contenant l'agent ayant une valeur `t_departure_sys` la plus petite, qu'on stock dans `prev`. On fait la mise à jour\n",
    "\n",
    "\t       + on pop `prev` pour l'installer dans `Log`.\n",
    "\t       + on fait la mise à jour `QS.t() <- prev.t_departure_sys`.\n",
    "\t       + on stock `next` à cette position\n",
    "\t       + `next.t_arrival_srv <- prev.t_departure_sys.` si `prev.t_departure_srv` est plus grande que `next.t_arrival_queue`.\n",
    "\t       + `next.t_arrival_srv <- next.t_arrival_queue.` sinon.\n",
    "\n",
    "   ------\n",
    "\n",
    "    - S'il reste des éléments dans les arrivées on va ajouter celui avec le plus petit temps d'arrivée `A` à `Wline` s'il n'est pas bloqué. Pour tester le blocage il faut comptabiliser les agents dans le système au moment de l'arrivée de `A`. Si le total est plus grand `size` `A` est bloqué, on met dans ce cas `t_depart_sys` à `-1`. Sinon on rajoute `A` à `Wline`."
   ]
  },
  {
   "cell_type": "code",
   "execution_count": 239,
   "id": "0926a0b3-4e13-4a3c-af5d-630a47668c13",
   "metadata": {
    "slideshow": {
     "slide_type": "subslide"
    }
   },
   "outputs": [],
   "source": [
    "class QS():\n",
    "    \n",
    "    def __init__(self, arval_dist, srv_dist, servers_nb, \n",
    "                 queue_size=None, policy=lambda x:0, test_size=100) :\n",
    "         \n",
    "        #Initializing metadata\n",
    "        self.arval_dist = arval_dist\n",
    "        self.srv_dist = srv_dist\n",
    "        self.srv_z = servers_nb\n",
    "        self.queue_z = queue_size if queue_size else test_size\n",
    "        self.test_z = test_size\n",
    "\n",
    "        #Initializing Waiting Line\n",
    "        self.wline = Wline(size=queue_size, policy=policy)\n",
    "        \n",
    "        #Initializing In Service List\n",
    "        self.inservice = InService(nb=servers_nb, dist=srv_dist)\n",
    "        \n",
    "        #Initializin tops dataframe\n",
    "        column_names = ['t_arval_queue', 't_arval_srv', 't_depart_sys']\n",
    "        self.tops = pd.DataFrame(np.empty((test_size, 3),dtype=object), columns=column_names)\n",
    "        \n",
    "    def pretreat(self):\n",
    "        \n",
    "        #Easing naming\n",
    "        tops = self.tops\n",
    "\n",
    "        t_interarvals = self.arval_dist(size=(self.test_z))\n",
    "        tops.loc[0, 't_arval_queue'] = t_interarvals[0]\n",
    "                \n",
    "        for agent in range(1, self.test_z) :\n",
    "            tops.loc[agent, 't_arval_queue'] = tops.loc[agent - 1, 't_arval_queue'] + t_interarvals[agent]\n",
    "        \n",
    "    def run(self):\n",
    "        \n",
    "        #Easing naming\n",
    "        wline = self.wline\n",
    "        inservice = self.inservice\n",
    "        tops = self.tops\n",
    "        \n",
    "        #Initializing arrival queue\n",
    "        wline.queue = list(tops.loc[0:0].index)\n",
    "        #Initializing upcomgin theoretical arrival        \n",
    "        buffer_ix = 1 \n",
    "    \n",
    "        while buffer_ix < self.test_z:\n",
    "            \n",
    "            _next = wline.pop()\n",
    "            if _next is not None: #Waiting line is not empty \n",
    "\n",
    "                #Update server arrival time as if no waiting was needed\n",
    "                tops.loc[_next, 't_arval_srv'] = tops.loc[_next, 't_arval_queue']\n",
    "                \n",
    "                #Find next available server\n",
    "                srv_ix, dept_ag = inservice.leaving(tops)\n",
    "    \n",
    "                #Fill available server with corresponding next agent in waiting line\n",
    "                inservice.server[srv_ix] = _next \n",
    "                    \n",
    "                if dept_ag is not None :\n",
    "                    if tops.loc[_next, 't_arval_queue'] < tops.loc[dept_ag, 't_depart_sys'] : \n",
    "                        #Update server arrival time in case arrival is before system departure\n",
    "                        tops.loc[_next, 't_arval_srv'] = tops.loc[dept_ag, 't_depart_sys']\n",
    "                        \n",
    "                #Update system departure time\n",
    "                tops.loc[_next, 't_depart_sys'] = tops.loc[_next, 't_arval_srv'] + inservice.dist() \n",
    "                                            \n",
    "            #Counting prior agents still in system\n",
    "            in_system = (tops.loc[0:buffer_ix - 1, 't_depart_sys'] > tops.loc[buffer_ix, 't_arval_queue']).sum()\n",
    "                            \n",
    "            if self.queue_z is not None and in_system >= self.queue_z + self.inservice.nb:\n",
    "                tops.loc[buffer_ix, 't_depart_sys'] = -1\n",
    "            else:\n",
    "                wline.queue.append(buffer_ix)\n",
    "                    \n",
    "            buffer_ix += 1\n",
    "                \n",
    "    def posttreat(self):\n",
    "        \n",
    "        #Easing naming\n",
    "        tops = self.tops\n",
    "        \n",
    "        tops['t_sojourn'] = np.where(tops['t_depart_sys'] == -1, 0, tops['t_depart_sys'] - tops['t_arval_queue'])\n",
    "        tops['t_waiting'] = np.where(tops['t_depart_sys'] == -1, 0, tops['t_arval_srv'] - tops['t_arval_queue'])\n",
    "        tops['t_service'] = np.where(tops['t_depart_sys'] == -1, 0, tops['t_depart_sys'] - tops['t_arval_srv'])\n",
    "        tops['blocked'] = tops.loc[:,'t_depart_sys'] == -1\n",
    "        tops['waited'] = tops['t_waiting'] > 0 \n",
    "    \n",
    "    def timeline(self, t_delation=2):\n",
    "        \n",
    "        #Easing naming\n",
    "        tops = self.tops\n",
    "        test_z = self.test_z\n",
    "\n",
    "        # Process determination\n",
    "        colnames = ['ag_in_sys', 'ag_in_queue', 'ag_in_service']\n",
    "        t_range = np.linspace(0., tops['t_depart_sys'].max(), t_delation*test_z)\n",
    "        process = pd.DataFrame(np.empty((t_range.shape[0], 3),dtype=object), \n",
    "                                index=t_range, columns=colnames)\n",
    "        \n",
    "        for t in process.index:\n",
    "            process.loc[t, 'ag_in_sys'] = ((t >= tops['t_arval_queue']) & (t <= tops['t_depart_sys'])).sum()\n",
    "            process.loc[t, 'ag_in_queue'] = ((t >= tops['t_arval_queue']) & (t <= tops['t_arval_srv'])).sum()\n",
    "            process.loc[t, 'ag_in_service'] = ((t > tops['t_arval_srv']) & (t <= tops['t_depart_sys'])).sum()\n",
    "        \n",
    "        # Statistics extractions\n",
    "        statnames = ['mean_sojourn_time', 'mean_waiting_time', 'mean_service_time', \n",
    "                     'waiting_proportion', 'blocked_proportion', 'servers_max_usage']\n",
    "        stats = pd.DataFrame(np.empty((len(statnames), 1),dtype=object), index=statnames, columns=['run value'])\n",
    " \n",
    "        stats.loc['mean_sojourn_time'] = tops['t_sojourn'].sum() / (~tops['blocked']).sum()\n",
    "        stats.loc['mean_waiting_time'] = tops['t_waiting'].sum() / (~tops['blocked']).sum()\n",
    "        stats.loc['mean_service_time'] = tops['t_service'].sum() / (~tops['blocked']).sum()\n",
    "\n",
    "        stats.loc['waiting_proportion'] = tops['waited'].sum() / (~tops['blocked']).sum()\n",
    "        stats.loc['blocked_proportion'] = tops['blocked'].sum() / test_z\n",
    "\n",
    "        # An approximation of server usage, for better approximation raise t_delation.\n",
    "        stats.loc['servers_max_usage'] = (process['ag_in_service'] == self.inservice.nb).sum() / (t_delation*test_z - 1)\n",
    "\n",
    "        return process, stats"
   ]
  },
  {
   "cell_type": "code",
   "execution_count": 240,
   "id": "bcef3795-97c0-49f6-8082-5323215fcdda",
   "metadata": {
    "editable": true,
    "slideshow": {
     "slide_type": "slide"
    },
    "tags": []
   },
   "outputs": [],
   "source": [
    "srv_nb = 1\n",
    "arval_dist = lambda size : rng.exponential(1./20, size=size)\n",
    "srv_dist = lambda : rng.exponential(1./20)\n",
    "queue_size = 2"
   ]
  },
  {
   "cell_type": "code",
   "execution_count": 241,
   "id": "72a54ed7-e659-419d-9b04-6d4ef13ae95e",
   "metadata": {
    "slideshow": {
     "slide_type": "fragment"
    }
   },
   "outputs": [],
   "source": [
    "mm1 = QS(arval_dist, srv_dist, srv_nb, queue_size=queue_size, test_size=100)"
   ]
  },
  {
   "cell_type": "code",
   "execution_count": 242,
   "id": "9b055280-c380-4200-967a-e6f780c91e61",
   "metadata": {
    "slideshow": {
     "slide_type": "fragment"
    }
   },
   "outputs": [],
   "source": [
    "mm1.pretreat()"
   ]
  },
  {
   "cell_type": "code",
   "execution_count": 243,
   "id": "ff86bd54-f726-40ed-9e6c-2e36be0e539f",
   "metadata": {
    "scrolled": true,
    "slideshow": {
     "slide_type": "fragment"
    }
   },
   "outputs": [],
   "source": [
    "mm1.run()"
   ]
  },
  {
   "cell_type": "code",
   "execution_count": 244,
   "id": "2f240fa6-b4e7-425d-85bc-15f885092412",
   "metadata": {
    "slideshow": {
     "slide_type": "fragment"
    }
   },
   "outputs": [],
   "source": [
    "mm1.posttreat()"
   ]
  },
  {
   "cell_type": "code",
   "execution_count": 245,
   "id": "054bef83-7d4a-48a5-bb13-d79f77584cec",
   "metadata": {},
   "outputs": [],
   "source": [
    "mm1_bench, mm1_stats = mm1.timeline()"
   ]
  },
  {
   "cell_type": "code",
   "execution_count": 246,
   "id": "61ba29bd-a57a-42c5-9234-2b8b99bbefa7",
   "metadata": {
    "editable": true,
    "slideshow": {
     "slide_type": ""
    },
    "tags": []
   },
   "outputs": [
    {
     "data": {
      "text/html": [
       "<div>\n",
       "<style scoped>\n",
       "    .dataframe tbody tr th:only-of-type {\n",
       "        vertical-align: middle;\n",
       "    }\n",
       "\n",
       "    .dataframe tbody tr th {\n",
       "        vertical-align: top;\n",
       "    }\n",
       "\n",
       "    .dataframe thead th {\n",
       "        text-align: right;\n",
       "    }\n",
       "</style>\n",
       "<table border=\"1\" class=\"dataframe\">\n",
       "  <thead>\n",
       "    <tr style=\"text-align: right;\">\n",
       "      <th></th>\n",
       "      <th>run value</th>\n",
       "    </tr>\n",
       "  </thead>\n",
       "  <tbody>\n",
       "    <tr>\n",
       "      <th>mean_sojourn_time</th>\n",
       "      <td>0.087757</td>\n",
       "    </tr>\n",
       "    <tr>\n",
       "      <th>mean_waiting_time</th>\n",
       "      <td>0.039794</td>\n",
       "    </tr>\n",
       "    <tr>\n",
       "      <th>mean_service_time</th>\n",
       "      <td>0.047962</td>\n",
       "    </tr>\n",
       "    <tr>\n",
       "      <th>waiting_proportion</th>\n",
       "      <td>0.575</td>\n",
       "    </tr>\n",
       "    <tr>\n",
       "      <th>blocked_proportion</th>\n",
       "      <td>0.2</td>\n",
       "    </tr>\n",
       "    <tr>\n",
       "      <th>servers_max_usage</th>\n",
       "      <td>0.748744</td>\n",
       "    </tr>\n",
       "  </tbody>\n",
       "</table>\n",
       "</div>"
      ],
      "text/plain": [
       "                   run value\n",
       "mean_sojourn_time   0.087757\n",
       "mean_waiting_time   0.039794\n",
       "mean_service_time   0.047962\n",
       "waiting_proportion     0.575\n",
       "blocked_proportion       0.2\n",
       "servers_max_usage   0.748744"
      ]
     },
     "execution_count": 246,
     "metadata": {},
     "output_type": "execute_result"
    }
   ],
   "source": [
    "mm1_stats"
   ]
  },
  {
   "cell_type": "code",
   "execution_count": 247,
   "id": "24d26fd1-03a5-4d49-b5fd-7eaa46751fed",
   "metadata": {
    "slideshow": {
     "slide_type": "fragment"
    }
   },
   "outputs": [],
   "source": [
    "import matplotlib.pyplot as plt"
   ]
  },
  {
   "cell_type": "code",
   "execution_count": 248,
   "id": "55dc0ac4-1e0a-4acf-a458-35eb3f553308",
   "metadata": {},
   "outputs": [
    {
     "data": {
      "image/png": "[encoded data removed]",
      "text/plain": [
       "<Figure size 1600x1200 with 3 Axes>"
      ]
     },
     "metadata": {},
     "output_type": "display_data"
    }
   ],
   "source": [
    "fig, axes = plt.subplots(3, 1, figsize=(16, 12))\n",
    "counts = ['ag_in_sys','ag_in_queue','ag_in_service']\n",
    "labels = ['system', 'queue', 'service']\n",
    "colors = ['red', 'blue', 'black']\n",
    "\n",
    "for i in range(3):\n",
    "    mm1_bench.plot(y= counts[i], \n",
    "                   use_index=True, ax=axes[i], linewidth=1.5,drawstyle='steps-mid', color=f'{colors[i]}',\n",
    "                   ylabel=f'Agent number in {labels[i]}', xlabel='Time', ylim=[0,max(mm1_bench['ag_in_sys']+1)])\n",
    "    "
   ]
  },
  {
   "cell_type": "code",
   "execution_count": null,
   "id": "ab9aa1bc-a48b-4b2d-a3e9-652e03001df8",
   "metadata": {},
   "outputs": [],
   "source": []
  }
 ],
 "metadata": {
  "celltoolbar": "Aucun(e)",
  "kernelspec": {
   "display_name": "Python 3 (ipykernel)",
   "language": "python",
   "name": "python3"
  },
  "language_info": {
   "codemirror_mode": {
    "name": "ipython",
    "version": 3
   },
   "file_extension": ".py",
   "mimetype": "text/x-python",
   "name": "python",
   "nbconvert_exporter": "python",
   "pygments_lexer": "ipython3",
   "version": "3.12.6"
  }
 },
 "nbformat": 4,
 "nbformat_minor": 5
}
