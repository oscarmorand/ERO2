<html><head>
<meta http-equiv="content-type" content="text/html; charset=UTF-8"></head><body>{
 "cells": [
  {
   "cell_type": "markdown",
   "id": "40670ede",
   "metadata": {
    "slideshow": {
     "slide_type": "slide"
    }
   },
   "source": [
    "# Pourquoi ce notebook ?\n",
    "\n",
    "Ce document regroupe une méta-réflexion sur l'implémentation 
d'un\n",
    "simulateur naïf de files d'attentes qui respectent le modèle 
induit\n",
    "par la notation de Kendall. Il est évolutit et point d'entrée de 
toute\n",
    "itération sur l'impléntation proposée."
   ]
  },
  {
   "cell_type": "code",
   "execution_count": 600,
   "id": "c6edaa59",
   "metadata": {
    "slideshow": {
     "slide_type": "slide"
    }
   },
   "outputs": [],
   "source": [
    "import numpy as np\n",
    "import pandas as pd"
   ]
  },
  {
   "cell_type": "markdown",
   "id": "f226fa23",
   "metadata": {
    "slideshow": {
     "slide_type": "fragment"
    }
   },
   "source": [
    "Pour pouvoir aborder sereinement cette simulation, on s'autorise à 
utiliser les générateurs aléatoires à disposition dans numpy. De toute 
manière, vous savez déjà construire un générateur aléatoire à partir 
d'une loi uniforme, *n'est-ce pas?*"
   ]
  },
  {
   "cell_type": "code",
   "execution_count": 601,
   "id": "0ee72a52",
   "metadata": {
    "slideshow": {
     "slide_type": "fragment"
    }
   },
   "outputs": [],
   "source": [
    "rng = np.random.default_rng(seed=42)"
   ]
  },
  {
   "cell_type": "code",
   "execution_count": 602,
   "id": "7d879f4a",
   "metadata": {
    "slideshow": {
     "slide_type": "fragment"
    }
   },
   "outputs": [],
   "source": [
    "l = 2."
   ]
  },
  {
   "cell_type": "code",
   "execution_count": 603,
   "id": "d7b5aa39",
   "metadata": {
    "slideshow": {
     "slide_type": "fragment"
    }
   },
   "outputs": [
    {
     "data": {
      "text/plain": [
       "array([1.2021043 , 1.16809483, 1.1923805 , 0.13989714, 0.0432187
 ,\n",
       "       0.72633026, 0.70498035, 1.56214798, 0.0396471 , 
0.52328042])"
      ]
     },
     "execution_count": 603,
     "metadata": {},
     "output_type": "execute_result"
    }
   ],
   "source": [
    "rng.exponential(1/l, 10)"
   ]
  },
  {
   "cell_type": "markdown",
   "id": "ecd10008",
   "metadata": {
    "slideshow": {
     "slide_type": "slide"
    }
   },
   "source": [
    "# Agent\n",
    "\n",
    "On qualifie **d'Agent** une notion qui correspond à celle de 
client\n",
    "dans le folklore d'une file d'attente au guichet. Il est défini 
par\n",
    "les attributs suivants\n",
    "\n",
    "- `id` : son identifiant, un `int`.\n",
    "- `t_arval_queue` : temps d'arrivée dans le système d'attente, 
`float`.\n",
    "- `t_arval_srv` : temps d'accès à un serveur, `float`.\n",
    "- `t_depart_sys` : temps de départ du système, `float`.\n",
    "\n",
    "Dans l'implémentation qu'on propose chaque agent correspond aux\n",
    "premières colonnes d'une ligne dans un dataframe, nommé `tops`. 
Les\n",
    "colonnes concernées seront respectivement nommées\n",
    "`t_arval_queue`, `t_arval_srv` et `t_depart_sys`. L'attribut `id` 
correspond à une indexation sur les lignes."
   ]
  },
  {
   "cell_type": "code",
   "execution_count": 604,
   "id": "0653fa50",
   "metadata": {
    "slideshow": {
     "slide_type": "fragment"
    }
   },
   "outputs": [],
   "source": [
    "tops = pd.DataFrame(rng.exponential(1./5., size=(10, 3)), \n",
    "                    columns = ['t_arval_queue', 't_arval_srv', 
't_depart_sys'])"
   ]
  },
  {
   "cell_type": "code",
   "execution_count": 605,
   "id": "7110aff8",
   "metadata": {
    "slideshow": {
     "slide_type": "fragment"
    }
   },
   "outputs": [
    {
     "data": {
      "text/html": [
       "<div>\n",
       "<style scoped="">\n",
       "    .dataframe tbody tr th:only-of-type {\n",
       "        vertical-align: middle;\n",
       "    }\n",
       "\n",
       "    .dataframe tbody tr th {\n",
       "        vertical-align: top;\n",
       "    }\n",
       "\n",
       "    .dataframe thead th {\n",
       "        text-align: right;\n",
       "    }\n",
       "</style>\n",
       "\n",
       "  \n",
       "    \n",
       "      \n",
       "      \n",
       "      \n",
       "      \n",
       "    \n",
       "  \n",
       "  \n",
       "    \n",
       "      \n",
       "      \n",
       "      \n",
       "      \n",
       "    \n",
       "    \n",
       "      \n",
       "      \n",
       "      \n",
       "      \n",
       "    \n",
       "    \n",
       "      \n",
       "      \n",
       "      \n",
       "      \n",
       "    \n",
       "    \n",
       "      \n",
       "      \n",
       "      \n",
       "      \n",
       "    \n",
       "    \n",
       "      \n",
       "      \n",
       "      \n",
       "      \n",
       "    \n",
       "    \n",
       "      \n",
       "      \n",
       "      \n",
       "      \n",
       "    \n",
       "    \n",
       "      \n",
       "      \n",
       "      \n",
       "      \n",
       "    \n",
       "    \n",
       "      \n",
       "      \n",
       "      \n",
       "      \n",
       "    \n",
       "    \n",
       "      \n",
       "      \n",
       "      \n",
       "      \n",
       "    \n",
       "    \n",
       "      \n",
       "      \n",
       "      \n",
       "      \n",
       "    \n",
       "  \n",
       "<table border="\&quot;1\&quot;" class="\&quot;dataframe\&quot;"><thead><tr style="\&quot;text-align:" right;\"=""><th></th><th>t_arval_queue</th><th>t_arval_srv</th><th>t_depart_sys</th></tr></thead><tbody><tr><th>0</th><td>0.014087</td><td>0.217805</td><td>0.346265</td></tr><tr><th>1</th><td>0.077379</td><td>0.246317</td><td>0.030755</td></tr><tr><th>2</th><td>0.018315</td><td>0.063036</td><td>0.180240</td></tr><tr><th>3</th><td>0.082597</td><td>0.249477</td><td>0.044715</td></tr><tr><th>4</th><td>0.367594</td><td>0.245417</td><td>0.131159</td></tr><tr><th>5</th><td>0.083417</td><td>0.090664</td><td>0.015415</td></tr><tr><th>6</th><td>0.035926</td><td>0.137064</td><td>0.077736</td></tr><tr><th>7</th><td>0.252841</td><td>0.141698</td><td>0.047586</td></tr><tr><th>8</th><td>0.092218</td><td>0.128311</td><td>0.068767</td></tr><tr><th>9</th><td>0.064382</td><td>0.175783</td><td>0.059389</td></tr></tbody></table>\n",
       "</div>"
      ],
      "text/plain": [
       "   t_arval_queue  t_arval_srv  t_depart_sys\n",
       "0       0.014087     0.217805      0.346265\n",
       "1       0.077379     0.246317      0.030755\n",
       "2       0.018315     0.063036      0.180240\n",
       "3       0.082597     0.249477      0.044715\n",
       "4       0.367594     0.245417      0.131159\n",
       "5       0.083417     0.090664      0.015415\n",
       "6       0.035926     0.137064      0.077736\n",
       "7       0.252841     0.141698      0.047586\n",
       "8       0.092218     0.128311      0.068767\n",
       "9       0.064382     0.175783      0.059389"
      ]
     },
     "execution_count": 605,
     "metadata": {},
     "output_type": "execute_result"
    }
   ],
   "source": [
    "tops"
   ]
  },
  {
   "cell_type": "markdown",
   "id": "b9531b6f",
   "metadata": {
    "slideshow": {
     "slide_type": "slide"
    }
   },
   "source": [
    "# Modeliser une file d'attente\n",
    "\n",
    "Pour modéliser une file d'attente de manière naïve, on définit 
une\n",
    "classe `QS` pour *Queuing System*. Deux propriétés de cet objet\n",
    "modéliseront la file d'arrivées et le composant serveurs. Les 
temps\n",
    "d'arrivées / passages des agents seront comptabilisés dans un\n",
    "dataframe `tops`. Afin d'être exhaustif :\n",
    "\n",
    "-----------\n",
    "\n",
    "- `test_size` : taille de l'échantillon d'agents tests.\n",
    "\n",
    "-----------\n",
    "\n",
    "- `arval_dist` : distribution des arrivées, sert à initialiser 
les\n",
    "  temps d'arrivées d'un nombre défini d'agents. Il met à jour 
les\n",
    "  arrivés `t_arval_queue` des agents.\n",
    "\n",
    "-----------\n",
    "\n",
    "- `srv_dist`: distribution des services, renvoie un temps de 
service\n",
    "    depuis `t_arval_srv` d'un agent.\n",
    "\n",
    "-----------\n",
    "\n",
    "- `tops` : dataframe dont le schéma contient la description 
d'un\n",
    "  agent. Il peut être enrichi par un appel à `posttreat`.\n",
    "\n",
    "-----------\n",
    "\n",
    "- `Wline` : encode le comportement d'une file d'attente, il 
porte\n",
    "  les propriété :\n",
    "  - `size` : taille de la file d'attente `int`. À `None` si 
infinie.\n",
    "  - `queue` : liste des identifiants d'agents en attente.\n",
    "  - `populate` : fonction ouvrant l'accueil des agents dans la 
file.\n",
    "  - `pop` : renvoie la tête de file, suivant la politique de 
priorité\n",
    "    choisie. Un appel à cette fonction supprime la tête de file 
et\n",
    "    initialise `t_arval_srv`.\n",
    "\n",
    "-----------\n",
    "\n",
    "- `Service` : encode le comportement de serveurs d'une file 
d'attente\n",
    "  - `nb` : nombre de serveurs dans la file d'attente.\n",
    "  - `server` : une liste d'agents en cours de se faire servir\n",
    "    indexée de `0` à `nb - 1`.\n",
    "  - `full` : renvoie un booléen à vrai si le serveur est plein. 
\n",
    "  - `leaving` : renvoie les couples index, agent quittant au plus 
tôt le système.\n",
    "\n",
    "-----------\n",
    "\n",
    "- `pretreat` : initialise `tops` avec des valeurs d'interarrivées 
qui suivent `arval_dist`, `tops` est trié par suivant les temps 
d'arrivée, par construction. \n",
    "\n",
    "-----------\n",
    "\n",
    "- `run` : exécution d'un batch sur la file d'attente.\n",
    "\n",
    "-----------\n",
    "\n",
    "- `posttreat` : consolide les statistiques d'exécution d'un 
run.\n",
    "\n",
    "-----------"
   ]
  },
  {
   "cell_type": "code",
   "execution_count": 606,
   "id": "61873e9a",
   "metadata": {
    "slideshow": {
     "slide_type": "subslide"
    }
   },
   "outputs": [],
   "source": [
    "class Wline():\n",
    "\n",
    "    def __init__(self, size=None, policy=(lambda x: 0)):\n",
    "        self.size = size\n",
    "        self.next = policy\n",
    "        \n",
    "    def populate(self, queue):\n",
    "        self.queue = queue\n",
    "    \n",
    "    def pop(self):\n",
    "        pop_ix = self.next(self.queue)\n",
    "        pop_val = None\n",
    "        \n",
    "        if -1 &lt; pop_ix &lt; len(self.queue):\n",
    "            pop_val = self.queue[pop_ix]\n",
    "            self.queue.pop(pop_ix)\n",
    "            \n",
    "        return pop_val"
   ]
  },
  {
   "cell_type": "code",
   "execution_count": 607,
   "id": "46936c4d",
   "metadata": {
    "slideshow": {
     "slide_type": "fragment"
    }
   },
   "outputs": [],
   "source": [
    "line = Wline(10, (lambda x: 0))"
   ]
  },
  {
   "cell_type": "code",
   "execution_count": 608,
   "id": "266e3f3e",
   "metadata": {
    "slideshow": {
     "slide_type": "fragment"
    }
   },
   "outputs": [],
   "source": [
    "line.populate([1, 2, 3, 4])"
   ]
  },
  {
   "cell_type": "code",
   "execution_count": 609,
   "id": "40e10a74",
   "metadata": {
    "slideshow": {
     "slide_type": "fragment"
    }
   },
   "outputs": [
    {
     "data": {
      "text/plain": [
       "(10, [1, 2, 3, 4], <function __main__.<lambda="">(x)&gt;)"
      ]
     },
     "execution_count": 609,
     "metadata": {},
     "output_type": "execute_result"
    }
   ],
   "source": [
    "line.size, line.queue, line.next"
   ]
  },
  {
   "cell_type": "code",
   "execution_count": 610,
   "id": "2509e876",
   "metadata": {
    "slideshow": {
     "slide_type": "fragment"
    }
   },
   "outputs": [],
   "source": [
    "x = line.pop()"
   ]
  },
  {
   "cell_type": "code",
   "execution_count": 611,
   "id": "d92ef86a",
   "metadata": {
    "slideshow": {
     "slide_type": "fragment"
    }
   },
   "outputs": [
    {
     "data": {
      "text/plain": [
       "1"
      ]
     },
     "execution_count": 611,
     "metadata": {},
     "output_type": "execute_result"
    }
   ],
   "source": [
    "x"
   ]
  },
  {
   "cell_type": "code",
   "execution_count": 612,
   "id": "384e4d9d",
   "metadata": {
    "slideshow": {
     "slide_type": "slide"
    }
   },
   "outputs": [],
   "source": [
    "class InService():\n",
    "    \n",
    "    def __init__(self, nb=1, dist=None):\n",
    "        self.nb = nb\n",
    "        self.server = [None]*nb\n",
    "        self.dist = dist\n",
    "        \n",
    "    def full(self):\n",
    "        return not (None in self.server)\n",
    "        \n",
    "    def leaving(self, tops):\n",
    "        \n",
    "        agent_id = None\n",
    "        \n",
    "        if not self.full():\n",
    "            #Extract index of an available server\n",
    "            srv_ix = self.server.index(None) \n",
    "        \n",
    "        else:\n",
    "            #Find agent of smallest departure time, needs to be 
float to use idxmin\n",
    "            agent_id = tops.loc[self.server, 
't_depart_sys'].astype(float).idxmin()\n",
    "            #Extract server number of departing agent\n",
    "            srv_ix = self.server.index(agent_id) \n",
    "        \n",
    "        return srv_ix, agent_id"
   ]
  },
  {
   "cell_type": "code",
   "execution_count": 613,
   "id": "dadeafe9",
   "metadata": {
    "slideshow": {
     "slide_type": "fragment"
    }
   },
   "outputs": [],
   "source": [
    "inservice = InService(10, lambda : rng.exponential(1./3.))"
   ]
  },
  {
   "cell_type": "code",
   "execution_count": 614,
   "id": "0eba51de",
   "metadata": {
    "slideshow": {
     "slide_type": "fragment"
    }
   },
   "outputs": [
    {
     "data": {
      "text/plain": [
       "(10,\n",
       " [None, None, None, None, None, None, None, None, None, 
None],\n",
       " 0.44456747501062777)"
      ]
     },
     "execution_count": 614,
     "metadata": {},
     "output_type": "execute_result"
    }
   ],
   "source": [
    "inservice.nb, inservice.server, inservice.dist()"
   ]
  },
  {
   "cell_type": "code",
   "execution_count": 615,
   "id": "434398fa",
   "metadata": {
    "slideshow": {
     "slide_type": "fragment"
    }
   },
   "outputs": [
    {
     "data": {
      "text/plain": [
       "False"
      ]
     },
     "execution_count": 615,
     "metadata": {},
     "output_type": "execute_result"
    }
   ],
   "source": [
    "inservice.full()"
   ]
  },
  {
   "cell_type": "code",
   "execution_count": 616,
   "id": "118ee093",
   "metadata": {
    "slideshow": {
     "slide_type": "fragment"
    }
   },
   "outputs": [
    {
     "data": {
      "text/plain": [
       "(0, None)"
      ]
     },
     "execution_count": 616,
     "metadata": {},
     "output_type": "execute_result"
    }
   ],
   "source": [
    "inservice.leaving(tops)"
   ]
  },
  {
   "cell_type": "code",
   "execution_count": 617,
   "id": "e33a14a2",
   "metadata": {
    "slideshow": {
     "slide_type": "fragment"
    }
   },
   "outputs": [],
   "source": [
    "inservice.server = [i for i in range(10)]"
   ]
  },
  {
   "cell_type": "code",
   "execution_count": 618,
   "id": "09c2fdd6",
   "metadata": {
    "slideshow": {
     "slide_type": "fragment"
    }
   },
   "outputs": [
    {
     "data": {
      "text/plain": [
       "(5, 5)"
      ]
     },
     "execution_count": 618,
     "metadata": {},
     "output_type": "execute_result"
    }
   ],
   "source": [
    "inservice.leaving(tops)"
   ]
  },
  {
   "cell_type": "markdown",
   "id": "e61cafc5",
   "metadata": {
    "slideshow": {
     "slide_type": "slide"
    }
   },
   "source": [
    "# Dynamique d'exécution\n",
    "\n",
    "1. On initialise la file d'attente avec les métadonnées la\n",
    "   définissant.\n",
    "\n",
    "2. On génère les temps d'arrivées d'un échantillon de taille 
définie\n",
    "   dans `tops`. Les temps générés sont inclus dans\n",
    "   `agent[t_arrival_queue]`.\n",
    "\n",
    "3. On initialize `Wline` dans la mesure de sa capacité, au regard 
de\n",
    "   l'échantillon, et par ordre des temps d'arrivées.\n",
    "\n",
    "4. On lance une boucle :\n",
    "    \n",
    "    -------\n",
    "    \n",
    "\t- On fait appel à `Wline.pop()` et on stock le résultat dans\n",
    "\t  `next`, si erreur on arrête le benchmark sinon, on vérifie 
la\n",
    "      disponibilité côté serveurs, on a deux choix :\n",
    "\n",
    "       ----\n",
    "\n",
    "       - un serveur est disponible : on extrait sa position et\n",
    "\n",
    "\t\t + on stock `next` à cette position\n",
    "\t\t + on met à jour `next.t_arrival_srv` par\n",
    "          `next.t_arrival_srv &lt;- next.t_arrival_queue`.\n",
    "\n",
    "       ----\n",
    "\n",
    "\t    - aucun serveur n'est disponible, on extrait le serveur 
contenant l'agent ayant une valeur `t_departure_sys` la plus petite, 
qu'on stock dans `prev`. On fait la mise à jour\n",
    "\n",
    "\t       + on pop `prev` pour l'installer dans `Log`.\n",
    "\t       + on fait la mise à jour `QS.t() &lt;- 
prev.t_departure_sys`.\n",
    "\t       + on stock `next` à cette position\n",
    "\t       + `next.t_arrival_srv &lt;- prev.t_departure_sys.` si 
`prev.t_departure_srv` est plus grande que `next.t_arrival_queue`.\n",
    "\t       + `next.t_arrival_srv &lt;- next.t_arrival_queue.` 
sinon.\n",
    "\n",
    "   ------\n",
    "\n",
    "    - S'il reste des éléments dans les arrivées on va ajouter celui
 avec le plus petit temps d'arrivée `A` à `Wline` s'il n'est pas bloqué.
 Pour tester le blocage il faut comptabiliser les agents dans le système
 au moment de l'arrivée de `A`. Si le total est plus grand `size` `A` 
est bloqué, on met dans ce cas `t_arrival_srv` à `NaN`. Sinon on rajoute
 `A` à `Wline`."
   ]
  },
  {
   "cell_type": "code",
   "execution_count": 679,
   "id": "cefd92ff",
   "metadata": {
    "slideshow": {
     "slide_type": "subslide"
    }
   },
   "outputs": [],
   "source": [
    "class QS():\n",
    "    \n",
    "    def __init__(self, arval_dist, srv_dist, servers_nb, \n",
    "                 queue_size=None, policy=lambda x:0, test_size=100)
 :\n",
    "         \n",
    "        #Initializing metadata\n",
    "        self.arval_dist = arval_dist\n",
    "        self.srv_dist = srv_dist\n",
    "        self.srv_z = servers_nb\n",
    "        self.queue_z = queue_size if queue_size else test_size\n",
    "        self.test_z = test_size\n",
    "\n",
    "        #Initializing Waiting Line\n",
    "        self.wline = Wline(size=queue_size, policy=policy)\n",
    "        \n",
    "        #Initializing In Service List\n",
    "        self.inservice = InService(nb=servers_nb, 
dist=srv_dist)\n",
    "        \n",
    "        #Initializin tops dataframe\n",
    "        column_names = ['t_arval_queue', 't_arval_srv', 
't_depart_sys']\n",
    "        self.tops = pd.DataFrame(np.empty((test_size, 
3),dtype=object), columns=column_names)\n",
    "        \n",
    "        \n",
    "    def pretreat(self):\n",
    "        #Easing naming\n",
    "        tops = self.tops\n",
    "\n",
    "        t_interarvals = self.arval_dist(size=(self.test_z))\n",
    "        tops.loc[0, 't_arval_queue'] = t_interarvals[0]\n",
    "                \n",
    "        for agent in range(1, self.test_z) :\n",
    "            tops.loc[agent, 't_arval_queue'] = tops.loc[agent - 1, 
't_arval_queue'] + t_interarvals[agent]\n",
    "        \n",
    "    def run(self):\n",
    "        \n",
    "        #Easing naming\n",
    "        wline = self.wline\n",
    "        inservice = self.inservice\n",
    "        tops = self.tops\n",
    "        \n",
    "        #Filling in queue\n",
    "        wline.queue = list(tops.loc[0:self.queue_z].index)\n",
    "        buffer_ix = self.queue_z\n",
    "    \n",
    "        while True:\n",
    "            \n",
    "            _next = wline.pop()\n",
    "            if _next is None and buffer_ix &gt;= self.test_z :\n",
    "                break\n",
    "                        \n",
    "            if _next is not None: #Waiting line is not empty \n",
    "\n",
    "                #Update server arrival time as if no waiting was 
needed\n",
    "                tops.loc[_next, 't_arval_srv'] = tops.loc[_next, 
't_arval_queue']\n",
    "                \n",
    "                #Find next available server\n",
    "                srv_ix, dept_ag = inservice.leaving(tops)\n",
    "    \n",
    "                #Fill available server with corresponding next 
agent in waiting line\n",
    "                inservice.server[srv_ix] = _next \n",
    "                    \n",
    "                if dept_ag is not None :\n",
    "                    if tops.loc[_next, 't_arval_queue'] &lt; 
tops.loc[dept_ag, 't_depart_sys'] : \n",
    "                        #Update server arrival time in case arrival
 is before system departure\n",
    "                        tops.loc[_next, 't_arval_srv'] = 
tops.loc[dept_ag, 't_depart_sys']\n",
    "                        \n",
    "                #Update system departure time\n",
    "                tops.loc[_next, 't_depart_sys'] = tops.loc[_next, 
't_arval_srv'] + inservice.dist() \n",
    "                            \n",
    "            if buffer_ix &lt; self.test_z :\n",
    "                \n",
    "                #Counting prior agents still in system\n",
    "                in_service = (tops.loc[0:buffer_ix, 't_arval_srv'] 
&gt; \n",
    "                              tops.loc[buffer_ix, 
't_arval_queue']).sum()   \n",
    "                in_waiting = (tops.loc[0:buffer_ix, 't_arval_srv'] 
== None).sum()\n",
    "            \n",
    "                if self.queue_z and in_service + in_waiting &gt;= 
self.queue_z:\n",
    "                    tops.loc[buffer_ix, 't_arval_srv'] = np.nan\n",
    "                else:\n",
    "                    wline.queue.append(buffer_ix)\n",
    "                    \n",
    "                buffer_ix += 1\n",
    "                \n",
    "    def posttreat(self):\n",
    "        \n",
    "        #Easing naming\n",
    "        tops = self.tops\n",
    "        \n",
    "        tops['t_sojourn'] = tops['t_depart_sys'] - 
tops['t_arval_queue']\n",
    "        tops['t_waiting'] = tops['t_arval_srv'] - 
tops['t_arval_queue']\n",
    "        tops['t_service'] = tops['t_depart_sys'] - 
tops['t_arval_srv']\n",
    "        tops['blocked'] = pd.isnull(tops.loc[:,'t_arval_srv'])\n",
    "        tops['waited'] = tops['t_waiting'] &gt; 0 \n",
    "        \n",
    "    def time_scheme(self):\n",
    "        \n",
    "        #Easing naming\n",
    "        tops = self.tops\n",
    "        test_z = self.test_z\n",
    "        \n",
    "        colnames = ['ag_in_sys', 'ag_in_queue', 
'ag_in_service']\n",
    "        t_range = np.linspace(0., tops['t_depart_sys'].max(), 
2*test_z)\n",
    "        t_scheme = pd.DataFrame(np.empty((t_range.shape[0], 
3),dtype=object), \n",
    "                                index=t_range, 
columns=colnames)\n",
    "        \n",
    "        for t in t_scheme.index:\n",
    "            t_scheme.loc[t, 'ag_in_sys'] = ((t &gt;= 
tops['t_arval_queue']) &amp; (t &lt;= tops['t_depart_sys'])).sum()  \n",
    "            t_scheme.loc[t, 'ag_in_queue'] = ((t &gt;= 
tops['t_arval_queue']) &amp; (t &lt;= tops['t_arval_srv'])).sum()\n",
    "            t_scheme.loc[t, 'ag_in_service'] = 
(~pd.isnull(tops['t_arval_srv']) &amp; (t &gt; tops['t_arval_srv']) 
&amp; (t &lt;= tops['t_depart_sys'])).sum()\n",
    "        \n",
    "        return t_scheme\n"
   ]
  },
  {
   "cell_type": "code",
   "execution_count": 739,
   "id": "5496b32b",
   "metadata": {
    "slideshow": {
     "slide_type": "slide"
    }
   },
   "outputs": [],
   "source": [
    "srv_nb = 1\n",
    "arval_dist = lambda size : rng.exponential(1./4., size=size)\n",
    "srv_dist = lambda :  rng.exponential(1./5.)"
   ]
  },
  {
   "cell_type": "code",
   "execution_count": 740,
   "id": "24505a2a",
   "metadata": {
    "slideshow": {
     "slide_type": "fragment"
    }
   },
   "outputs": [],
   "source": [
    "mm1 = QS(arval_dist, srv_dist, srv_nb, queue_size=20, 
test_size=100)"
   ]
  },
  {
   "cell_type": "code",
   "execution_count": 741,
   "id": "d7371540",
   "metadata": {
    "slideshow": {
     "slide_type": "fragment"
    }
   },
   "outputs": [],
   "source": [
    "mm1.pretreat()"
   ]
  },
  {
   "cell_type": "code",
   "execution_count": 742,
   "id": "48eb5bf7",
   "metadata": {
    "slideshow": {
     "slide_type": "fragment"
    }
   },
   "outputs": [],
   "source": [
    "mm1.run()"
   ]
  },
  {
   "cell_type": "code",
   "execution_count": 743,
   "id": "e2083c41",
   "metadata": {
    "slideshow": {
     "slide_type": "fragment"
    }
   },
   "outputs": [],
   "source": [
    "mm1.posttreat()"
   ]
  },
  {
   "cell_type": "code",
   "execution_count": 744,
   "id": "b69563ab-a40b-413d-a11a-cad8df2eadb2",
   "metadata": {},
   "outputs": [
    {
     "data": {
      "text/html": [
       "<div>\n",
       "<style scoped="">\n",
       "    .dataframe tbody tr th:only-of-type {\n",
       "        vertical-align: middle;\n",
       "    }\n",
       "\n",
       "    .dataframe tbody tr th {\n",
       "        vertical-align: top;\n",
       "    }\n",
       "\n",
       "    .dataframe thead th {\n",
       "        text-align: right;\n",
       "    }\n",
       "</style>\n",
       "\n",
       "  \n",
       "    \n",
       "      \n",
       "      \n",
       "      \n",
       "      \n",
       "      \n",
       "      \n",
       "      \n",
       "      \n",
       "      \n",
       "    \n",
       "  \n",
       "  \n",
       "    \n",
       "      \n",
       "      \n",
       "      \n",
       "      \n",
       "      \n",
       "      \n",
       "      \n",
       "      \n",
       "      \n",
       "    \n",
       "    \n",
       "      \n",
       "      \n",
       "      \n",
       "      \n",
       "      \n",
       "      \n",
       "      \n",
       "      \n",
       "      \n",
       "    \n",
       "    \n",
       "      \n",
       "      \n",
       "      \n",
       "      \n",
       "      \n",
       "      \n",
       "      \n",
       "      \n",
       "      \n",
       "    \n",
       "    \n",
       "      \n",
       "      \n",
       "      \n",
       "      \n",
       "      \n",
       "      \n",
       "      \n",
       "      \n",
       "      \n",
       "    \n",
       "    \n",
       "      \n",
       "      \n",
       "      \n",
       "      \n",
       "      \n",
       "      \n",
       "      \n",
       "      \n",
       "      \n",
       "    \n",
       "    \n",
       "      \n",
       "      \n",
       "      \n",
       "      \n",
       "      \n",
       "      \n",
       "      \n",
       "      \n",
       "      \n",
       "    \n",
       "    \n",
       "      \n",
       "      \n",
       "      \n",
       "      \n",
       "      \n",
       "      \n",
       "      \n",
       "      \n",
       "      \n",
       "    \n",
       "    \n",
       "      \n",
       "      \n",
       "      \n",
       "      \n",
       "      \n",
       "      \n",
       "      \n",
       "      \n",
       "      \n",
       "    \n",
       "    \n",
       "      \n",
       "      \n",
       "      \n",
       "      \n",
       "      \n",
       "      \n",
       "      \n",
       "      \n",
       "      \n",
       "    \n",
       "    \n",
       "      \n",
       "      \n",
       "      \n",
       "      \n",
       "      \n",
       "      \n",
       "      \n",
       "      \n",
       "      \n",
       "    \n",
       "    \n",
       "      \n",
       "      \n",
       "      \n",
       "      \n",
       "      \n",
       "      \n",
       "      \n",
       "      \n",
       "      \n",
       "    \n",
       "  \n",
       "<table border="\&quot;1\&quot;" class="\&quot;dataframe\&quot;"><thead><tr style="\&quot;text-align:" right;\"=""><th></th><th>t_arval_queue</th><th>t_arval_srv</th><th>t_depart_sys</th><th>t_sojourn</th><th>t_waiting</th><th>t_service</th><th>blocked</th><th>waited</th></tr></thead><tbody><tr><th>0</th><td>0.112318</td><td>0.112318</td><td>0.228871</td><td>0.116553</td><td>0.0</td><td>0.116553</td><td>False</td><td>False</td></tr><tr><th>1</th><td>0.130334</td><td>0.228871</td><td>0.477445</td><td>0.347111</td><td>0.098537</td><td>0.248573</td><td>False</td><td>True</td></tr><tr><th>2</th><td>0.543995</td><td>0.543995</td><td>0.721384</td><td>0.177389</td><td>0.0</td><td>0.177389</td><td>False</td><td>False</td></tr><tr><th>3</th><td>0.731186</td><td>0.731186</td><td>1.131211</td><td>0.400025</td><td>0.0</td><td>0.400025</td><td>False</td><td>False</td></tr><tr><th>4</th><td>1.04749</td><td>1.131211</td><td>1.743121</td><td>0.695631</td><td>0.083721</td><td>0.61191</td><td>False</td><td>True</td></tr><tr><th>...</th><td>...</td><td>...</td><td>...</td><td>...</td><td>...</td><td>...</td><td>...</td><td>...</td></tr><tr><th>95</th><td>23.338996</td><td>23.835738</td><td>23.986892</td><td>0.647896</td><td>0.496742</td><td>0.151154</td><td>False</td><td>True</td></tr><tr><th>96</th><td>23.793407</td><td>23.986892</td><td>24.132312</td><td>0.338905</td><td>0.193485</td><td>0.14542</td><td>False</td><td>True</td></tr><tr><th>97</th><td>23.813041</td><td>24.132312</td><td>24.287571</td><td>0.47453</td><td>0.319271</td><td>0.155259</td><td>False</td><td>True</td></tr><tr><th>98</th><td>24.004882</td><td>24.287571</td><td>24.400969</td><td>0.396088</td><td>0.282689</td><td>0.113398</td><td>False</td><td>True</td></tr><tr><th>99</th><td>24.524806</td><td>24.524806</td><td>24.634729</td><td>0.109922</td><td>0.0</td><td>0.109922</td><td>False</td><td>False</td></tr></tbody></table>\n",
       "<p>100 rows × 8 columns</p>\n",
       "</div>"
      ],
      "text/plain": [
       "   t_arval_queue t_arval_srv t_depart_sys t_sojourn t_waiting 
t_service  \\\n",
       "0       0.112318    0.112318     0.228871  0.116553       0.0  
0.116553   \n",
       "1       0.130334    0.228871     0.477445  0.347111  0.098537  
0.248573   \n",
       "2       0.543995    0.543995     0.721384  0.177389       0.0  
0.177389   \n",
       "3       0.731186    0.731186     1.131211  0.400025       0.0  
0.400025   \n",
       "4        1.04749    1.131211     1.743121  0.695631  0.083721   
0.61191   \n",
       "..           ...         ...          ...       ...       ...   
    ...   \n",
       "95     23.338996   23.835738    23.986892  0.647896  0.496742  
0.151154   \n",
       "96     23.793407   23.986892    24.132312  0.338905  0.193485   
0.14542   \n",
       "97     23.813041   24.132312    24.287571   0.47453  0.319271  
0.155259   \n",
       "98     24.004882   24.287571    24.400969  0.396088  0.282689  
0.113398   \n",
       "99     24.524806   24.524806    24.634729  0.109922       0.0  
0.109922   \n",
       "\n",
       "    blocked  waited  \n",
       "0     False   False  \n",
       "1     False    True  \n",
       "2     False   False  \n",
       "3     False   False  \n",
       "4     False    True  \n",
       "..      ...     ...  \n",
       "95    False    True  \n",
       "96    False    True  \n",
       "97    False    True  \n",
       "98    False    True  \n",
       "99    False   False  \n",
       "\n",
       "[100 rows x 8 columns]"
      ]
     },
     "execution_count": 744,
     "metadata": {},
     "output_type": "execute_result"
    }
   ],
   "source": [
    "mm1.tops"
   ]
  },
  {
   "cell_type": "code",
   "execution_count": 745,
   "id": "2bf3735a",
   "metadata": {
    "slideshow": {
     "slide_type": "fragment"
    }
   },
   "outputs": [],
   "source": [
    "mm1_bench = mm1.time_scheme()"
   ]
  },
  {
   "cell_type": "code",
   "execution_count": 746,
   "id": "986bbab2",
   "metadata": {
    "slideshow": {
     "slide_type": "fragment"
    }
   },
   "outputs": [],
   "source": [
    "import matplotlib.pyplot as plt"
   ]
  },
  {
   "cell_type": "code",
   "execution_count": 747,
   "id": "c918d6ee",
   "metadata": {
    "slideshow": {
     "slide_type": "subslide"
    }
   },
   "outputs": [
    {
     "data": {
      "image/png": 
"iVBORw0KGgoAAAANSUhEUgAABRoAAAPbCAYAAAAzQTcAAAAAOXRFWHRTb2Z0d2FyZQBNYXRwbG90bGliIHZlcnNpb24zLjcuMSwgaHR0cHM6Ly9tYXRwbG90bGliLm9yZy/
bCgiHAAAACXBIWXMAAA9hAAAPYQGoP6dpAAB400lEQVR4nOzdeXxddZ0//
tdtAy1bb1LSSovs21AWQRFRQHH5juJQBBUGpSPggiCVQVyQQRkVseqgg1q/IHVhE2G+fr/
WZUbAnwrSARfAAhpEYCqgFtPQ9EaoFNLm90doIG2We3Nu1j6fj8d9tDnnc85537PnlbOUurq6ugIAAAAAUMCk0S4AAAAAABj/
BI0AAAAAQGGCRgAAAACgMEEjAAAAAFCYoBEAAAAAKEzQCAAAAAAUJmgEAAAAAAoTNAIAAAAAhTWMdgHDbd26dfnzn/
+cbbbZJqVSabTLAQAAAIBxpaurK3/9618ze/bsTJrU/3WLEz5o/
POf/5wddthhtMsAAAAAgHHtkUceyfOf//x+
+0/4oHGbbbZJ0j0jpk2bNsrVAAAAAMD40tHRkR122KEnZ+vPhA8a198uPW3aNEEjAAAAAAzRYI8l9DIYAAAAAKAwQSMAAAAAUJigEQAAAAAobMI/
oxEAAABgU9LV1ZXOzs6sXbt2tEthnJg8eXIaGhoGfQbjYASNAAAAABPEU089leXLl2f16tWjXQrjzJZbbplZs2Zl8803H/
I4BI0AAAAAE8C6deuybNmyTJ48ObNnz87mm29e+Ao1Jr6urq489dRTWbFiRZYtW5Y99tgjkyYN7WmLgkYAAACACeCpp57KunXrssMOO2TLLbcc7XIYR7bYYotsttlmeeihh/
LUU09l6tSpQxqPl8EAAAAATCBDvRqNTVs91htrHgAAAABQmKARAAAAAChM0AgAAADAhHbTTTelVCpl1apVo13KhCZoBAAAAGBCe9nLXpbly5enXC6PdikTmrdOAwAAAExE69Yljz02ujVsu20yBl5Os/
nmm2e77bYb7TImvNFf0gAAAADU32OPJTNnju6nhqDz+uuvz2GHHZbGxsZsu+22Oeqoo/
Lggw/29L/11ltzwAEHZOrUqTnooIOyePHilEqlLF26dNBxb3jr9OWXX57GxsbccMMN2XvvvbP11lvnda97XZYvX15VrTfddFMOPvjgbLXVVmlsbMyhhx6ahx56KH/4wx8yadKk3H777b3aX3zxxdlpp52ybt26tLe358QTT8yMGTOyxRZbZI899sg3vvGNqufTWCZoBAAAAGDUPfHEEzn77LNz+
+2358c//nEmTZqUY489NuvWrUtHR0fmzp2b/
fbbL3feeWcuuOCCnHPOOYWmt3r16lx00UW56qqr8rOf/SwPP/
xwPvCBDww6XGdnZ4455pi84hWvyN13353bbrstp556akqlUnbeeee85jWv2Sg4/
MY3vpGTTz45kyZNykc/
+tG0tLTkhz/8Ye69995ccsklaW5uLvRdxgq3TgMAAAAw6t70pjf1+vnrX/96ZsyYkZaWlixZsiSlUimLFi3K1KlTM2fOnPzpT3/
Ku971riFP7+mnn86ll16a3XbbLUkyf/78fOITnxh0uI6OjlQqlRx11FE9w+699949/
d/5znfmtNNOy+c///lMmTIld955Z+65555897vfTZI8/
PDDOfDAA3PQQQclSXbeeechf4exxhWNAAAAAIy6+++/
P295y1uy6667Ztq0aT0B3MMPP5z77rsv+++/f6ZOndrT/
uCDDy40vS233LInKEySWbNmpbW1ddDhpk+fnpNPPjmvfe1rM3fu3HzhC1/
odcv1Mccck8mTJ+c73/lOku7btF/5ylf2fJ/
TTz891157bQ444IB86EMfyq233lroe4wlrmgEAAAAmIi23TapIjgb9hqqNHfu3Oy0005ZtGhRZs+enXXr1mXffffNU089NSylbbbZZr1+LpVK6erqqmrYb3zjGznzzDNz/
fXX57rrrstHPvKR/
OhHP8ohhxySzTffPG9729vyjW98I2984xtzzTXX5Atf+ELPsEceeWQeeuih/Nd//
Vd+9KMf5dWvfnXOOOOMXHTRRXX9fqNB0AgAAAAwEU2alMyYMdpVVOWxxx7Lfffdl0WLFuXwww9PkixZsqSn/1577ZWrr746a9asyZQpU5Ikv/
rVr0al1vUOPPDAHHjggTn33HPz0pe+NNdcc00OOeSQJN23T+
+777753//7f6ezszNvfOMbew07Y8aMnHTSSTnppJNy+OGH54Mf/
OCECBrdOg0AAADAqGpqasq2226byy67LA888EB+8pOf5Oyzz+7p/9a3vjXr1q3LqaeemnvvvTc33HBDTzBXKpVGtNZly5bl3HPPzW233ZaHHnooN954Y+6///5ez2nce+
+9c8ghh+Scc87JW97ylmyxxRY9/c4///x897vfzQMPPJDf/
va3+cEPftBr2PFM0AgAAADAqJo0aVKuvfba3HHHHdl3333zvve9L//2b//W03/atGn5/ve/
n6VLl+aAAw7Ieeedl/PPPz9Jej23cSRsueWW+d3vfpc3velN2XPPPXPqqafmjDPOyLvf/
e5e7d7xjnfkqaeeytvf/vZe3TfffPOce+652X///
fPyl788kydPzrXXXjuSX2HYlLqqvfl8nOro6Ei5XE6lUsm0adNGuxwAAACAYfHkk09m2bJl2WWXXUY8fBsN3/
zmN3PKKaekUqn0umJwrLjgggvyf/7P/8ndd9892qVUZaD1p9p8zTMaAQAAABjzrrzyyuy6667Zfvvtc9ddd+Wcc87J8ccfP+ZCxscffzx/
+MMfsnDhwnzyk58c7XJGlFunAQAAABjzHn300cybNy9777133ve+9+W4447LZZddliQ57bTTsvXWW/
f5Oe2002qeVn/
j2nrrrXPLLbcMOOz8+fPzohe9KEccccRGt01PdG6dBgAAAJgANrVbp5+rtbU1HR0dffabNm1aZs6cWdP4HnjggX77bb/99mPuKsp6cOs0AAAAAJu8mTNn1hwmDmT33Xev27g2JW6dBgAAAAAKEzQCAAAAAIUJGgEAAACAwgSNAAAAAEBhgkYAAAAAoDBBIwAAAAAT2k033ZRSqZRVq1aNdikTmqARAAAAgAntZS97WZYvX55yuTzapUxoDaNdAAAAAAD1t25d8thjo1vDttsmk8bAZW6bb755tttuu9EuY8Ib1UX9s5/9LHPnzs3s2bNTKpWyePHiftuedtppKZVKufjii0esPgAAAIDx6rHHkpkzR/
dTS9B5/
fXX57DDDktjY2O23XbbHHXUUXnwwQd7+t9666054IADMnXq1Bx00EFZvHhxSqVSli5dOui4N7x1+vLLL09jY2NuuOGG7L333tl6663zute9LsuXL6+q1rVr1+bss8/
uqfVDH/pQTjrppBxzzDE9bXbeeeeNcqwDDjggH/
vYx3p+XrVqVd75zndmxowZmTZtWl71qlflrrvu6ul/8skn9xpnkpx11lk54ogjen5et25dFixYkF122SVbbLFFXvCCF+Tb3/52Vd+j3kY1aHziiSfyghe8IF/
+8pcHbPed73wnP//5zzN79uwRqgwAAACAkfTEE0/k7LPPzu23354f//
jHmTRpUo499tisW7cuHR0dmTt3bvbbb7/
ceeedueCCC3LOOecUmt7q1atz0UUX5aqrrsrPfvazPPzww/
nABz5Q1bCf+9zncvnll+frX/96lixZkpUrV+Y73/lOzTUcd9xxaW1tzQ9/
+MPccccdeeELX5hXv/rVWblyZdXjWLBgQa688spceuml+e1vf5v3ve99mTdvXm6+
+eaa6ylqVG+dPvLII3PkkUcO2OZPf/pT3vve9+aGG27IP/zDP4xQZQAAjEmdnUl7+/
CNv6kpafB0IQAYDW9605t6/fz1r389M2bMSEtLS5YsWZJSqZRFixZl6tSpmTNnTv70pz/
lXe9615Cn9/TTT+fSSy/
NbrvtliSZP39+PvGJT1Q17MUXX5xzzz03b3zjG5Mkl156aW644Yaapr9kyZL88pe/
TGtra6ZMmZIkueiii7J48eJ8+9vfzqmnnjroONasWZNPfepT+f/
+v/8vL33pS5Mku+66a5YsWZKvfOUrecUrXlFTTUWN6bOodevW5Z/+6Z/
ywQ9+MPvss89olwMAwGi6+upk/vykUhm+aZTLycKFybx5wzcNAKBP999/f84///z84he/
SFtbW9atW5ckefjhh3Pfffdl//33z9SpU3vaH3zwwYWmt+WWW/
aEjEkya9astLa2DjpcpVLJ8uXL85KXvKSnW0NDQw466KB0dXVVPf277rorjz/
+eLbddtte3f/2t7/1umV8IA888EBWr16d//W//
lev7k899VQOPPDAqmuplzEdNH7mM59JQ0NDzjzzzKqHWbNmTdasWdPzc0dHx3CUBgDASOrsHP6QMeke//
z5yQknuLIRgHFv222TKnKzYa+hWnPnzs1OO+2URYsWZfbs2Vm3bl323XffPPXUU8NS22abbdbr51KpVFNQOJhJkyZtNL6nn3665/
+PP/54Zs2alZtuummjYRsbG6seR5L853/
+Z7bffvte7dZfJTmSxuzZ0x133JEvfOELufPOO1MqlaoebsGCBfn4xz8+jJUBADDi2tuHP2Rcr1Lpnt6MGSMzPQAYJpMmjZ/
D2WOPPZb77rsvixYtyuGHH56k+9bi9fbaa69cffXVWbNmTU+A9qtf/
WpUai2Xy5k1a1Z+8Ytf5OUvf3mSpLOzs+cZi+vNmDGj18tlOjo6smzZsp6fX/
jCF+bRRx9NQ0NDdt555z6nNWPGjPzmN7/
p1W3p0qU9IemcOXMyZcqUPPzwwyN+m3RfxsALxvt2yy23pLW1NTvuuGMaGhrS0NCQhx56KO9///
v7nflJcu6556ZSqfR8HnnkkZErGgAAAICaNTU1Zdttt81ll12WBx54ID/5yU9y9tln9/
R/61vfmnXr1uXUU0/NvffemxtuuCEXXXRRktR0gVq9/PM//3M+/elPZ/
Hixfnd736X97znPT1vtF7vVa96Va666qrccsstueeee3LSSSdl8uTJPf1f85rX5KUvfWmOOeaY3HjjjfnDH/6QW2+9Needd15uv/32nnHcfvvtufLKK3P//
ffnX//1X3sFj9tss00+8IEP5H3ve1+uuOKKPPjgg7nzzjvzpS99KVdcccWIzIvnGrNXNP7TP/1TXvOa1/
Tq9trXvjb/9E//
lFNOOaXf4aZMmTIql4YCADDCWlqS5ubi42lrS+bMKT4eAGDIJk2alGuvvTZnnnlm9t133+y111754he/
mCOOOCJJMm3atHz/+9/P6aefngMOOCD77bdfzj///Lz1rW/t9dzGkfL+978/
y5cvz0knnZRJkybl7W9/e4499thUnnMHxrnnnptly5blqKOOSrlczgUXXNDrisZSqZT/+q//
ynnnnZdTTjklK1asyHbbbZeXv/zled7znpekOwv76Ec/mg996EN58skn8/
a3vz1ve9vbcs899/SM54ILLsiMGTOyYMGC/M///E8aGxvzwhe+MP/yL/8ycjNk/
XfqqufN5zV6/PHH88ADDyRJDjzwwHz+85/
PK1/5ykyfPj077rjjRu133nnnnHXWWTnrrLOqnkZHR0fK5XIqlUqmTZtWr9IBABhJK1YkM2f27tbaWp/7wYZz3AAwgp588sksW7Ysu+yyy6iEbyPtm9/8Zk455ZRUKpVsscUWo11OTj755KxatSqLFy8e7VKGZKD1p9p8bVSvaLz99tvzyle+sufn9ZfEnnTSSbn88stHqSoAAAAAxporr7wyu+66a7bffvvcddddOeecc3L88cePiZCRbqMaNB5xxBE1vc3nD3/4w/
AVAwAAAMCY9eijj+b888/Po48+mlmzZuW4447LhRdemCQ57bTTcvXVV/
c53Lx583LppZfWNK2tt966334//OEPe15YQ2+jeuv0SHDrNADABODWaQAY1KZ26/
Rztba2pqOjo89+06ZNy8wNj/WDWP+ov75sv/32E/
IqynF/6zQAAAAAFDVz5syaw8SB7L777nUb16Zk0mgXAAAAAACMf4JGAAAAAKAwQSMAAAAAUJigEQAAAAAoTNAIAAAAABQmaAQAAABgQrvppptSKpWyatWq0S6lkFKplMWLF492Gf1qGO0CAAAAAGA4vexlL8vy5ctTLpdHu5RCli9fnqamptEuo1+CRgAAAAAmtM033zzbbbfdaJfRr6effjqbbbbZoO3G8ndI3DoNAAAAMCGtW7cuK1asGNXPunXrqq73+uuvz2GHHZbGxsZsu+22Oeqoo/
Lggw/29L/11ltzwAEHZOrUqTnooIOyePHilEqlLF26dNBxb3jr9OWXX57GxsbccMMN2XvvvbP11lvnda97XZYvX15VrTfddFMOPvjgbLXVVmlsbMyhhx6ahx56qKf/
d7/73bzwhS/M1KlTs+uuu+bjH/94Ojs7e/qXSqVccsklOfroo7PVVlvlggsuyPOf//
xccsklvabz61//OpMmTeoZ94a3Tv/xj3/
MW97ylkyfPj1bbbVVDjrooPziF7+ouo56c0UjAAAAwAT02GOPZebMmaNaQ2tra2bMmFFV2yeeeCJnn3129t9//
zz++OM5//zzc+yxx2bp0qV5/PHHM3fu3Lz+9a/
PNddck4ceeihnnXVWodpWr16diy66KFdddVUmTZqUefPm5QMf+EC+
+c1vDjhcZ2dnjjnmmLzrXe/Kt771rTz11FP55S9/mVKplCS55ZZb8ra3vS1f/OIXc/
jhh+fBBx/MqaeemiT513/9157xfOxjH8unP/3pXHzxxWloaMjf/
va3XHPNNTn99NN72nzzm9/MoYcemp122mmjOh5//PG84hWvyPbbb5/
vfe972W677XLnnXf2hLvV1lFPgkYAAAAARt2b3vSmXj9//
etfz4wZM9LS0pIlS5akVCpl0aJFmTp1aubMmZM//
elPede73jXk6T399NO59NJLs9tuuyVJ5s+fn0984hODDtfR0ZFKpZKjjjqqZ9i99967p//
HP/7xfPjDH85JJ52UJNl1111zwQUX5EMf+lCvgO+tb31rTjnllJ6fTzzxxHzuc5/Lww8/
nB133DHr1q3Ltddem4985CN91nHNNddkxYoV+dWvfpXp06cnSXbfffea66gnt04DAAAAMOruv//
+vOUtb8muu+6aadOmZeedd06SPPzww7nvvvuy//77Z+rUqT3tDz744ELT23LLLXuCwiSZNWtWWltbBx1u+vTpOfnkk/
Pa1742c+fOzRe+8IVet1zfdddd+cQnPpGtt9665/
Oud70ry5cvz+rVq3vaHXTQQb3Ge8ABB2TvvffONddckyS5+eab09ramuOOO67POpYuXZoDDzywJ2TcULV11JOgEQAAAIBRN3fu3KxcuTKLFi3KL37xi55nDT711FPDMr0NX75SKpXS1dVV1bDf+MY3ctttt+VlL3tZrrvuuuy55575+c9/
nqT7luaPf/zjWbp0ac/
nnnvuyf33398rKN1qq602Gu+JJ57YEzRec801ed3rXpdtt922zxq22GKLAWusto56cus0AAAAwAS07bbbVnWF3nDXUI3HHnss9913XxYtWpTDDz88SbJkyZKe/
nvttVeuvvrqrFmzJlOmTEmS/OpXv6p/wTU48MADc+CBB+bcc8/
NS1/60lxzzTU55JBD8sIXvjD33Xdfr9uYq/XWt741H/nIR3LHHXfk29/
+di699NJ+2+6///756le/mpUrV/
Z5VWOROoZK0AgAAAAwAU2aNKnqF7GMtqampmy77ba57LLLMmvWrDz88MP58Ic/3NP/
rW99a84777yceuqp+fCHP5yHH344F110UZL0vIRlpCxbtiyXXXZZjj766MyePTv33Xdf7r///
rztbW9Lkpx//vk56qijsuOOO+bNb35zJk2alLvuuiu/
+c1v8slPfnLAce+888552ctelne84x1Zu3Ztjj766H7bvuUtb8mnPvWpHHPMMVmwYEFmzZqVX//615k9e3Ze+tKXFqpjqNw6DQAAAMComjRpUq699trccccd2XffffO+970v//
Zv/9bTf9q0afn+97+fpUuX5oADDsh5552X888/P0mG7Tbg/
my55Zb53e9+lze96U3Zc889c+qpp+aMM87Iu9/97iTJa1/72vzgBz/IjTfemBe/
+MU55JBD8u///u99vjm6LyeeeGLuuuuuHHvssQPeHr355pvnxhtvzMyZM/P6178++
+23Xz796U9n8uTJdaljKEpd1d58Pk51dHSkXC6nUqlk2rRpo10OAABDsWJFMnNm726trUk9rtIYznEDwAh68skns2zZsuyyyy4jHr6Nhm9+85s55ZRTUqlUBn1eIYMbaP2pNl9z6zQAAAAAY96VV16ZXXfdNdtvv33uuuuunHPOOTn+
+OOFjGOIW6cBAAAAGPMeffTRzJs3L3vvvXfe97735bjjjstll12WJDnttNOy9dZb9/
k57bTTap5Wf+Paeuutc8stt9T7q00Ybp0GAGDsc+s0AAxqU7t1+rlaW1vT0dHRZ79p06Zl5obH+kE88MAD/
fbbfvvtJ+RVlG6dBgAAAGCTN3PmzJrDxIHsvvvudRvXpsSt0wAAAAATyAS/
eZVhUo/1RtAIAAAAMAFsttlmSZLVq1ePciWMR+vXm/
Xr0VC4dRoAAABgApg8eXIaGxvT2tqaJNlyyy1TKpVGuSrGuq6urqxevTqtra1pbGzM5MmThzwuQSMAAADABLHddtslSU/
YCNVqbGzsWX+GStAIAAAAMEGUSqXMmjUrM2fOzNNPPz3a5TBObLbZZoWuZFxP0AgAAAAwwUyePLkuwRHUwstgAAAAAIDCBI0AAAAAQGGCRgAAAACgMEEjAAAAAFCYoBEAAAAAKEzQCAAAAAAUJmgEAAAAAAoTNAIAAAAAhQkaAQAAAIDCBI0AAAAAQGGCRgAAAACgMEEjAAAAAFCYoBEAAAAAKEzQCAAAAAAUJmgEAAAAAAoTNAIAAAAAhQkaAQAAAIDCBI0AAAAAQGGCRgAAAACgMEEjAAAAAFCYoBEAAAAAKEzQCAAAAAAU1jDaBQAAsIno7Eza24c2bFtb9ygyOe1peqZbqT51tZWSNCdJmtKehqztmd6AmpqSBqfTAADrOTMCAGD4XX11Mn9+UqkMfRQ5MfOzMJU0dneYU5/
SukPGFUmSclZlYeZn3pwqRl4uJwsXJvPm1asQAIBxrdTV1dU12kUMp46OjpTL5VQqlUybNm20ywEA2PR0dibNzYVCxs5MTnPang0Zh1E5q9KW5u4rGwdtXO6+
+tGVjQDABFZtvuYZjQAADK/29kIhY5K0p2lEQsYkqaTx2duzB21cGfrt4AAAE4ygEQAAAAAozD0eAACMvJaW7tupq9VW2uiZjLWOot9RtyUbPZKx5d6kuY8nDPXZGACARNAIAMBoaG5OZswY7VEMMvJhGjcAwATl1mkAAAAAoDBBIwAAAABQmKARAAAAAChM0AgAAAAAFCZoBAAAAAAKEzQCAAAAAIUJGgEAAACAwgSNAAAAAEBhgkYAAAAAoDBBIwAAAABQmKARAAAAAChM0AgAAAAAFCZoBAAAAAAKEzQCAAAAAIUJGgEAAACAwgSNAAAAAEBhgkYAAAAAoDBBIwAAAABQmKARAAAAAChM0AgAAAAAFCZoBAAAAAAKEzQCAAAAAIUJGgEAAACAwgSNAAAAAEBhgkYAAAAAoDBBIwAAAABQmKARAAAAAChM0AgAAAAAFCZoBAAAAAAKEzQCAAAAAIUJGgEAAACAwgSNAAAAAEBhgkYAAAAAoDBBIwAAAABQmKARAAAAAChM0AgAAAAAFCZoBAAAAAAKEzQCAAAAAIUJGgEAAACAwgSNAAAAAEBhgkYAAAAAoDBBIwAAAABQmKARAAAAAChM0AgAAAAAFCZoBAAAAAAKEzQCAAAAAIUJGgEAAACAwgSNAAAAAEBhgkYAAAAAoDBBIwAAAABQmKARAAAAAChsVIPGn/3sZ5k7d25mz56dUqmUxYsX9/
R7+umnc84552S//fbLVlttldmzZ+dtb3tb/vznP49ewQAAAABAn0Y1aHziiSfyghe8IF/
+8pc36rd69erceeed+ehHP5o777wz/+///b/
cd999Ofroo0ehUgAAAABgIA2jOfEjjzwyRx55ZJ/9yuVyfvSjH/
XqtnDhwhx88MF5+OGHs+OOO45EiQAADEVnZ9Le3v3/
trbuTpmc9jQ9061U0+ieGcWI6Xd6baUkzUmSprSnIWurL66pKWkY1dNvAIBhNa7OdCqVSkqlUhobG0e7FAAA+nP11cn8+Uml8mynnJj5WZhKGrs7zBmd0qo1p9/6mpOsSJKUsyoLMz/
z+m/
cW7mcLFyYzJtXjxIBAMaccfMymCeffDLnnHNO3vKWt2TatGn9tluzZk06Ojp6fQAAGCGdnRuFjJ2Z3DtknCAqacz8LExnJlc5QKV73nR2Dm9hAACjZFwEjU8//
XSOP/74dHV15ZJLLhmw7YIFC1Iul3s+O+ywwwhVCQBA2tt7hYxJ0p6muoeM5XL3ncj10NTUPb6hqKTx2dvBqxqg8uwt5QAAE8yYDxrXh4wPPfRQfvSjHw14NWOSnHvuualUKj2fRx55ZIQqBQBgJKy/
A7lejztsaOge31DDRgAAuo3pZzSuDxnvv//+/PSnP82222476DBTpkzJlClTRqA6AACqsuS/
k8N6d2ppSZqbhza64Xinyrx5yQknDH6xYVtbH89vbLk3ae6qYQAAgIlpVIPGxx9/
PA888EDPz8uWLcvSpUszffr0zJo1K29+85tz55135gc/
+EHWrl2bRx99NEkyffr0bL755qNVNgAAtZg+faNOzc3JjBmjUMsAGhqGWFNzczLGvgsAwGgY1aDx9ttvzytf+cqen88+
++wkyUknnZSPfexj+d73vpckOeCAA3oN99Of/jRHHHHESJUJAAAAAAxiVIPGI444Il1d/
dxmkgzYDwAAAAAYO8b8y2AAAAAAgLFP0AgAAAAAFCZoBAAAAAAKEzQCAAAAAIUJGgEAAACAwgSNAAAAAEBhgkYAAAAAoDBBIwAAAABQmKARAAAAAChM0AgAAAAAFCZoBAAAAAAKEzQCAAAAAIUJGgEAAACAwgSNAAAAAEBhgkYAAAAAoDBBIwAAAABQmKARAAAAAChM0AgAAAAAFCZoBAAAAAAKEzQCAAAAAIUJGgEAAACAwgSNAAAAAEBhgkYAAAAAoDBBIwAAAABQmKARAAAAAChM0AgAAAAAFCZoBAAAAAAKEzQCAAAAAIUJGgEAAACAwgSNAAAAAEBhgkYAAAAAoDBBIwAAAABQmKARAAAAAChM0AgAAAAAFCZoBAAAAAAKEzQCAAAAAIUJGgEAAACAwgSNAAAAAEBhgkYAAAAAoDBBIwAAAABQmKARAAAAAChM0AgAAAAAFCZoBAAAAAAKEzQCAAAAAIUJGgEAAACAwgSNAAAAAEBhgkYAAAAAoDBBIwAAAABQmKARAAAAAChM0AgAAAAAFCZoBAAAAAAKaxjtAgAAmHg6MzntaUqStK2c2H/
bbmsbqGcpSXOSpCntacjaQQZ4RlNT0jBCp+qdnUl7+
+jXAQCMe84aAACoq6tzYuZnYSpp7O5w2KiWM+zmzBmob3OSFUmSclZlYeZn3sADdCuXk4ULk3nz6lFi/66+Opk/
P6lURrcOAGBCKHV1dXWNdhHDqaOjI+VyOZVKJdOmTRvtcgAAJrTO5SvSPHuzZ0PGfrS2JjNmjExN9bRiRTJz5tCHL2dV2tLcfWXjoI3L3Vc/
DtcVhZ2dSXNz/yHjSNUBAIx51eZrE/s+FgAARlT7qtKgIWO53H1H7njU1NRd/1BV0thzS/
ngjSv939JcD+3tg4eMI1EHADBhCBoBABgx6+/
EHa8XxzU0dNdfJGwEAJioxukpHgAA40XLkpVp3nN6konxbpF585ITTqjuIr+2tj6e4dhyb9Lcx9OL+mw8wlpauv8d7ToAgHFpnJ/
mAQAw1jVPXzcun8c4kIaGAs+YbG5Oxur8aG4e7QoAgHHMrdMAAAAAQGGCRgAAAACgMEEjAAAAAFCYoBEAAAAAKEzQCAAAAAAUJmgEAAAAAAoTNAIAAAAAhQkaAQAAAIDCBI0AAAAAQGGCRgAAAACgMEEjAAAAAFCYoBEAAAAAKEzQCAAAAAAUJmgEAAAAAAoTNAIAAAAAhQkaAQAAAIDCBI0AAAAAQGGCRgAAAACgMEEjAAAAAFCYoBEAAAAAKEzQCAAAAAAUJmgEAAAAAAoTNAIAAAAAhQkaAQAAAIDCBI0AAAAAQGGCRgAAAACgMEEjAAAAAFCYoBEAAAAAKEzQCAAAAAAUJmgEAAAAAAoTNAIAAAAAhQkaAQAAAIDCBI0AAAAAQGGCRgAAAACgMEEjAAAAAFCYoBEAAAAAKEzQCAAAAAAUJmgEAAAAAAoTNAIAAAAAhQkaAQAAAIDCBI0AAAAAQGGCRgAAAACgMEEjAAAAAFCYoBEAAAAAKEzQCAAAAAAUJmgEAAAAAAoTNAIAAAAAhQkaAQAAAIDCBI0AAAAAQGGCRgAAAACgMEEjAAAAAFDYqAaNP/
vZzzJ37tzMnj07pVIpixcv7tW/q6sr559/fmbNmpUtttgir3nNa3L//
fePTrEAAAAAQL9GNWh84okn8oIXvCBf/vKX++z/2c9+Nl/84hdz6aWX5he/
+EW22mqrvPa1r82TTz45wpUCAAAAAANpGM2JH3nkkTnyyCP77NfV1ZWLL744H/nIR/
KGN7whSXLllVfmec97XhYvXpwTTjhhJEsFANi0dXYm7e2Dt1vZnqR52MsZz9ra+utRyvp515T2NGTtxo2bmpKG+p7Cd2Zy2tP0nBoyeB19GYbaAIDxZcyeCSxbtiyPPvpoXvOa1/
R0K5fLeclLXpLbbrtN0AgAMFKuvjqZPz+pVKpo3JxkxXBXNK7NmdNfn2fnXTmrsjDzM2/
DxuVysnBhMm9eXWq5OidmfhamksZnilvfZ5A6+lLn2gCA8WfMvgzm0UcfTZI873nP69X9ec97Xk+/
vqxZsyYdHR29PgAADFFnZw0hI/
VSSWPmZ2E6M3mDHpXu5dHZWXganZ3pHTLWUkefjetXGwAwPo3ZoHGoFixYkHK53PPZYYcdRrskAIDxq729eMjY2FiXUsajpqbuC/2GopLGZ29p7tWjUt1t7INoX1UaMGQctI4+G9enNgBgfBqzQeN2222XJPnLX/7Sq/
tf/vKXnn59Offcc1OpVHo+jzzyyLDWCQDAIDbh5/
Y1NHTfTTzUsBEAYDwZs2d9u+yyS7bbbrv8+Mc/zgEHHJAk6ejoyC9+8Yucfvrp/
Q43ZcqUTJkyZYSqBADYBLW0JM39vPClrfSc5/yRdD+y8IQTBr/
Qr62tj+c3ttybZMVAD3asq5YlK5Pp0/
uuo7lr4wH6LBoA2FSNatD4+OOP54EHHuj5edmyZVm6dGmmT5+eHXfcMWeddVY+
+clPZo899sguu+ySj370o5k9e3aOOeaY0SsaAGBT19yczJgx2lWMKw0NQ5xlzc1J+gj4hknz9HV9vzS8uTmxyAGAQYxq0Hj77bfnla98Zc/
PZ599dpLkpJNOyuWXX54PfehDeeKJJ3Lqqadm1apVOeyww3L99ddn6tSpo1UyAAAAANCHUQ0ajzjiiHR19f8X2lKplE984hP5xCc+MYJVAQAAAAC1GrMvgwEAAAAAxg9BIwAAAABQmKARAAAAAChM0AgAAAAAFCZoBAAAAAAKEzQCAAAAAIUJGgEAAACAwgSNAAAAAEBhgkYAAAAAoDBBIwAAAABQmKARAAAAAChM0AgAAAAAFCZoBAAAAAAKEzQCAAAAAIUJGgEAAACAwgSNAAAAAEBhgkYAAAAAoDBBIwAAAABQmKARAAAAAChM0AgAAAAAFCZoBAAAAAAKEzQCAAAAAIUJGgEAAACAwgSNAAAAAEBhgkYAAAAAoDBBIwAAAABQmKARAAAAAChM0AgAAAAAFCZoBAAAAAAKEzQCAAAAAIUJGgEAAACAwgSNAAAAAEBhgkYAAAAAoDBBIwAAAABQmKARAAAAAChM0AgAAAAAFCZoBAAAAAAKEzQCAAAAAIUJGgEAAACAwgSNAAAAAEBhgkYAAAAAoDBBIwAAAABQmKARAAAAAChM0AgAAAAAFCZoBAAAAAAKEzQCAAAAAIUJGgEAAACAwgSNAAAAAEBhgkYAAAAAoDBBIwAAAABQmKARAAAAACisYbQLAABgjOnsTNrbu//
f1tbdKZPTnqZnupX6HfSZ5tRJ9/wsJWlOkjSlPQ1ZO/iAz12G/
VnZ3jPe6uroq0cftRVZCZqakga/ogDAeOUoDgDAs66+Opk/P6lUnu2UEzM/
C1NJY3eHOaNT2qZozpykO8hbkSQpZ1UWZn7mDTRQH8uwb8+Ot7o6Bh5HT239Nx5cuZwsXJjMG/
AbAgBjVKmrq6trtIsYTh0dHSmXy6lUKpk2bdpolwMAMHZ1dibNzb0Cqs5MTnPang0Zh6C1NZkxow71TXArViQzZw7erpxVafvz02mY1cdM7WMZ9ju9NGfmBkFja0tb0txcVR391pbm6q667Hck5e6rIl3ZCABjRrX5mmc0AgDQrb19o4CqPU2FQsZyuftuWAbX1NQ9vwZTSWPaV/
Vz+3ofy7AmjY1V19FvbSm4wCuVwW/7BgDGJEEjAADDYv1dsC5Mq05DQ/
f8GmrIV68ixkQdAMC45LQPAID+Lfnv5LDenVpauu/
OHYz3etRu3rzkhBN6X9DX9vuVmXPY9KGPtL8F1lbq93mbfdXRl7a2Pp7f2HJv0lzD05n6HAkAMB459QMAoH/
TNw64mps9c3E4NTRsMH/
b1hUb4RAX2EZ11DS9IQwHAIx7bp0GAAAAAAoTNAIAAAAAhQkaAQAAAIDCBI0AAAAAQGGCRgAAAACgMEEjAAAAAFCYoBEAAAAAKEzQCAAAAAAUJmgEAAAAAAoTNAIAAAAAhQkaAQAAAIDCBI0AAAAAQGGCRgAAAACgMEEjAAAAAFCYoBEAAAAAKEzQCAAAAAAUJmgEAAAAAAoTNAIAAAAAhQkaAQAAAIDCBI0AAAAAQGGCRgAAAACgMEEjAAAAAFCYoBEAAAAAKEzQCAAAAAAUJmgEAAAAAAoTNAIAAAAAhQkaAQAAAIDCBI0AAAAAQGGCRgAAAACgMEEjAAAAAFCYoBEAAAAAKEzQCAAAAAAUNqSg8aqrrsqhhx6a2bNn56GHHkqSXHzxxfnud79b1+IAAAAAgPGh5qDxkksuydlnn53Xv/71WbVqVdauXZskaWxszMUXX1zv+gAAAACAcaDmoPFLX/
pSFi1alPPOOy+TJ0/
u6X7QQQflnnvuqWtxAAAAAMD4UHPQuGzZshx44IEbdZ8yZUqeeOKJuhQFAAAAAIwvNQeNu+yyS5YuXbpR9+uvvz577713PWoCAAAAAMaZhloHOPvss3PGGWfkySefTFdXV375y1/
mW9/6VhYsWJCvfvWrw1EjAAAAADDG1Rw0vvOd78wWW2yRj3zkI1m9enXe+ta3Zvbs2fnCF76QE044YThqBAAAAADGuJqDxiQ58cQTc+KJJ2b16tV5/
PHHM3PmzHrXBQAAAACMIzUHjcuWLUtnZ2f22GOPbLnlltlyyy2TJPfff38222yz7LzzzvWuEQAAAAAY42p+GczJJ5+cW2+9daPuv/
jFL3LyySfXoyYAAAAAYJypOWj89a9/
nUMPPXSj7occckifb6MGAAAAACa+moPGUqmUv/71rxt1r1QqWbt2bV2KAgAAAADGl5qDxpe//
OVZsGBBr1Bx7dq1WbBgQQ477LC6FgcAAAAAjA81vwzmM5/5TF7+8pdnr732yuGHH54kueWWW9LR0ZGf/
OQndS8QAAAAABj7ar6icc6cObn77rtz/PHHp7W1NX/961/
ztre9Lb/73e+y7777DkeNAAAAAMAYV/MVjUkye/
bsfOpTn6p3LQAAAADAOFVV0Hj33Xdn3333zaRJk3L33XcP2Hb//
fevS2EAAAAAwPhRVdB4wAEH5NFHH83MmTNzwAEHpFQqpaura6N2pVLJm6cBAAAAYBNUVdC4bNmyzJgxo+f/
AAAAAADPVVXQuNNOO/X8/3nPe16mTp06bAU919q1a/
Oxj30sV199dR599NHMnj07J598cj7ykY+kVCqNSA0AAAAAwOBqfhnMzJkzc+yxx2bevHl59atfnUmTan5xddU+85nP5JJLLskVV1yRffbZJ7fffntOOeWUlMvlnHnmmcM2XQAAAACgNjUHjVdccUWuueaavOENb0i5XM4//
uM/Zt68eTnooIPqXtytt96aN7zhDfmHf/iHJMnOO++cb33rW/
nlL39Z92kBAIy6zs6kvX3j7k1NSUNDdW37aj9Q2+dqa+tunslpT1N3p5XD90dlCli5Mlmx8TPT+1qGaev7TqBnmtZdzeNtKyVpTpI0pT0N8cx3ABivag4ajz322Bx77LH561//
mm9/+9v51re+lUMOOSS77rpr5s2bl/PPP79uxb3sZS/LZZddlt///
vfZc889c9ddd2XJkiX5/Oc/X7dpAACMCVdfncyfn1QqG/
crl5OFC5N58wZvu2H7wdpuWEZOzPwsTCWN3R0Oq/2rMAIOOzRJ34neRstwzohV1T25mqfXnGRFkqScVVmY+ZlX76IAgBFR6urr9dE1amlpyYknnpi77767rm+dXrduXf7lX/4ln/3sZzN58uSsXbs2F154Yc4999x+h1mzZk3WrFnT83NHR0d22GGHVCqVTJs2rW61AQDUTWdn0tw8cBhYLj97qdhgbde3/8tfkuc9r+qQsTOT05y2ZwOqfrS2Js+8J5ARsOLetsyc09yrW2tmZEYfQWO1y7A/
tS7bFSuSmTOHNKl+lbMqbX9+Og2zrGQAMFZ0dHSkXC4Pmq8N+V6YJ598Mv/xH/
+RY445Ji984QuzcuXKfPCDHxzq6Pr0H//xH/
nmN7+Za665JnfeeWeuuOKKXHTRRbniiiv6HWbBggUpl8s9nx122KGuNQEA1F17+
+BhYKXS3a6atuvbP/
hg1SFjkrSnadCAqlzuvjObEdTYWHXTapZhf4aybJuauoerp0oa077Kix8BYDyq+dbpG264Iddcc00WL16choaGvPnNb86NN96Yl7/85XUv7oMf/
GA+/OEP54QTTkiS7LfffnnooYeyYMGCnHTSSX0Oc+655+bss8/u+Xn9FY0AABSz/
o7sDR8XyTAbgRk+1GXb0NA9XA135wMAE9iQntE4d+7cXHnllXn961+fzTbbbDjqSpKsXr16o7daT548OevWret3mClTpmTKlCnDVhMAwIi45Zbk8MOra9vS0v1vNQ/
Ha2npvvW6L22ljZ7n99zmfb2ThlHScm/
S3NfLYAZehv0psmznzUtOOKG69w31pe33KzPnsOlDGxgAGFNqOp3o7OzMZz7zmRx33HHZbrvthqumHnPnzs2FF16YHXfcMfvss09+/
etf5/Of/3ze/va3D/u0AQBG1fQagpfBUqQN29bwEL4amzNSmpuTKpfLSCzDhoYC02jr/
yICAGB8qekZjQ0NDTnnnHN6vWxlOH3pS1/Km9/85rznPe/
J3nvvnQ984AN597vfnQsuuGBEpg8AAAAAVKfmGyQOPvjg/PrXv85OO+00HPX0ss022+Tiiy/
OxRdfPOzTAgAAAACGruag8T3veU/e//73549//
GNe9KIXZautturVf//9969bcQAAAADA+FBz0Lj+DdBnnnlmT7dSqZSurq6USqWsXbu2ftUBAAAAAONCzUHjsmXLhqMOAAAAAGAcqzloHIlnMwIAAAAA40tNb51e76qrrsqhhx6a2bNn56GHHkqSXHzxxfnud79b1+IAAAAAgPGh5qDxkksuydlnn53Xv/71WbVqVc8zGRsbG70dGgAAAAA2UTUHjV/60peyaNGinHfeeZk8eXJP94MOOij33HNPXYsDAAAAAMaHmoPGZcuW5cADD9yo+5QpU/
LEE0/UpSgAAAAAYHypOWjcZZddsnTp0o26X3/99dl7773rURMAAAAAMM7U/
Nbps88+O2eccUaefPLJdHV15Ze//
GW+9a1vZcGCBfnqV786HDUCAAAAAGNczUHjO9/5zmyxxRb5yEc+ktWrV+etb31rZs+enS984Qs54YQThqNGAAAAAGCMqzloTJITTzwxJ554YlavXp3HH388M2fOrHddAAAAAMA4UvMzGv/2t79l9erVSZItt9wyf/
vb33LxxRfnxhtvrHtxAAAAAMD4UHPQ+IY3vCFXXnllkmTVqlU5+OCD87nPfS5veMMbcskll9S9QAAAAABg7Ks5aLzzzjtz+OGHJ0m+/
e1vZ7vttstDDz2UK6+8Ml/84hfrXiAAAAAAMPbVHDSuXr0622yzTZLkxhtvzBvf+MZMmjQphxxySB566KG6FwgAAAAAjH01B4277757Fi9enEceeSQ33HBD/
v7v/z5J0trammnTptW9QAAAAABg7Ks5aDz//
PPzgQ98IDvvvHNe8pKX5KUvfWmS7qsbDzzwwLoXCAAAAACMfQ21DvDmN785hx12WJYvX54XvOAFPd1f/
epX59hjj61rcQAAAADA+FBz0Jgk2223Xbbbbrte3Q4+
+OC6FAQAAAAAjD813zoNAAAAALAhQSMAAAAAUJigEQAAAAAoTNAIAAAAABQ2pJfB3H///
fnpT3+a1tbWrFu3rle/888/vy6FAQAAAADjR81B46JFi3L66aenubk52223XUqlUk+/
UqkkaAQAAACATVDNQeMnP/
nJXHjhhTnnnHOGox4AAAAAYByq+RmN7e3tOe6444ajFgAAAABgnKo5aDzuuONy4403DkctAAAAAMA4VfOt07vvvns+
+tGP5uc//3n222+/
bLbZZr36n3nmmXUrDgAAAAAYH2oOGi+77LJsvfXWufnmm3PzzTf36lcqlQSNAAAAALAJqjloXLZs2XDUAQAAAACMYzU/
oxEAAAAAYENVXdF49tln54ILLshWW22Vs88+e8C2n//85+tSGAAAAAAwflQVNP7617/
O008/3fP//pRKpfpUBQAAAACMK1UFjT/96U/7/
D8AAAAAQOIZjQAAAABAHQgaAQAAAIDCBI0AAAAAQGGCRgAAAACgsJqCxqeffjpvf/
vbs2zZsuGqBwAAAAAYh2oKGjfbbLP83//7f4erFgAAAABgnKr51uljjjkmixcvHoZSAAAAAIDxqqHWAfbYY4984hOfyH//93/
nRS96Ubbaaqte/
c8888y6FQcAAAAAjA81B41f+9rX0tjYmDvuuCN33HFHr36lUknQCAAAAACboJqDRi+CAQAAAAA2VPMzGtd76qmnct9996Wzs7Oe9QAAAAAA41DNQePq1avzjne8I1tuuWX22WefPPzww0mS9773vfn0pz9d9wIBAAAAgLGv5qDx3HPPzV133ZWbbropU6dO7en+mte8Jtddd11diwMAAAAAxoean9G4ePHiXHfddTnkkENSKpV6uu+zzz558MEH61ocAAAAADA+1HxF44oVKzJz5syNuj/
xxBO9gkcAAAAAYNNR8xWNBx10UP7zP/8z733ve5OkJ1z86le/
mpe+9KX1rQ4AYBPSmclpT1P3DysnJ2lOkjSlPQ1Zm7S19d22bf0fezdov3LlAG039pzRM8b1t6wmzDJcuTJZ0fXsz01NSUPNv7oAACOs5qP1pz71qRx55JFpaWlJZ2dnvvCFL6SlpSW33nprbr755uGoEQBgwrs6J2Z+FqaSxu4OhyfJiiRJOauyMPMzb86cvtvOWT+WDdoffvgAbRnP5kz05XjYoUmek5qWy8nChcm8eaNWEgAwuJpvnT7ssMOydOnSdHZ2Zr/99suNN96YmTNn5rbbbsuLXvSi4agRAGBC6+xM7zBwA5U0Zn4WpjOT05nJA7Z9bvs12XzQtjAuVCrJ/
PndGwsAMGYN6f6D3XbbLYsWLap3LQAAm6T2VaVBw8BKGntuf64mOKykMQ9mt0IhY7ncfccqo6upqXtZVCq1DzsulmFjY3XtKpWkvT2ZMWNYywEAhm5IQePatWvzne98J/
fee2+SZM6cOXnDG96QBs9NAQCYENbfqer0bvQ1NHQvi/nzawsbx80yHPMFAgDVqvmo/tvf/
jZHH310Hn300ey1115Jks985jOZMWNGvv/972ffffete5EAAJuaW77XnsOP3uBStJbuP/
Ju+JzFlpZnOm/43L5bljzzrMfebZubB5+
+d2+MLfPmJSec0H1BX7XG9TJsuTfJik3gYZQAMLHUfOrxzne+M/
vss09uv/32ND1zH0Z7e3tOPvnknHrqqbn11lvrXiQAwKZmelPXxh37SQj7DQ6nT+
+zrTtPx6eGhk1o2TU3J+ljGwAAxrSag8alS5f2ChmTpKmpKRdeeGFe/
OIX17U4AAAAAGB8qPmt03vuuWf+8pe/bNS9tbU1u++
+e12KAgAAAADGl6qCxo6Ojp7PggULcuaZZ+bb3/52/vjHP+aPf/
xjvv3tb+ess87KZz7zmeGuFwAAAAAYg6q6dbqxsTGlUqnn566urhx//
PE93bq6up+fMnfu3Kxdu3YYygQAAAAAxrKqgsaf/
vSnw10HAAAAADCOVRU0vuIVrxjuOgAAAACAcazmt04nyZNPPpm77747ra2tWbduXa9+Rx99dF0KAwAAAADGj5qDxuuvvz5ve9vb0tbWtlG/
UqnkGY0AAAAAsAmq6q3Tz/Xe9743xx13XJYvX55169b1+ggZAQAAAGDTVHPQ+Je//
CVnn312nve85w1HPQAAAADAOFRz0PjmN785N9100zCUAgAAAACMVzU/
o3HhwoU57rjjcsstt2S//fbLZptt1qv/
mWeeWbfiAAAAAIDxoeag8Vvf+lZuvPHGTJ06NTfddFNKpVJPv1KpJGgEAAAAgE1QzUHjeeedl49//
OP58Ic/nEmTar7zGgAAAACYgGpOCp966qn84z/
+o5ARAAAAAOhRc1p40kkn5brrrhuOWgAAAACAcarmW6fXrl2bz372s7nhhhuy//77b/
QymM9//vN1Kw4AAAAAGB9qDhrvueeeHHjggUmS3/
zmN736PffFMAAAAADApqPmoPGnP/3pcNQBAAAAAIxj3ugCAAAAABRW8xWNr3zlKwe8RfonP/
lJoYIAAAAAgPGn5qDxgAMO6PXz008/naVLl+Y3v/lNTjrppHrVBQAAAACMIzUHjf/+7//eZ/
ePfexjefzxxwsXBAAAAACMP3V7RuO8efPy9a9/
vV6jAwAAAADGkboFjbfddlumTp1ar9EBAAAAAONIzbdOv/
GNb+z1c1dXV5YvX57bb789H/3oR+tWGAAAAAAwftQcNJbL5V4/T5o0KXvttVc+8YlP5O///
u/rVhgAAAAAMH7UHDR+4xvfGI46AAAAAIBxrOagcb2nnnoqra2tWbduXa/
uO+64Y+GiAAAAAIDxpeag8fe//33e8Y535NZbb+3VvaurK6VSKWvXrq1bcQAAAADA+FBz0HjKKaekoaEhP/
jBDzJr1qyUSqXhqAsAAAAAGEdqDhqXLl2aO+64I3/3d383HPUAAAAAAOPQpFoHmDNnTtra2oajFgAAAABgnKo5aPzMZz6TD33oQ7npppvy2GOPpaOjo9cHAAAAANj01Hzr9Gte85okyatf/
epe3b0MBgAAAAA2XTUHjT/96U+How4AAAAAYByrOWh8xSteMRx1AAAAAADjWM3PaAQAAAAA2JCgEQAAAAAoTNAIAAAAABQmaAQAAAAACqs5aHzVq16VVatWbdS9o6Mjr3rVq+pREwAAAAAwztQcNN5000156qmnNur+5JNP5pZbbqlLUQAAAADA+NJQbcO777675/8tLS159NFHe35eu3Ztrr/
++my//
fb1rQ4AAAAAGBeqDhoPOOCAlEqllEqlPm+R3mKLLfKlL32prsUBAAAAAOND1UHjsmXL0tXVlV133TW//
OUvM2PGjJ5+m2+
+eWbOnJnJkycPS5EAAAAAwNhWddC40047JUnWrVs3bMUAAAAAAONT1UHjc91///356U9/
mtbW1o2Cx/
PPP78uhQEAAAAA40fNQeOiRYty+umnp7m5Odttt11KpVJPv1KpJGgEAAAAgE1QzUHjJz/5yVx44YU555xzhqMeAAAAAGAcmlTrAO3t7TnuuOOGoxYAAAAAYJyqOWg87rjjcuONNw5HLX3605/
+lHnz5mXbbbfNFltskf322y+33377iE0fAAAAABhczbdO77777vnoRz+an//859lvv/2y2Wab9ep/5pln1q249vb2HHrooXnlK1+ZH/7wh5kxY0buv//
+NDU11W0aAAAAAEBxNQeNl112WbbeeuvcfPPNufnmm3v1K5VKdQ0aP/
OZz2SHHXbIN77xjZ5uu+yyS93GD0wwnZ1Je3v17Zuakoaad4MAo6atrbb2K1cOTx0w3LrX9VKS5iRJU9rTkLUbbwSO5QAwptR8VF62bNlw1NGn733ve3nta1+b4447LjfffHO23377vOc978m73vWuEasBGCeuvjqZPz+pVKofplxOFi5M5s0bvroA6mjOnNraH3748NQBw617XW9OsiJJUs6qLMz8zNtwI3AsB4AxpeZnNK731FNP5b777ktnZ2c96+nlf/7nf3LJJZdkjz32yA033JDTTz89Z555Zq644op+h1mzZk06Ojp6fYAJrrOz9pAx6W4/
f3738ADAmFVJY+ZnYTozeYMejuUAMJbUHDSuXr0673jHO7Lllltmn332ycMPP5wkee9735tPf/
rTdS1u3bp1eeELX5hPfepTOfDAA3PqqafmXe96Vy699NJ+h1mwYEHK5XLPZ4cddqhrTcAY1N5ee8i4XqVS2+3WACOkqbEr5fLg7crl7rtHm5oyaPv1bWEsqWbdTbrDxvb0sQI7lgPAmFFz0Hjuuefmrrvuyk033ZSpU6f2dH/
Na16T6667rq7FzZo1K3M2uD1i77337gk3+6uvUqn0fB555JG61gQAMBIaJndl4cKBA5j1d402NHR/
Bmr/3LYwlgy27gIA40fNp5qLFy/Oddddl0MOOSSlUqmn+z777JMHH3ywrsUdeuihue++
+3p1+/3vf5+ddtqp32GmTJmSKVOm1LUOYBxqaUmamzfu3tZW+0POAEbJvHnJCSf0f7HWhu/
BGKi9d2YwlvW17vZ5yG65N8kKx3IAGKNqPt1csWJFZs6cuVH3J554olfwWA/
ve9/78rKXvSyf+tSncvzxx+eXv/
xlLrvsslx22WV1nQ4wATU3JzNmjHYVAIU1NNS2O6u1PYwVVa27zc1JukaiHABgCGq+dfqggw7Kf/7nf/
b8vD5c/OpXv5qXvvSl9assyYtf/OJ85zvfybe+9a3su++
+ueCCC3LxxRfnxBNPrOt0AAAAAIBiar6i8VOf+lSOPPLItLS0pLOzM1/4whfS0tKSW2+9NTfffHPdCzzqqKNy1FFH1X28AAAAAED91HxF42GHHZalS5ems7Mz+
+23X2688cbMnDkzt912W170ohcNR40AAAAAwBg3pEeC77bbblm0aFG9awEAAAAAxqmag8aOjo4+u5dKpUyZMiWbb7554aIAAAAAgPGl5qCxsbFxwLdLP//5z8/
JJ5+cf/3Xf82kSTXfmQ0AAAAAjEM1B42XX355zjvvvJx88sk5+OCDkyS//OUvc8UVV+QjH/
lIVqxYkYsuuihTpkzJv/zLv9S9YAAAAABg7Kk5aLziiivyuc99Lscff3xPt7lz52a//
fbLV77ylfz4xz/
OjjvumAsvvFDQCAAAAACbiJrvbb711ltz4IEHbtT9wAMPzG233Zak+83UDz/8cPHqAAAAAIBxoeagcYcddsjXvva1jbp/7Wtfyw477JAkeeyxx9LU1FS8OgAAAABgXKj51umLLrooxx13XH74wx/
mxS9+cZLk9ttvz+9+97t8+9vfTpL86le/yj/+4z/Wt1IAAAAAYMyqOWg8+uijc9999+UrX/
lK7rvvviTJkUcemcWLF2fnnXdOkpx++ul1LRIAAAAAGNtqDhqTZOedd86CBQs26v6b3/wm+
+67b+GiAAAAAIDxpeZnNG7or3/9ay677LIcfPDBecELXlCPmgAAAACAcWbIQePPfvaznHTSSZk1a1YuuuiivOpVr8rPf/7zetYGAAAAAIwTNd06/
eijj+byyy/P1772tXR0dOT444/
PmjVrsnjx4syZM2e4agQAAAAAxriqr2icO3du9tprr9x99925+OKL8+c//
zlf+tKXhrM2AAAAAGCcqPqKxh/+8Ic588wzc/rpp2ePPfYYzpoAAAAAgHGm6isalyxZkr/
+9a950YtelJe85CVZuHBh2trahrM2AAAAAGCcqDpoPOSQQ7Jo0aIsX7487373u3Pttddm9uzZWbduXX70ox/
lr3/963DWCQAAAACMYTW/dXqrrbbK29/+9ixZsiT33HNP3v/
+9+fTn/50Zs6cmaOPPno4agQAAAAAxriag8bn2muvvfLZz342f/zjH/
Otb32rXjUBAAAAAONMoaBxvcmTJ+eYY47J9773vXqMDgAAAAAYZ+oSNAIAAAAAmzZBIwAAAABQmKARAAAAAChM0AgAAAAAFCZoBAAAAAAKEzQCAAAAAIUJGgEAAACAwgSNAAAAAEBhgkYAAAAAoDBBIwAAAABQmKARAAAAAChM0AgAAAAAFCZoBAAAAAAKEzQCAAAAAIUJGgEAAACAwgSNAAAAAEBhgkYAAAAAoDBBIwAAAABQmKARAAAAAChM0AgAAAAAFCZoBAAAAAAKEzQCAAAAAIUJGgEAAACAwgSNAAAAAEBhgkYAAAAAoDBBIwAAAABQmKARAAAAAChM0AgAAAAAFCZoBAAAAAAKEzQCAAAAAIU1jHYBMC51dibt7cMz7qampGECbJoDzaNqv2O187mtrbt5Jqc9Tc90K/
XTtpSkubuMtKcha3uGr7k+YOyqxz5oOG1Y38r2rN83Af3rPmT3cSyHkTLWjy8Ao8xeEGp19dXJ/
PlJpTI84y+Xk4ULk3nzhmf8I2GweVTNd6xxPl+dEzM/
C1NJY3eHOf21bE6yoruMrMrCzM+8ORs0ngjLADZl9dgHDac+63t23wT0r/
uQ3cexfDSLYtMx1o8vAGNAqaurq2u0ixhOHR0dKZfLqVQqmTZt2miXw3jX2Zk0Nw9fyLheudz9J/
vx+BfRaufRQN+xxvncmclpTtuzIWMNylmVtjRvfDXEeF4GsCmrxz5oOPVT34o0Z+YGQWNrS1tm7O0qRzZdK1YkM2cO3q6cVWn789NpmDVj+Iti0zXWjy8Aw6zafM0zGqEW7e3DHzIm3dMYrluzh1u182ig71jjfG5P05BCxiSppPHZ262rrQ8Yu+qxDxpOtezfGhuHtRQY65qaujObwVTSmPZV/
TwyBeplrB9fAMYIQSMAwFjkahg2cQ0N3XehVhM2AgBjgzNYKKqlpfs2iiLa2tY/dGhiamnp/
rfIdxxoPreVNnomY3/
N+5zVLfcmWTGxlwFsyuqxDxpOLS1JZgzwbFnYdM2bl5xwQu8LxNp+vzJzDps+ekXBemP9+AIwCgSNUFRzczLDM4EGVDSIXT+OGuZzTc2bm5NM6MfVwqatHvug4dTcHG+chv41NGxwTG9bN2q1QC9j/
fgCMArcOg0AAAAAFCZoBAAAAAAKEzQCAAAAAIUJGgEAAACAwgSNAAAAAEBhgkYAAAAAoDBBIwAAAABQmKARAAAAAChM0AgAAAAAFCZoBAAAAAAKEzQCAAAAAIUJGgEAAACAwgSNAAAAAEBhgkYAAAAAoDBBIwAAAABQmKARAAAAAChM0AgAAAAAFCZoBAAAAAAKEzQCAAAAAIUJGgEAAACAwgSNAAAAAEBhgkYAAAAAoDBBIwAAAABQmKARAAAAAChM0AgAAAAAFCZoBAAAAAAKEzQCAAAAAIUJGgEAAACAwgSNAAAAAEBhgkYAAAAAoDBBIwAAAABQmKARAAAAAChM0AgAAAAAFCZoBAAAAAAKEzQCAAAAAIUJGgEAAACAwgSNAAAAAEBhgkYAAAAAoDBBIwAAAABQmKARAAAAAChM0AgAAAAAFCZoBAAAAAAKEzQCAAAAAIUJGgEAAACAwgSNAAAAAEBhgkYAAAAAoDBBIwAAAABQmKARAAAAAChM0AgAAAAAFCZoBAAAAAAKEzQCAAAAAIWNq6Dx05/
+dEqlUs4666zRLgUAAAAAeI5xEzT+6le/yle+8pXsv//
+o10KAAAAALCBhtEuoBqPP/54TjzxxCxatCif/OQnR7scNiWdnUl7+7M/
t7V1d87ktKfpmW6l4tNpKyVpTpI0pT0NWdszrR5NTUnDGN1knzufBpxHg3zH9Wqcz/2Nplrdww+yDMby/
Ac2MqR9UNHtfMNjRl/62b8V3I0BK1cmK7q6/1/Lttzfduu4T02/
B9R4DlnN8eK5xvL6ONB3Gct1A8Onaxx429ve1nXWWWd1dXV1db3iFa/o+ud//
ueqh61UKl1JuiqVyjBVx4R11VVdXeVyV1fS63NVTuwqp33DznX7lNPedVVO7KNHubumsaaP+TTYPOr3O9ZxPre29l1ua+sQl8FYnf9Ab62tQ98HFdnO+zlmFNm/9bcfg01da8uKjbeXNNe+LQ+03Trub9qG+HtAVeeQNRwvxvz6ONh3Gat1A0NSbb5W6urq6hrtsHMg1157bS688ML86le/
ytSpU3PEEUfkgAMOyMUXX9xn+zVr1mTNmjU9P3d0dGSHHXZIpVLJtGnTRqhqxr3OzqS5OalUenfO5DSnLZU0Duvky1mVtjR3/0W0V49y919Ix8pfBvuYT9XOo36/
Yw3jGEhrazJjxsbdV6xIZs4cfPg+6xtr8x/YSOfyFWmevdnQ90FD2c77OWb02bSG/Vt/
+zHY1K24ty0z5zT36taaGZnx3GuDB9uWq9luHfc3TQV/
DxjwHDKp+nix8YjH2PpY7bFvrNUNDFlHR0fK5fKg+dqYfkbjI488kn/+53/
ON7/5zUydOrWqYRYsWJByudzz2WGHHYa5Siak9vY+D5rtaRr2kDFJKml89paMXj0qtd1mMdz6mE/
VzqN+v2MN4+hPudx9p0Zfmpq6+w+pvrE2/4GNtK8qFdsHDWU77+eY0WfTKvdvA+3HYJPX2Dh4m8G25Wq2W8f9TVPB3wMGPIes4Xix8YjH2PpY7XcZa3UDw25MB4133HFHWltb88IXvjANDQ1paGjIzTffnC9+8YtpaGjI2rUbXwl17rnnplKp9HweeeSRUagcGC3lcrJwYf9/
NG1o6O5fTdgIMBoG24/BJs/GAQBj1pg+Sr/61a/OPffc06vbKaeckr/7u7/
LOeeck8mTJ280zJQpUzJlypSRKpFNSUtLkhnJnI07Nzf3OUTV2tqSORuMNy33JlnRR48xbsl/
J4f17tTS0v1vn9+xuY+nN7SVhjyfq3nm9Lx5yQknbPx8743qW/
LfyWF7DT5RYExrWbIymT59ZPez/e20qti/eXY+DEE9jtm33JIcfnh96mFiGeD3gKTgOWS/
x4u+Tk7HuH5nCLApGdOnsdtss0323XffXt222mqrbLvttht1h2HX3Jz1b5TbsPOwPEOruTnJmH6Eat+mT9+oU78BYXNzUuW8q/
d8bmioYnx9fBdg/
Gmevq6v3ffw7mdr2GkN23EENiX1OGY77tOfAX4P6FMt69JEOggUvfoCmBDG9K3TAAAAAMD4MKavaOzLTTfdNNolAAAAAAAbcEUjAAAAAFCYoBEAAAAAKEzQCAAAAAAUJmgEAAAAAAoTNAIAAAAAhQkaAQAAAIDCBI0AAAAAQGGCRgAAAACgMEEjAAAAAFCYoBEAAAAAKEzQCAAAAAAUJmgEAAAAAAoTNAIAAAAAhQkaAQAAAIDCBI0AAAAAQGGCRgAAAACgMEEjAAAAAFCYoBEAAAAAKEzQCAAAAAAUJmgEAAAAAAoTNAIAAAAAhQkaAQAAAIDCBI0AAAAAQGGCRgAAAACgMEEjAAAAAFCYoBEAAAAAKEzQCAAAAAAUJmgEAAAAAAoTNAIAAAAAhQkaAQAAAIDCBI0AAAAAQGGCRgAAAACgMEEjAAAAAFCYoBEAAAAAKEzQCAAAAAAUJmgEAAAAAAoTNAIAAAAAhQkaAQAAAIDCBI0AAAAAQGGCRgAAAACgMEEjAAAAAFCYoBEAAAAAKEzQCAAAAAAUJmgEAAAAAAoTNAIAAAAAhQkaAQAAAIDCBI0AAAAAQGGCRgAAAACgMEEjAAAAAFCYoBEAAAAAKEzQCAAAAAAU1jDaBcCI6+xM2tsHbtPW1t00k9Oepme6ldI2zKVtXEIpSXOSpCntacjantp6NDUlDXXelKuZR88W2Ws+ta2s/
u8XG36VwbqPtO7vssH8B8ae5+6zVrZn/
XY7mKr3s9WNaKNjxgBNgTrr85g90AbX13a7cvLg4xiO8y6K6e+8tZZl9dxx1OH3gMHWx2qOF93dCx6fiqhy/
vX9XZw/
F1Lt72LrjeX90kDfpWjdE2k+TTRdE1ylUulK0lWpVEa7FMaCq67q6iqXu7qSQT9X5cSuctoHbdraWrys1tbBSyqnveuqnNhHj3L396qXGuZRtfOptbW67zjc83kgg9XXM/
+HuxCgNhvss1rTvPH+o2VFsf1sHY8Zo7F/
g4mm6mN2ge12xM67KGag89Zql1Uf46jl94Ba18ehHC+KHJ+G/Bls/rW2DvpdnD8PQY2/
i43p/
dJg36VI3RNpPo0j1eZrpa6urq7RDjuHU0dHR8rlciqVSqZNmzba5TCaOjuT5uakUhm8aSanOW2ppHHQtq2tyYwZxUpbsSKZOXPwduWsSluaN/7LYLnc/
RfOon+hqWEeJdXPp9bW7n+r+Y4DjaPofB5INcugnFVp+/
PTaZg1jIUA1etjn7UizZmZFb2atba0Jc3NxfazA5VRwzGjL8O9f4OJpupj9gDbcjXb7bCfd1FMNeetgy2rPsZR6+8BSfXrY5IhHy+GcnwqbID517l8RZpnbzbod3H+XIMafxfrZaztl6r9LkOpeyLNp3Gm2nzNMxrZdLS3V70zak9TVScA5XL3FdhFNTV1j2swlTQ+e2tCrx6V2i4b708N8yipbj6tn0fVfseBxjGcqqmvksa0r+rn9hZg5FW7z2psLL6fHaiMKo8ZfRmJ/
RtMNFUfswfYlqvZbof9vItiqjkGDLas+hhHrb8H1LI+FjleDOX4VNgA8699Vamq7+L8uQY1/
i7Wy1jbL1X7XYZS90SaTxOUoBGGqFxOFi6szx9DGhq6xzXUIG6seu48Gup3rOd8HshEXQZAkoaGMbmNj9T+DSaasbg9s2mpxzkuwETl1JZNW0tL92XXG2orJXMGblrvZ8nOm5eccELvP7C0tSVzNqgjLfcmWdFHj2HS3zxKBp1PG86jvr7jYEbymb0b1tf2+5WZc9j0kZk4UB9L/
js5rO9eNe1nm2t4skwVx4y+eCY5DN1Gx+xat+U+tttbbkkOP7yPcYzkeRfF9LkQa9THcWSw3wOqXh+Tqo8XdTk+1arPiVavZcnKJHH+XE81rSBjXEtL97/
DUfdEmk8TgNNbNm3NzVU/GKuGpkPW0FDFNJqbk4zgo1Vr/OKDNa/
qO46iXvW1rRvVWoAhmD7wLzdV72cL7qdG4pgBm7pBt+cat+U+dx8jfd5FMYMcA4Y6jmr26VWtj/10rvp4UYfj03Bqnu7cue4m0gnFYH+BLTruiTKfJgC3TgMAAAAAhQkaAQAAAIDCBI0AAAAAQGGCRgAAAACgMEEjAAAAAFCYoBEAAAAAKEzQCAAAAAAUJmgEAAAAAAoTNAIAAAAAhQkaAQAAAIDCBI0AAAAAQGGCRgAAAACgMEEjAAAAAFCYoBEAAAAAKEzQCAAAAAAUJmgEAAAAAAoTNAIAAAAAhQkaAQAAAIDCBI0AAAAAQGGCRgAAAACgMEEjAAAAAFCYoBEAAAAAKEzQCAAAAAAUJmgEAAAAAAoTNAIAAAAAhQkaAQAAAIDCBI0AAAAAQGGCRgAAAACgMEEjAAAAAFCYoBEAAAAAKEzQCAAAAAAUJmgEAAAAAAoTNAIAAAAAhQkaAQAAAIDCBI0AAAAAQGGCRgAAAACgMEEjAAAAAFCYoBEAAAAAKEzQCAAAAAAUJmgEAAAAAAoTNAIAAAAAhQkaAQAAAIDCBI0AAAAAQGGCRgAAAACgMEEjAAAAAFCYoBEAAAAAKEzQCAAAAAAUJmgEAAAAAAoTNAIAAAAAhQkaAQAAAIDCBI0AAAAAQGGCRgAAAACgsDEdNC5YsCAvfvGLs80222TmzJk55phjct999412WQAAAADABhpGu4CB3HzzzTnjjDPy4he/
OJ2dnfmXf/mX/P3f/31aWlqy1VZbjXZ51ENnZ9Le3ne/
pqakoaH69oNpa+seRSanPU3PdCsN1HRM6q6tlKQ5SdKU9jRkbe+i+5p3/
XnuPK1hHj2nOQV0PtmZ9mWr+uzXtEtjGqaO6d00o6W/
fWEt2/4E8tx9VtvK4n9DrXXfZl8IY9NA22a1221V5139qfVcdsP2tZ4nj0e1HM82bNvXeevKyRl0WfUx7nofR/
pSj2PFsB9v2mpY11e297Qd1MqVyYqugdtMlHW6FtWs0/39LlbNshqueVrDdtv3dxnC/
vS56j2f+rIpro/11DWOtLa2diXpuvnmm6seplKpdCXpqlQqw1gZQ3LVVV1d5XJXV9L3p1zublNt+yo+V+XErnLahzR4a+vIz6LW1sHrKqe966qcOPC8608f87TIPBqt+TRcWltWbPz9WlbUbfxXnbakq5xVAyzbVV1XnbakbtNjghhoX1jttj9RtLZWtc8aaL9UzX52U98XwnhQj235t78d4nlXv43LtZ3LPrd9refJ41Etx7N+2g50DOh3WT133HU4jvSllvWxv3EP1/
Gp2s9g63prmjf+Li0r+j5/
TnPt28tEN4R1uuZlNRzztNrttoptq6b96XDOJ+tj1arN10pdXV1do5x1Vu2BBx7IHnvskXvuuSf77rtvn23WrFmTNWvW9Pzc0dGRHXbYIZVKJdOmTRupUhlMZ2fS3JxUKgO3K5ef/
YtDNe0HmmQmpzltqaRxSMO3tiYzZgx58kOyYkUyc+bg7cpZlbY0d/+FpqfjM/Ouv7/
E9LEMis6jZHTm03BZcW9bZs7p/Zfa1pa2zNi7yr/eDqDzyc40b/
FEKikP2K6cStr+tpUrG+lWzb5zsG1/
AulcviLNszcbdJ810H6p2v1srSbSvhDGg3psy7/9bbLPPoO36/O8q9/
GNZ7LlsvJX/6SPO951Z8nj8f9fS3Hs6TPttWct/
a7rJ4Zd+eK9sLHkb7Usj72N+7hOj7VYqB1fUWaMzMrenVrbeleXhudP2dGZqSKq8jG8zpdi37W/
yK/
iw22rtdlntaw3Va7bdW0P11fxnDMpz4bbyLrYw06OjpSLpcHzdfG9DMan2vdunU566yzcuihh/
YbMibdz3Usl8s9nx122GEEq6Rq7e3VhYaVSnfbatsPNMk0DTlAK5e7r54eaU1N3dMeTCWNz1423tOxMvBt5n3M0yLzKBm9+TQetS9bNWjImCSVlPu9tZpNUDX7wsG2/
QmkfVVp8BPYQfZL1e5na2FfCCOv6LZcLie77VbgvKvfxjWey1YqyYMP1naePB7Vcjzrp2015639Lqtnxl2P40hfql0fBxr3cByfalXTup4kjY3dnyFPcByv07UosE73Z7B1vS5q2G6r2baSIaxjGab51GfjTWR9HAbjJmg844wz8pvf/
CbXXnvtgO3OPffcVCqVns8jjzwyQhUyUZXLycKFo/
OHjIaG7mmP9klGNUZzPgH0pZr9Ur33s/
aFMDqKbMvrt9spU8bPeRcjY6j79GrWx8HGPZ5+D+jR0OAACIztl8GsN3/+/PzgBz/
Iz372szz/
+c8fsO2UKVMyZcqUEaqMumpp6f53zpzq2zfXcAtrWynZYNTVjGK0nwM7b15ywgkbPyd4o9m05L+Tw/
YqNrEl/50c1rtTtbN5tOfTRNDy/
QeTJHPm7jbKlTCu3HJLcvjho13FmNGyZGWa95yepPr9Ul/72aGyL4TRM9Rt+bnbbdXnXS33Js19PIGqz8b9qOXct9bz5PGoluNZS0uSGRud2/
c5ipZ7k6yoet4N5TjSl8HWx2rGXc/jUzVqW9c3/t2qX/XYXia6ftbp/
n4X63dZ1bCu10UN223LkpXJ9OnVr2P9qeH3+mHbfzOgMX0q3NXVlfe+9735zne+k5tuuim77LLLaJfEcKolNFzfvuADsOowihHR0FBFndOnF59QH+MYL/
NoImjebTz9yZoxox7b/
gTSPH3dkPZZVe1ngTGvHttyVeNobk6K7jNqOfet9Tx5PKrleNbcnL7eeNznKJqbk1QfYgz1ONKXEVsfh1O91nXH2IH1s07X9LtYjet6XdSw3TZPX9f3i8rrsH7UPJ+sj8NqTAeNZ5xxRq655pp897vfzTbbbJNHH300SVIul7PFFluMcnUAAAAAwHpj+hmNl1xySSqVSo444ojMmjWr53PdddeNdmkAAAAAwHOM6Ssau7pG+LJfAAAAAGBIxvQVjQAAAADA+CBoBAAAAAAKEzQCAAAAAIUJGgEAAACAwgSNAAAAAEBhgkYAAAAAoDBBIwAAAABQmKARAAAAAChM0AgAAAAAFCZoBAAAAAAKEzQCAAAAAIUJGgEAAACAwgSNAAAAAEBhgkYAAAAAoDBBIwAAAABQmKARAAAAAChM0AgAAAAAFCZoBAAAAAAKEzQCAAAAAIUJGgEAAACAwgSNAAAAAEBhgkYAAAAAoDBBIwAAAABQmKARAAAAAChM0AgAAAAAFCZoBAAAAAAKEzQCAAAAAIUJGgEAAACAwgSNAAAAAEBhgkYAAAAAoDBBIwAAAABQmKARAAAAAChM0AgAAAAAFCZoBAAAAAAKEzQCAAAAAIUJGgEAAACAwgSNAAAAAEBhgkYAAAAAoDBBIwAAAABQmKARAAAAAChM0AgAAAAAFCZoBAAAAAAKEzQCAAAAAIUJGgEAAACAwgSNAAAAAEBhgkYAAAAAoDBBIwAAAABQmKARAAAAAChM0AgAAAAAFCZoBAAAAAAKaxjtAqifziefTPuyZYXH07TLLmmYOnVYxt1j5cru8WZSVqWxu9vvH3um5/
QkSWNWpSHrkt///
tk6NmzfVvMke2mrYfixpK+6f/9ge9r6mnf9fck+lsHKB1cm6Rp0WpuKtpWPZaP58eCDSVYMOmxf21FtOpO0bzTN4uMtru77gwKGa34M9B3HwjJ4MpOybP2+8MFK1u83d8mqTM26IY93KMt2OOZHtXW0PVjJRtvoyseSFV19DwAwBH2ed/
V3irXysdR0Lpts3P7BBwdtW+3+fjSO2bUcF/o7nlUz7/o4te/zfP/3v0/
a0vdyaWufHMeRZ9Wyrtfyu1XN20udfwEZC+duvbbFfn4X7mud7m9W9Lus+lnXB5un9d5u+922svG2Vesir2Xdq8v+
+zmNa8lKtt1jj0xq2EQjt64JrlKpdCXpqlQqo13KsLrqtNO6yt1bbeFPOem66rTThmXcPj6byqec3tvRhlpbVnQlXb0+rS0rnul+VVdSHtJ4h9tY2x8Mx/
wY7DuO6jJobe06LS/rSqb1U9+0rtPysq6u1taaRz3UZVvv+THW1jEfHx+fsfkZfH8/
WvvTcqo4Lgx6PPPxqd+nHOfPdZlHttuaspLWlpZhXrNGXrX5Wqmrq6srE1hHR0fK5XIqlUqmTZs22uUMi84nn0zzFlukUsdxlpO0/
e1vSVL3ccOmYv121NdfB1fc25aZc5p7dWttaUtnZ2dm7/93yQBb3UDjHU7Dsa+ph3rOj2q/42gtgycfWZ4tdvy7JB0DtJqWvz38u0zdYVbV4y26bOs1P8bqOgYwNvW/
vx/t/
elgx4XqjmdQP86fB2e7rU61WUlrS0tm7L33iNU1EqrN1zyjcQJoX7as7juuyjPjHY5xw6Zi/
XZUi1WlrgwUMg51vPUwVvcH9Zwf1X7H0VoGyx6uZPCTu45n2lWv6LKt1/
wYq+sYwNjU//5+tPengx0XqjueQf04fx6c7bY6spLBCRoBxpLJm+hzPAAAABj3/EY7QbV8//
tp3m23qtu3Pfhg5sydOyzj7nN6K0uZc9i2vbotWdL972GHbTC9Jd0Pv+6r/
fTpQ5t+Y2MyEZ7L2tmZrFrV/f+VK/ued83T+346Qn/
LYP08nSjzqIi2tmTOnN7dBpynNWxHtfjel7+Zo884se7jrYd67A9qNVzzuT8t3/9+kozoNGvx5fOuyxkX/
mPdxzvQsh3JZTBgHX3sx1pakubmPpsDFPLc867+9Hc+lvR9Lpts3P6W77Xn8KObNmrb/
ocHMnfey2ot+9k6hvGYXY/jwlVfvi3/dEbv+qr9PWDD89YNl1Uty8VxpLp1/
bn6+r2hyPbS37l2LUb6fLEWS67+rxw276De3QZZp/tT7bre1zwd6e32udtWretYf4Y6n/
rS736i/
YEhZSXb7rFHVcNMRJt4jDBxNe+227A9D6Au4+7jpb177tnP9Pac0Wf3PfdMZvTda5My65nH8qzoY5427zmj/3nUzzIwTwc24DwdJk077DSyE6zBcO5rxoqRDlJr9fztthmW8Y6VZTtgHX3t95rtx4DhM2uQx9/2dz7Wl/7OfafvtnH7Pfdc/
zbZoRsr+/X+7LzD9CS9v3uR3wOeu6xqWS6OI90GW9frMY6af3+ZIKbvvEs2XNeL/
B5Wzbo+XPO0lu12w22rHutYLYa8/26rPvge6/
vZkeLWaQAAAACgMEEjAAAAAFCYoBEAAAAAKEzQCAAAAAAUJmgEAAAAAAoTNAIAAAAAhQkaAQAAAIDCBI0AAAAAQGGCRgAAAACgMEEjAAAAAFCYoBEAAAAAKEzQCAAAAAAUJmgEAAAAAAoTNAIAAAAAhQkaAQAAAIDCBI0AAAAAQGGCRgAAAACgMEEjAAAAAFCYoBEAAAAAKEzQCAAAAAAUJmgEAAAAAAoTNAIAAAAAhQkaAQAAAIDCBI0AAAAAQGGCRgAAAACgMEEjAAAAAFCYoBEAAAAAKEzQCAAAAAAUJmgEAAAAAAoTNAIAAAAAhQkaAQAAAIDCBI0AAAAAQGGCRgAAAACgMEEjAAAAAFCYoBEAAAAAKEzQCAAAAAAUJmgEAAAAAAoTNAIAAAAAhQkaAQAAAIDCBI0AAAAAQGGCRgAAAACgMEEjAAAAAFCYoBEAAID/
v717j7GqvPsF/
h1AxRZmuA9MBEEF6amAVGVqa42thEsT35dqL9rWADE2NUAOomm1saDpxdT+Qy1a0yYt/
aMYe1PfNqc2jQU8bai0WEs4eUU70Vcb7tABwSDKzPmDQh2Zgdms2bP3zHw+yQ7D2ms/89vP2s961v7O3msBQGGCRgAAAACgMEEjAAAAAFCYoBEAAAAAKEzQCAAAAAAUJmgEAAAAAAoTNAIAAAAAhQkaAQAAAIDCBI0AAAAAQGGCRgAAAACgsB4RND700EMZP358Bg4cmMbGxmzcuLHSJQEAAAAA7zCg0gWczmOPPZZly5blkUceSWNjY1auXJnZs2dn69atGTVqVKXLq5i3j7ydl/789yTJvldeOen+Pftqkt2db2/
PvpqTlr343Mntnknb7baxpzzr0tap+k6/nplT9mkH46i95fteOZCk9V2P35t971qWJP/c3/
l2y6kr9jVdoZR+LlWHz7EdldgGTZv/p0vXO67UbVuubVByHfZjQA9Q6r5q377Or9vR/
r675+xS54XOzlPl3M+bQ6pTV22Xch4vlqK9sbjvn937ea+O+rQnjtvutmdPkjPMSoYPT/
r1iI/2db2a1tbWk9/
VVpHGxsZcccUVWbVqVZKkpaUlY8eOzZIlS3LXXXed9vEHDhxIXV1d9u/fn9ra2nKX223+
+48v5H9d9b5TrLErycgSWtydpLPBbaltd7LVXcf+7Wx+vGtXMrLry+ixdu/
ufN91RJ+2VXqfljKOSvH/kry/DO12hfLsD06tXP3ckX/tnLr1d3bek9/9P/
nPJR8vQ8un2rbduQ1Ke43ZjwGVVMqxQynHvrt2JXtePN3x/2lbSfnm7OLzwv/9r635yH9M6tS6pe7rS90u5pHu0RXvX07Reqr12K29sdhVr7vS+rS6x21367jvziwrqfbneyY6m69Vdb565MiRbNq0KTNnzjyxrF+/
fpk5c2Y2bNjQ7mPefPPNHDhwoM0NAAAAACivqg4a9+zZk6NHj6a+vr7N8vr6+uzYsaPdx9x///2pq6s7cRs7dmx3lFpl6pIMLfExQ//1uHK03YlW65KhQ4/
d6jpRxvH1+bfO9l1H9OnJSu/Tzo6jUtQlubAM7XaF8uwPTq8c/
dyR48+xO39nKWpzzWc+nKSrP7F/um3bXf1R2mvMfgyotFKPZTuz/
vF1J0wbnzPf35d7zi46L9Rm+tXjyvY+wHuM6lT0/
ctpWk91HrudPBa78nVXWp9W97jtbh33XWWzkp6oqoPGM3H33Xdn//79J26vvfZapUvqZnVJVqX0028O+NfjTjWAzrTtU6urS1atSgYMOHZbterUO8d3rs+/
dabvOqJP21d6n3ZmHJXi+Jg7p4vb7Qrl2R90Tlf3c0fe+Ry763eWojZf/Nj/
Tu3IY/92XdjYmW3bHf1R2mvMfgyoBqUey55u/
XeuO3DQwDPc33fHnF1kXjg2j723bmDZ3gd4j1Gdirx/6UTrqb5jt5PHYle/7krr0+oet92t476rXFbSU1X1ORqPHDmS97znPfn5z3+eefPmnVg+f/78NDc358knnzxtG731HI3vvBjMOw0ZNz4DBg4883YPH07zq6+0e1/
RtjsydOjJO523307++c/Or8+/narvOqJPT63UPj3VOGrPkHF1GTCw7QZ4+
+0kGZoB79gwpbZbTuXaH5Si3P3R3nOspm0wYdr4DBz07/
oOHzycl//2SuF2S9m25eyPUl9j9mNANSn1WLaj9dtbt9T9fXfO2WcyL7x7Pivn+wDvMarTmbx/6XTbVXTs1t5YLNfrrpQ+rfZx2906ei6lZiW98WIwnc3XqjpoTI5dDGbGjBn57ne/
m+TYxWDGjRuXxYsX9+mLwQAAAABAd+hsvlb1ufKyZcsyf/78XH755ZkxY0ZWrlyZQ4cOZeHChZUuDQAAAAD4l6oPGj/
zmc9k9+7dWb58eXbs2JFLL700Tz311EkXiAEAAAAAKqfqvzpdlK9OAwAAAMCZ62y+1stOTQkAAAAAVIKgEQAAAAAoTNAIAAAAABQmaAQAAAAAChM0AgAAAACFCRoBAAAAgMIEjQAAAABAYYJGAAAAAKAwQSMAAAAAUJigEQAAAAAoTNAIAAAAABQmaAQAAAAAChM0AgAAAACFCRoBAAAAgMIEjQAAAABAYYJGAAAAAKAwQSMAAAAAUJigEQAAAAAoTNAIAAAAABQmaAQAAAAAChM0AgAAAACFCRoBAAAAgMIEjQAAAABAYYJGAAAAAKAwQSMAAAAAUJigEQAAAAAoTNAIAAAAABQmaAQAAAAAChM0AgAAAACFCRoBAAAAgMIEjQAAAABAYYJGAAAAAKAwQSMAAAAAUJigEQAAAAAobEClCyi31tbWJMmBAwcqXAkAAAAA9DzHc7XjOVtHen3Q+PrrrydJxo4dW+FKAAAAAKDnev3111NXV9fh/
TWtp4sie7iWlpZs27YtgwcPTk1NTaXL6XIHDhzI2LFj89prr6W2trbS5UCfZ0xCdTEmoboYk1A9jEeoLtU+JltbW/
P666+noaEh/
fp1fCbGXv+Jxn79+uW8886rdBllV1tbW5UvROirjEmoLsYkVBdjEqqH8QjVpZrH5Kk+yXici8EAAAAAAIUJGgEAAACAwgSNPdw555yTFStW5Jxzzql0KUCMSag2xiRUF2MSqofxCNWlt4zJXn8xGAAAAACg/
HyiEQAAAAAoTNAIAAAAABQmaAQAAAAAChM0AgAAAACFCRp7uIceeijjx4/
PwIED09jYmI0bN1a6JOiT7r333tTU1LS5TZ48udJlQZ/
xzDPP5LrrrktDQ0NqamryxBNPtLm/
tbU1y5cvz5gxY3Luuedm5syZeemllypTLPRypxuPCxYsOGnOnDNnTmWKhT7g/
vvvzxVXXJHBgwdn1KhRmTdvXrZu3dpmncOHD2fRokUZPnx4Bg0alBtuuCE7d+6sUMXQu3VmTF5zzTUnzZVf/
OIXK1RxaQSNPdhjjz2WZcuWZcWKFXnuuecybdq0zJ49O7t27ap0adAnvf/978/27dtP3P7whz9UuiToMw4dOpRp06bloYceavf+Bx54IA8+
+GAeeeSRPPvss3nve9+b2bNn5/Dhw91cKfR+pxuPSTJnzpw2c+ajjz7ajRVC37J+/
fosWrQof/rTn/K73/0ub731VmbNmpVDhw6dWOf222/Pr371q/zsZz/L+vXrs23btlx//
fUVrBp6r86MySS59dZb28yVDzzwQIUqLk1Na2tra6WL4Mw0NjbmiiuuyKpVq5IkLS0tGTt2bJYsWZK77rqrwtVB33LvvffmiSeeyPPPP1/
pUqDPq6mpyeOPP5558+YlOfZpxoaGhtxxxx258847kyT79+9PfX19Vq9enRtvvLGC1ULv9u7xmBz7RGNzc/
NJn3QEusfu3bszatSorF+/PldffXX279+fkSNHZs2aNfnkJz+ZJHnhhRfyvve9Lxs2bMgHP/
jBClcMvdu7x2Ry7BONl156aVauXFnZ4s6ATzT2UEeOHMmmTZsyc+bME8v69euXmTNnZsOGDRWsDPqul156KQ0NDbngggvyuc99Lq+
++mqlSwKSvPzyy9mxY0ebObOuri6NjY3mTKiQdevWZdSoUbn44otz2223Ze/evZUuCfqM/
fv3J0mGDRuWJNm0aVPeeuutNvPk5MmTM27cOPMkdIN3j8njfvKTn2TEiBG55JJLcvfdd+eNN96oRHklG1DpAjgze/
bsydGjR1NfX99meX19fV544YUKVQV9V2NjY1avXp2LL74427dvz3333ZePfOQj2bJlSwYPHlzp8qBP27FjR5K0O2cevw/
oPnPmzMn111+fCRMmpKmpKV/5ylcyd+7cbNiwIf379690edCrtbS0ZOnSpfnwhz+cSy65JMmxefLss8/
OkCFD2qxrnoTya29MJslnP/vZnH/++WloaMjmzZvz5S9/OVu3bs0vf/
nLClbbOYJGgC4wd+7cEz9PnTo1jY2NOf/88/
PTn/40t9xySwUrA4Dq8s7TFUyZMiVTp07NhRdemHXr1uXaa6+tYGXQ+y1atChbtmxxLnGoEh2NyS984Qsnfp4yZUrGjBmTa6+9Nk1NTbnwwgu7u8yS+Op0DzVixIj079//
pCuB7dy5M6NHj65QVcBxQ4YMyaRJk/L3v/
+90qVAn3d8XjRnQnW64IILMmLECHMmlNnixYvz61//
OmvXrs155513Yvno0aNz5MiRNDc3t1nfPAnl1dGYbE9jY2OS9Ii5UtDYQ5199tm57LLL8vTTT59Y1tLSkqeffjpXXnllBSsDkuTgwYNpamrKmDFjKl0K9HkTJkzI6NGj28yZBw4cyLPPPmvOhCrwj3/8I3v37jVnQpm0trZm8eLFefzxx/
P73/8+EyZMaHP/
ZZddlrPOOqvNPLl169a8+uqr5kkog9ONyfYcv+hoT5grfXW6B1u2bFnmz5+fyy+/
PDNmzMjKlStz6NChLFy4sNKlQZ9z55135rrrrsv555+fbdu2ZcWKFenfv39uuummSpcGfcLBgwfb/
IX35ZdfzvPPP59hw4Zl3LhxWbp0ab7+9a9n4sSJmTBhQr761a+moaGhzZVwga5xqvE4bNiw3HfffbnhhhsyevToNDU15Utf+lIuuuiizJ49u4JVQ+
+1aNGirFmzJk8+
+WQGDx584ryLdXV1Offcc1NXV5dbbrkly5Yty7Bhw1JbW5slS5bkyiuvdMVpKIPTjcmmpqasWbMmH//4xzN8+PBs3rw5t99+e66+
+upMnTq1wtWfXk1ra2trpYvgzK1atSrf/
va3s2PHjlx66aV58MEHT3ykFug+N954Y5555pns3bs3I0eOzFVXXZVvfOMbVX/
+DOgt1q1bl49+9KMnLZ8/f35Wr16d1tbWrFixIt///vfT3Nycq666Kg8//
HAmTZpUgWqhdzvVePze976XefPm5a9//
Wuam5vT0NCQWbNm5Wtf+9pJF2wCukZNTU27y3/0ox9lwYIFSZLDhw/
njjvuyKOPPpo333wzs2fPzsMPP+yr01AGpxuTr732Wj7/
+c9ny5YtOXToUMaOHZtPfOITueeee1JbW9vN1ZZO0AgAAAAAFOYcjQAAAABAYYJGAAAAAKAwQSMAAAAAUJigEQAAAAAoTNAIAAAAABQmaAQAAAAAChM0AgAAAACFCRoBACi7BQsWZN68eZUuAwCAMhpQ6QIAAOjZampqTnn/
ihUr8p3vfCetra3dVBEAAJUgaAQAoJDt27ef+Pmxxx7L8uXLs3Xr1hPLBg0alEGDBlWiNAAAupGvTgMAUMjo0aNP3Orq6lJTU9Nm2aBBg0766vQ111yTJUuWZOnSpRk6dGjq6+vzgx/8IIcOHcrChQszePDgXHTRRfnNb37T5ndt2bIlc+fOzaBBg1JfX5+bb745e/
bs6eZnDABAewSNAABUxI9//OOMGDEiGzduzJIlS3LbbbflU5/6VD70oQ/
lueeey6xZs3LzzTfnjTfeSJI0NzfnYx/7WKZPn56//
OUveeqpp7Jz5858+tOfrvAzAQAgETQCAFAh06ZNyz333JOJEyfm7rvvzsCBAzNixIjceuutmThxYpYvX569e/
dm8+bNSZJVq1Zl+vTp+eY3v5nJkydn+vTp+eEPf5i1a9fmxRdfrPCzAQDAORoBAKiIqVOnnvi5f//
+GT58eKZMmXJiWX19fZJk165dSZK//
e1vWbt2bbvne2xqasqkSZPKXDEAAKciaAQAoCLOOuusNv+vqalps+z41axbWlqSJAcPHsx1112Xb33rWye1NWbMmDJWCgBAZwgaAQDoET7wgQ/
kF7/4RcaPH58BAxzGAgBUG+doBACgR1i0aFH27duXm266KX/+85/
T1NSU3/72t1m4cGGOHj1a6fIAAPo8QSMAAD1CQ0ND/
vjHP+bo0aOZNWtWpkyZkqVLl2bIkCHp189hLQBApdW0tra2VroIAAAAAKBn86dfAAAAAKAwQSMAAAAAUJigEQAAAAAoTNAIAAAAABQmaAQAAAAAChM0AgAAAACFCRoBAAAAgMIEjQAAAABAYYJGAAAAAKAwQSMAAAAAUJigEQAAAAAoTNAIAAAAABT2/
wE1cB2DkeKEjQAAAABJRU5ErkJggg==",
      "text/plain": [
       "<figure size="" 1600x1200="" with="" 1="" axes="">"
      ]
     },
     "metadata": {},
     "output_type": "display_data"
    }
   ],
   "source": [
    "fig, axes = plt.subplots(figsize=(16, 12))\n",
    "counts = ['ag_in_sys','ag_in_queue','ag_in_service']\n",
    "labels = ['system', 'queue', 'service']\n",
    "colors = ['red', 'blue', 'black']\n",
    "\n",
    "for i in range(3):\n",
    "    mm1_bench.plot(y= counts[i], \n",
    "                   use_index=True, ax=axes, 
linewidth=3,drawstyle='steps-mid', color=f'{colors[i]}',\n",
    "                   ylabel=f'Agent number in {labels[i]}', 
xlabel='Time')"
   ]
  },
  {
   "cell_type": "code",
   "execution_count": 748,
   "id": "aaa33cb7",
   "metadata": {},
   "outputs": [
    {
     "data": {
      "image/png": 
"iVBORw0KGgoAAAANSUhEUgAABRoAAAPbCAYAAAAzQTcAAAAAOXRFWHRTb2Z0d2FyZQBNYXRwbG90bGliIHZlcnNpb24zLjcuMSwgaHR0cHM6Ly9tYXRwbG90bGliLm9yZy/
bCgiHAAAACXBIWXMAAA9hAAAPYQGoP6dpAAC4xElEQVR4nOzdeXhU9f328XsSIGxZ2EImC4uIEJBNNlGqiJSlFQUN1LoBWq0UQYwLpJoAhkUUKVasCFXQ1oWChVqtKFUWKZuAQfkBEXlSMGFCxEomgRIgM88fNCNDMsmczJnMTPJ+XVcuOPs9Z842n/
meORan0+kUAAAAAAAAAPggLNABAAAAAAAAAIQ+Co0AAAAAAAAAfEahEQAAAAAAAIDPKDQCAAAAAAAA8BmFRgAAAAAAAAA+o9AIAAAAAAAAwGcUGgEAAAAAAAD4jEIjAAAAAAAAAJ/
VC3QAf3M4HDp27JgiIyNlsVgCHQcAAAAAAAAIKU6nU0VFRYqPj1dYmOd2i7W+0Hjs2DElJSUFOgYAAAAAAAAQ0r799lslJiZ6HF7rC42RkZGSLqyIqKioAKcBAAAAAAAAQovdbldSUpKrzuZJrS80lt0uHRUVRaERAAAAAAAAqKaqfpaQh8EAAAAAAAAA8BmFRgAAAAAAAAA+o9AIAAAAAAAAwGe1/
jcaAQAAAAAA4B9Op1Pnz59XaWlpoKPAB+Hh4apXr16Vv8FYFQqNAAAAAAAAMOzs2bOy2Ww6ffp0oKPABI0bN5bValWDBg2qPQ8KjQAAAAAAADDE4XAoJydH4eHhio+PV4MGDXxuDYfAcDqdOnv2rL777jvl5OSoY8eOCgur3q8tUmgEAAAAAACAIWfPnpXD4VBSUpIaN24c6DjwUaNGjVS/
fn0dOXJEZ8+eVcOGDas1Hx4GAwAAAAAAgGqpbss3BB8z3ku2BgAAAAAAAAA+o9AIAAAAAAAAwGcUGgEAAAAAAACTbNy4URaLRSdPngx0lBoX0ELj5s2bNXLkSMXHx8tisWjt2rUex33wwQdlsVi0aNGiGssHAAAAAAAAGHHNNdfIZrMpOjo60FFqXEALjadOnVKPHj300ksvVTremjVrtH37dsXHx9dQMgAAAAAAAMC4Bg0aKC4uThaLJdBRalxAC40jRozQ7NmzNXr0aI/
j5OXlafLkyXrzzTdVv379GkwHAAAAAACA2mjdunUaOHCgYmJi1KJFC9100006fPiwa/
jWrVvVs2dPNWzYUH369NHatWtlsViUlZVV5bwvvXV6xYoViomJ0UcffaTk5GQ1bdpUw4cPl81m8yrrxo0b1a9fPzVp0kQxMTG69tprdeTIEf373/9WWFiYdu3a5Tb+okWL1LZtWzkcDv3www+688471apVKzVq1EgdO3bU8uXLvV5PRtXz25xN4HA4dPfdd+vxxx9X165dvZqmpKREJSUlrm673e6veAAAAKhpq1ZJGRlSUZF/5h8ZKWVmSikp/
pk/
AAC1XZ8+Un5+zS83Lk66pOBWmVOnTik1NVXdu3dXcXGxMjIyNHr0aGVlZam4uFgjR47Uz372M7311ls6cuSIpk6d6lO806dPa8GCBfrTn/6ksLAw3XXXXXrsscf05ptvVjrd+fPnNWrUKN1///16+
+23dfbsWe3cuVMWi0Vt27bVkCFDtHz5cvXp08c1zfLlyzV+/HiFhYUpPT1d+/
fv14cffqiWLVvqm2++0X//+1+fXktlgrrQOH/
+fNWrV09Tpkzxepp58+Zp1qxZfkwFAACAgMnIkA4e9O8y0tMpNAIAUF35+VJeXqBTVOm2225z637ttdfUqlUr7d+/
X1u2bJHFYtGyZcvUsGFDdenSRXl5ebr//
vurvbxz585pyZIl6tChgyTpoYce0tNPP13ldHa7XYWFhbrppptc0yYnJ7uG/
+pXv9KDDz6ohQsXKiIiQnv27NFXX32lv/3tb5Kko0ePqlevXq5CZLt27ar9GrwRtIXG3bt364UXXtCePXsM3dOelpam1NRUV7fdbldSUpI/
IgIAAKCmlbVkDAuTrFZz522zSQ6H/1pLAgBQF8TFhcRyDx06pIyMDO3YsUMnTpyQw+GQdKEwl52dre7du6thw4au8fv16+dTvMaNG7sKhZJktVpVUFBQ5XTNmzfX+PHjNWzYMP30pz/
VkCFDNHbsWFn/dx00atQoTZo0SWvWrNHtt9+uFStW6IYbbnAVFCdOnKjbbrtNe/
bs0dChQzVq1Chdc801Pr2WygRtofGzzz5TQUGB2rRp4+pXWlqqRx99VIsWLdK///3vCqeLiIhQREREDaUEAABAQFitUm6uufNMTAyJFhgAAAQ1A7cvB9LIkSPVtm1bLVu2TPHx8XI4HLryyit19uxZvyzv0ueOWCwWOZ1Or6Zdvny5pkyZonXr1mnlypV66qmntH79el199dVq0KCB7rnnHi1fvly33nqr3nrrLb3wwguuaUeMGKEjR47oH//4h9avX68bb7xRkyZN0oIFC0x9fWUC+jCYytx999368ssvlZWV5fqLj4/
X448/ro8++ijQ8QAAAAAAABCCvv/
+e2VnZ+upp57SjTfeqOTkZP3www+u4Z06ddJXX33l9gyQzz//
PBBRXXr16qW0tDRt3bpVV155pd566y3XsF/96lf65z//
qT/84Q86f/68br31VrdpW7VqpXHjxunPf/6zFi1apKVLl/
otZ0BbNBYXF+ubb75xdefk5CgrK0vNmzdXmzZt1KJFC7fx69evr7i4OHXq1KmmowIAAAAAAKAWaNasmVq0aKGlS5fKarXq6NGjmj59umv4HXfcoSeffFIPPPCApk+frqNHj7paABr5eT8z5OTkaOnSpbr55psVHx+v7OxsHTp0SPfcc49rnOTkZF199dWaNm2a7r33XjVq1Mg1LCMjQ71791bXrl1VUlKi999/3+03Hs0W0BaNu3btUq9evdSrVy9JUmpqqnr16qWMjIxAxgIAAAAAAEAtFRYWpnfeeUe7d+/
WlVdeqUceeUTPPfeca3hUVJT+/ve/KysrSz179tSTTz7pqlVd/
LuNNaFx48Y6ePCgbrvtNl1xxRV64IEHNGnSJP361792G++++
+7T2bNnde+997r1b9CggdLS0tS9e3ddd911Cg8P1zvvvOO3vBantzeEhyi73a7o6GgVFhYqKioq0HEAAADgi7LfUUxI8N9vNPpj3gAA1DJnzpxRTk6O2rdvX+PFt0B48803NWHCBBUWFrq1GAwWmZmZWrVqlb788stqz6Oy99Tb+lrQPgwGAAAAAAAACIQ33nhDl112mRISErR3715NmzZNY8eODboiY3Fxsf79739r8eLFmj17dqDjBO/
DYAAAAAAAAIBAyM/P11133aXk5GQ98sgjGjNmjOshKg8+
+KCaNm1a4d+DDz5oeFme5tW0aVN99tlnlU770EMPqXfv3ho0aFC526YDgVunAQAAEDq4dRoAgKBQ126dvlhBQYHsdnuFw6KiohQbG2tofhc/
KPlSCQkJNdaKklunAQAAAAAAgBoUGxtruJhYmcsvv9y0eQUat04DAAAAAACgWmr5jbJ1ihnvJYVGAAAAAAAAGFK/
fn1J0unTpwOcBGYpey/
L3tvq4NZpAAAAAAAAGBIeHq6YmBgVFBRIkho3biyLxRLgVKgOp9Op06dPq6CgQDExMQoPD6/2vCg0AgAAAAAAwLC4uDhJchUbEdpiYmJc72l1UWgEAAAAAACAYRaLRVarVbGxsTp37lyg48AH9evX96klYxkKjQAAAAAAAKi28PBwU4pUCH0UGgEAAFAzVq2SMjKkoqLqz8NmMy9PZctITKx6vMhIKTNTSknxfyYAAIAQQKERAAAANSMjQzp40Jx5RUaaM5+K5ulwSHl53k2Tnk6hEQAA4H8oNAIAAKBmlLVkDAuTrNbqz6esJaHZMjMvFA69aXFps10oSPrSOhMAAKCWodAIAACAmmW1Srm5gU5RXkqK960TExO9b/
UIAABQR4QFOgAAAAAAAACA0EehEQAAAAAAAIDPKDQCAAAAAAAA8BmFRgAAAAAAAAA+o9AIAAAAAAAAwGcUGgEAAAAAAAD4jEIjAAAAAAAAAJ9RaAQAAAAAAADgMwqNAAAAAAAAAHxGoREAAAAAAACAzyg0AgAAAAAAAPBZQAuNmzdv1siRIxUfHy+LxaK1a9e6hp07d07Tpk1Tt27d1KRJE8XHx+uee+7RsWPHAhcYAAAAAAAAQIUCWmg8deqUevTooZdeeqncsNOnT2vPnj1KT0/
Xnj179Ne//lXZ2dm6+eabA5AUAAAAAAAAQGXqGZ3gzJkzevHFF7VhwwYVFBTI4XC4Dd+zZ4/
X8xoxYoRGjBhR4bDo6GitX7/erd/ixYvVr18/
HT16VG3atDEaHQAAAAAAAICfGC403nffffr444+VkpKifv36yWKx+CNXhQoLC2WxWBQTE+NxnJKSEpWUlLi67XZ7DSQDAACAm1WrpIwMqajox342W+Dy+IvNJiUmejduZKSUmSmlpPg3EwAAQIAYLjS+//77+sc//
qFrr73WH3k8OnPmjKZNm6Zf/
vKXioqK8jjevHnzNGvWrBpMBgAAgHIyMqSDByseFhlZs1n8oew1OBxSXp7306WnU2gEAAC1luFCY0JCgiJr+OLw3LlzGjt2rJxOp15+
+eVKx01LS1Nqaqqr2263Kykpyd8RAQAAcLGyloxhYZLV+mP/
slZ9oS4z80LR8OIWm5Wx2S4UJb0dHwAAIAQZLjQ+//
zzmjZtmpYsWaK2bdv6I5ObsiLjkSNH9Omnn1bamlGSIiIiFBER4fdcAAAA8ILVKuXmBjqF+VJSjLVMTEw01vIRAAAgBBkuNPbp00dnzpzRZZddpsaNG6t+/
fpuw//zn/+YFq6syHjo0CFt2LBBLVq0MG3eAAAAAAAAAMxjuND4y1/
+Unl5eZo7d65at27t08NgiouL9c0337i6c3JylJWVpebNm8tqtSolJUV79uzR+++/
r9LSUuXn50uSmjdvrgYNGlR7uQAAAAAAAADMZbjQuHXrVm3btk09evTweeG7du3SDTfc4Oou+23FcePGaebMmXrvvfckST179nSbbsOGDRo0aJDPywcAAAAAAABgDsOFxs6dO+u///2vKQsfNGiQnE6nx+GVDQMAAAAAAAAQPMKMTvDMM8/
o0Ucf1caNG/X999/Lbre7/
QEAAAAAAACoewy3aBw+fLgk6cYbb3Tr73Q6ZbFYVFpaak4yAAAAAAAAACHDcKFxw4YN/
sgBAAAAAAAAIIQZLjRef/31/sgBAAAAAAAAIIQZ/o1GSfrss89011136ZprrlFeXp4k6U9/
+pO2bNliajgAAAAAAAAAocFwofHdd9/
VsGHD1KhRI+3Zs0clJSWSpMLCQs2dO9f0gAAAAAAAAACCn+FC4+zZs7VkyRItW7ZM9evXd/
W/9tprtWfPHlPDAQAAAAAAAAgNhguN2dnZuu6668r1j46O1smTJ83IBAAAAAAAACDEGC40xsXF6ZtvvinXf8uWLbrssstMCQUAAAAAAAAgtBguNN5///16+OGHtWPHDlksFh07dkxvvvmmHnvsMU2cONEfGQEAAAAAAAAEuXpGJ5g+fbocDoduvPFGnT59Wtddd50iIiL02GOPafLkyf7ICAAAANQONpuUmFj1eJGRUmamlJLi/0yrVkkZGVJRUWBzAACAkGdxOp3O6kx49uxZffPNNyouLlaXLl3UtGlTs7OZwm63Kzo6WoWFhYqKigp0HAAAgLohMVHKy5MSEqTc3ECnCbzkZOngQWPTdO4sHTjgnzwXqypbTeUAAABBy9v6muFbp+
+9914VFRWpQYMG6tKli/r166emTZvq1KlTuvfee30KDQAAANRKmZkXCnYJCVX/
hf3vEr2iFob+ULacsLDA5gAAACHPcIvG8PBw2Ww2xcbGuvU/
ceKE4uLidP78eVMD+ooWjQAAAAFAi8bqq+l152l5vIcAAOB/
vK2vef0bjXa7XU6nU06nU0VFRWrYsKFrWGlpqf7xj3+UKz4CAAAAAAAAqBu8LjTGxMTIYrHIYrHoiiuuKDfcYrFo1qxZpoYDAAAAAAAAEBq8LjRu2LBBTqdTgwcP1rvvvqvmzZu7hjVo0EBt27ZVfHy8X0ICAAAAAAAACG5eFxqvv/56SVJOTo7atGkji8Xit1AAAAAAAAAAQovhp04fOHBA//
rXv1zdL730knr27Kk77rhDP/zwg6nhAAAAAAAAAIQGw4XGxx9/
XHa7XZL01VdfKTU1VT/72c+Uk5Oj1NRU0wMCAAAAAAAACH5e3zpdJicnR126dJEkvfvuuxo5cqTmzp2rPXv26Gc/
+5npAQEAAAAAAAAEP8MtGhs0aKDTp09Lkv75z39q6NChkqTmzZu7WjoCAAAAAAAAqFsMt2gcOHCgUlNTde2112rnzp1auXKlJOnrr79WYmKi6QEBAAAAAAAABD/
DLRoXL16sevXqafXq1Xr55ZeVkJAgSfrwww81fPhw0wMCAAAAAAAACH6GWzS2adNG77//
frn+v/
vd70wJBAAAAAAAACD0GG7ReP311+uNN97Qf//7X58XvnnzZo0cOVLx8fGyWCxau3at23Cn06mMjAxZrVY1atRIQ4YM0aFDh3xeLgAAAAAAAABzGS409urVS4899pji4uJ0//33a/
v27dVe+KlTp9SjRw+99NJLFQ5/9tln9fvf/15LlizRjh071KRJEw0bNkxnzpyp9jIBAAAAAAAAmM9woXHRokU6duyYli9froKCAl133XXq0qWLFixYoOPHjxua14gRIzR79myNHj263DCn06lFixbpqaee0i233KLu3bvrjTfe0LFjx8q1fAQAAAAAAAAQWIYLjZJUr1493Xrrrfrb3/6m3Nxc3XHHHUpPT1dSUpJGjRqlTz/91OdgOTk5ys/
P15AhQ1z9oqOj1b9/f23bts3jdCUlJbLb7W5/AAAA8NGqVVJyspSY6N2fzRboxKHPZiu/
XpOTpdWrA5+jor9AZAMAAEHF8MNgLrZz504tX75c77zzjmJjYzV+/
Hjl5eXppptu0m9+8xstWLCg2vPOz8+XJLVu3dqtf+vWrV3DKjJv3jzNmjWr2ssFAABABTIypIMHjU8XGWl+ltqubJ05HFJeXvnh6elSSkrgc1SkprIBAICgZLjQWFBQoD/96U9avny5Dh06pJEjR+rtt9/
WsGHDZLFYJEnjx4/
X8OHDfSo0VldaWppSU1Nd3Xa7XUlJSTWeAwAAoFYpKrrwb1iYZLV6N01kpJSZ6b9MtVVm5oWCXdk6L2OzXSj6Xdq/
pnNUpKazAQCAoGS40JiYmKgOHTro3nvv1fjx49WqVaty43Tv3l19+/
b1KVhcXJwk6fjx47JedDF7/
Phx9ezZ0+N0ERERioiI8GnZAAAA8MBqlXJzA52idktJqbhVYGKi9y0L/
ZmjIjWdDQAABCXDhcZPPvlEP/
nJTyodJyoqShs2bKh2KElq37694uLi9Mknn7gKi3a7XTt27NDEiRN9mjcAAAAAAAAAcxkuNPbp00enT59W48aNJUlHjhzRmjVr1KVLFw0dOtTQvIqLi/
XNN9+4unNycpSVlaXmzZurTZs2mjp1qmbPnq2OHTuqffv2Sk9PV3x8vEaNGmU0NgAAAAAAAAA/
MlxovOWWW3TrrbfqwQcf1MmTJ9W/f3/
Vr19fJ06c0MKFCw21Nty1a5duuOEGV3fZbyuOGzdOK1as0BNPPKFTp07pgQce0MmTJzVw4ECtW7dODRs2NBobAAAAAAAAgB+FGZ1gz549rlunV69erdatW+vIkSN644039Pvf/97QvAYNGiSn01nub8WKFZIki8Wip59+Wvn5+Tpz5oz+
+c9/6oorrjAaGQAAAAAAAICfGS40nj59WpGRkZKkjz/
+WLfeeqvCwsJ09dVX68iRI6YHBAAAAAAAABD8DBcaL7/8cq1du1bffvutPvroI9fvMhYUFCgqKsr0gAAAAAAAAACCn+FCY0ZGhh577DG1a9dO/
fv314ABAyRdaN3Yq1cv0wMCAAAAAAAACH6GHwaTkpKigQMHymazqUePHq7+N954o0aPHm1qOAAAAAAAAAChwXChUZLi4uIUFxfn1q9fv36mBAIAAAAAAAAQegzfOg0AAAAAAAAAl6LQCAAAAAAAAMBnFBoBAAAAAAAA+IxCIwAAAAAAAACfVethMIcOHdKGDRtUUFAgh8PhNiwjI8OUYAAAAAAAAABCh+FC47JlyzRx4kS1bNlScXFxslgsrmEWi4VCIwAAQKhbtUrKyJCKin7sZ7MFLg+Mq+g99MTM99ZmkxITqz99ZKSUmSmlpJiXCQAA1BiL0+l0Gpmgbdu2+s1vfqNp06b5K5Op7Ha7oqOjVVhYqKioqEDHAQAACH7JydLBgxUP69xZOnCgZvPggsREKS9PSkiQcnMrH7ey99ATX97b6izPHzkAAIBfeFtfM9yi8YcfftCYMWN8CgcAAIAgVtYKLixMslp/7F/
W2gzBz9N76Imv721mppSe7l0LSk9sNsnh8G0eAAAgoAwXGseMGaOPP/5YDz74oD/
yAAAAIFhYrVW3nENwq6n3MCXF99udy1psAgCAkGW40Hj55ZcrPT1d27dvV7du3VS/
fn234VOmTDEtHAAAAAAAAIDQYLjQuHTpUjVt2lSbNm3Spk2b3IZZLBYKjQAAAAAAAEAdZLjQmJOT448cAAAAAAAAAEJYWKADAAAAAAAAAAh9XrVoTE1NVWZmppo0aaLU1NRKx124cKEpwQAAAAAAAACEDq8KjV988YXOnTvn+r8nFovFnFQAAAAAAAAAQopXhcYNGzZU+H8AAAAAAAAAkPiNRgAAAAAAAAAmoNAIAAAAAAAAwGcUGgEAAAAAAAD4jEIjAAAAAAAAAJ8ZKjSeO3dO9957r3JycvyVx01paanS09PVvn17NWrUSB06dFBmZqacTmeNLB8AAAAAAACAdwwVGuvXr693333XX1nKmT9/
vl5++WUtXrxYBw4c0Pz58/Xss8/
qxRdfrLEMAAAAAAAAAKpm+NbpUaNGae3atX6IUt7WrVt1yy236Oc//7natWunlJQUDR06VDt37qyR5QMAAAAAAADwTj2jE3Ts2FFPP/20/
vWvf6l3795q0qSJ2/
ApU6aYFu6aa67R0qVL9fXXX+uKK67Q3r17tWXLFi1cuNC0ZQAAAAAAAADwneFC46uvvqqYmBjt3r1bu3fvdhtmsVhMLTROnz5ddrtdnTt3Vnh4uEpLSzVnzhzdeeedHqcpKSlRSUmJq9tut5uWBwAAwK9WrZIyMqSiIvf+kZFSZqaUklL1uBWNX9m4FbHZqpcfNcNmkxITqx4HAACghhkuNNbUg2Ak6S9/
+YvefPNNvfXWW+ratauysrI0depUxcfHa9y4cRVOM2/
ePM2aNavGMgIAAJgmI0M6eLDiYenp7oXGysa9dPyqxvUkMtL4NPCfsvfD4ZDy8oxNAwAAUAMMFxrLnD17Vjk5OerQoYPq1av2bCr1+OOPa/
r06br99tslSd26ddORI0c0b948j4XGtLQ0paamurrtdruSkpL8kg8AAMBUZS0Ow8Ikq/
XC/222C4WlS1sjVjSup/
E9jVuZslaRCB6ZmRcKyN62TOU9BAAANcxwhfD06dOaPHmyXn/9dUnS119/
rcsuu0yTJ09WQkKCpk+fblq406dPKyzM/
Xk14eHhcjgcHqeJiIhQRESEaRkAAABqnNUq5eZe+H9iYuWt1y4et6rxLx0XoSUlxb1VKwAAQJAx/
NTptLQ07d27Vxs3blTDhg1d/YcMGaKVK1eaGm7kyJGaM2eOPvjgA/373//
WmjVrtHDhQo0ePdrU5QAAAAAAAADwjeEWjWvXrtXKlSt19dVXy2KxuPp37dpVhw8fNjXciy+
+qPT0dP3mN79RQUGB4uPj9etf/1oZGRmmLgcAAAAAAACAbwwXGr/77jvFxsaW63/
q1Cm3wqMZIiMjtWjRIi1atMjU+QIAAAAAAAAwl+Fbp/v06aMPPvjA1V1WXPzjH/
+oAQMGmJcMAAAAAAAAQMgw3KJx7ty5GjFihPbv36/z58/
rhRde0P79+7V161Zt2rTJHxkBAAAAAAAABDnDLRoHDhyorKwsnT9/
Xt26ddPHH3+s2NhYbdu2Tb179/
ZHRgAAAAAAAABBznCLRknq0KGDli1bZnYWAAAAAAAAACGqWoXG0tJSrVmzRgcOHJAkdenSRbfccovq1avW7AAAAAAAAACEOMOVwf/7v//
TzTffrPz8fHXq1EmSNH/+fLVq1Up///vfdeWVV5oeEgAAAAAAAEBwM/wbjb/61a/
UtWtX5ebmas+ePdqzZ4++/fZbde/eXQ888IA/
MgIAAAAAAAAIcoZbNGZlZWnXrl1q1qyZq1+zZs00Z84c9e3b19RwAAAAAAAAAEKD4RaNV1xxhY4fP16uf0FBgS6//
HJTQgEAAAAAAAAILV4VGu12u+tv3rx5mjJlilavXq3c3Fzl5uZq9erVmjp1qubPn+/
vvAAAAAAAAACCkFe3TsfExMhisbi6nU6nxo4d6+rndDolSSNHjlRpaakfYgIAAAAAAAAIZl4VGjds2ODvHAAAAKiMzSYlJrp3ezt+VeMCweTSbV2SIiOlzEwpJSUwmQAAgFe8KjRef/31/
s4BAACAikRGXvjX4ZDy8jwP92b8S8cFgklV23p6OoVGAACCnOGnTkvSmTNn9OWXX6qgoEAOh8Nt2M0332xKMAAAAOhCK670dKmoqPywslZe3oxf0bhAMPG07dpsF4qPFe0DAAAgqFicZT+w6KV169bpnnvu0YkTJ8rPzGIJut9otNvtio6OVmFhoaKiogIdBwAAwLPExAstuRISpNzcQKcBggP7BQAAAedtfc2rp05fbPLkyRozZoxsNpscDofbX7AVGQEAAAAAAADUDMOFxuPHjys1NVWtW7f2Rx4AAAAAAAAAIchwoTElJUUbN270QxQAAAAAAAAAocrww2AWL16sMWPG6LPPPlO3bt1Uv359t+FTpkwxLRwAAAAAAACA0GC40Pj222/
r448/
VsOGDbVx40ZZLBbXMIvFQqERAAAAAAAAqIMMFxqffPJJzZo1S9OnT1dYmOE7rwEAAAAAAADUQoYrhWfPntUvfvELiowAAAAAAAAAXAxXC8eNG6eVK1f6IwsAAAAAAACAEGX41unS0lI9+
+yz+uijj9S9e/
dyD4NZuHChaeEAAAAAAAAAhAbDhcavvvpKvXr1kiTt27fPbdjFD4YBAAAAAAAAUHcYLjRu2LDBHzkAAAAAAAAAhLCgf6JLXl6e7rrrLrVo0UKNGjVSt27dtGvXrkDHAgAAAAAAAHARwy0ab7jhhkpvkf700099CnSxH374Qddee61uuOEGffjhh2rVqpUOHTqkZs2ambYMAAAAAAAAAL4zXGjs2bOnW/
e5c+eUlZWlffv2ady4cWblkiTNnz9fSUlJWr58uatf+/btTV0GAAAAAAAAAN8ZLjT+7ne/
q7D/zJkzVVxc7HOgi7333nsaNmyYxowZo02bNikhIUG/
+c1vdP/993ucpqSkRCUlJa5uu91uaiYAQWzVKikjQyoq8m78yEgpM1NKSfFvLgAA4DubTUpMdO/
HuRwAgKBicTqdTjNm9M0336hfv376z3/+Y8bsJEkNGzaUJKWmpmrMmDH6/
PPP9fDDD2vJkiUeW0/OnDlTs2bNKte/sLBQUVFRpmUDEISSk6WDB41N07mzdOCAf/
IAgFGJiVJenpSQIOXmBjoNEByqOr9zLgcAwO/
sdruio6OrrK8ZbtHoybZt21yFQbM4HA716dNHc+fOlST16tVL+/
btq7TQmJaWptTUVFe33W5XUlKSqbkABKmyloxhYZLVWvm4NpvkcHjf+hEAAARGZqaUnl7+nM25HACAoGO40Hjrrbe6dTudTtlsNu3atUvp6emmBZMkq9WqLl26uPVLTk7Wu+
+
+63GaiIgIRUREmJoDQIixWqtuCVTWaggAAAS3lJSKb43mXA4AQNAxXGiMjo526w4LC1OnTp309NNPa+jQoaYFk6Rrr71W2dnZbv2+/
vprtW3b1tTlAAAAAAAAAPCN4ULjxU+A9rdHHnlE11xzjebOnauxY8dq586dWrp0qZYuXVpjGQAAAAAAAABUrdq/0Xj27FkVFBTI4XC49W/
Tpo3Pocr07dtXa9asUVpamp5+
+mm1b99eixYt0p133mnaMgAAAAAAAAD4znCh8euvv9Z9992nrVu3uvV3Op2yWCwqLS01LZwk3XTTTbrppptMnScAAAAAAAAAcxkuNE6YMEH16tXT+
++/L6vVKovF4o9cAAAAAAAAAEKI4UJjVlaWdu/erc6dO/
sjDwAAAAAAAIAQFGZ0gi5duujEiRP+yAIAAAAAAAAgRBkuNM6fP19PPPGENm7cqO+//152u93tDwAAAAAAAEDdY/
jW6SFDhkiSbrzxRrf+/noYDAAAAAAAAIDgZ7jQuGHDBn/kAAAAAAAAABDCDBcar7/+en/
kAAAAAAAAABDCDP9GIwAAAAAAAABcikIjAAAAAAAAAJ9RaAQAAAAAAADgM8O/0QhA0qpVUkaGVFRk/
rwjI6XMTCklxfx516TK1pG3r9HoerbZjOe02aTExOrlAxC8zDgG+ZOnfNU5jgEAak6wn18AIMAsTqfTaWSCwYMH669//
atiYmLc+tvtdo0aNUqffvqpmfl8ZrfbFR0drcLCQkVFRQU6DmqL5GTp4EH/zb9zZ+nAAf/
NvyZUtY68eY3VXc9mzLs2vAdAXRbs+3iw5wNCQWKilJcnJSRIubmBToO6guM3gDrK2/
qa4RaNGzdu1NmzZ8v1P3PmjD777DOjswNCU9k3mGFhktVq3nxtNsnh8E9LyZrmaR0ZeY3VWc9l3yRXJTNTSk+vuDVRbXkPgLrMjGOQP1V2fPP2OAYAqHnBfn4BgADzutD45Zdfuv6/
f/9+5efnu7pLS0u1bt06JSQkmJsOCHZWq7nfoJd9M1+bXLqOqvMazV7P0oVbWiq6raU2vgdAXWbGMcif/
HF8AwD4X7CfXwAgQLwuNPbs2VMWi0UWi0WDBw8uN7xRo0Z68cUXTQ0HAAAAAAAAIDR4XWjMycmR0+nUZZddpp07d6pVq1auYQ0aNFBsbKzCw8P9EhIAAAAAAABAcPO60Ni2bVtJksPh8FsYAAAAAAAAAKHJ8MNgJOnQoUPasGGDCgoKyhUeMzIyTAkGAAAAAAAAIHQYLjQuW7ZMEydOVMuWLRUXFyeLxeIaZrFYKDQCAAAAAAAAdZDhQuPs2bM1Z84cTZs2zR95AAAAAAAAAISgMKMT/
PDDDxozZow/sgAAAAAAAAAIUYYLjWPGjNHHH3/sjywAAAAAAAAAQpThW6cvv/xypaena/
v27erWrZvq16/
vNnzKlCmmhQMAAAAAAAAQGgwXGpcuXaqmTZtq06ZN2rRpk9swi8VCoREAAAAAAACogwwXGnNycvyRAwAAAAAAAEAIM/
wbjWXOnj2r7OxsnT9/3sw8lXrmmWdksVg0derUGlsmAAAAAAAAgKoZLjSePn1a9913nxo3bqyuXbvq6NGjkqTJkyfrmWeeMT1gmc8//1yvvPKKunfv7rdlAAAAAAAAAKgew4XGtLQ07d27Vxs3blTDhg1d/
YcMGaKVK1eaGq5McXGx7rzzTi1btkzNmjXzyzIAAAAAAAAAVJ/
h32hcu3atVq5cqauvvloWi8XVv2vXrjp8+LCp4cpMmjRJP//5zzVkyBDNnj270nFLSkpUUlLi6rbb7X7JhDpi1SopI0MqKnLvb7P5d7k2m5SY6N4vMlLKzJRSUvy77OqoaD1VtY4qeo0VjRMol+YL5vUPwDh/
HGc9nTM8LR+AOXw5Z3vabznvo7qfA7zZHo2cLzzNI1hU9lqCOTcAvzFcaPzuu+8UGxtbrv+pU6fcCo9meeedd7Rnzx59/
vnnXo0/b948zZo1y/
QcqKMyMqSDBz0Pj4w0d3ll83M4pLy88sPT04PzRF3Zerp0HVX1Gr2Zhz9Vli9Y1z8A7/
nzOFvVOaOyPACMM+OcXdl+y3m/
bjP6OcDI9lid80Wwbo9VvZZgzQ3AbwwXGvv06aMPPvhAkydPliRXcfGPf/
yjBgwYYGq4b7/9Vg8//LDWr1/
vdpt2ZdLS0pSamurqttvtSkpKMjUX6pCyb+bCwiSr1X1Y2Td0ZsrMvHAyruibU4fD+289a5qn9VTROvL0Gj3xx3quTEX5gn39A/
CeP4+zlZ0zKlLTxzegtjHjnF3Rfst5H5LxzwFGtkcj54tg3x49vZZgzw3AbwwXGufOnasRI0Zo//79On/
+vF544QXt379fW7du1aZNm0wNt3v3bhUUFOiqq65y9SstLdXmzZu1ePFilZSUKDw83G2aiIgIRUREmJoDkNUq5eb6fzkpKRV/45eY6H3rv0DyZj15eo3BoqJ8obL+AVStJo6zNXXOAOo6M8/
ZF+
+3nPdxMW+P6dXZHr2Zd6hsj5e+llDJDcB0hh8GM3DgQGVlZen8+fPq1q2bPv74Y8XGxmrbtm3q3bu3qeFuvPFGffXVV8rKynL99enTR3feeaeysrLKFRkBAAAAAAAABIbhFo2S1KFDBy1btszsLOVERkbqyiuvdOvXpEkTtWjRolx/
AAAAAAAAAIFjuNDo6SnOFotFERERatCggc+hAAAAAAAAAIQWw4XGmJiYSp8unZiYqPHjx2vGjBkKCzN8Z3aVNm7caPo8AQAAAAAAAPjGcKFxxYoVevLJJzV+/
Hj169dPkrRz5069/vrreuqpp/Tdd99pwYIFioiI0G9/+1vTAwMAAAAAAAAIPoYLja+//
rqef/55jR071tVv5MiR6tatm1555RV98sknatOmjebMmUOhEQAAAAAAAKgjDN/
bvHXrVvXq1atc/169emnbtm2SLjyZ+ujRo76nAwAAAAAAABASDBcak5KS9Oqrr5br/
+qrryopKUmS9P3336tZs2a+pwMAAAAAAAAQEgzfOr1gwQKNGTNGH374ofr27StJ2rVrlw4ePKjVq1dLkj7//
HP94he/
MDcpAAAAAAAAgKBluNB48803Kzs7W6+88oqys7MlSSNGjNDatWvVrl07SdLEiRNNDQkAAAAAAAAguBkuNEpSu3btNG/
evHL99+3bpyuvvNLnUAAAAAAAAABCi+HfaLxUUVGRli5dqn79+qlHjx5mZAIAAAAAAAAQYqpdaNy8ebPGjRsnq9WqBQsWaPDgwdq+fbuZ2QAAAAAAAACECEO3Tufn52vFihV69dVXZbfbNXbsWJWUlGjt2rXq0qWLvzICAAAAAAAACHJeFxpHjhypzZs36+c//7kWLVqk4cOHKzw8XEuWLPFnPsB8q1ZJGRlSUVHV49ps/
s9jhM0mJSa694uMlDIzpZQU85ZjZB2V5QKAQKnomFXd41JFx1kj0wIIDt7uy5XttzV13QXfeLpuNfJemXkeqcil21J15u3L+ak62NYDx+hnsWB+ryp7Lb7mrk3rqZaxOJ1Opzcj1qtXT1OmTNHEiRPVsWNHV//69etr7969Qdui0W63Kzo6WoWFhYqKigp0HASD5GTp4EFj03TuLB044J883qgqs9n5qrOO/
JEjWCQmSnl5UkKClJsb6DQALlXZMcvb41J1j3u+LBOA+cy4hqnp6y74xt/nAF/
ebzO2JTPPT0Z5k8/
TdTLXz9UXip9XPfHn8bQ2racQ4W19zesWjVu2bNGrr76q3r17Kzk5WXfffbduv/12U8ICNarsG4+wMMlqrXr8sm8+AikzU0pPL/9tjc0mORzef4vjLaPrSAqO9QSgbvJ0zDJyXPJ0nDWKYyEQWNXZly/
db2v6ugu+qegcYPS9MuM8UpHKtkdv523W+ckItvXAMvJZLNjfK0+vxYzctWk91TJeFxqvvvpqXX311Vq0aJFWrlyp1157TampqXI4HFq/
fr2SkpIUGRnpz6yAuazW0Pl2LSWl4ibeZd8U+ksorSMA8OWY5ek4CyC0mLEvB+q6C765+BxQ3ffK7Gtff26P/
sS2Hhy82R5D5b269LWYmbs2radawvBTp5s0aaJ7771XW7Zs0VdffaVHH31UzzzzjGJjY3XzzTf7IyMAAAAAAACAIGe40HixTp066dlnn1Vubq7efvttszIBAAAAAAAACDE+FRrLhIeHa9SoUXrvvffMmB0AAAAAAACAEGNKoREAAAAAAABA3UahEQAAAAAAAIDPKDQCAAAAAAAA8BmFRgAAAAAAAAA+o9AIAAAAAAAAwGcUGgEAAAAAAAD4jEIjAAAAAAAAAJ9RaAQAAAAAAADgs6AuNM6bN099+/
ZVZGSkYmNjNWrUKGVnZwc6FgAAAAAAAIBLBHWhcdOmTZo0aZK2b9+u9evX69y5cxo6dKhOnToV6GgAAAAAAAAALlIv0AEqs27dOrfuFStWKDY2Vrt379Z1110XoFQAAAAAAAAALhXUhcZLFRYWSpKaN2/
ucZySkhKVlJS4uu12u99zwQerVkkZGVJRUflhkZFSZqaUkuLd+N6y2ao/
bbCy2aTExB+7K1p3nlS0TmvjOgpWRvcBQPK83bDNAID/
XXrd5YnRa9lLx68L1whGzmeexq3surWi96q2rLua4M22XtXnBl/2l9quOtu0JzW5rZt5Hert9uFp2upMw/
bodxan0+kMdAhvOBwO3XzzzTp58qS2bNnicbyZM2dq1qxZ5foXFhYqKirKnxFRHcnJ0sGDnod37iwdOOD9+EZcOu9QVNn68Pb1mTGP2i4xUcrLkxISpNxcc+dtdB8AJPbbS/
lzHwWAMtW5DjV6LXvx+HXhGsHI+cyf647ziLua2Na9mUdtZ8Y+HojjhJH91tO+VdOf69keTWG32xUdHV1lfS1kWjROmjRJ+/
btq7TIKElpaWlKTU11ddvtdiUlJfk7Hqqr7FuQsDDJav2xv80mORzlvyXxNL5RZd9QhLrMTCk9vXxrxIrWnSee1mltWUfBzug+AEgVbzdsMwDgXxVdd3li9Fq2ovHrwjWCkfNZZZ8DLr1u9fRe1aZ1509GtnWp4s8NZuwvtZ2RbdqTQGzrZlyHGt3GPPF1PVWkrm6PJgqJQuNDDz2k999/
X5s3b1ZiFc1cIyIiFBERUUPJYBqr1f0bjrJvPrwdv65KSSnfnLuqdecJ6zSwjO4DgOS+3bDNAIB/
VXTd5YnRa9nKxq8L1whGzmfeXLN6eq9q47rzByPbuhnzqOvviy+fwwK5rftyHWrGNmYE22ONCupCo9Pp1OTJk7VmzRpt3LhR7du3D3QkAAAAAAAAABUI6kLjpEmT9NZbb+lvf/
ubIiMjlZ+fL0mKjo5Wo0aNApwOAAAAAAAAQJmwQAeozMsvv6zCwkINGjRIVqvV9bdy5cpARwMAAAAAAABwkaBu0RgiD8QGAAAAAAAA6rygbtEIAAAAAAAAIDRQaAQAAAAAAADgMwqNAAAAAAAAAHxGoREAAAAAAACAzyg0AgAAAAAAAPAZhUYAAAAAAAAAPqPQCAAAAAAAAMBnFBoBAAAAAAAA+IxCIwAAAAAAAACfUWgEAAAAAAAA4LN6gQ4AE61aJWVkSEVFvs0nMlLKzJRSUsyf96VstqqHJyZ6Pz5+dOm6q2w8eMfbdSpVvB+ZsUyz5usLfx0PqsNf66Oy1xgM74G/
VOe99cf6MJqD4xiAYGX0Wvbi8c04tgXinO2vayAzj/
V8xghORq61jQiGa7eK9sWa2O68XaehsN/
WtIrWnbe1krg4adeumskZhCxOp9MZ6BD+ZLfbFR0drcLCQkVFRQU6jn8lJ0sHD5ozr86dpQMH/
DNvM5Z36fj4UXXfK9apZ/5cp4mJUl6elJAg5eZ6t8xAv1f+Ph4Y5Y/1EezHoIq2G0/
bkhHBcvwIlhwAUF1GzyNGzvtGjveBOmd7ezyu6LX48xwc7Of3uqomttNAv7c1fW1fnXUarPttTTPj+O3L9XgQ87a+RovG2qSsgh4WJlmt1ZuHzSY5HOW/9TRj3p6UfStwscxMKT298tZEqFhl684T1mnljK5TT/
uRr8s0Y75m8OfxwAh/rg9PrzFY3gN/
Mfre+mt9VGcb4zgGIJgYvZb1NL6vx7aaPmf76xqojK/
rg88Ywak6n1+8FSzXbp72RX9td0bWabDvtzXN02sxUiuJi/N/
ziBGi8baxIzWLJ7mYca8gbrCyP7ir3H9qS7kCPZjob9aNBqdh7/
WR7CsZwAIRsF87RAs5xGgTLBsY8GSoyLst94J9s8HNcDb+hoPgwEAAAAAAADgMwqNAAAAAAAAAHxGoREAAAAAAACAzyg0AgAAAAAAAPAZhUYAAAAAAAAAPqPQCAAAAAAAAMBnFBoBAAAAAAAA+IxCIwAAAAAAAACfUWgEAAAAAAAA4DMKjQAAAAAAAAB8RqERAAAAAAAAgM9CotD40ksvqV27dmrYsKH69+
+vnTt3BjoSAAAAAAAAgIsEfaFx5cqVSk1N1YwZM7Rnzx716NFDw4YNU0FBQaCjAQAAAAAAAPifoC80Lly4UPfff78mTJigLl26aMmSJWrcuLFee+21QEcDAAAAAAAA8D/1Ah2gMmfPntXu3buVlpbm6hcWFqYhQ4Zo27ZtFU5TUlKikpISV3dhYaEkyW63+zdsoFx/
vXT8+IX/5+df+NfhkKr7eh2OC/8eOybFx//
Y34x5A3WFp/2oIkb2LSPz9adgOR74c314eo3B/B6Ykc3oe+uv9REs2xgABCN/
XWeYweh5geM9/
C2Yr92CBfutd6iVuOpqTqez0vEszqrGCKBjx44pISFBW7du1YABA1z9n3jiCW3atEk7duwoN83MmTM1a9asmowJAAAAAAAA1HrffvutEhMTPQ4P6haN1ZGWlqbU1FRXt8Ph0H/
+8x+1aNFCFoslgMn8w263KykpSd9++62ioqICHQeo89gngeDCPgkEF/
ZJIHiwPwLBJdj3SafTqaKiIsVX0fI1qAuNLVu2VHh4uI6X3Rr8P8ePH1dcXFyF00RERCgiIsKtX0xMjL8iBo2oqKig3BCBuop9Eggu7JNAcGGfBIIH+yMQXIJ5n4yOjq5ynKB+GEyDBg3Uu3dvffLJJ65+DodDn3zyidut1AAAAAAAAAACK6hbNEpSamqqxo0bpz59+qhfv35atGiRTp06pQkTJgQ6GgAAAAAAAID/
CfpC4y9+8Qt99913ysjIUH5+vnr27Kl169apdevWgY4WFCIiIjRjxoxyt4sDCAz2SSC4sE8CwYV9Egge7I9AcKkt+2RQP3UaAAAAAAAAQGgI6t9oBAAAAAAAABAaKDQCAAAAAAAA8BmFRgAAAAAAAAA+o9AIAAAAAAAAwGcUGkPcSy+9pHbt2qlhw4bq37+/
du7cGehIQJ00c+ZMWSwWt7/
OnTsHOhZQZ2zevFkjR45UfHy8LBaL1q5d6zbc6XQqIyNDVqtVjRo10pAhQ3To0KHAhAVquar2x/
Hjx5c7Zw4fPjwwYYE6YN68eerbt68iIyMVGxurUaNGKTs7222cM2fOaNKkSWrRooWaNm2q2267TcePHw9QYqB282afHDRoULlz5YMPPhigxMZQaAxhK1euVGpqqmbMmKE9e/
aoR48eGjZsmAoKCgIdDaiTunbtKpvN5vrbsmVLoCMBdcapU6fUo0cPvfTSSxUOf/bZZ/
X73/9eS5Ys0Y4dO9SkSRMNGzZMZ86cqeGkQO1X1f4oScOHD3c7Z7799ts1mBCoWzZt2qRJkyZp+/
btWr9+vc6dO6ehQ4fq1KlTrnEeeeQR/
f3vf9eqVau0adMmHTt2TLfeemsAUwO1lzf7pCTdf//9bufKZ599NkCJjbE4nU5noEOgevr376+
+fftq8eLFkiSHw6GkpCRNnjxZ06dPD3A6oG6ZOXOm1q5dq6ysrEBHAeo8i8WiNWvWaNSoUZIutGaMj4/
Xo48+qscee0ySVFhYqNatW2vFihW6/
fbbA5gWqN0u3R+lCy0aT548Wa6lI4Ca8d133yk2NlabNm3Sddddp8LCQrVq1UpvvfWWUlJSJEkHDx5UcnKytm3bpquvvjrAiYHa7dJ9UrrQorFnz55atGhRYMNVAy0aQ9TZs2e1e/
duDRkyxNUvLCxMQ4YM0bZt2wKYDKi7Dh06pPj4eF122WW68847dfTo0UBHAiApJydH+fn5bufM6Oho9e/
fn3MmECAbN25UbGysOnXqpIkTJ+r7778PdCSgzigsLJQkNW/eXJK0e/
dunTt3zu082blzZ7Vp04bzJFADLt0ny7z55ptq2bKlrrzySqWlpen06dOBiGdYvUAHQPWcOHFCpaWlat26tVv/1q1b6+DBgwFKBdRd/
fv314oVK9SpUyfZbDbNmjVLP/
nJT7Rv3z5FRkYGOh5Qp+Xn50tShefMsmEAas7w4cN16623qn379jp8+LB+
+9vfasSIEdq2bZvCw8MDHQ+o1RwOh6ZOnaprr71WV155paQL58kGDRooJibGbVzOk4D/
VbRPStIdd9yhtm3bKj4+Xl9++aWmTZum7Oxs/fWvfw1gWu9QaAQAE4wYMcL1/
+7du6t///5q27at/vKXv+i++
+4LYDIAAILLxT9X0K1bN3Xv3l0dOnTQxo0bdeONNwYwGVD7TZo0Sfv27eO3xIEg4WmffOCBB1z/79atm6xWq2688UYdPnxYHTp0qOmYhnDrdIhq2bKlwsPDyz0J7Pjx44qLiwtQKgBlYmJidMUVV+ibb74JdBSgzis7L3LOBILTZZddppYtW3LOBPzsoYce0vvvv68NGzYoMTHR1T8uLk5nz57VyZMn3cbnPAn4l6d9siL9+/
eXpJA4V1JoDFENGjRQ79699cknn7j6ORwOffLJJxowYEAAkwGQpOLiYh0+fFhWqzXQUYA6r3379oqLi3M7Z9rtdu3YsYNzJhAEcnNz9f3333POBPzE6XTqoYce0po1a/
Tpp5+qffv2bsN79+6t+vXru50ns7OzdfToUc6TgB9UtU9WpOyho6FwruTW6RCWmpqqcePGqU+fPurXr58WLVqkU6dOacKECYGOBtQ5jz32mEaOHKm2bdvq2LFjmjFjhsLDw/
XLX/4y0NGAOqG4uNjtG96cnBxlZWWpefPmatOmjaZOnarZs2erY8eOat+
+vdLT0xUfH+/2JFwA5qhsf2zevLlmzZql2267TXFxcTp8+LCeeOIJXX755Ro2bFgAUwO116RJk/
TWW2/pb3/7myIjI12/
uxgdHa1GjRopOjpa9913n1JTU9W8eXNFRUVp8uTJGjBgAE+cBvygqn3y8OHDeuutt/
Szn/1MLVq00JdffqlHHnlE1113nbp37x7g9FWzOJ1OZ6BDoPoWL16s5557Tvn5+erZs6d+//
vfu5rUAqg5t99+uzZv3qzvv/9erVq10sCBAzVnzpyg//0MoLbYuHGjbrjhhnL9x40bpxUrVsjpdGrGjBlaunSpTp48qYEDB+oPf/
iDrrjiigCkBWq3yvbHl19+WaNGjdIXX3yhkydPKj4+XkOHDlVmZma5BzYBMIfFYqmw//
LlyzV+/HhJ0pkzZ/Too4/q7bffVklJiYYNG6Y//OEP3DoN+EFV++S3336ru+66S/
v27dOpU6eUlJSk0aNH66mnnlJUVFQNpzWOQiMAAAAAAAAAn/
EbjQAAAAAAAAB8RqERAAAAAAAAgM8oNAIAAAAAAADwGYVGAAAAAAAAAD6j0AgAAAAAAADAZxQaAQAAAAAAAPiMQiMAAAAAAAAAn1FoBAAAAAAAAOAzCo0AAADwu/
Hjx2vUqFGBjgEAAAA/
qhfoAAAAAAhtFoul0uEzZszQCy+8IKfTWUOJAAAAEAgUGgEAAOATm83m+v/
KlSuVkZGh7OxsV7+mTZuqadOmgYgGAACAGsSt0wAAAPBJXFyc6y86OloWi8WtX9OmTcvdOj1o0CBNnjxZU6dOVbNmzdS6dWstW7ZMp06d0oQJExQZGanLL79cH374oduy9u3bpxEjRqhp06Zq3bq17r77bp04caKGXzEAAAAqQqERAAAAAfH666+rZcuW2rlzpyZPnqyJEydqzJgxuuaaa7Rnzx4NHTpUd999t06fPi1JOnnypAYPHqxevXpp165dWrdunY4fP66xY8cG+JUAAABAotAIAACAAOnRo4eeeuopdezYUWlpaWrYsKFatmyp+
++/Xx07dlRGRoa+//57ffnll5KkxYsXq1evXpo7d646d+6sXr166bXXXtOGDRv09ddfB/
jVAAAAgN9oBAAAQEB0797d9f/w8HC1aNFC3bp1c/
Vr3bq1JKmgoECStHfvXm3YsKHC33s8fPiwrrjiCj8nBgAAQGUoNAIAACAg6tev79ZtsVjc+pU9zdrhcEiSiouLNXLkSM2fP7/
cvKxWqx+TAgAAwBsUGgEAABASrrrqKr377rtq166d6tXjMhYAACDY8BuNAAAACAmTJk3Sf/7zH/3yl7/
U559/rsOHD+ujjz7ShAkTVFpaGuh4AAAAdR6FRgAAAISE+Ph4/
etf/1JpaamGDh2qbt26aerUqYqJiVFYGJe1AAAAgWZxOp3OQIcAAAAAAAAAENr46hcAAAAAAACAzyg0AgAAAAAAAPAZhUYAAAAAAAAAPqPQCAAAAAAAAMBnFBoBAAAAAAAA+IxCIwAAAAAAAACfUWgEAAAAAAAA4DMKjQAAAAAAAAB8RqERAAAAAAAAgM8oNAIAAAAAAADwGYVGAAAAAAAAAD6j0AgAAAAAAADAZ/
UCHcDfHA6Hjh07psjISFkslkDHAQAAAAAAAEKK0+lUUVGR4uPjFRbmud1irS80Hjt2TElJSYGOAQAAAAAAAIS0b7/9VomJiR6H1/
pCY2RkpKQLKyIqKirAaQAAAAAAAIDQYrfblZSU5KqzeVLrC41lt0tHRUVRaAQAAAAAAACqqaqfJeRhMAAAAAAAAAB8RqERAAAAAAAAgM8oNAIAAAAAAADwWa3/
jUYAAAAAAABcUFpaqnPnzgU6BoJM/fr1FR4e7vN8KDQCAAAAAADUck6nU/
n5+Tp58mSgoyBIxcTEKC4ursoHvlSGQiMAAAAAAEAtV1ZkjI2NVePGjX0qJqF2cTqdOn36tAoKCiRJVqu12vOi0AgAAAAAAFCLlZaWuoqMLVq0CHQcBKFGjRpJkgoKChQbG1vt26h5GAwAAAAAAEAtVvabjI0bNw5wEgSzsu3Dl9/
wpNAIAAAAAABQB3C7NCpjxvZBoREAAAAAAACAzyg0AgAAAAAAoE7auHGjLBYLT+M2SUALjZs3b9bIkSMVHx8vi8WitWvXehz3wQcflMVi0aJFi2osHwAAAAAAAGqva665RjabTdHR0YGOUisEtNB46tQp9ejRQy+99FKl461Zs0bbt29XfHx8DSUDAAAAAABAbdegQQPFxcXx+5UmCWihccSIEZo9e7ZGjx7tcZy8vDxNnjxZb775purXr1+D6QAAAAAAABBo69at08CBAxUTE6MWLVropptu0uHDh13Dt27dqp49e6phw4bq06eP1q5dK4vFoqysrCrnfemt0ytWrFBMTIw+
+ugjJScnq2nTpho+fLhsNptXWUtLS5WamurK+sQTT2jcuHEaNWqUa5x27dqVu2O3Z8+emjlzpqv75MmT+tWvfqVWrVopKipKgwcP1t69e13Dx48f7zZPSZo6daoGDRrk6nY4HJo3b57at2+vRo0aqUePHlq9erVXr6O66vl17j5yOBy6+
+679fjjj6tr165eTVNSUqKSkhJXt91u91c8AAAAAACAkNWnj5SfX/
PLjYuTdu3yfvxTp04pNTVV3bt3V3FxsTIyMjR69GhlZWWpuLhYI0eO1M9+9jO99dZbOnLkiKZOnepTvtOnT2vBggX605/
+pLCwMN1111167LHH9Oabb1Y57fPPP68VK1botddeU3Jysp5//
nmtWbNGgwcPNpRhzJgxatSokT788ENFR0frlVde0Y033qivv/5azZs392oe8+bN05///
GctWbJEHTt21ObNm3XXXXepVatWuv766w3l8VZQFxrnz5+vevXqacqUKV5PM2/
ePM2aNcuPqQAAAAAAAEJffr6UlxfoFFW77bbb3Lpfe+01tWrVSvv379eWLVtksVi0bNkyNWzYUF26dFFeXp7uv//
+ai/v3LlzWrJkiTp06CBJeuihh/
T00097Ne2iRYuUlpamW2+9VZK0ZMkSffTRR4aWv2XLFu3cuVMFBQWKiIiQJC1YsEBr167V6tWr9cADD1Q5j5KSEs2dO1f//
Oc/NWDAAEnSZZddpi1btuiVV16pe4XG3bt364UXXtCePXsM3Seflpam1NRUV7fdbldSUpI/
IgIAAAAAAISsuLjQWO6hQ4eUkZGhHTt26MSJE3I4HJKko0ePKjs7W927d1fDhg1d4/
fr18+nfI0bN3YVGSXJarWqoKCgyukKCwtls9nUv39/
V7969eqpT58+cjqdXi9/7969Ki4uVosWLdz6//e//3W7Zbwy33zzjU6fPq2f/
vSnbv3Pnj2rXr16eZ3FqKAtNH722WcqKChQmzZtXP1KS0v16KOPatGiRfr3v/9d4XQRERGuai8AAAAAAAAqZuT25UAaOXKk2rZtq2XLlik+Pl4Oh0NXXnmlzp4965flXfqMEIvFYqhQWJWwsLBy8zt37pzr/8XFxbJardq4cWO5aWNiYryehyR98MEHSkhIcBvPn3WzoC003n333RoyZIhbv2HDhunuu+/
WhAkTApQKAAAAAAAANeX7779Xdna2li1bpp/85CeSLtxaXKZTp07685//
rJKSElcB7fPPPw9I1ujoaFmtVu3YsUPXXXedJOn8+fPavXu3rrrqKtd4rVq1cnu4jN1uV05Ojqv7qquuUn5+vurVq6d27dpVuKxWrVpp3759bv2ysrJcRdIuXbooIiJCR48e9dtt0hUJaKGxuLhY33zzjas7JydHWVlZat68udq0aVOuiWj9+vUVFxenTp061XRUAAAAAAAA1LBmzZqpRYsWWrp0qaxWq44eParp06e7ht9xxx168skn9cADD2j69Ok6evSoFixYIEmGforPLA8//
LCeeeYZdezYUZ07d9bChQtdT7QuM3jwYK1YsUIjR45UTEyMMjIyFB4e7ho+ZMgQDRgwQKNGjdKzzz6rK664QseOHdMHH3yg0aNHq0+fPho8eLCee+45vfHGGxowYID+/
Oc/a9++fa7boiMjI/XYY4/pkUcekcPh0MCBA1VYWKh//etfioqK0rhx4/
zy+sP8Mlcv7dq1S7169XKthNTUVPXq1UsZGRmBjAUAAAAAAIAgEBYWpnfeeUe7d+/
WlVdeqUceeUTPPfeca3hUVJT+/ve/KysrSz179tSTTz7pqitd/LuNNeXRRx/
V3XffrXHjxmnAgAGKjIzU6NGj3cZJS0vT9ddfr5tuukk///
nPNWrUKLffhLRYLPrHP/6h6667ThMmTNAVV1yh22+/
XUeOHFHr1q0lXbjrNz09XU888YT69u2roqIi3XPPPW7LyczMVHp6uubNm6fk5GQNHz5cH3zwgdq3b+
+3129xmnmTeRCy2+2Kjo5WYWGhoqKiAh0HAAAAAACgRp05c0Y5OTlq3759QIpvNe3NN9/
UhAkTVFhYqEaNGgU6jsaPH6+TJ09q7dq1gY5Sqcq2E2/
ra0H7G40AAAAAAABAVd544w1ddtllSkhI0N69ezVt2jSNHTs2KIqMdU1Ab50GAAAAAAAAfJGfn6+77rpLycnJeuSRRzRmzBgtXbpUkvTggw+qadOmFf49+OCDhpflaV5NmzbVZ599ZvZLCzncOg0AAAAAAFCL1bVbpy9WUFAgu91e4bCoqCjFxsYamt/
FDzW+VEJCQki3ouTWaQAAAAAAAMCD2NhYw8XEylx+
+eWmzas24tZpAAAAAACAOqCW39QKH5mxfVBoBAAAAAAAqMXq168vSTp9+nSAkyCYlW0fZdtLdXDrNAAAAAAAQC0WHh6umJgYFRQUSJIaN24si8US4FQIFk6nU6dPn1ZBQYFiYmIUHh5e7XlRaAQAAAAAAKjl4uLiJMlVbAQuFRMT49pOqotCIwAAAAAAQC1nsVhktVoVGxurc+fOBToOgkz9+vV9aslYhkIjAAAAAABAHREeHm5KQQmoCIVGAAAAhIxVq6SMDKmoyD/
zj4yUMjOllBT/
zB8AAKA2szhr+bPN7Xa7oqOjVVhYqKioqEDHAQAAgA+Sk6WDB/27jM6dpQMH/
LsMAACAUOJtfY0WjQAAAAgZZS0Zw8Ikq9XcedtsksPhv9aSAAAAtR2FRgAAAIQcq1XKzTV3nomJUl6eufMEAACoS8ICHQAAAAAAAABA6KPQCAAAAAAAAMBnFBoBAAAAAAAA+IxCIwAAAAAAAACfUWgEAAAAAAAA4DMKjQAAAAAAAAB8RqERAAAAAAAAgM8oNAIAAAAAAADwGYVGAAAAAAAAAD6j0AgAAAAAAADAZxQaAQAAAAAAAPgsoIXGzZs3a+TIkYqPj5fFYtHatWtdw86dO6dp06apW7duatKkieLj43XPPffo2LFjgQsMAAAAAAAAoEIBLTSeOnVKPXr00EsvvVRu2OnTp7Vnzx6lp6drz549+utf/6rs7GzdfPPNAUgKAAAAAAAAoDL1ArnwESNGaMSIERUOi46O1vr16936LV68WP369dPRo0fVpk2bmogIAAAAAAAAwAsBLTQaVVhYKIvFopiYGI/
jlJSUqKSkxNVtt9trIBkAAACqsmqVlJEhFRVVfx42m3l5KltGYmLV40VGSpmZUkqK/
zMBAACEgpApNJ45c0bTpk3TL3/5S0VFRXkcb968eZo1a1YNJgMAAIA3MjKkgwfNmVdkpDnzqWieDoeUl+fdNOnpFBoBAADKVKvQePjwYS1fvlyHDx/
WCy+8oNjYWH344Ydq06aNunbtanZGnTt3TmPHjpXT6dTLL79c6bhpaWlKTU11ddvtdiUlJZmeCQAAAMaUtWQMC5Os1urPp6wlodkyMy8UDr1pcWmzXShI+tI6EwAAoLYxXGjctGmTRowYoWuvvVabN2/
WnDlzFBsbq7179+rVV1/
V6tWrTQ1YVmQ8cuSIPv3000pbM0pSRESEIiIiTM0AAAAA81itUm5uoFOUl5LifevExETvWz0CAADUFYafOj19+nTNnj1b69evV4MGDVz9Bw8erO3bt5sarqzIeOjQIf3zn/9UixYtTJ0/
AAAAAAAAAHMYbtH41Vdf6a233irXPzY2VidOnDA0r+LiYn3zzTeu7pycHGVlZal58+ayWq1KSUnRnj179P7776u0tFT5+fmSpObNm7sVOQEAAAAAAAAEluFCY0xMjGw2m9q3b+/
W/4svvlBCQoKhee3atUs33HCDq7vstxXHjRunmTNn6r333pMk9ezZ0226DRs2aNCgQUajAwAAAAAAAPATw4XG22+/
XdOmTdOqVatksVjkcDj0r3/9S4899pjuueceQ/MaNGiQnE6nx+GVDQMAAAAAAAAQPAz/
RuPcuXPVuXNnJSUlqbi4WF26dNF1112na665Rk899ZQ/
MgIAAAAAAAAIcoZbNDZo0EDLli1Tenq69u3bp+LiYvXq1UsdO3b0Rz4AAAAAAAAAIcBwobFMmzZt1KZNGzOzAAAAAAAAAAhRhguN9957b6XDX3vttWqHAQAAAAAAABCaDBcaf/
jhB7fuc+fOad+
+fTp58qQGDx5sWjAAAAAAAAAAocNwoXHNmjXl+jkcDk2cOFEdOnQwJRQAAAAAAACA0GL4qdMVziQsTKmpqfrd735nxuwAAAAAAAAAhBhTCo2SdPjwYZ0/
f96s2QEAAAAAAAAIIYZvnU5NTXXrdjqdstls+uCDDzRu3DjTggEAAAAAAAAIHYYLjV988YVbd1hYmFq1aqXnn3+
+yidSAwAAAAAAAKidDBcaN2zY4I8cAAAAqEVWrZIyMqSioh/72WyBy+MvNpuUmOjduJGRUmamlJLi30wAAACBYrjQKEnnz5/
Xxo0bdfjwYd1xxx2KjIzUsWPHFBUVpaZNm5qdEQAAACEmI0M6eLDiYZGRNZvFH8peg8Mh5eV5P116OoVGAABQexkuNB45ckTDhw/
X0aNHVVJSop/+9KeKjIzU/
PnzVVJSoiVLlvgjJwAAAEJIWUvGsDDJav2xf1mrvlCXmXmhaHhxi83K2GwXipLejg8AABCKDBcaH374YfXp00d79+5VixYtXP1Hjx6t+
++/39RwAAAACG1Wq5SbG+gU5ktJMdYyMTHRWMtHAACAUGS40PjZZ59p69atatCggVv/
du3aKY+rJwAAAAAAAKBOCjM6gcPhUGlpabn+ubm5iqwNP7gDAAAAAAAAwDDDhcahQ4dq0aJFrm6LxaLi4mLNmDFDP/
vZz8zMBgAAAAAAACBEGL51+vnnn9ewYcPUpUsXnTlzRnfccYcOHTqkli1b6u233/
ZHRgAAAAAAAABBznChMTExUXv37tU777yjL7/8UsXFxbrvvvt05513qlGjRv7ICAAAAAAAACDIGS40SlK9evV01113mZ0FAAAAAAAAQIgyXGh84403Kh1+zz33VDsMAAAAAAAAgNBkuND48MMPu3WfO3dOp0+fVoMGDdS4cWMKjQAAAAAAAEAdZPip0z/88IPbX3FxsbKzszVw4EAeBgMAAAAAAADUUYYLjRXp2LGjnnnmmXKtHQEAAAAAAADUDaYUGqULD4g5duyYWbMDAAAAAAAAEEIM/0bje+
+959btdDpls9m0ePFiXXvttYbmtXnzZj333HPavXu3bDab1qxZo1GjRrnNe8aMGVq2bJlOnjypa6+9Vi+//
LI6duxoNDYAAAAAAAAAPzJcaLy4EChJFotFrVq10uDBg/
X8888bmtepU6fUo0cP3Xvvvbr11lvLDX/22Wf1+9//Xq+//
rrat2+v9PR0DRs2TPv371fDhg2NRgcAAAAAAADgJ4YLjQ6Hw7SFjxgxQiNGjKhwmNPp1KJFi/
TUU0/plltukSS98cYbat26tdauXavbb7/dtBwAAAAAAAAAfGPabzSaLScnR/
n5+RoyZIirX3R0tPr3769t27Z5nK6kpER2u93tDwAAAAgGNpuUmFj1X3KytHp1zWRaterC8gKdAwAAhD7DLRpTU1O9HnfhwoVGZ+
+Sn58vSWrdurVb/9atW7uGVWTevHmaNWtWtZcLAAAAmC0y8sK/DoeUl+fdNOnpUkqK/
zKVyciQDh4MfA4AABD6DBcav/
jiC33xxRc6d+6cOnXqJEn6+uuvFR4erquuuso1nsViMS+lAWlpaW7FULvdrqSkpIBkAQAAACQpM/
NCwa6oqOpxbbYLBUlvxjVD2XLCwiSrNXA5AABA6DNcaBw5cqQiIyP1+uuvq1mzZpKkH374QRMmTNBPfvITPfroo6YEi4uLkyQdP35c1ouueI4fP66ePXt6nC4iIkIRERGmZAAAAADMkJLifavAxETvWz2ayWqVcnMDnwMAAIQuw7/
R+Pzzz2vevHmuIqMkNWvWTLNnzzb81OnKtG/fXnFxcfrkk09c/
ex2u3bs2KEBAwaYthwAAAAAAAAAvjPcotFut+u7774r1/+7775TkcH7KoqLi/
XNN9+4unNycpSVlaXmzZurTZs2mjp1qmbPnq2OHTuqffv2Sk9PV3x8vEaNGmU0NgAAAAAAAAA/
MlxoHD16tCZMmKDnn39e/fr1kyTt2LFDjz/
+uG699VZD89q1a5duuOEGV3fZbyuOGzdOK1as0BNPPKFTp07pgQce0MmTJzVw4ECtW7dODRs2NBobAAAAAAAAgB8ZLjQuWbJEjz32mO644w6dO3fuwkzq1dN9992n5557ztC8Bg0aJKfT6XG4xWLR008/
raefftpoTAAAAAAAAAA1yHChsXHjxvrDH/6g5557TocPH5YkdejQQU2aNDE9HAAAAAAAAIDQYLjQWKZJkybq3r27mVkAAAAAAAAAhCjDT50GAAAAAAAAgEtRaAQAAAAAAADgMwqNAAAAAAAAAHxGoREAAAAAAACAz6r1MJhDhw5pw4YNKigokMPhcBuWkZFhSjAAAAAAAAAAocNwoXHZsmWaOHGiWrZsqbi4OFksFtcwi8VCoREAAAAAAACogwwXGmfPnq05c+Zo2rRp/
sgDAAAAAAAAIAQZ/
o3GH374QWPGjPFHFgAAAAAAAAAhynChccyYMfr444/9kQUAAAAAAABAiDJ86/
Tll1+u9PR0bd++Xd26dVP9+vXdhk+ZMsW0cAAAAAgOq1ZJGRlSUZF349ts/
s1TF9hsUmKie7/ISCkzU0pJCWyOigQiGwAACC4Wp9PpNDJB+/btPc/MYtH/+3//
z+dQZrLb7YqOjlZhYaGioqICHQcAACAkJSdLBw8an65zZ+nAAfPz1GZVrWuz12liopSXJyUkSLm53ueoiWwAACA4eFtfM9yiMScnx6dgAAAACD1lLRnDwiSr1btpylq4wZjMTCk9vXzrUZtNcji8b1XqrxwVqelsAAAgOBkuNAIAAKDuslrdW73BfCkpFd9+XNbyMNA5KlLT2QAAQHDyqtCYmpqqzMxMNWnSRKmpqZWOu3DhQlOCAQAAAAAAAAgdXhUav/
jiC507d871f08sFos5qQAAAAAAAACEFK8KjRs2bKjw/
wAAAAAAAAAgSWGBDgAAAAAAAAAg9FFoBAAAAAAAAOAzCo0AAAAAAAAAfEahEQAAAAAAAIDPDBUaz507p3vvvVc5OTn+ygMAAAAAAAAgBBkqNNavX1/
vvvuuv7IAAAAAAAAACFGGb50eNWqU1q5d64coAAAAAAAAAEJVPaMTdOzYUU8//bT+9a9/
qXfv3mrSpInb8ClTppgWrrS0VDNnztSf//
xn5efnKz4+XuPHj9dTTz0li8Vi2nIAAAAAAAAA+MZwofHVV19VTEyMdu/
erd27d7sNs1gsphYa58+fr5dfflmvv/66unbtql27dmnChAmKjo42dTkAAAAAAAAAfGO40FiTD4LZunWrbrnlFv385z+XJLVr105vv/22du7cWWMZAAAAAAAAAFTN8G80ljl79qyys7N1/
vx5M/O4ueaaa/TJJ5/o66+/liTt3btXW7Zs0YgRI/
y2TAAAAAAAAADGGW7RePr0aU2ePFmvv/66JOnrr7/
WZZddpsmTJyshIUHTp083Ldz06dNlt9vVuXNnhYeHq7S0VHPmzNGdd97pcZqSkhKVlJS4uu12u2l5AAAA6oJVq6SMDKmo6Md+Nlvg8sC4it5DT8x8b202KTGx+tNHRkqZmVJKinmZAABAzTFcaExLS9PevXu1ceNGDR8+3NV/
yJAhmjlzpqmFxr/85S9688039dZbb6lr167KysrS1KlTFR8fr3HjxlU4zbx58zRr1izTMgAAANQ1GRnSwYMVD4uMrNksqJ7K3kNPfHlvy6Z1OKS8vOrPR5LS0yk0AgAQqgwXGteuXauVK1fq6quvdnvyc9euXXX48GFTwz3+
+OOaPn26br/9dklSt27ddOTIEc2bN89joTEtLU2pqamubrvdrqSkJFNzAQAA1GZlreDCwiSr9cf+Za3NEPw8vYee+PreZmZeKBB604LSE5vtQqHSl3kAAIDAMlxo/
O677xQbG1uu/6lTp9wKj2Y4ffq0wsLcf0YyPDxcDofD4zQRERGKiIgwNQcAAEBdZLVKubmBTgFf1NR7mJLieyvExETfW0MCAIDAMvwwmD59+uiDDz5wdZcVF//4xz9qwIAB5iWTNHLkSM2ZM0cffPCB/
v3vf2vNmjVauHChRo8ebepyAAAAAAAAAPjGcIvGuXPnasSIEdq/f7/
Onz+vF154Qfv379fWrVu1adMmU8O9+OKLSk9P129+8xsVFBQoPj5ev/71r5WRkWHqcgAAAAAAAAD4xnCLxoEDByorK0vnz59Xt27d9PHHHys2Nlbbtm1T7969TQ0XGRmpRYsW6ciRI/
rvf/+rw4cPa/
bs2WrQoIGpywEAAAAAAADgG8MtGiWpQ4cOWrZsmdlZAAAAAAAAAISoahUaS0tLtWbNGh04cECS1KVLF91yyy2qV69aswMAAAAAAAAQ4gxXBv/
v//5PN998s/Lz89WpUydJ0vz589WqVSv9/
e9/15VXXml6SAAAAAAAAADBzfBvNP7qV79S165dlZubqz179mjPnj369ttv1b17dz3wwAP+yAgAAAAAAAAgyBlu0ZiVlaVdu3apWbNmrn7NmjXTnDlz1LdvX1PDAQAAAAAAAAgNhls0XnHFFTp+/
Hi5/gUFBbr88stNCQUAAAAAAAAgtHhVaLTb7a6/
efPmacqUKVq9erVyc3OVm5ur1atXa+rUqZo/
f76/8wIAAAAAAAAIQl7dOh0TEyOLxeLqdjqdGjt2rKuf0+mUJI0cOVKlpaV+iAkAAAAAAAAgmHlVaNywYYO/
cwAAAAAAAAAIYV4VGq+//np/5wAAAAAAAAAQwgw/dVqSzpw5oy+//FIFBQVyOBxuw26+
+WZTggEAAAAAAAAIHYYLjevWrdM999yjEydOlBtmsVj4jUYAAIBqWrVKysiQiorc+0dGSpmZUkpK1eNWNH5l41bEZqteftQMm01KTKx6HAAAgJpmcZY9ycVLHTt21NChQ5WRkaHWrVv7K5dp7Ha7oqOjVVhYqKioqEDHAQAA8Cg5WTp4sOJhnTtLBw54N+6l41c1rjfzQOBV530MpfcwMVHKy5MSEqTc3ECnAQAAF/
O2vma4RePx48eVmpoaEkVGAACAUFLW4jAsTLJaL/
zfZpMcjvKtESsa19P4nsatTFmrSASPzEwpPd37lqm8hwAAoKYZLjSmpKRo48aN6tChgz/
yAAAA1HlW648tuspaeXkzblXjXzouQktKivvt8wAAAMHGcKFx8eLFGjNmjD777DN169ZN9evXdxs+ZcoU08IBAAAAAAAACA2GC41vv/22Pv74YzVs2FAbN26UxWJxDbNYLBQaAQAAAAAAgDrIcKHxySef1KxZszR9+nSFhYX5IxMAAAAAAACAEGO4Unj27Fn94he/
oMgIAAAAAAAAwMVwtXDcuHFauXKlP7IAAAAAAAAACFGGb50uLS3Vs88+q48+
+kjdu3cv9zCYhQsXmhYOAAAAAAAAQGgwXGj86quv1KtXL0nSvn373IZd/
GAYAAAAAAAAAHWH4ULjhg0b/
JEDAAAAAAAAQAjjiS4AAAAAAAAAfGa4ReMNN9xQ6S3Sn376qU+BAAAAAAAAAIQew4XGnj17unWfO3dOWVlZ2rdvn8aNG2dWLgAAAAAAAAAhxHCh8Xe/
+12F/WfOnKni4mKfA10qLy9P06ZN04cffqjTp0/r8ssv1/Lly9WnTx/
TlwUAAAAAAACgekz7jca77rpLr732mlmzkyT98MMPuvbaa1W/fn19+OGH2r9/v55//
nk1a9bM1OUAAAAAAAAA8I3hFo2ebNu2TQ0bNjRrdpKk+fPnKykpScuXL3f1a9+
+vanLAAAAAAAAAOA7w4XGW2+91a3b6XTKZrNp165dSk9PNy2YJL333nsaNmyYxowZo02bNikhIUG/
+c1vdP/993ucpqSkRCUlJa5uu91uaiYAAIBAsNmkxET3bm/
Hr2pcIJhcuq1LUmSklJkppaQEJhMAAPCO4UJjdHS0W3dYWJg6deqkp59+WkOHDjUtmCT9v//3//
Tyyy8rNTVVv/3tb/
X5559rypQpatCggccHz8ybN0+zZs0yNQcAAECgREZe+NfhkPLyPA/3ZvxLxwWCSVXbeno6hUYAAIKdxel0OgMdwpMGDRqoT58+2rp1q6vflClT9Pnnn2vbtm0VTlNRi8akpCQVFhYqKirK75kBAACqKzHxQoElIUHKzb3Qb/
XqCwWWoqLy41fUysvT+LQIQ7DztO3abBeKjxfvFwAAoGbZ7XZFR0dXWV+r9m80nj17VgUFBXI4HG7927RpU91ZlmO1WtWlSxe3fsnJyXr33Xc9ThMREaGIiAjTMgAAAARSSoqx4qDR8YFg4WnbLSvAAwCA4Ge40Pj111/
rvvvuc2tlKF34rUaLxaLS0lLTwl177bXKzs4ut/
y2bduatgwAAAAAAAAAvjNcaJwwYYLq1aun999/
X1arVRaLxR+5JEmPPPKIrrnmGs2dO1djx47Vzp07tXTpUi1dutRvywQAAAAAAABgnOFCY1ZWlnbv3q3OnTv7I4+bvn37as2aNUpLS9PTTz+t9u3ba9GiRbrzzjv9vmwAAAAAAAAA3jNcaOzSpYtOnDjhjywVuummm3TTTTfV2PIAAAAAAAAAGBdmdIL58+friSee0MaNG/
X999/Lbre7/
QEAAAAAAACoewy3aBwyZIgk6cYbb3Tr74+HwQAAAAAAAAAIDYYLjRs2bPBHDgAAAAAAAAAhzHCh8frrr/
dHDgAAAAAAAAAhzPBvNAIAAAAAAADApSg0AgAAAAAAAPAZhUYAAAAAAAAAPqPQCAAAAAAAAMBnhguNgwcP1smTJ8v1t9vtGjx4sBmZAAAAAAAAAIQYw4XGjRs36uzZs+X6nzlzRp999pkpoQAAAAAAAACElnrejvjll1+6/
r9//37l5+e7uktLS7Vu3TolJCSYmw4ADFi1SsrIkIqKvBs/
MlLKzJRSUvybCwAA+M5mkxIT3ftxLgcAILhYnE6n05sRw8LCZLFYJEkVTdKoUSO9+OKLuvfee81N6CO73a7o6GgVFhYqKioq0HEA+FFysnTwoLFpOneWDhzwTx4AMCoxUcrLkxISpNzcQKcBgkNV53fO5QAA+J+39TWvWzTm5OTI6XTqsssu086dO9WqVSvXsAYNGig2Nlbh4eG+pQYAH5S1ZAwLk6zWyse12SSHw/
vWjwAAIDAyM6X09PLnbM7lAAAEH68LjW3btpUkORwOv4UBADNYrVW3BCprNQQAAIJbSkrFt0ZzLgcAIPh4XWi82KFDh7RhwwYVFBSUKzxmZGSYEgwAAAAAAABA6DBcaFy2bJkmTpyoli1bKi4uzvW7jZJksVgoNAIAAAAAAAB1kOFC4+zZszVnzhxNmzbNH3kAAAAAAAAAhKAwoxP88MMPGjNmjD+yAAAAAAAAAAhRhguNY8aM0ccff+yPLAAAAAAAAABClOFbpy+//
HKlp6dr+/
bt6tatm+rXr+82fMqUKaaFAwAAAAAAABAaDBcaly5dqqZNm2rTpk3atGmT2zCLxUKhEQAAAAAAAKiDDBcac3Jy/
JEDAAAAAAAAQAgz/BuNZc6ePavs7GydP3/
ezDwAAAAAAAAAQpDhQuPp06d13333qXHjxuratauOHj0qSZo8ebKeeeYZ0wMCAAAAAAAACH6GC41paWnau3evNm7cqIYNG7r6DxkyRCtXrjQ1HAAAAAAAAIDQYLjQuHbtWi1evFgDBw6UxWJx9e/
atasOHz5sarhLPfPMM7JYLJo6dapflwMAAAAAAADAGMOFxu++
+06xsbHl+p86dcqt8Gi2zz//XK+88oq6d+/ut2UAAAAAAAAAqB7DhcY+ffrogw8+cHWXFRf/
+Mc/asCAAeYlu0hxcbHuvPNOLVu2TM2aNfPLMgAAAAAAAABUXz2jE8ydO1cjRozQ/
v37df78eb3wwgvav3+/tm7dqk2bNvkjoyZNmqSf//
znGjJkiGbPnl3puCUlJSopKXF12+12v2RC3bZqlZSRIRUVmT/
vyEgpM1NKSTF/3jWpsnXk7Ws0up5tNuM5bTYpMbF6+QAELzOOQf7kKV91jmMAgJoT7OcXAAg0i9PpdBqd6PDhw3rmmWe0d+9eFRcX66qrrtK0adPUrVs30wO+8847mjNnjj7//
HM1bNhQgwYNUs+ePbVo0aIKx585c6ZmzZpVrn9hYaGioqJMz4e6KTlZOnjQf/
Pv3Fk6cMB/868JVa0jb15jddezGfOuDe8BUJcF+z4e7PmAUJCYKOXlSQkJUm5uoNOgruD4DaCustvtio6OrrK+ZrhFoyR16NBBy5Ytq3Y4b3377bd6+OGHtX79ercnXFcmLS1Nqamprm673a6kpCR/
RUQdVfYNZliYZLWaN1+bTXI4/
NNSsqZ5WkdGXmN11nPZN8lVycyU0tMrbk1UW94DoC4z4xjkT5Ud37w9jgEAal6wn18AINAMFxo93YpssVgUERGhBg0a+ByqzO7du1VQUKCrrrrK1a+0tFSbN2/
W4sWLVVJSovDwcLdpIiIiFBERYVoGoDJWq7nfoJd9M1+bXLqOqvMazV7P0oVbWiq6raU2vgdAXWbGMcif/
HF8AwD4X7CfXwAgUAwXGmNiYip9unRiYqLGjx+vGTNmKCzM8LNm3Nx444366quv3PpNmDBBnTt31rRp08oVGQEAAAAAAAAEhuFC44oVK/
Tkk09q/Pjx6tevnyRp586dev311/XUU0/pu+++04IFCxQREaHf/
va3PoWLjIzUlVde6davSZMmatGiRbn+AAAAAAAAAALHcKHx9ddf1/
PPP6+xY8e6+o0cOVLdunXTK6+8ok8+
+URt2rTRnDlzfC40AgAAAAAAAAgNhguNW7du1ZIlS8r179Wrl7Zt2yZJGjhwoI4ePep7ugps3LjRL/
MFAAAAAAAAUH2Gf0QxKSlJr776arn+r776quvpzt9//72aNWvmezoAAAAAAAAAIcFwi8YFCxZozJgx+vDDD9W3b19J0q5du3Tw4EGtXr1akvT555/
rF7/4hblJAQAAAAAAAAQtw4XGm2+
+WdnZ2XrllVeUnZ0tSRoxYoTWrl2rdu3aSZImTpxoakgAAAAAAAAAwc1woVGS2rVrp3nz5pXrv2/
fPp4GDQAAAAAAANRBhn+j8VJFRUVaunSp+vXrpx49epiRCQAAAAAAAECIqXahcfPmzRo3bpysVqsWLFigwYMHa/
v27WZmAwAAAAAAABAiDN06nZ+frxUrVujVV1+V3W7X2LFjVVJSorVr16pLly7+yggAAAAAAAAgyHndonHkyJHq1KmTvvzySy1atEjHjh3Tiy+
+6M9sAAAAAAAAAEKE1y0aP/zwQ02ZMkUTJ05Ux44d/
ZkJAAAAAAAAQIjxukXjli1bVFRUpN69e6t///5avHixTpw44c9sAAAAAAAAAEKE14XGq6+
+WsuWLZPNZtOvf/1rvfPOO4qPj5fD4dD69etVVFTkz5xAQKxaJSUnS4mJ7n82m3+Xa7OVX2ZysrR6tX+XW10Vraeq1lFFr7Gm17ORfMG8/
gEY54/jrKdzRrAd34Daxpdztqf9lvM+qvs5wJvt0cj5Iti3x8peSzDnBuA/
FqfT6azuxNnZ2Xr11Vf1pz/9SSdPntRPf/
pTvffee2bm85ndbld0dLQKCwsVFRUV6DgIMcnJ0sGDnod37iwdOBC6yzNLZbkvzVzVa/
RmHv5k5LUACF6JiVJenpSQIOXm/tjfn8fZYD+
+AbWNGedszvvwxOj5ojZdDxsRqp9fABjnbX3N0FOnL9WpUyc9++yzmjdvnv7+97/
rtdde82V2QNApa6gbFiZZre7DIiOlzExzl5eZKaWn/7jcMjab5HCU7x8sPK2nitaRp9foiT/
Wc2Uqyhfs6x+A9/
x5nK3snFGRmj6+AbWNGefsivZbzvuQjH8OMLI9GjlfBPv26Om1BHtuAP7jU4vGUECLRvjCU4uYuprDk2DP56va/
vqA2sjofmvGfs6xAgg8M/Z99mVI/j0vGJl3sG+PZrxGAKHB2/qa17/
RCAAAAAAAAACeUGgEAAAAAAAA4DMKjQAAAAAAAAB8RqERAAAAAAAAgM8oNAIAAAAAAADwGYVGAAAAAAAAAD6j0AgAAAAAAADAZxQaAQAAAAAAAPiMQiMAAAAAAAAAn1FoBAAAAAAAAOAzCo0AAAAAAAAAfBbUhcZ58+apb9+
+ioyMVGxsrEaNGqXs7OxAxwIAAAAAAABwiaAuNG7atEmTJk3S9u3btX79ep07d05Dhw7VqVOnAh0NAAAAAAAAwEXqBTpAZdatW+fWvWLFCsXGxmr37t267rrrApQKAAAAAAAAwKWCutB4qcLCQklS8+bNPY5TUlKikpISV7fdbvd7LoSWVaukjAypqKjqcW02/
+cxwmaTEhPd+0VGSpmZUkqKecsxso7KcqF6KlvX/
nhvgdqoov2ouselio6zRqYFEBy83Zcr229r6roLvvF0LWXkvTLzPFKRS7el6szbl/
NTdbCtB47Rz2LB/
F7587NObVpPtY3F6XQ6Ax3CGw6HQzfffLNOnjypLVu2eBxv5syZmjVrVrn+hYWFioqK8mdEhIjkZOngQWPTdO4sHTjgnzzeqCqz2fmqs478kSNYJCZKeXlSQoKUm2vuvGv6vQVqo8r2I2/3oeoe93xZJgDzmXENw7k5tPj7HODL+23GtmTm+ckob/
J5uk725/
VzbReKn1c98efxtDatp1Bht9sVHR1dZX0tZFo0Tpo0Sfv27au0yChJaWlpSk1NdXXb7XYlJSX5Ox5CSNk3HmFhktVa9fhl33wEUmamlJ5e/
tsam01yOLz/
FsdbRteRFBzrKRR5Wtf+em+B2sjTfmTkuOTpOGsUx0IgsKqzL1+639b0dRd8U9E5wOh7ZcZ5pCKVbY/
eztus85MRbOuBZeSzWLC/V/78rFOb1lNtExKFxoceekjvv/++Nm/
erMQq2otHREQoIiKihpIhlFmtofPtWkpKxU28y74p9JdQWkeh7tJ17e/3FqiNfDlmeTrOAggtZuzLgbrugm8uPgdU970y+9rXn9ujP7GtBwdvtsdQea/8+VmnNq2n2iKoC41Op1OTJ0/
WmjVrtHHjRrVv3z7QkQAAAAAAAABUIKgLjZMmTdJbb72lv/3tb4qMjFR+fr4kKTo6Wo0aNQpwOgAAAAAAAABlwgIdoDIvv/
yyCgsLNWjQIFmtVtffypUrAx0NAAAAAAAAwEWCukVjiDwQGwAAAAAAAKjzgrpFIwAAAAAAAIDQQKERAAAAAAAAgM8oNAIAAAAAAADwGYVGAAAAAAAAAD6j0AgAAAAAAADAZxQaAQAAAAAAAPiMQiMAAAAAAAAAn1FoBAAAAAAAAOAzCo0AAAAAAAAAfEahEQAAAAAAAIDP6gU6AOq2VaukjAypqKj8sMhIKTNTSknxbnxv2WzVnzZY2WxSYuKP3RWtO08qWqe1cR0BtYmnY6GRfR8AUD2XXnd5YvRa9tLxjV4nhyIj5zNP41Z23VrRe1Vb1l1N8GZbr+pzgy/7S21XnW3ak5rc1s28DvV2+/
A0bXWmYXv0P4vT6XQGOoQ/2e12RUdHq7CwUFFRUYGOg0skJ0sHD3oe3rmzdOCA9+Mbcem8Q1Fl68Pb12fGPGq7xEQpL09KSJByc2tm3v5cJkIf+6079hcANaE616FGr2UvHt/
odXIoMnI+8+e64zziria2dW/mUduZsY8H4jhhZL/1tG/
V9Od6tkdzeFtfo0UjAqrsW5CwMMlq/bG/zSY5HOW/
JfE0vlFl31CEusxMKT29fGvEitadJ57WaW1ZR0BtVNF+a3TfBwAYU9F1lydGr2UrGt/
odXIoMnI+q+xzwKXXrZ7eq9q07vzJyLYuVfy5wYz9pbYzsk17Eoht3YzrUKPbmCe+rqeK1NXt0UwUGhEUrNaKW3N5O35dlZJSvjl3VevOE9YpEHou3m+ru+8DALxT0XWXJ0avZSsb3+h1cigycj7z5prV03tVG9edPxjZ1s2YR11/
X3z5HBbIbd2X61AztjEj2B5rFg+DAQAAAAAAAOAzCo0AAAAAAAAAfEahEQAAAAAAAIDPKDQCAAAAAAAA8BmFRgAAAAAAAAA+o9AIAAAAAAAAwGcUGgEAAAAAAAD4jEIjAAAAAAAAAJ9RaAQAAAAAAADgMwqNAAAAAAAAAHxGoREAAAAAAACAz0Ki0PjSSy+pXbt2atiwofr376+dO3cGOhIAAAAAAACAiwR9oXHlypVKTU3VjBkztGfPHvXo0UPDhg1TQUFBoKMBAAAAAAAA+J+gLzQuXLhQ999/
vyZMmKAuXbpoyZIlaty4sV577bVARwMAAAAAAADwP0FdaDx79qx2796tIUOGuPqFhYVpyJAh2rZtWwCTAQAAAAAAALhYvUAHqMyJEydUWlqq1q1bu/
Vv3bq1Dh48WOE0JSUlKikpcXUXFhZKkux2u/+CBtD110vHjwc6RfXl51/41+GQLn6LHI4L/
x47JsXHVz0+fuRp3XnCOq2a0XVqhNF9AJAq3m7q8jbDcQxAsDF6LVvR+HXhGsHI+cyMYz2fMYJTbdqmjfDndlfTn19q075lxrpr3VratMm8TMGirK7mdDorHc/
irGqMADp27JgSEhK0detWDRgwwNX/
iSee0KZNm7Rjx45y08ycOVOzZs2qyZgAAAAAAABArfftt98qMTHR4/CgbtHYsmVLhYeH6/
glTfaOHz+uuLi4CqdJS0tTamqqq9vhcOg///
mPWrRoIYvF4te8gWC325WUlKRvv/1WUVFRgY4D1Hnsk0BwYZ8Eggv7JBA82B+B4BLs+6TT6VRRUZHiq2jqGdSFxgYNGqh379765JNPNGrUKEkXCoeffPKJHnrooQqniYiIUEREhFu/
mJgYPycNvKioqKDcEIG6in0SCC7sk0BwYZ8Eggf7IxBcgnmfjI6OrnKcoC40SlJqaqrGjRunPn36qF+/
flq0aJFOnTqlCRMmBDoaAAAAAAAAgP8J+kLjL37xC3333XfKyMhQfn6+evbsqXXr1pV7QAwAAAAAAACAwAn6QqMkPfTQQx5vla7rIiIiNGPGjHK3iwMIDPZJILiwTwLBhX0SCB7sj0BwqS37ZFA/
dRoAAAAAAABAaAgLdAAAAAAAAAAAoY9CIwAAAAAAAACfUWgEAAAAAAAA4DMKjQAAAAAAAAB8RqExxL300ktq166dGjZsqP79+2vnzp2BjgTUSTNnzpTFYnH769y5c6BjAXXG5s2bNXLkSMXHx8tisWjt2rVuw51OpzIyMmS1WtWoUSMNGTJEhw4dCkxYoJaran8cP358uXPm8OHDAxMWqAPmzZunvn37KjIyUrGxsRo1apSys7Pdxjlz5owmTZqkFi1aqGnTprrtttt0/
PjxACUGajdv9slBgwaVO1c+
+OCDAUpsDIXGELZy5UqlpqZqxowZ2rNnj3r06KFhw4apoKAg0NGAOqlr166y2Wyuvy1btgQ6ElBnnDp1Sj169NBLL71U4fBnn31Wv//977VkyRLt2LFDTZo00bBhw3TmzJkaTgrUflXtj5I0fPhwt3Pm22+/
XYMJgbpl06ZNmjRpkrZv367169fr3LlzGjp0qE6dOuUa55FHHtH/b+/e46KqE/
+Pvw+IeINBVC6jqJh3BSVNNM1urqa7Flm6lZm6rpVL+jVsUzbFLJVs2xbLstUuuq2YXVbb2kdmDxOtNO/
o+nUlY1kvKaK2zAisqDC/P/o6PxHQGWaGmYHX8/GYx4P5nDln3iBnDo+355zPJ598og8+
+ECbN2/WiRMnNGrUKC+mBuouR/
ZJSZo8eXKFY+WLL77opcTOMWw2m83bIVAziYmJuummm7RkyRJJUnl5uWJiYjR16lTNmjXLy+mA+uXZZ5/
VunXrlJ2d7e0oQL1nGIbWrl2rpKQkST+dzWg2mzVjxgw99dRTkiSLxaLIyEitWLFCDzzwgBfTAnXb1fuj9NMZjYWFhZXOdARQO06fPq2IiAht3rxZgwcPlsViUatWrZSZman7779fknTo0CF169ZN27ZtU//
+/b2cGKjbrt4npZ/OaOzdu7cyMjK8G64GOKPRT124cEG7d+/
WkCFD7GMBAQEaMmSItm3b5sVkQP11+PBhmc1mdejQQWPHjtXRo0e9HQmApLy8POXn51c4ZppMJiUmJnLMBLwkKytLERER6tKli6ZMmaKzZ896OxJQb1gsFklSeHi4JGn37t26ePFiheNk165d1bZtW46TQC24ep+8bNWqVWrZsqV69uyp1NRUlZSUeCOe0xp4OwBq5syZMyorK1NkZGSF8cjISB06dMhLqYD6KzExUStWrFCXLl108uRJzZs3T7fccosOHDigkJAQb8cD6rX8/
HxJqvKYeXkZgNpz1113adSoUYqNjVVubq5+97vfafjw4dq2bZsCAwO9HQ+o08rLyzV9+nQNHDhQPXv2lPTTcbJhw4YKCwur8FqOk4DnVbVPStJDDz2kdu3ayWw2a//
+/Zo5c6ZycnL017/+1YtpHUPRCABuMHz4cPvX8fHxSkxMVLt27fT++
+9r0qRJXkwGAIBvufJ2BXFxcYqPj9cNN9ygrKws3XnnnV5MBtR9ycnJOnDgAPcSB3xEdfvko48+av86Li5O0dHRuvPOO5Wbm6sbbrihtmM6hUun/
VTLli0VGBhYaSawU6dOKSoqykupAFwWFhamzp076/vvv/
d2FKDeu3xc5JgJ+KYOHTqoZcuWHDMBD3viiSf06aefatOmTWrTpo19PCoqShcuXFBhYWGF13OcBDyrun2yKomJiZLkF8dKikY/1bBhQ/
Xp00cbN260j5WXl2vjxo0aMGCAF5MBkKSioiLl5uYqOjra21GAei82NlZRUVEVjplWq1Xbt2/
nmAn4gOPHj+vs2bMcMwEPsdlseuKJJ7R27Vp9+eWXio2NrbC8T58+CgoKqnCczMnJ0dGjRzlOAh5wvX2yKpcnHfWHYyWXTvuxlJQUjR8/
Xn379lW/
fv2UkZGh4uJiTZw40dvRgHrnqaee0siRI9WuXTudOHFCc+fOVWBgoB588EFvRwPqhaKiogr/
w5uXl6fs7GyFh4erbdu2mj59uubPn69OnTopNjZWc+bMkdlsrjATLgD3uNb+GB4ernnz5um+
+
+5TVFSUcnNz9fTTT6tjx44aNmyYF1MDdVdycrIyMzP18ccfKyQkxH7fRZPJpMaNG8tkMmnSpElKSUlReHi4QkNDNXXqVA0YMIAZpwEPuN4+mZubq8zMTI0YMUItWrTQ/
v379eSTT2rw4MGKj4/3cvrrM2w2m83bIVBzS5Ys0e9//3vl5+erd+/
eeuWVV+yn1AKoPQ888IC2bNmis2fPqlWrVho0aJAWLFjg8/
fPAOqKrKws3X777ZXGx48frxUrVshms2nu3LlatmyZCgsLNWjQIL3+
+uvq3LmzF9ICddu19selS5cqKSlJe/fuVWFhocxms4YOHarnn3+
+0oRNANzDMIwqx9955x1NmDBBknT+/
HnNmDFDq1evVmlpqYYNG6bXX3+dS6cBD7jePnns2DE9/
PDDOnDggIqLixUTE6N7771Xs2fPVmhoaC2ndR5FIwAAAAAAAACXcY9GAAAAAAAAAC6jaAQAAAAAAADgMopGAAAAAAAAAC6jaAQAAAAAAADgMopGAAAAAAAAAC6jaAQAAAAAAADgMopGAAAAAAAAAC6jaAQAAIDHTZgwQUlJSd6OAQAAAA9q4O0AAAAA8G+GYVxz+dy5c7V48WLZbLZaSgQAAABvoGgEAACAS06ePGn/
es2aNUpLS1NOTo59rFmzZmrWrJk3ogEAAKAWcek0AAAAXBIVFWV/
mEwmGYZRYaxZs2aVLp2+7bbbNHXqVE2fPl3NmzdXZGSkli9fruLiYk2cOFEhISHq2LGjPvvsswrvdeDAAQ0fPlzNmjVTZGSkxo0bpzNnztTydwwAAICqUDQCAADAK1auXKmWLVtqx44dmjp1qqZMmaLRo0fr5ptv1p49ezR06FCNGzdOJSUlkqTCwkLdcccdSkhI0K5du7R+/
XqdOnVKY8aM8fJ3AgAAAImiEQAAAF7Sq1cvzZ49W506dVJqaqoaNWqkli1bavLkyerUqZPS0tJ09uxZ7d+/
X5K0ZMkSJSQkaOHCheratasSEhL09ttva9OmTfruu++8/
N0AAACAezQCAADAK+Lj4+1fBwYGqkWLFoqLi7OPRUZGSpIKCgokSfv27dOmTZuqvN9jbm6uOnfu7OHEAAAAuBaKRgAAAHhFUFBQheeGYVQYuzybdXl5uSSpqKhII0eO1KJFiyptKzo62oNJAQAA4AiKRgAAAPiFG2+8UR999JHat2+vBg34MxYAAMDXcI9GAAAA+IXk5GT9+OOPevDBB7Vz507l5ubq888/18SJE1VWVubteAAAAPUeRSMAAAD8gtls1jfffKOysjINHTpUcXFxmj59usLCwhQQwJ+1AAAA3mbYbDabt0MAAAAAAAAA8G/81y8AAAAAAAAAl1E0AgAAAAAAAHAZRSMAAAAAAAAAl1E0AgAAAAAAAHAZRSMAAAAAAAAAl1E0AgAAAAAAAHAZRSMAAAAAAAAAl1E0AgAAAAAAAHAZRSMAAAAAAAAAl1E0AgAAAAAAAHAZRSMAAAAAAAAAl1E0AgAAAAAAAHBZA28H8LTy8nKdOHFCISEhMgzD23EAAAAAAAAAv2Kz2XTu3DmZzWYFBFR/3mKdLxpPnDihmJgYb8cAAAAAAAAA/
NqxY8fUpk2bapfX+aIxJCRE0k8/
iNDQUC+nAQAAAAAAAPyL1WpVTEyMvWerTp0vGi9fLh0aGkrRCAAAAAAAANTQ9W5LyGQwAAAAAAAAAFxG0QgAAAAAAADAZRSNAAAAAAAAAFxW5+/
RCAAAAAAAUN+UlZXp4sWL3o4BPxEUFKTAwECXt0PRCAAAAAAAUEfYbDbl5+ersLDQ21HgZ8LCwhQVFXXdCV+uhaIRAAAAAACgjrhcMkZERKhJkyYulUaoH2w2m0pKSlRQUCBJio6OrvG2KBoBAAAAAADqgLKyMnvJ2KJFC2/
HgR9p3LixJKmgoEARERE1voyayWAAAAAAAADqgMv3ZGzSpImXk8AfXf69ceXenhSNAAAAAAAAdQiXS6Mm3PF7Q9EIAAAAAAAAwGUUjQAAAAAAAKjTsrKyZBiG38/
GbRiG1q1b5+0Y1fJq0bhlyxaNHDlSZrP5uj+oxx9/XIZhKCMjo9byAQAAAAAAwP/
dfPPNOnnypEwmk7ejuOTkyZMaPny4t2NUy6tFY3FxsXr16qXXXnvtmq9bu3atvv32W5nN5lpKBgAAAAAAgLqiYcOGioqK8tn7Vzo6AUtUVJSCg4M9nKbmvFo0Dh8+XPPnz9e9995b7Wt+
+OEHTZ06VatWrVJQUFAtpgMAAAAAAEBtWb9+vQYNGqSwsDC1aNFCv/
jFL5Sbm2tfvnXrVvXu3VuNGjVS3759tW7dOhmGoezs7Otu++pLp1esWKGwsDB9/
vnn6tatm5o1a6a77rpLJ0+edChrVlaW+vXrp6ZNmyosLEwDBw7UkSNH7Ms//
vhj3XjjjWrUqJE6dOigefPm6dKlS/blhmFo6dKluvvuu9W0aVM9//
zzatOmjZYuXVrhffbu3auAgAD7tq+
+Ivj48eN68MEHFR4erqZNm6pv377avn27wzncrYHHtuwG5eXlGjdunH7729+qR48eDq1TWlqq0tJS+3Or1eqpeAAAAAAAAHCT4uJipaSkKD4+XkVFRUpLS9O9996r7OxsFRUVaeTIkRoxYoQyMzN15MgRTZ8+3aX3Kykp0UsvvaR3331XAQEBevjhh/
XUU09p1apV11zv0qVLSkpK0uTJk7V69WpduHBBO3bssJ8t+dVXX+mRRx7RK6+8oltuuUW5ubl69NFHJUlz5861b+fZZ5/
VCy+8oIyMDDVo0ED//e9/
lZmZqSlTpthfs2rVKg0cOFDt2rWrlKOoqEi33nqrWrdurb/97W+KiorSnj17VF5e7lQOd/
LponHRokVq0KCBpk2b5vA66enpmjdvngdTAQAAAAAA+I+
+ffsqPz+/1t83KipKu3btcvj19913X4Xnb7/9tlq1aqWDBw/q66+/
lmEYWr58uRo1aqTu3bvrhx9+0OTJk2uc7+LFi3rjjTd0ww03SJKeeOIJPffcc9ddz2q1ymKx6Be/
+IV93W7dutmXz5s3T7NmzdL48eMlSR06dNDzzz+vp59+ukLB99BDD2nixIn252PHjtUf/
vAHHT16VG3btlV5ebnee+89zZ49u8ocmZmZOn36tHbu3Knw8HBJUseOHZ3O4U4+WzTu3r1bixcv1p49e5y6fj41NVUpKSn251arVTExMZ6ICAAAAAAA4PPy8/
P1ww8/eDvGdR0+fFhpaWnavn27zpw5Yz8z7+jRo8rJyVF8fLwaNWpkf32/
fv1cer8mTZrYi0JJio6OVkFBwXXXCw8P14QJEzRs2DD97Gc/05AhQzRmzBhFR0dLkvbt26dvvvlGCxYssK9TVlam8+fPq6SkRE2aNJH0UwF8pd69e6tbt27KzMzUrFmztHnzZhUUFGj06NFV5sjOzlZCQoK9ZLyaozncyWeLxq+
++koFBQVq27atfaysrEwzZsxQRkaG/v3vf1e5XnBwsE/
fFBMAAAAAAKA2RUVF+cX7jhw5Uu3atdPy5ctlNptVXl6unj176sKFCx7Jd/
VcIIZhyGazObTuO++8o2nTpmn9+vVas2aNZs+erS+++EL9+/
dXUVGR5s2bp1GjRlVa78qitGnTppWWjx071l40ZmZm6q677lKLFi2qzNC4ceNrZnQ0hzv5bNE4btw4DRkypMLYsGHDNG7cuAqnlQIAAAAAAKB6zly+7C1nz55VTk6Oli9frltuuUWS9PXXX9uXd+nSRX/5y19UWlpqP8Fs586dXsl6WUJCghISEpSamqoBAwYoMzNT/
fv314033qicnJwKlzE76qGHHtLs2bO1e/duffjhh3rjjTeqfW18fLzefPNN/
fjjj1We1ehKjpryatFYVFSk77//3v48Ly9P2dnZCg8PV9u2bSs1tkFBQYqKilKXLl1qOyoAAAAAAAA8pHnz5mrRooWWLVum6OhoHT16VLNmzbIvf+ihh/
TMM8/
o0Ucf1axZs3T06FG99NJLkuTULffcIS8vT8uWLdPdd98ts9msnJwcHT58WI888ogkKS0tTb/4xS/
Utm1b3X///QoICNC+fft04MABzZ8//5rbbt++vW6+
+WZNmjRJZWVluvvuu6t97YMPPqiFCxcqKSlJ6enpio6O1t69e2U2mzVgwACXctRUgEe26qBdu3bZ219JSklJUUJCgtLS0rwZCwAAAAAAALUoICBA7733nnbv3q2ePXvqySef1O9//3v78tDQUH3yySfKzs5W79699cwzz9j7I09dBlydJk2a6NChQ7rvvvvUuXNnPfroo0pOTtZjjz0m6acrcj/99FNt2LBBN910k/
r3768//
vGPVc4cXZWxY8dq3759uvfee695eXTDhg21YcMGRUREaMSIEYqLi9MLL7ygwMBAt+SoCcPm6MXnfspqtcpkMslisSg0NNTbcQAAAAAAADzi/
PnzysvLU2xsbK2Xb96watUqTZw4URaL5br3K8T1Xev3x9F+zWfv0QgAAAAAAABc9uc//1kdOnRQ69attW/
fPs2cOVNjxoyhZPQhXr10GgAAAAAAAHBEfn6+Hn74YXXr1k1PPvmkRo8erWXLlkmSHn/8cTVr1qzKx+OPP+70e1W3rWbNmumrr75y97dWZ3DpNAAAAAAAQB1Q3y6dvlJBQYGsVmuVy0JDQxUREeHU9q6cvPhqrVu3rpNnUXLpNAAAAAAAAOq9iIgIp8vEa+nYsaPbtlWfcOk0AAAAAABAHVLHL16Fh7jj94aiEQAAAAAAoA4ICgqSJJWUlHg5CfzR5d+by79HNcGl0wAAAAAAAHVAYGCgwsLCVFBQIElq0qSJDMPwcir4OpvNppKSEhUUFCgsLEyBgYE13hZFIwAAAAAAQB0RFRUlSfayEXBUWFiY/
fenpigaAQAAAAAA6gjDMBQdHa2IiAhdvHjR23HgJ4KCglw6k/
EyikYAAAAAAIA6JjAw0C3FEeAMJoMBAAAAAAAA4DKKRgAAAAAAAAAuo2gEAAAAAAAA4DKKRgAAAAAAAAAuo2gEAAAAAAAA4DKKRgAAAAAAAAAuo2gEAAAAAAAA4DKKRgAAAAAAAAAuo2gEAAAAAAAA4DKKRgAAAAAAAAAuo2gEAAAAAAAA4DKKRgAAAAAAAAAuo2gEAAAAAAAA4DKKRgAAAAAAAAAuo2gEAAAAAAAA4DKvFo1btmzRyJEjZTabZRiG1q1bZ1928eJFzZw5U3FxcWratKnMZrMeeeQRnThxwnuBAQAAAAAAAFTJq0VjcXGxevXqpddee63SspKSEu3Zs0dz5szRnj179Ne//
lU5OTm6+
+67vZAUAAAAAAAAwLUYNpvN5uxK7777rt544w3l5eVp27ZtateunTIyMhQbG6t77rmnZkEMQ2vXrlVSUlK1r9m5c6f69eunI0eOqG3btg5t12q1ymQyyWKxKDQ0tEbZAAAAAAAAgPrK0X7N6TMaly5dqpSUFI0YMUKFhYUqKyuTJIWFhSkjI6PGgR1hsVhkGIbCwsKqfU1paamsVmuFBwAAAAAAAADPcrpofPXVV7V8+XI988wzCgwMtI/37dtX//
jHP9wa7krnz5/XzJkz9eCDD16zOU1PT5fJZLI/
YmJiPJYJAAAAAAAAwE+cLhrz8vKUkJBQaTw4OFjFxcVuCXW1ixcvasyYMbLZbFq6dOk1X5uamiqLxWJ/
HDt2zCOZAAAAAAAAAPx/
DZxdITY2VtnZ2WrXrl2F8fXr16tbt25uC3bZ5ZLxyJEj+vLLL697n8Xg4GAFBwe7PQcAAAAAAACA6jldNKakpCg5OVnnz5+XzWbTjh07tHr1aqWnp+vNN990a7jLJePhw4e1adMmtWjRwq3bBwAAAAAAAOAeTheNv/71r9W4cWPNnj1bJSUleuihh2Q2m7V48WI98MADTm2rqKhI33//
vf15Xl6esrOzFR4erujoaN1///3as2ePPv30U5WVlSk/
P1+SFB4eroYNGzobHQAAAAAAAICHGDabzVbTlUtKSlRUVKSIiIgarZ+VlaXbb7+90vj48eP17LPPKjY2tsr1Nm3apNtuu82h93B0+m0AAAAAAAAAlTnarzl9RmNeXp4uXbqkTp06qUmTJmrSpIkk6fDhwwoKClL79u0d3tZtt92ma/
WcLnSgAAAAAAAAAGqR07NOT5gwQVu3bq00vn37dk2YMMEdmQAAAAAAAAD4GaeLxr1792rgwIGVxvv376/
s7Gx3ZAIAAAAAAADgZ5wuGg3D0Llz5yqNWywWlZWVuSUUAAAAAAAAAP/
idNE4ePBgpaenVygVy8rKlJ6erkGDBrk1HAAAAAAAAAD/4PRkMIsWLdLgwYPVpUsX3XLLLZKkr776SlarVV9+
+aXbAwIAAAAAAADwfU6f0di9e3ft379fY8aMUUFBgc6dO6dHHnlEhw4dUs+ePT2REQAAAAAAAICPM2w2m83bITzJarXKZDLJYrEoNDTU23EAAAAAAAAAv+Jov+bQpdP79+9Xz549FRAQoP3791/
ztfHx8c4lBQAAAAAAAOD3HCoae/
furfz8fEVERKh3794yDENVnQhpGAYzTwMAAAAAAAD1kENFY15enlq1amX/
GgAAAAAAAACu5FDR2K5dO/vXkZGRatSokccCAQAAAAAAAPA/
Ts86HRERofHjx+uLL75QeXm5JzIBAAAAAAAA8DNOF40rV65USUmJ7rnnHrVu3VrTp0/
Xrl27PJENAAAAAAAAgJ9wumi899579cEHH+jUqVNauHChDh48qP79+6tz58567rnnPJERAAAAAAAAgI8zbFVNH+2kgwcPauzYsdq/
f7/PzTpttVplMplksVgUGhrq7TgAAAAAAACAX3G0X3P6jMbLzp8/r/
fff19JSUm68cYb9eOPP+q3v/1tTTcHAAAAAAAAwI85NOv0lT7//
HNlZmZq3bp1atCgge6//35t2LBBgwcP9kQ+AAAAAAAAAH7A6aLx3nvv1ciRI/
XnP/9ZI0aMUFBQkCdyAQAAAAAAAPAjThWNly5d0qJFizR69GhFRUV5KhMAAAAAAAAAP+PUPRobNGigmTNnqrS01FN5AAAAAAAAAPghpyeD6devn/
bu3euJLAAAAAAAAAD8lNP3aPzNb36jGTNm6Pjx4+rTp4+aNm1aYXl8fLzbwgEAAAAAAADwD4bNZrM5s0JAQOWTIA3DkM1mk2EYKisrc1s4d7BarTKZTLJYLAoNDfV2HAAAAAAAAMCvONqvOX1GY15enkvBAAAAAAAAANQ9TheN7dq180QOAAAAAAAAAH7M6clgJOndd9/
VwIEDZTabdeTIEUlSRkaGPv74Y6e2s2XLFo0cOVJms1mGYWjdunUVlttsNqWlpSk6OlqNGzfWkCFDdPjw4ZpEBgAAAAAAAOBBTheNS5cuVUpKikaMGKHCwkL7PRnDwsKUkZHh1LaKi4vVq1cvvfbaa1Uuf/
HFF/XKK6/
ojTfe0Pbt29W0aVMNGzZM58+fdzY2AAAAAAAAAA9yejKY7t27a+HChUpKSlJISIj27dunDh066MCBA7rtttt05syZmgUxDK1du1ZJSUmSfjqb0Ww2a8aMGXrqqackSRaLRZGRkVqxYoUeeOABh7bLZDAAAAAAAABAzTnarzl9RmNeXp4SEhIqjQcHB6u4uNjZzV3zffLz8zVkyBD7mMlkUmJiorZt2+a29wEAAAAAAADgOqcng4mNjVV2dnalSWHWr1+vbt26uS1Yfn6+JCkyMrLCeGRkpH1ZVUpLS1VaWmp/
brVa3ZYJAAAAAAAAQNWcLhpTUlKUnJys8+fPy2azaceOHVq9erXS09P15ptveiKjU9LT0zVv3jxvxwAAAAAAAADqFaeLxl//
+tdq3LixZs+erZKSEj300EMym81avHixw/
dNdERUVJQk6dSpU4qOjraPnzp1Sr179652vdTUVKWkpNifW61WxcTEuC0XAAAAAAAAgMqcLholaezYsRo7dqxKSkpUVFSkiIgId+dSbGysoqKitHHjRnuxaLVatX37dk2ZMqXa9YKDgxUcHOz2PAAAAAAAAACq53TR+N///
lc2m01NmjRRkyZNdPr0aWVkZKh79+4aOnSoU9sqKirS999/
b3+el5en7OxshYeHq23btpo+fbrmz5+vTp06KTY2VnPmzJHZbLbPTA0AAAAAAADANzhdNN5zzz0aNWqUHn/8cRUWFqpfv35q2LChzpw5o5dffvmaZxtebdeuXbr99tvtzy9f8jx+/
HitWLFCTz/9tIqLi/
Xoo4+qsLBQgwYN0vr169WoUSNnYwMAAAAAAADwIMNms9mcWaFly5bavHmzevTooTfffFOvvvqq9u7dq48+
+khpaWn65z//6amsNWK1WmUymWSxWBQaGurtOAAAAAAAAIBfcbRfC3B2wyUlJQoJCZEkbdiwQaNGjVJAQID69+
+vI0eO1DwxAAAAAAAAAL/
ldNHYsWNHrVu3TseOHdPnn39uvy9jQUEBZwwCAAAAAAAA9ZTTRWNaWpqeeuoptW/
fXomJiRowYICkn85uTEhIcHtAAAAAAAAAAL7P6Xs0SlJ+fr5OnjypXr16KSDgp65yx44dCg0NVdeuXd0e0hXcoxEAAAAAAACoOUf7NadnnZakqKgoRUVFVRjr169fTTYFAAAAAAAAoA5w+tJpAAAAAAAAALgaRSMAAAAAAAAAl1E0AgAAAAAAAHAZRSMAAAAAAAAAl9VoMpjDhw9r06ZNKigoUHl5eYVlaWlpbgkGAAAAAAAAwH84XTQuX75cU6ZMUcuWLRUVFSXDMOzLDMOgaAQAAAAAAADqIaeLxvnz52vBggWaOXOmJ/
IAAAAAAAAA8ENO36PxP//5j0aPHu2JLAAAAAAAAAD8lNNF4+jRo7VhwwZPZAEAAAAAAADgp5y+dLpjx46aM2eOvv32W8XFxSkoKKjC8mnTprktHAAAAAAAAAD/
YNhsNpszK8TGxla/
McPQv/71L5dDuZPVapXJZJLFYlFoaKi34wAAAAAAAAB+xdF+zekzGvPy8lwKBgAAAAAAAKDucfoejQAAAAAAAABwNYfOaExJSdHzzz+vpk2bKiUl5Zqvffnll90SDAAAAAAAAID/
cKho3Lt3ry5evGj/
ujqGYbgnFQAAAAAAAAC/4vRkMP6GyWAAAAAAAACAmnO0X+MejQAAAAAAAABcRtEIAAAAAAAAwGUUjQAAAAAAAABcRtEIAAAAAAAAwGVOFY0XL17Ur371K+Xl5XkqDwAAAAAAAAA/5FTRGBQUpI8+
+shTWSopKyvTnDlzFBsbq8aNG+uGG27Q888/
rzo+UTYAAAAAAADgd5y+dDopKUnr1q3zQJTKFi1apKVLl2rJkiX65z//qUWLFunFF1/Uq6+
+WivvDwAAAAAAAMAxDZxdoVOnTnruuef0zTffqE+fPmratGmF5dOmTXNbuK1bt+qee+7Rz3/
+c0lS+/bttXr1au3YscNt7wEAAAAAAADAdU4XjW+99ZbCwsK0e/
du7d69u8IywzDcWjTefPPNWrZsmb777jt17txZ+/
bt09dff62XX3652nVKS0tVWlpqf261Wt2WBwAAAAAAAEDVnC4aa3MimFmzZslqtapr164KDAxUWVmZFixYoLFjx1a7Tnp6uubNm1drGQEAAAAAAADU4B6Nl124cEE5OTm6dOmSO/
NU8P7772vVqlXKzMzUnj17tHLlSr300ktauXJlteukpqbKYrHYH8eOHfNYPgAAAAAAAAA/
MWxOTuFcUlKiqVOn2su+7777Th06dNDUqVPVunVrzZo1y23hYmJiNGvWLCUnJ9vH5s+fr7/85S86dOiQQ9uwWq0ymUyyWCwKDQ11WzYAAAAAAACgPnC0X3P6jMbU1FTt27dPWVlZatSokX18yJAhWrNmTc3SVqOkpEQBARUjBgYGqry83K3vAwAAAAAAAMA1Tt+jcd26dVqzZo369+8vwzDs4z169FBubq5bw40cOVILFixQ27Zt1aNHD+3du1cvv/
yyfvWrX7n1fQAAAAAAAAC4xumi8fTp04qIiKg0XlxcXKF4dIdXX31Vc+bM0W9+8xsVFBTIbDbrscceU1pamlvfBwAAAAAAAIBrnL50um/
fvvr73/9uf365XHzzzTc1YMAA9yWTFBISooyMDB05ckT//e9/lZubq/
nz56thw4ZufR8AAAAAAAAArnH6jMaFCxdq+PDhOnjwoC5duqTFixfr4MGD2rp1qzZv3uyJjAAAAAAAAAB8nNNnNA4aNEjZ2dm6dOmS4uLitGHDBkVERGjbtm3q06ePJzICAAAAAAAA8HGGzWazeTuEJzk6/
TYAAAAAAACAyhzt15y+dFqSysrKtHbtWv3zn/
+UJHXv3l333HOPGjSo0eYAAAAAAAAA+Dmnm8H//d//1d133638/
Hx16dJFkrRo0SK1atVKn3zyiXr27On2kAAAAAAAAAB8m9P3aPz1r3+tHj166Pjx49qzZ4/27NmjY8eOKT4+Xo8+
+qgnMgIAAAAAAADwcU6f0Zidna1du3apefPm9rHmzZtrwYIFuummm9waDgAAAAAAAIB/
cPqMxs6dO+vUqVOVxgsKCtSxY0e3hAIAAAAAAADgXxwqGq1Wq/2Rnp6uadOm6cMPP9Tx48d1/
Phxffjhh5o+fboWLVrk6bwAAAAAAAAAfJBhs9ls13tRQECADMOwP7+8yuWxK5+XlZV5ImeNOTr9NgAAAAAAAIDKHO3XHLpH46ZNm9wWDAAAAAAAAEDd41DReOutt3o6BwAAAAAAAAA/5vSs05J0/
vx57d+/
XwUFBSovL6+w7O6773ZLMAAAAAAAAAD+w+micf369XrkkUd05syZSst88R6NAAAAAAAAADzPoVmnrzR16lSNHj1aJ0+eVHl5eYUHJSMAAAAAAABQPzldNJ46dUopKSmKjIz0RB4AAAAAAAAAfsjpovH+
+
+9XVlaWB6IAAAAAAAAA8FeGzWazObNCSUmJRo8erVatWikuLk5BQUEVlk+bNs2tAV1ltVplMplksVgUGhrq7TgAAAAAAACAX3G0X3N6MpjVq1drw4YNatSokbKysmQYhn2ZYRg+VzQCAAAAAAAA8Dyni8ZnnnlG8+bN06xZsxQQ4PSV1wAAAAAAAADqIKebwgsXLuiXv/
wlJSMAAAAAAAAAO6fbwvHjx2vNmjWeyAIAAAAAAADATzl96XRZWZlefPFFff7554qPj680GczLL7/
stnAAAAAAAAAA/IPTReM//
vEPJSQkSJIOHDhQYdmVE8MAAAAAAAAAqD+cLho3bdrkiRwAAAAAAAAA/
JjPz+jyww8/6OGHH1aLFi3UuHFjxcXFadeuXd6OBQAAAAAAAOAKTp/RePvtt1/zEukvv/
zSpUBX+s9//qOBAwfq9ttv12effaZWrVrp8OHDat68udveAwAAAAAAAIDrnC4ae/
fuXeH5xYsXlZ2drQMHDmj8+PHuyiVJWrRokWJiYvTOO+/
Yx2JjY936HgAAAAAAAABc53TR+Mc//rHK8WeffVZFRUUuB7rS3/72Nw0bNkyjR4/
W5s2b1bp1a/3mN7/R5MmTq12ntLRUpaWl9udWq9WtmQAAAAAAAABU5rZ7ND788MN6+
+233bU5SdK//
vUvLV26VJ06ddLnn3+uKVOmaNq0aVq5cmW166Snp8tkMtkfMTExbs0EAAAAAAAAoDLDZrPZ3LGhd999VzNnztSJEyfcsTlJUsOGDdW3b19t3brVPjZt2jTt3LlT27Ztq3Kdqs5ojImJkcViUWhoqNuyAQAAAAAAAPWB1WqVyWS6br/
m9KXTo0aNqvDcZrPp5MmT2rVrl+bMmeN80muIjo5W9+7dK4x169ZNH330UbXrBAcHKzg42K05AAAAAAAAAFyb00WjyWSq8DwgIEBdunTRc889p6FDh7otmCQNHDhQOTk5Fca+
+
+47tWvXzq3vAwAAAAAAAMA1TheNV84A7WlPPvmkbr75Zi1cuFBjxozRjh07tGzZMi1btqzWMgAAAAAAAAC4vhrfo/
HChQsqKChQeXl5hfG2bdu6Jdhln376qVJTU3X48GHFxsYqJSXlmrNOX83Ra8gBAAAAAAAAVOZov+Z00fjdd99p0qRJFSZokX66V6NhGCorK6tZYg+haAQAAAAAAABqzmOTwUycOFENGjTQp59+qujoaBmG4VJQAAAAAAAAAP7P6aIxOztbu3fvVteuXT2RBwAAAAAAAIAfCnB2he7du+vMmTOeyAIAAAAAAADATzldNC5atEhPP/20srKydPbsWVmt1goPAAAAAAAAAPWP05PBBAT81E1efW9GJoMBAAAAAAAA6h6PTQazadMml4IBAAAAAAAAqHucLhpvvfVWT+QAAAAAAAAA4MecvkcjAAAAAAAAAFyNohEAAAAAAACAyygaAQAAAAAAALiMohEAAAAAAACAy5wuGu+44w4VFhZWGrdarbrjjjvckQkAAAAAAACAn3G6aMzKytKFCxcqjZ8/
f15fffWVW0IBAAAAAAAA8C8NHH3h/
v377V8fPHhQ+fn59udlZWVav369Wrdu7d50AAAAAAAAAPyCw0Vj7969ZRiGDMOo8hLpxo0b69VXX3VrOAAAAAAAAAD+weGiMS8vTzabTR06dNCOHTvUqlUr+7KGDRsqIiJCgYGBHgkJAAAAAAAAwLc5XDS2a9dOklReXu6xMAAAAAAAAAD8k8NF45UOHz6sTZs2qaCgoFLxmJaW5pZgAAAAAAAAAPyH00Xj8uXLNWXKFLVs2VJRUVEyDMO+zDAMikYAAAAAAACgHnK6aJw/
f74WLFigmTNneiIPAAAAAAAAAD8U4OwK//
nPfzR69GhPZAEAAAAAAADgp5wuGkePHq0NGzZ4IgsAAAAAAAAAP+X0pdMdO3bUnDlz9O233youLk5BQUEVlk+bNs1t4QAAAAAAAAD4B8Nms9mcWSE2Nrb6jRmG/
vWvf7kcyp2sVqtMJpMsFotCQ0O9HQcAAAAAAADwK472a06f0ZiXl+dSMAAAAAAAAAB1j9P3aLzswoULysnJ0aVLl9yZ55peeOEFGYah6dOn19p7AgAAAAAAALg+p4vGkpISTZo0SU2aNFGPHj109OhRSdLUqVP1wgsvuD3gZTt37tSf/
vQnxcfHe+w9AAAAAAAAANSM00Vjamqq9u3bp6ysLDVq1Mg+PmTIEK1Zs8at4S4rKirS2LFjtXz5cjVv3twj7wEAAAAAAACg5pwuGtetW6clS5Zo0KBBMgzDPt6jRw/
l5ua6NdxlycnJ+vnPf64hQ4Zc97WlpaWyWq0VHgAAAAAAAAA8y+nJYE6fPq2IiIhK48XFxRWKR3d57733tGfPHu3cudOh16enp2vevHluzwEAAAAAAACgek6f0di3b1/9/
e9/tz+/XC6++eabGjBggPuSSTp27Jj+53/+R6tWrapwmfa1pKamymKx2B/
Hjh1zayYAAAAAAAAAlTl9RuPChQs1fPhwHTx4UJcuXdLixYt18OBBbd26VZs3b3ZruN27d6ugoEA33nijfaysrExbtmzRkiVLVFpaqsDAwArrBAcHKzg42K05AAAAAAAAAFyb02c0Dho0SNnZ2bp06ZLi4uK0YcMGRUREaNu2berTp49bw9155536xz/
+oezsbPujb9+
+Gjt2rLKzsyuVjAAAAAAAAAC8w+kzGiXphhtu0PLly92dpZKQkBD17NmzwljTpk3VokWLSuMAAAAAAAAAvMfporG6WZwNw1BwcLAaNmzocigAAAAAAAAA/
sXpojEsLOyas0u3adNGEyZM0Ny5cxUQ4PSV2deVlZXl9m0CAAAAAAAAcI3TReOKFSv0zDPPaMKECerXr58kaceOHVq5cqVmz56t06dP66WXXlJwcLB+97vfuT0wAAAAAAAAAN/
jdNG4cuVK/eEPf9CYMWPsYyNHjlRcXJz+9Kc/
aePGjWrbtq0WLFhA0QgAAAAAAADUE05f27x161YlJCRUGk9ISNC2bdsk/
TQz9dGjR11PBwAAAAAAAMAvOF00xsTE6K233qo0/
tZbbykmJkaSdPbsWTVv3tz1dAAAAAAAAAD8gtOXTr/00ksaPXq0PvvsM910002SpF27dunQoUP68MMPJUk7d+7UL3/5S/
cmBQAAAAAAAOCzDJvNZnN2pX//+9/605/+pJycHElSly5d9Nhjj6l9+/
buzucyq9Uqk8kki8Wi0NBQb8cBAAAAAAAA/Iqj/
VqNisbqHDhwQD179nTX5tyCohEAAAAAAACoOUf7Nafv0Xi1c+fOadmyZerXr5969erl6uYAAAAAAAAA+KEaF41btmzR+PHjFR0drZdeekl33HGHvv32W3dmAwAAAAAAAOAnnJoMJj8/
XytWrNBbb70lq9WqMWPGqLS0VOvWrVP37t09lREAAAAAAACAj3P4jMaRI0eqS5cu2r9/
vzIyMnTixAm9+uqrnswGAAAAAAAAwE84fEbjZ599pmnTpmnKlCnq1KmTJzMBAAAAAAAA8DMOn9H49ddf69y5c+rTp48SExO1ZMkSnTlzxpPZAAAAAAAAAPgJh4vG/
v37a/
ny5Tp58qQee+wxvffeezKbzSovL9cXX3yhc+fOeTInAAAAAAAAAB9m2Gw2W01XzsnJ0VtvvaV3331XhYWF+tnPfqa//
e1v7sznMqvVKpPJJIvFotDQUG/
HAQAAAAAAAPyKo/2aw2c0VqVLly568cUXdfz4ca1evdqVTQEAAAAAAADwYy6d0egPOKMRAAAAAAAAqLlaOaMRAAAAAAAAACSKRgAAAAAAAABuQNEIAAAAAAAAwGUUjQAAAAAAAABcRtEIAAAAAAAAwGUUjQAAAAAAAABcRtEIAAAAAAAAwGUUjQAAAAAAAABc5tNFY3p6um666SaFhIQoIiJCSUlJysnJ8XYsAAAAAAAAAFfx6aJx8+bNSk5O1rfffqsvvvhCFy9e1NChQ1VcXOztaAAAAAAAAACuYNhsNpu3Qzjq9OnTioiI0ObNmzV48GCH1rFarTKZTLJYLAoNDfVwQgAAAAAAAKBucbRfa1CLmVxmsVgkSeHh4dW+prS0VKWlpfbnVqvV47kAAAAAAACA+s6nL52+Unl5uaZPn66BAweqZ8+e1b4uPT1dJpPJ/
oiJianFlAAAAAAAAED95DeXTk+ZMkWfffaZvv76a7Vp06ba11V1RmNMTAyXTgMAAAAAAAA1UKcunX7iiSf06aefasuWLdcsGSUpODhYwcHBtZQMAAAAAAAAgOTjRaPNZtPUqVO1du1aZWVlKTY21tuRAAAAAAAAAFTBp4vG5ORkZWZm6uOPP1ZISIjy8/
MlSSaTSY0bN/
ZyOgAAAAAAAACX+fQ9Gg3DqHL8nXfe0YQJExzahqPXkAMAAAAAAACorE7co9GHO1AAAAAAAAAAVwjwdgAAAAAAAAAA/
o+iEQAAAAAAAIDLKBoBAAAAAAAAuIyiEQAAAAAAAIDLKBoBAAAAAAAAuIyiEQAAAAAAAIDLKBoBAAAAAAAAuIyiEQAAAAAAAIDLKBoBAAAAAAAAuIyiEQAAAAAAAIDLKBoBAAAAAAAAuKyBtwPAfT744AOlpaXp3LlzLm0nJCREzz//
vO6//363bxuoL6raj5xR3T7n6nbdwZc+Dzz187jW9+jL/
wae+r27Fk/8PHzpdwwAfJGjn73e+Dx15rjA5z1qgy//7eYr2G8d42hXEhUVpV27dnkjom+w1XEWi8UmyWaxWLwdxeO6du1qk+SWR9euXT22bR486svj6v3IXfuzK9t1B1/7PPDEz+N636Mv/
xt46veuNn8evvY7xoMHDx6++HDks9dbn6eOHhf4vOdRWw9f/
tvNVx7stzX7OVX182jdurUnfo28ztF+jTMa65DLDXpAQICio6NrtI2TJ0+qvLy80v9OuGPbQH1R3X7kjKr2OXds1x185fPAkz+P6r5HX/438NTv3bV46ufhK79jAOCLnPnsre3PU2ePC3zew9N8+W83X8F+6xhnupKoqKhaz+dLKBrroOjoaB0/
frxG67Zp00Y//PCDR7YN1BfX24+cceU+587tuoO3Pw9q4+dx9ffoy/8Gnvq9uxZP/zy8/
TsGAL6oJp+9tfV5WtPjAp/38BRf/
tvNV7DfOoauxHFMBgMAAAAAAADAZRSNAAAAAAAAAFxG0QgAAAAAAADAZRSNAAAAAAAAAFxG0QgAAAAAAADAZRSNAAAAAAAAAFxG0QgAAAAAAADAZRSNAAAAAAAAAFxG0QgAAAAAAADAZRSNAAAAAAAAAFxG0QgAAAAAAADAZX5RNL722mtq3769GjVqpMTERO3YscPbkQAAAAAAAABcweeLxjVr1iglJUVz587Vnj171KtXLw0bNkwFBQXejgYAAAAAAADg//
h80fjyyy9r8uTJmjhxorp376433nhDTZo00dtvv+3taAAAAAAAAAD+TwNvB7iWCxcuaPfu3UpNTbWPBQQEaMiQIdq2bVuV65SWlqq0tNT+3GKxSJKsVqtnw3rJrbfeqlOnTkmS8vPzJUnl5eU1/
n7Ly8slSSdOnJDZbLaPu2PbQH1R3X7kjKr2OXds1x185fPAkz+P6r5HX/438NTv3bV46ufhK79jAOCLnPnsre3PU2ePC3zew9N8+W83X8F+6xi6kv/
fq9lstmu+zrBd7xVedOLECbVu3Vpbt27VgAED7ONPP/20Nm/
erO3bt1da59lnn9W8efNqMyYAAAAAAABQ5x07dkxt2rSpdrlPn9FYE6mpqUpJSbE/
Ly8v148//qgWLVrIMAwvJvMMq9WqmJgYHTt2TKGhod6OA9R77JOAb2GfBHwL+yTgO9gfAd/
i6/
ukzWbTuXPnrnvmq08XjS1btlRgYKD90uDLTp06paioqCrXCQ4OVnBwcIWxsLAwT0X0GaGhoT75iwjUV+yTgG9hnwR8C/
sk4DvYHwHf4sv7pMlkuu5rfHoymIYNG6pPnz7auHGjfay8vFwbN26scCk1AAAAAAAAAO/
y6TMaJSklJUXjx49X37591a9fP2VkZKi4uFgTJ070djQAAAAAAAAA/8fni8Zf/
vKXOn36tNLS0pSfn6/evXtr/
fr1ioyM9HY0nxAcHKy5c+dWulwcgHewTwK+hX0S8C3sk4DvYH8EfEtd2Sd9etZpAAAAAAAAAP7Bp+/
RCAAAAAAAAMA/
UDQCAAAAAAAAcBlFIwAAAAAAAACXUTQCAAAAAAAAcBlFo5977bXX1L59ezVq1EiJiYnasWOHtyMB9dKzzz4rwzAqPLp27ertWEC9sWXLFo0cOVJms1mGYWjdunUVlttsNqWlpSk6OlqNGzfWkCFDdPjwYe+EBeq46+2PEyZMqHTMvOuuu7wTFqgH0tPTddNNNykkJEQRERFKSkpSTk5OhdecP39eycnJatGihZo1a6b77rtPp06d8lJioG5zZJ+87bbbKh0rH3/8cS8ldg5Fox9bs2aNUlJSNHfuXO3Zs0e9evXSsGHDVFBQ4O1oQL3Uo0cPnTx50v74+uuvvR0JqDeKi4vVq1cvvfbaa1Uuf/
HFF/XKK6/
ojTfe0Pbt29W0aVMNGzZM58+fr+WkQN13vf1Rku66664Kx8zVq1fXYkKgftm8ebOSk5P17bff6osvvtDFixc1dOhQFRcX21/
z5JNP6pNPPtEHH3ygzZs368SJExo1apQXUwN1lyP7pCRNnjy5wrHyxRdf9FJi5xg2m83m7RComcTERN10001asmSJJKm8vFwxMTGaOnWqZs2a5eV0QP3y7LPPat26dcrOzvZ2FKDeMwxDa9euVVJSkqSfzmY0m82aMWOGnnrqKUmSxWJRZGSkVqxYoQceeMCLaYG67er9UfrpjMbCwsJKZzoCqB2nT59WRESENm/
erMGDB8tisahVq1bKzMzU/
fffL0k6dOiQunXrpm3btql///5eTgzUbVfvk9JPZzT27t1bGRkZ3g1XA5zR6KcuXLig3bt3a8iQIfaxgIAADRkyRNu2bfNiMqD+Onz4sMxmszp06KCxY8fq6NGj3o4EQFJeXp7y8/
MrHDNNJpMSExM5ZgJekpWVpYiICHXp0kVTpkzR2bNnvR0JqDcsFoskKTw8XJK0e/
duXbx4scJxsmvXrmrbti3HSaAWXL1PXrZq1Sq1bNlSPXv2VGpqqkpKSrwRz2kNvB0ANXPmzBmVlZUpMjKywnhkZKQOHTrkpVRA/
ZWYmKgVK1aoS5cuOnnypObNm6dbbrlFBw4cUEhIiLfjAfVafn6+JFV5zLy8DEDtueuuuzRq1CjFxsYqNzdXv/
vd7zR8+HBt27ZNgYGB3o4H1Gnl5eWaPn26Bg4cqJ49e0r66TjZsGFDhYWFVXgtx0nA86raJyXpoYceUrt27WQ2m7V//37NnDlTOTk5+utf/
+rFtI6haAQANxg+fLj96/
j4eCUmJqpdu3Z6//33NWnSJC8mAwDAt1x5u4K4uDjFx8frhhtuUFZWlu68804vJgPqvuTkZB04cIB7iQM+orp98tFHH7V/
HRcXp+joaN15553Kzc3VDTfcUNsxncKl036qZcuWCgwMrDQT2KlTpxQVFeWlVAAuCwsLU+fOnfX99997OwpQ710+LnLMBHxThw4d1LJlS46ZgIc98cQT+vTTT7Vp0ya1adPGPh4VFaULFy6osLCwwus5TgKeVd0+WZXExERJ8otjJUWjn2rYsKH69OmjjRs32sfKy8u1ceNGDRgwwIvJAEhSUVGRcnNzFR0d7e0oQL0XGxurqKioCsdMq9Wq7du3c8wEfMDx48d19uxZjpmAh9hsNj3xxBNau3atvvzyS8XGxlZY3qdPHwUFBVU4Tubk5Ojo0aMcJwEPuN4+WZXLk476w7GSS6f9WEpKisaPH6+
+ffuqX79+ysjIUHFxsSZOnOjtaEC989RTT2nkyJFq166dTpw4oblz5yowMFAPPvigt6MB9UJRUVGF/
+HNy8tTdna2wsPD1bZtW02fPl3z589Xp06dFBsbqzlz5shsNleYCReAe1xrfwwPD9e8efN03333KSoqSrm5uXr66afVsWNHDRs2zIupgborOTlZmZmZ+vjjjxUSEmK/76LJZFLjxo1lMpk0adIkpaSkKDw8XKGhoZo6daoGDBjAjNOAB1xvn8zNzVVmZqZGjBihFi1aaP/
+/XryySc1ePBgxcfHezn99Rk2m83m7RCouSVLluj3v/
+98vPz1bt3b73yyiv2U2oB1J4HHnhAW7Zs0dmzZ9WqVSsNGjRICxYs8Pn7ZwB1RVZWlm6//
fZK4+PHj9eKFStks9k0d+5cLVu2TIWFhRo0aJBef/11de7c2QtpgbrtWvvj0qVLlZSUpL1796qwsFBms1lDhw7V888/
X2nCJgDuYRhGlePvvPOOJkyYIEk6f/68ZsyYodWrV6u0tFTDhg3T66+/
zqXTgAdcb588duyYHn74YR04cEDFxcWKiYnRvffeq9mzZys0NLSW0zqPohEAAAAAAACAy7hHIwAAAAAAAACXUTQCAAAAAAAAcBlFIwAAAAAAAACXUTQCAAAAAAAAcBlFIwAAAAAAAACXUTQCAAAAAAAAcBlFIwAAAAAAAACXUTQCAADA4yZMmKCkpCRvxwAAAIAHNfB2AAAAAPg3wzCuuXzu3LlavHixbDZbLSUCAACAN1A0AgAAwCUnT560f71mzRqlpaUpJyfHPtasWTM1a9bMG9EAAABQi7h0GgAAAC6JioqyP0wmkwzDqDDWrFmzSpdO33bbbZo6daqmT5+u5s2bKzIyUsuXL1dxcbEmTpyokJAQdezYUZ999lmF9zpw4ICGDx+uZs2aKTIyUuPGjdOZM2dq+TsGAABAVSgaAQAA4BUrV65Uy5YttWPHDk2dOlVTpkzR6NGjdfPNN2vPnj0aOnSoxo0bp5KSEklSYWGh7rjjDiUkJGjXrl1av369Tp06pTFjxnj5OwEAAIBE0QgAAAAv6dWrl2bPnq1OnTopNTVVjRo1UsuWLTV58mR16tRJaWlpOnv2rPbv3y9JWrJkiRISErRw4UJ17dpVCQkJevvtt7Vp0yZ99913Xv5uAAAAwD0aAQAA4BXx8fH2rwMDA9WiRQvFxcXZxyIjIyVJBQUFkqR9+/
Zp06ZNVd7vMTc3V507d/
ZwYgAAAFwLRSMAAAC8IigoqMJzwzAqjF2ezbq8vFySVFRUpJEjR2rRokWVthUdHe3BpAAAAHAERSMAAAD8wo033qiPPvpI7du3V4MG/
BkLAADga7hHIwAAAPxCcnKyfvzxRz344IPauXOncnNz9fnnn2vixIkqKyvzdjwAAIB6j6IRAAAAfsFsNuubb75RWVmZhg4dqri4OE2fPl1hYWEKCODPWgAAAG8zbDabzdshAAAAAAAAAPg3/
usXAAAAAAAAgMsoGgEAAAAAAAC4jKIRAAAAAAAAgMsoGgEAAAAAAAC4jKIRAAAAAAAAgMsoGgEAAAAAAAC4jKIRAAAAAAAAgMsoGgEAAAAAAAC4jKIRAAAAAAAAgMsoGgEAAAAAAAC4jKIRAAAAAAAAgMsoGgEAAAAAAAC47P8BEcwRRyJy5gcAAAAASUVORK5CYII=",

      "text/plain": [
       "<figure size="" 1600x1200="" with="" 3="" axes="">"
      ]
     },
     "metadata": {},
     "output_type": "display_data"
    }
   ],
   "source": [
    "fig, axes = plt.subplots(3, 1, figsize=(16, 12))\n",
    "counts = ['ag_in_sys','ag_in_queue','ag_in_service']\n",
    "labels = ['system', 'queue', 'service']\n",
    "colors = ['red', 'blue', 'black']\n",
    "\n",
    "for i in range(3):\n",
    "    mm1_bench.plot(y= counts[i], \n",
    "                   use_index=True, ax=axes[i], linewidth=2,drawstyle='steps-mid', color=f'{colors[i]}',\n",
    "                   ylabel=f'Agent number in {labels[i]}', xlabel='Time', ylim=[0,max(mm1_bench['ag_in_sys']+1)])\n",
    "    "
   ]
  },
  {
   "cell_type": "code",
   "execution_count": null,
   "id": "b916cdbc-2425-445e-b5ce-5444686557bf",
   "metadata": {},
   "outputs": [],
   "source": []
  },
  {
   "cell_type": "code",
   "execution_count": null,
   "id": "673659bf-552a-406d-a278-701e878d30c0",
   "metadata": {},
   "outputs": [],
   "source": []
  }
 ],
 "metadata": {
  "celltoolbar": "Aucun(e)",
  "kernelspec": {
   "display_name": "Python 3 (ipykernel)",
   "language": "python",
   "name": "python3"
  },
  "language_info": {
   "codemirror_mode": {
    "name": "ipython",
    "version": 3
   },
   "file_extension": ".py",
   "mimetype": "text/x-python",
   "name": "python",
   "nbconvert_exporter": "python",
   "pygments_lexer": "ipython3",
   "version": "3.11.0"
  }
 },
 "nbformat": 4,
 "nbformat_minor": 5
}
</figure></figure></function></body></html>